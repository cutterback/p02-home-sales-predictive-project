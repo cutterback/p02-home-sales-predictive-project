{
 "cells": [
  {
   "cell_type": "markdown",
   "metadata": {
    "ExecuteTime": {
     "end_time": "2021-03-01T14:32:57.174874Z",
     "start_time": "2021-03-01T14:32:57.167429Z"
    }
   },
   "source": [
    "# Businss Understanding"
   ]
  },
  {
   "cell_type": "markdown",
   "metadata": {},
   "source": [
    "## Business Objective"
   ]
  },
  {
   "cell_type": "markdown",
   "metadata": {},
   "source": [
    "## Data Sources"
   ]
  },
  {
   "cell_type": "markdown",
   "metadata": {},
   "source": [
    "## Background Info - King County"
   ]
  },
  {
   "cell_type": "markdown",
   "metadata": {},
   "source": [
    "- King County, Seattle Washington Wiki: https://en.wikipedia.org/wiki/King_County,_Washington\n",
    "- The population was 2,252,782 in the 2019 census estimate, making it the most populous county in Washington, and the 12th-most populous in the United States. \n",
    "- King County is one of three Washington counties that are included in the Seattle–Tacoma–Bellevue metropolitan statistical area.\n",
    "- About two-thirds of King County's population lives in Seattle's suburbs.\n",
    "- King County has a total area of 2,307 square miles (5,980 km2), of which 2,116 square miles (5,480 km2) is land and 191 square miles (490 km2) (8.3%) is water.\n",
    "- The highest point in the county is Mount Daniel at 7,959 feet (2,426 meters) above sea level."
   ]
  },
  {
   "cell_type": "markdown",
   "metadata": {
    "heading_collapsed": true
   },
   "source": [
    "### King County Map"
   ]
  },
  {
   "cell_type": "markdown",
   "metadata": {
    "ExecuteTime": {
     "end_time": "2021-03-01T15:29:27.744006Z",
     "start_time": "2021-03-01T15:29:27.736948Z"
    },
    "hidden": true
   },
   "source": [
    "![King County Seattle Map](images/King_County_Map.png)"
   ]
  },
  {
   "cell_type": "markdown",
   "metadata": {},
   "source": [
    "## Executive Summary"
   ]
  },
  {
   "cell_type": "markdown",
   "metadata": {},
   "source": [
    "# Data Engineering"
   ]
  },
  {
   "cell_type": "markdown",
   "metadata": {},
   "source": [
    "## Import Libraries"
   ]
  },
  {
   "cell_type": "code",
   "execution_count": 1,
   "metadata": {
    "ExecuteTime": {
     "end_time": "2021-03-11T11:22:19.204264Z",
     "start_time": "2021-03-11T11:22:18.078602Z"
    },
    "scrolled": true
   },
   "outputs": [],
   "source": [
    "# Import libraries required to load, transform, analyze and plot data\n",
    "import numpy as np\n",
    "import pandas as pd\n",
    "from pandas.plotting import table\n",
    "import matplotlib.pyplot as plt\n",
    "import matplotlib.colors as pltcol\n",
    "import matplotlib.ticker as ticker\n",
    "import seaborn as sns\n",
    "import math\n",
    "%matplotlib inline\n",
    "\n",
    "import statsmodels.api as sm\n",
    "from statsmodels.formula.api import ols\n",
    "import statsmodels.tools.eval_measures as ev\n",
    "from sklearn.model_selection import train_test_split\n",
    "import scipy.stats as stats\n",
    "from haversine import haversine\n",
    "\n",
    "# Set display option to remove scientific notation and restrictions on df rows/columns display\n",
    "pd.options.display.float_format = '{:,.2f}'.format\n",
    "pd.set_option('display.max_columns', None)\n",
    "pd.set_option(\"max_rows\", None)"
   ]
  },
  {
   "cell_type": "code",
   "execution_count": null,
   "metadata": {
    "ExecuteTime": {
     "end_time": "2021-03-11T11:19:26.333719Z",
     "start_time": "2021-03-11T11:19:25.582497Z"
    },
    "scrolled": true
   },
   "outputs": [],
   "source": [
    "# Add jupytertheme to this notebook for better readability\n",
    "!jt -t onedork -fs 95 -altp -tfs 11 -nfs 115 -cellw 88% -T"
   ]
  },
  {
   "cell_type": "markdown",
   "metadata": {},
   "source": [
    "## King County Housing Data"
   ]
  },
  {
   "cell_type": "markdown",
   "metadata": {},
   "source": [
    "### KC Data Dictionary"
   ]
  },
  {
   "cell_type": "markdown",
   "metadata": {},
   "source": [
    "**Data Dictionary Kings County Data Set**\n",
    " - id - unique identified for a house\n",
    " - dateDate - house was sold\n",
    " - pricePrice -  is prediction target\n",
    " - bedroomsNumber -  of Bedrooms/House\n",
    " - bathroomsNumber -  of bathrooms/bedrooms\n",
    " - sqft_livingsquare -  footage of the home\n",
    " - sqft_lotsquare -  footage of the lot\n",
    " - floorsTotal -  floors (levels) in house\n",
    " - waterfront - House which has a view to a waterfront\n",
    " - view - An index from 0 to 4 of how good the view of the property was\n",
    " - condition - How good the condition is ( Overall )\n",
    " - grade - overall grade given to the housing unit, based on King County grading system\n",
    " - sqft_above - square footage of house apart from basement\n",
    " - sqft_basement - square footage of the basement\n",
    " - yr_built - Built Year\n",
    " - yr_renovated - Year when house was renovated\n",
    " - zipcode - zip\n",
    " - lat - Latitude coordinate\n",
    " - long - Longitude coordinate\n",
    " - sqft_living15 - The square footage of interior housing living space for the nearest 15 neighbors\n",
    " - sqft_lot15 - The square footage of the land lots of the nearest 15 neighbors"
   ]
  },
  {
   "cell_type": "markdown",
   "metadata": {},
   "source": [
    "\n",
    "<a href=\"https://www.kingcounty.gov/depts/assessor/Reports/area-reports/2017/residential-westcentral/~/media/depts/assessor/documents/AreaReports/2017/Residential/013.ashx\">King County Condition and Building Grade Scoring</a>\n",
    "\n",
    "**Condition: Relative to Age and Grade**\n",
    "- 1= Poor Many repairs needed. Showing serious deterioration.\n",
    "- 2= Fair Some repairs needed immediately. Much deferred maintenance.\n",
    "- 3= Average Depending upon age of improvement; normal amount of upkeep for the age of the home.\n",
    "- 4= Good Condition above the norm for the age of the home. Indicates extra attention and care has been taken to maintain.\n",
    "- 5= Very Good Excellent maintenance and updating on home. Not a total renovation.\n",
    "\n",
    "**Residential Building Grades**\n",
    "- Grades 1 - 3 Falls short of minimum building standards. Normally cabin or inferior structure.\n",
    "- Grade 4 Generally older low quality construction. Does not meet code.\n",
    "- Grade 5 Lower construction costs and workmanship. Small, simple design.\n",
    "- Grade 6 Lowest grade currently meeting building codes. Low quality materials, simple designs.\n",
    "- Grade 7 Average grade of construction and design. Commonly seen in plats and older subdivisions.\n",
    "- Grade 8 Just above average in construction and design. Usually better materials in both the exterior and interior finishes.\n",
    "- Grade 9 Better architectural design, with extra exterior and interior design and quality.\n",
    "- Grade 10 Homes of this quality generally have high quality features. Finish work is better, and more design quality is seen in the floor plans and larger square footage.\n",
    "- Grade 11 Custom design and higher quality finish work, with added amenities of solid woods, bathroom fixtures and more luxurious options.\n",
    "- Grade 12 Custom design and excellent builders. All materials are of the highest quality and all conveniences are present.\n",
    "- Grade 13 Generally custom designed and built. Approaching the Mansion level. Large amount of highest quality cabinet work, wood trim and marble; large entries. "
   ]
  },
  {
   "cell_type": "markdown",
   "metadata": {},
   "source": [
    "### Dataframe Basics"
   ]
  },
  {
   "cell_type": "markdown",
   "metadata": {},
   "source": [
    "#### Load File"
   ]
  },
  {
   "cell_type": "code",
   "execution_count": 2,
   "metadata": {
    "ExecuteTime": {
     "end_time": "2021-03-11T11:22:22.433024Z",
     "start_time": "2021-03-11T11:22:22.376598Z"
    },
    "scrolled": true
   },
   "outputs": [
    {
     "data": {
      "text/html": [
       "<div>\n",
       "<style scoped>\n",
       "    .dataframe tbody tr th:only-of-type {\n",
       "        vertical-align: middle;\n",
       "    }\n",
       "\n",
       "    .dataframe tbody tr th {\n",
       "        vertical-align: top;\n",
       "    }\n",
       "\n",
       "    .dataframe thead th {\n",
       "        text-align: right;\n",
       "    }\n",
       "</style>\n",
       "<table border=\"1\" class=\"dataframe\">\n",
       "  <thead>\n",
       "    <tr style=\"text-align: right;\">\n",
       "      <th></th>\n",
       "      <th>id</th>\n",
       "      <th>date</th>\n",
       "      <th>price</th>\n",
       "      <th>bedrooms</th>\n",
       "      <th>bathrooms</th>\n",
       "      <th>sqft_living</th>\n",
       "      <th>sqft_lot</th>\n",
       "      <th>floors</th>\n",
       "      <th>waterfront</th>\n",
       "      <th>view</th>\n",
       "      <th>condition</th>\n",
       "      <th>grade</th>\n",
       "      <th>sqft_above</th>\n",
       "      <th>sqft_basement</th>\n",
       "      <th>yr_built</th>\n",
       "      <th>yr_renovated</th>\n",
       "      <th>zipcode</th>\n",
       "      <th>lat</th>\n",
       "      <th>long</th>\n",
       "      <th>sqft_living15</th>\n",
       "      <th>sqft_lot15</th>\n",
       "    </tr>\n",
       "  </thead>\n",
       "  <tbody>\n",
       "    <tr>\n",
       "      <th>0</th>\n",
       "      <td>7129300520</td>\n",
       "      <td>10/13/2014</td>\n",
       "      <td>221,900.00</td>\n",
       "      <td>3</td>\n",
       "      <td>1.00</td>\n",
       "      <td>1180</td>\n",
       "      <td>5650</td>\n",
       "      <td>1.00</td>\n",
       "      <td>nan</td>\n",
       "      <td>0.00</td>\n",
       "      <td>3</td>\n",
       "      <td>7</td>\n",
       "      <td>1180</td>\n",
       "      <td>0.0</td>\n",
       "      <td>1955</td>\n",
       "      <td>0.00</td>\n",
       "      <td>98178</td>\n",
       "      <td>47.51</td>\n",
       "      <td>-122.26</td>\n",
       "      <td>1340</td>\n",
       "      <td>5650</td>\n",
       "    </tr>\n",
       "    <tr>\n",
       "      <th>1</th>\n",
       "      <td>6414100192</td>\n",
       "      <td>12/9/2014</td>\n",
       "      <td>538,000.00</td>\n",
       "      <td>3</td>\n",
       "      <td>2.25</td>\n",
       "      <td>2570</td>\n",
       "      <td>7242</td>\n",
       "      <td>2.00</td>\n",
       "      <td>0.00</td>\n",
       "      <td>0.00</td>\n",
       "      <td>3</td>\n",
       "      <td>7</td>\n",
       "      <td>2170</td>\n",
       "      <td>400.0</td>\n",
       "      <td>1951</td>\n",
       "      <td>1,991.00</td>\n",
       "      <td>98125</td>\n",
       "      <td>47.72</td>\n",
       "      <td>-122.32</td>\n",
       "      <td>1690</td>\n",
       "      <td>7639</td>\n",
       "    </tr>\n",
       "    <tr>\n",
       "      <th>2</th>\n",
       "      <td>5631500400</td>\n",
       "      <td>2/25/2015</td>\n",
       "      <td>180,000.00</td>\n",
       "      <td>2</td>\n",
       "      <td>1.00</td>\n",
       "      <td>770</td>\n",
       "      <td>10000</td>\n",
       "      <td>1.00</td>\n",
       "      <td>0.00</td>\n",
       "      <td>0.00</td>\n",
       "      <td>3</td>\n",
       "      <td>6</td>\n",
       "      <td>770</td>\n",
       "      <td>0.0</td>\n",
       "      <td>1933</td>\n",
       "      <td>nan</td>\n",
       "      <td>98028</td>\n",
       "      <td>47.74</td>\n",
       "      <td>-122.23</td>\n",
       "      <td>2720</td>\n",
       "      <td>8062</td>\n",
       "    </tr>\n",
       "    <tr>\n",
       "      <th>3</th>\n",
       "      <td>2487200875</td>\n",
       "      <td>12/9/2014</td>\n",
       "      <td>604,000.00</td>\n",
       "      <td>4</td>\n",
       "      <td>3.00</td>\n",
       "      <td>1960</td>\n",
       "      <td>5000</td>\n",
       "      <td>1.00</td>\n",
       "      <td>0.00</td>\n",
       "      <td>0.00</td>\n",
       "      <td>5</td>\n",
       "      <td>7</td>\n",
       "      <td>1050</td>\n",
       "      <td>910.0</td>\n",
       "      <td>1965</td>\n",
       "      <td>0.00</td>\n",
       "      <td>98136</td>\n",
       "      <td>47.52</td>\n",
       "      <td>-122.39</td>\n",
       "      <td>1360</td>\n",
       "      <td>5000</td>\n",
       "    </tr>\n",
       "    <tr>\n",
       "      <th>4</th>\n",
       "      <td>1954400510</td>\n",
       "      <td>2/18/2015</td>\n",
       "      <td>510,000.00</td>\n",
       "      <td>3</td>\n",
       "      <td>2.00</td>\n",
       "      <td>1680</td>\n",
       "      <td>8080</td>\n",
       "      <td>1.00</td>\n",
       "      <td>0.00</td>\n",
       "      <td>0.00</td>\n",
       "      <td>3</td>\n",
       "      <td>8</td>\n",
       "      <td>1680</td>\n",
       "      <td>0.0</td>\n",
       "      <td>1987</td>\n",
       "      <td>0.00</td>\n",
       "      <td>98074</td>\n",
       "      <td>47.62</td>\n",
       "      <td>-122.05</td>\n",
       "      <td>1800</td>\n",
       "      <td>7503</td>\n",
       "    </tr>\n",
       "  </tbody>\n",
       "</table>\n",
       "</div>"
      ],
      "text/plain": [
       "           id        date      price  bedrooms  bathrooms  sqft_living  \\\n",
       "0  7129300520  10/13/2014 221,900.00         3       1.00         1180   \n",
       "1  6414100192   12/9/2014 538,000.00         3       2.25         2570   \n",
       "2  5631500400   2/25/2015 180,000.00         2       1.00          770   \n",
       "3  2487200875   12/9/2014 604,000.00         4       3.00         1960   \n",
       "4  1954400510   2/18/2015 510,000.00         3       2.00         1680   \n",
       "\n",
       "   sqft_lot  floors  waterfront  view  condition  grade  sqft_above  \\\n",
       "0      5650    1.00         nan  0.00          3      7        1180   \n",
       "1      7242    2.00        0.00  0.00          3      7        2170   \n",
       "2     10000    1.00        0.00  0.00          3      6         770   \n",
       "3      5000    1.00        0.00  0.00          5      7        1050   \n",
       "4      8080    1.00        0.00  0.00          3      8        1680   \n",
       "\n",
       "  sqft_basement  yr_built  yr_renovated  zipcode   lat    long  sqft_living15  \\\n",
       "0           0.0      1955          0.00    98178 47.51 -122.26           1340   \n",
       "1         400.0      1951      1,991.00    98125 47.72 -122.32           1690   \n",
       "2           0.0      1933           nan    98028 47.74 -122.23           2720   \n",
       "3         910.0      1965          0.00    98136 47.52 -122.39           1360   \n",
       "4           0.0      1987          0.00    98074 47.62 -122.05           1800   \n",
       "\n",
       "   sqft_lot15  \n",
       "0        5650  \n",
       "1        7639  \n",
       "2        8062  \n",
       "3        5000  \n",
       "4        7503  "
      ]
     },
     "execution_count": 2,
     "metadata": {},
     "output_type": "execute_result"
    }
   ],
   "source": [
    "# Load Kings County data set (primary driver dataframe)\n",
    "kc = pd.read_csv('data/kc_house_data.csv')\n",
    "kc.head()"
   ]
  },
  {
   "cell_type": "markdown",
   "metadata": {},
   "source": [
    "#### Info/Describe"
   ]
  },
  {
   "cell_type": "code",
   "execution_count": null,
   "metadata": {
    "ExecuteTime": {
     "end_time": "2021-03-11T11:19:26.397884Z",
     "start_time": "2021-03-11T11:19:26.387872Z"
    },
    "scrolled": true
   },
   "outputs": [],
   "source": [
    "kc.info()"
   ]
  },
  {
   "cell_type": "markdown",
   "metadata": {},
   "source": [
    "**Notes**\n",
    "- Non-nulls look really good, most fields don't have issues\n",
    "- Only waterfront and year renovated have significant nulls, view has a few. Fill with 0's on all. Change year renovated to int64.\n",
    "- Change zipcode to string\n",
    "- Why is sqft_basement an object?"
   ]
  },
  {
   "cell_type": "markdown",
   "metadata": {},
   "source": [
    "#### Data Cleaning"
   ]
  },
  {
   "cell_type": "code",
   "execution_count": null,
   "metadata": {
    "ExecuteTime": {
     "end_time": "2021-03-11T11:19:26.406322Z",
     "start_time": "2021-03-11T11:19:26.398915Z"
    }
   },
   "outputs": [],
   "source": [
    "kc.iloc[15855:15857]"
   ]
  },
  {
   "cell_type": "code",
   "execution_count": null,
   "metadata": {
    "ExecuteTime": {
     "end_time": "2021-03-11T11:19:26.410746Z",
     "start_time": "2021-03-11T11:19:26.407353Z"
    },
    "scrolled": false
   },
   "outputs": [],
   "source": [
    "# Check Waterfront value distribution - only 146 have view.\n",
    "kc.waterfront.value_counts()"
   ]
  },
  {
   "cell_type": "code",
   "execution_count": 3,
   "metadata": {
    "ExecuteTime": {
     "end_time": "2021-03-11T11:22:27.847890Z",
     "start_time": "2021-03-11T11:22:27.843720Z"
    },
    "scrolled": false
   },
   "outputs": [],
   "source": [
    "# Fill nulls with 0 for waterfront given unlikely waterfront status\n",
    "kc.waterfront.fillna(0, inplace=True)"
   ]
  },
  {
   "cell_type": "code",
   "execution_count": null,
   "metadata": {
    "ExecuteTime": {
     "end_time": "2021-03-11T11:19:26.420539Z",
     "start_time": "2021-03-11T11:19:26.417037Z"
    },
    "scrolled": false
   },
   "outputs": [],
   "source": [
    "# Check View value distribution - only ~2K have view.\n",
    "kc.view.value_counts()"
   ]
  },
  {
   "cell_type": "code",
   "execution_count": null,
   "metadata": {
    "ExecuteTime": {
     "end_time": "2021-03-11T11:19:26.425127Z",
     "start_time": "2021-03-11T11:19:26.421666Z"
    },
    "scrolled": false
   },
   "outputs": [],
   "source": [
    "# Check View value distribution - only ~2K have view.\n",
    "kc.floors.value_counts()"
   ]
  },
  {
   "cell_type": "code",
   "execution_count": 4,
   "metadata": {
    "ExecuteTime": {
     "end_time": "2021-03-11T11:22:31.433149Z",
     "start_time": "2021-03-11T11:22:31.429387Z"
    },
    "scrolled": false
   },
   "outputs": [],
   "source": [
    "# Fill nulls with 0 for View given only 5 nulls\n",
    "kc.view.fillna(0, inplace=True)"
   ]
  },
  {
   "cell_type": "code",
   "execution_count": 5,
   "metadata": {
    "ExecuteTime": {
     "end_time": "2021-03-11T11:22:34.289053Z",
     "start_time": "2021-03-11T11:22:34.276891Z"
    },
    "scrolled": false
   },
   "outputs": [
    {
     "data": {
      "text/plain": [
       "744"
      ]
     },
     "execution_count": 5,
     "metadata": {},
     "output_type": "execute_result"
    }
   ],
   "source": [
    "# Check total renovation counts to assess frequency\n",
    "renovations = kc[(kc.yr_renovated != 0) & (kc.yr_renovated.isna()==False)]\n",
    "renovations.yr_renovated.count() # Only 744 renovations"
   ]
  },
  {
   "cell_type": "code",
   "execution_count": 6,
   "metadata": {
    "ExecuteTime": {
     "end_time": "2021-03-11T11:22:35.893691Z",
     "start_time": "2021-03-11T11:22:35.884934Z"
    },
    "scrolled": false
   },
   "outputs": [],
   "source": [
    "# Fill nulls with 0 for year renovated for consistency; 0 indicates no basement\n",
    "kc.yr_renovated.fillna(0, inplace=True)"
   ]
  },
  {
   "cell_type": "code",
   "execution_count": null,
   "metadata": {
    "ExecuteTime": {
     "end_time": "2021-03-11T11:19:26.441856Z",
     "start_time": "2021-03-11T11:19:26.438743Z"
    }
   },
   "outputs": [],
   "source": [
    "# Check number of zip codes present in data\n",
    "len(pd.unique(kc.zipcode))"
   ]
  },
  {
   "cell_type": "code",
   "execution_count": null,
   "metadata": {
    "ExecuteTime": {
     "end_time": "2021-03-11T11:19:26.450761Z",
     "start_time": "2021-03-11T11:19:26.443035Z"
    },
    "scrolled": false
   },
   "outputs": [],
   "source": [
    "# Check Sq Ft Basement value distribution - has ? and float\n",
    "kc.sqft_basement.value_counts().head()"
   ]
  },
  {
   "cell_type": "code",
   "execution_count": 7,
   "metadata": {
    "ExecuteTime": {
     "end_time": "2021-03-11T11:22:39.497271Z",
     "start_time": "2021-03-11T11:22:39.489135Z"
    },
    "scrolled": false
   },
   "outputs": [],
   "source": [
    "# Fill nulls with 0 for View given only 5 nulls\n",
    "kc.sqft_basement.replace('?', 0, inplace=True)"
   ]
  },
  {
   "cell_type": "markdown",
   "metadata": {},
   "source": [
    "#### Data Type Conversions"
   ]
  },
  {
   "cell_type": "code",
   "execution_count": 8,
   "metadata": {
    "ExecuteTime": {
     "end_time": "2021-03-11T11:22:42.801751Z",
     "start_time": "2021-03-11T11:22:42.755398Z"
    },
    "scrolled": false
   },
   "outputs": [],
   "source": [
    "# Data type conversions\n",
    "kc['date']= pd.to_datetime(kc['date'])\n",
    "kc['zipcode']=kc['zipcode'].astype('category')\n",
    "kc['sqft_basement']=kc['sqft_basement'].astype(float).astype(int)\n",
    "kc['yr_renovated']=kc['yr_renovated'].astype(int)"
   ]
  },
  {
   "cell_type": "code",
   "execution_count": null,
   "metadata": {
    "ExecuteTime": {
     "end_time": "2021-03-11T11:19:26.488746Z",
     "start_time": "2021-03-11T11:19:26.481013Z"
    }
   },
   "outputs": [],
   "source": [
    "# Check data type changes\n",
    "kc.info()"
   ]
  },
  {
   "cell_type": "markdown",
   "metadata": {},
   "source": [
    "#### Describe"
   ]
  },
  {
   "cell_type": "code",
   "execution_count": null,
   "metadata": {
    "ExecuteTime": {
     "end_time": "2021-03-11T11:19:26.528359Z",
     "start_time": "2021-03-11T11:19:26.489927Z"
    },
    "scrolled": true
   },
   "outputs": [],
   "source": [
    "kc.describe()"
   ]
  },
  {
   "cell_type": "markdown",
   "metadata": {},
   "source": [
    "**Notes on Describe**\n",
    "- Price: skewed right. Might be outlier with 7.7M\n",
    "- Bedrooms: Outlier at 33 (possibly more?)\n",
    "- Sqft_Lot: Obvious outlier at 1.6M, and mean is nearly double median.\n",
    "- Waterfront: Sparsely populated\n",
    "- Yr_Renovated: Small proportion of homes given 75th percentile is 0"
   ]
  },
  {
   "cell_type": "markdown",
   "metadata": {
    "ExecuteTime": {
     "end_time": "2021-03-01T19:10:53.248545Z",
     "start_time": "2021-03-01T19:10:53.245607Z"
    }
   },
   "source": [
    "#### Outliers & Filters"
   ]
  },
  {
   "cell_type": "code",
   "execution_count": 9,
   "metadata": {
    "ExecuteTime": {
     "end_time": "2021-03-11T11:22:46.527705Z",
     "start_time": "2021-03-11T11:22:46.512885Z"
    },
    "scrolled": true
   },
   "outputs": [
    {
     "data": {
      "text/plain": [
       "21596"
      ]
     },
     "execution_count": 9,
     "metadata": {},
     "output_type": "execute_result"
    }
   ],
   "source": [
    "# Dropping rows by index for outliers and other conditions\n",
    "mask = kc.loc[kc['bedrooms']>20].index\n",
    "kc.drop(mask, inplace=True)\n",
    "len(kc)"
   ]
  },
  {
   "cell_type": "code",
   "execution_count": 10,
   "metadata": {
    "ExecuteTime": {
     "end_time": "2021-03-11T11:22:48.382759Z",
     "start_time": "2021-03-11T11:22:48.368582Z"
    }
   },
   "outputs": [
    {
     "data": {
      "text/html": [
       "<div>\n",
       "<style scoped>\n",
       "    .dataframe tbody tr th:only-of-type {\n",
       "        vertical-align: middle;\n",
       "    }\n",
       "\n",
       "    .dataframe tbody tr th {\n",
       "        vertical-align: top;\n",
       "    }\n",
       "\n",
       "    .dataframe thead th {\n",
       "        text-align: right;\n",
       "    }\n",
       "</style>\n",
       "<table border=\"1\" class=\"dataframe\">\n",
       "  <thead>\n",
       "    <tr style=\"text-align: right;\">\n",
       "      <th></th>\n",
       "      <th>id</th>\n",
       "      <th>date</th>\n",
       "      <th>price</th>\n",
       "      <th>bedrooms</th>\n",
       "      <th>bathrooms</th>\n",
       "      <th>sqft_living</th>\n",
       "      <th>sqft_lot</th>\n",
       "      <th>floors</th>\n",
       "      <th>waterfront</th>\n",
       "      <th>view</th>\n",
       "      <th>condition</th>\n",
       "      <th>grade</th>\n",
       "      <th>sqft_above</th>\n",
       "      <th>sqft_basement</th>\n",
       "      <th>yr_built</th>\n",
       "      <th>yr_renovated</th>\n",
       "      <th>zipcode</th>\n",
       "      <th>lat</th>\n",
       "      <th>long</th>\n",
       "      <th>sqft_living15</th>\n",
       "      <th>sqft_lot15</th>\n",
       "    </tr>\n",
       "  </thead>\n",
       "  <tbody>\n",
       "  </tbody>\n",
       "</table>\n",
       "</div>"
      ],
      "text/plain": [
       "Empty DataFrame\n",
       "Columns: [id, date, price, bedrooms, bathrooms, sqft_living, sqft_lot, floors, waterfront, view, condition, grade, sqft_above, sqft_basement, yr_built, yr_renovated, zipcode, lat, long, sqft_living15, sqft_lot15]\n",
       "Index: []"
      ]
     },
     "execution_count": 10,
     "metadata": {},
     "output_type": "execute_result"
    }
   ],
   "source": [
    "kc.loc[kc['bedrooms']>20]"
   ]
  },
  {
   "cell_type": "code",
   "execution_count": 85,
   "metadata": {
    "ExecuteTime": {
     "end_time": "2021-03-11T12:17:21.908284Z",
     "start_time": "2021-03-11T12:17:21.879188Z"
    }
   },
   "outputs": [
    {
     "data": {
      "text/html": [
       "<div>\n",
       "<style scoped>\n",
       "    .dataframe tbody tr th:only-of-type {\n",
       "        vertical-align: middle;\n",
       "    }\n",
       "\n",
       "    .dataframe tbody tr th {\n",
       "        vertical-align: top;\n",
       "    }\n",
       "\n",
       "    .dataframe thead th {\n",
       "        text-align: right;\n",
       "    }\n",
       "</style>\n",
       "<table border=\"1\" class=\"dataframe\">\n",
       "  <thead>\n",
       "    <tr style=\"text-align: right;\">\n",
       "      <th></th>\n",
       "      <th>id</th>\n",
       "      <th>date</th>\n",
       "      <th>price</th>\n",
       "      <th>price_log</th>\n",
       "      <th>bedrooms</th>\n",
       "      <th>price_box</th>\n",
       "      <th>bedrooms_log</th>\n",
       "      <th>bedrooms_box</th>\n",
       "      <th>sqft_per_bedroom</th>\n",
       "      <th>sqft_per_bedroom_log</th>\n",
       "      <th>bedroom_der</th>\n",
       "      <th>bathrooms</th>\n",
       "      <th>bathrooms_log</th>\n",
       "      <th>bathrooms_box</th>\n",
       "      <th>sqft_living</th>\n",
       "      <th>sqft_lot</th>\n",
       "      <th>sqft_living_log</th>\n",
       "      <th>sqft_living_box</th>\n",
       "      <th>floors</th>\n",
       "      <th>sqft_lot_log</th>\n",
       "      <th>sqft_lot_box</th>\n",
       "      <th>waterfront</th>\n",
       "      <th>view</th>\n",
       "      <th>condition</th>\n",
       "      <th>condition_grp</th>\n",
       "      <th>grade</th>\n",
       "      <th>sqft_above</th>\n",
       "      <th>sqft_basement</th>\n",
       "      <th>sqft_above_log</th>\n",
       "      <th>basement_ind</th>\n",
       "      <th>yr_built</th>\n",
       "      <th>yr_renovated</th>\n",
       "      <th>renovation_ind</th>\n",
       "      <th>zipcode</th>\n",
       "      <th>lat</th>\n",
       "      <th>long</th>\n",
       "      <th>home_lat_long</th>\n",
       "      <th>miles_fr_seattle_log</th>\n",
       "      <th>sqft_living15</th>\n",
       "      <th>sqft_lot15</th>\n",
       "      <th>sqft_lot15_log</th>\n",
       "      <th>miles_fr_seattle</th>\n",
       "      <th>miles_fr_seattle_sqrt</th>\n",
       "      <th>price_sf</th>\n",
       "      <th>price_sf_box</th>\n",
       "    </tr>\n",
       "  </thead>\n",
       "  <tbody>\n",
       "    <tr>\n",
       "      <th>15855</th>\n",
       "      <td>1,402,630,190.00000000</td>\n",
       "      <td>2014-11-11</td>\n",
       "      <td>362,000.00000000</td>\n",
       "      <td>12.79939949</td>\n",
       "      <td>3.00000000</td>\n",
       "      <td>4.02839810</td>\n",
       "      <td>1.09861229</td>\n",
       "      <td>1.54151148</td>\n",
       "      <td>770.00000000</td>\n",
       "      <td>6.64639051</td>\n",
       "      <td>3.00000000</td>\n",
       "      <td>2.50000000</td>\n",
       "      <td>0.91629073</td>\n",
       "      <td>1.18233024</td>\n",
       "      <td>2,310.00000000</td>\n",
       "      <td>7,485.00000000</td>\n",
       "      <td>7.74500280</td>\n",
       "      <td>8.45124244</td>\n",
       "      <td>2.00000000</td>\n",
       "      <td>8.92065630</td>\n",
       "      <td>4.25545669</td>\n",
       "      <td>0.00000000</td>\n",
       "      <td>0.00000000</td>\n",
       "      <td>3.00000000</td>\n",
       "      <td>average</td>\n",
       "      <td>8.00000000</td>\n",
       "      <td>2,310.00000000</td>\n",
       "      <td>0.00000000</td>\n",
       "      <td>7.74500280</td>\n",
       "      <td>0.00000000</td>\n",
       "      <td>1,986.00000000</td>\n",
       "      <td>0.00000000</td>\n",
       "      <td>0.00000000</td>\n",
       "      <td>98058</td>\n",
       "      <td>47.43900000</td>\n",
       "      <td>-122.13500000</td>\n",
       "      <td>(47.43899999999999, -122.135)</td>\n",
       "      <td>2.70491151</td>\n",
       "      <td>2,310.00000000</td>\n",
       "      <td>8,142.00000000</td>\n",
       "      <td>9.00479113</td>\n",
       "      <td>14.95299337</td>\n",
       "      <td>3.86691005</td>\n",
       "      <td>156.70995671</td>\n",
       "      <td>2.13139746</td>\n",
       "    </tr>\n",
       "    <tr>\n",
       "      <th>15856</th>\n",
       "      <td>nan</td>\n",
       "      <td>NaT</td>\n",
       "      <td>nan</td>\n",
       "      <td>nan</td>\n",
       "      <td>nan</td>\n",
       "      <td>nan</td>\n",
       "      <td>nan</td>\n",
       "      <td>nan</td>\n",
       "      <td>nan</td>\n",
       "      <td>nan</td>\n",
       "      <td>nan</td>\n",
       "      <td>nan</td>\n",
       "      <td>nan</td>\n",
       "      <td>nan</td>\n",
       "      <td>nan</td>\n",
       "      <td>nan</td>\n",
       "      <td>nan</td>\n",
       "      <td>nan</td>\n",
       "      <td>nan</td>\n",
       "      <td>nan</td>\n",
       "      <td>nan</td>\n",
       "      <td>nan</td>\n",
       "      <td>nan</td>\n",
       "      <td>nan</td>\n",
       "      <td>NaN</td>\n",
       "      <td>nan</td>\n",
       "      <td>nan</td>\n",
       "      <td>nan</td>\n",
       "      <td>nan</td>\n",
       "      <td>nan</td>\n",
       "      <td>nan</td>\n",
       "      <td>nan</td>\n",
       "      <td>nan</td>\n",
       "      <td>NaN</td>\n",
       "      <td>nan</td>\n",
       "      <td>nan</td>\n",
       "      <td>NaN</td>\n",
       "      <td>nan</td>\n",
       "      <td>nan</td>\n",
       "      <td>nan</td>\n",
       "      <td>nan</td>\n",
       "      <td>nan</td>\n",
       "      <td>nan</td>\n",
       "      <td>nan</td>\n",
       "      <td>2.12695927</td>\n",
       "    </tr>\n",
       "  </tbody>\n",
       "</table>\n",
       "</div>"
      ],
      "text/plain": [
       "                          id       date            price   price_log  \\\n",
       "15855 1,402,630,190.00000000 2014-11-11 362,000.00000000 12.79939949   \n",
       "15856                    nan        NaT              nan         nan   \n",
       "\n",
       "        bedrooms  price_box  bedrooms_log  bedrooms_box  sqft_per_bedroom  \\\n",
       "15855 3.00000000 4.02839810    1.09861229    1.54151148      770.00000000   \n",
       "15856        nan        nan           nan           nan               nan   \n",
       "\n",
       "       sqft_per_bedroom_log  bedroom_der  bathrooms  bathrooms_log  \\\n",
       "15855            6.64639051   3.00000000 2.50000000     0.91629073   \n",
       "15856                   nan          nan        nan            nan   \n",
       "\n",
       "       bathrooms_box    sqft_living       sqft_lot  sqft_living_log  \\\n",
       "15855     1.18233024 2,310.00000000 7,485.00000000       7.74500280   \n",
       "15856            nan            nan            nan              nan   \n",
       "\n",
       "       sqft_living_box     floors  sqft_lot_log  sqft_lot_box  waterfront  \\\n",
       "15855       8.45124244 2.00000000    8.92065630    4.25545669  0.00000000   \n",
       "15856              nan        nan           nan           nan         nan   \n",
       "\n",
       "            view  condition condition_grp      grade     sqft_above  \\\n",
       "15855 0.00000000 3.00000000       average 8.00000000 2,310.00000000   \n",
       "15856        nan        nan           NaN        nan            nan   \n",
       "\n",
       "       sqft_basement  sqft_above_log  basement_ind       yr_built  \\\n",
       "15855     0.00000000      7.74500280    0.00000000 1,986.00000000   \n",
       "15856            nan             nan           nan            nan   \n",
       "\n",
       "       yr_renovated  renovation_ind zipcode         lat          long  \\\n",
       "15855    0.00000000      0.00000000   98058 47.43900000 -122.13500000   \n",
       "15856           nan             nan     NaN         nan           nan   \n",
       "\n",
       "                       home_lat_long  miles_fr_seattle_log  sqft_living15  \\\n",
       "15855  (47.43899999999999, -122.135)            2.70491151 2,310.00000000   \n",
       "15856                            NaN                   nan            nan   \n",
       "\n",
       "          sqft_lot15  sqft_lot15_log  miles_fr_seattle  miles_fr_seattle_sqrt  \\\n",
       "15855 8,142.00000000      9.00479113       14.95299337             3.86691005   \n",
       "15856            nan             nan               nan                    nan   \n",
       "\n",
       "          price_sf  price_sf_box  \n",
       "15855 156.70995671    2.13139746  \n",
       "15856          nan    2.12695927  "
      ]
     },
     "execution_count": 85,
     "metadata": {},
     "output_type": "execute_result"
    }
   ],
   "source": [
    "kc.iloc[15855:15857]"
   ]
  },
  {
   "cell_type": "markdown",
   "metadata": {
    "ExecuteTime": {
     "end_time": "2021-03-10T20:19:40.624310Z",
     "start_time": "2021-03-10T20:19:40.621750Z"
    }
   },
   "source": [
    "### Features"
   ]
  },
  {
   "cell_type": "markdown",
   "metadata": {},
   "source": [
    "#### Log Functions"
   ]
  },
  {
   "cell_type": "code",
   "execution_count": 12,
   "metadata": {
    "ExecuteTime": {
     "end_time": "2021-03-11T11:22:53.181614Z",
     "start_time": "2021-03-11T11:22:53.173663Z"
    }
   },
   "outputs": [],
   "source": [
    "# Check column outliers and skew; testing normality\n",
    "def check_normality(df, col, bins=20):\n",
    "    '''Takes in dataframe and column, provides 4th positive std_dev, skew and kurtosis for normality assessment'''\n",
    "    std4 = df[col].mean()+4*df[col].std()\n",
    "    std4_cnt = len(df[df[col]>std4])\n",
    "    print(f'{col} 4 Std Dev: {std4} | Home Counts above this size: {std4_cnt} | Skew: {df[col].skew()} | Kurtosis: {df[col].kurtosis()}')\n",
    "    df[col].hist(figsize=(8,4), bins=bins)\n",
    "    return"
   ]
  },
  {
   "cell_type": "code",
   "execution_count": 13,
   "metadata": {
    "ExecuteTime": {
     "end_time": "2021-03-11T11:22:54.523930Z",
     "start_time": "2021-03-11T11:22:54.515762Z"
    }
   },
   "outputs": [],
   "source": [
    "# Create function to generate log transform columns for variables that are skewed\n",
    "def create_log(df, column, col_pos=0, bins=20):\n",
    "    '''Takes in dataframe, column and number of bins. Creates new log column and histograms to review normality of both columns'''\n",
    "    col_log_name = f'{column}_log'\n",
    "    df.insert(loc=col_pos, column=col_log_name, value=np.log(df[column]))\n",
    "#     df[col_log_name] = np.log(df[column])\n",
    "    df[[column, col_log_name]].hist(figsize=(12,4), bins=bins)\n",
    "    plt.show()\n",
    "    print(f'{col_log_name} skew: {df[col_log_name].skew()}')\n",
    "    print(f'{col_log_name} kurtosis: {df[col_log_name].kurtosis()}')\n",
    "    return"
   ]
  },
  {
   "cell_type": "markdown",
   "metadata": {},
   "source": [
    "#### Price Log"
   ]
  },
  {
   "cell_type": "code",
   "execution_count": null,
   "metadata": {
    "ExecuteTime": {
     "end_time": "2021-03-11T11:19:26.710169Z",
     "start_time": "2021-03-11T11:19:24.705Z"
    }
   },
   "outputs": [],
   "source": [
    "check_normality(kc, 'price', bins=20)"
   ]
  },
  {
   "cell_type": "code",
   "execution_count": 52,
   "metadata": {
    "ExecuteTime": {
     "end_time": "2021-03-11T12:09:08.443824Z",
     "start_time": "2021-03-11T12:09:08.251336Z"
    }
   },
   "outputs": [
    {
     "data": {
      "image/png": "[encoded data removed]",
      "text/plain": [
       "<Figure size 864x288 with 2 Axes>"
      ]
     },
     "metadata": {
      "needs_background": "light"
     },
     "output_type": "display_data"
    },
    {
     "name": "stdout",
     "output_type": "stream",
     "text": [
      "price_log skew: 0.43107952959103885\n",
      "price_log kurtosis: 0.6910469577374965\n"
     ]
    }
   ],
   "source": [
    "# Creating price log column given skew\n",
    "create_log(kc, 'price', col_pos=3, bins=20)"
   ]
  },
  {
   "cell_type": "markdown",
   "metadata": {},
   "source": [
    "**Notes of Price Log**\n",
    "- Price is highly skewed with 198 values more than 4 standard deviations from the mean\n",
    "- Going ahead and creating price_log column and as shown above, it's relatively normal with little skew.\n",
    "- Price log looks great, 0.4 skew and 0.7 kurtosis, should hold up much better in linear models.\n",
    "- Price_log will be available for use in Model section"
   ]
  },
  {
   "cell_type": "code",
   "execution_count": 14,
   "metadata": {
    "ExecuteTime": {
     "end_time": "2021-03-11T11:22:58.394210Z",
     "start_time": "2021-03-11T11:22:58.227530Z"
    }
   },
   "outputs": [
    {
     "name": "stdout",
     "output_type": "stream",
     "text": [
      "-0.2361553521948681\n",
      "price_box 4 Std Dev: 4.134068369733234 | Home Counts above this size: 1 | Skew: -0.011919937023303982 | Kurtosis: 0.3062722180959363\n"
     ]
    },
    {
     "data": {
      "image/png": "[encoded data removed]",
      "text/plain": [
       "<Figure size 576x288 with 1 Axes>"
      ]
     },
     "metadata": {
      "needs_background": "light"
     },
     "output_type": "display_data"
    }
   ],
   "source": [
    "price_box = []\n",
    "price_box, price_lambda = stats.boxcox(kc.price)\n",
    "kc.insert(loc=4, column='price_box', value=pd.Series(price_box))\n",
    "print(price_lambda)\n",
    "check_normality(kc, 'price_box', bins=20)"
   ]
  },
  {
   "cell_type": "code",
   "execution_count": 40,
   "metadata": {
    "ExecuteTime": {
     "end_time": "2021-03-11T12:01:17.968808Z",
     "start_time": "2021-03-11T12:01:17.947532Z"
    }
   },
   "outputs": [
    {
     "data": {
      "text/html": [
       "<div>\n",
       "<style scoped>\n",
       "    .dataframe tbody tr th:only-of-type {\n",
       "        vertical-align: middle;\n",
       "    }\n",
       "\n",
       "    .dataframe tbody tr th {\n",
       "        vertical-align: top;\n",
       "    }\n",
       "\n",
       "    .dataframe thead th {\n",
       "        text-align: right;\n",
       "    }\n",
       "</style>\n",
       "<table border=\"1\" class=\"dataframe\">\n",
       "  <thead>\n",
       "    <tr style=\"text-align: right;\">\n",
       "      <th></th>\n",
       "      <th>id</th>\n",
       "      <th>date</th>\n",
       "      <th>price</th>\n",
       "      <th>bedrooms</th>\n",
       "      <th>price_box</th>\n",
       "      <th>bathrooms</th>\n",
       "      <th>sqft_living</th>\n",
       "      <th>sqft_lot</th>\n",
       "      <th>floors</th>\n",
       "      <th>waterfront</th>\n",
       "      <th>view</th>\n",
       "      <th>condition</th>\n",
       "      <th>grade</th>\n",
       "      <th>sqft_above</th>\n",
       "      <th>sqft_basement</th>\n",
       "      <th>yr_built</th>\n",
       "      <th>yr_renovated</th>\n",
       "      <th>zipcode</th>\n",
       "      <th>lat</th>\n",
       "      <th>long</th>\n",
       "      <th>sqft_living15</th>\n",
       "      <th>sqft_lot15</th>\n",
       "    </tr>\n",
       "  </thead>\n",
       "  <tbody>\n",
       "  </tbody>\n",
       "</table>\n",
       "</div>"
      ],
      "text/plain": [
       "Empty DataFrame\n",
       "Columns: [id, date, price, bedrooms, price_box, bathrooms, sqft_living, sqft_lot, floors, waterfront, view, condition, grade, sqft_above, sqft_basement, yr_built, yr_renovated, zipcode, lat, long, sqft_living15, sqft_lot15]\n",
       "Index: []"
      ]
     },
     "execution_count": 40,
     "metadata": {},
     "output_type": "execute_result"
    }
   ],
   "source": [
    "# Check if nan issue on one record 21596 persists\n",
    "kc[kc.price_box.isnull()==True]"
   ]
  },
  {
   "cell_type": "code",
   "execution_count": 46,
   "metadata": {
    "ExecuteTime": {
     "end_time": "2021-03-11T12:07:09.700355Z",
     "start_time": "2021-03-11T12:07:09.693860Z"
    }
   },
   "outputs": [],
   "source": [
    "# boxcox transformation leaves last row with nan. replacing with median.\n",
    "def box_fillna(df, column):\n",
    "    median = df[column].median()\n",
    "    df[column] = df[column].astype('string')\n",
    "    df[column].replace(np.nan, median, inplace=True)\n",
    "    df[column] = df[column].astype('float')"
   ]
  },
  {
   "cell_type": "code",
   "execution_count": 47,
   "metadata": {
    "ExecuteTime": {
     "end_time": "2021-03-11T12:07:42.020357Z",
     "start_time": "2021-03-11T12:07:41.969050Z"
    }
   },
   "outputs": [],
   "source": [
    "box_fillna(kc, 'price_box')"
   ]
  },
  {
   "cell_type": "markdown",
   "metadata": {},
   "source": [
    "#### Lot Size Log"
   ]
  },
  {
   "cell_type": "code",
   "execution_count": null,
   "metadata": {
    "ExecuteTime": {
     "end_time": "2021-03-11T11:19:26.713840Z",
     "start_time": "2021-03-11T11:19:24.722Z"
    }
   },
   "outputs": [],
   "source": [
    "check_normality(kc, 'sqft_lot', bins=20)"
   ]
  },
  {
   "cell_type": "markdown",
   "metadata": {},
   "source": [
    "**Notes on Lot Size**\n",
    "- 291 outliers above 4 standard deviations \"mega lots\"\n",
    "- Usually lot size should be a significant variable in price, going transform or adjust for these mega size lots"
   ]
  },
  {
   "cell_type": "code",
   "execution_count": 41,
   "metadata": {
    "ExecuteTime": {
     "end_time": "2021-03-11T12:02:38.366794Z",
     "start_time": "2021-03-11T12:02:38.160002Z"
    }
   },
   "outputs": [
    {
     "data": {
      "image/png": "[encoded data removed]",
      "text/plain": [
       "<Figure size 864x288 with 2 Axes>"
      ]
     },
     "metadata": {
      "needs_background": "light"
     },
     "output_type": "display_data"
    },
    {
     "name": "stdout",
     "output_type": "stream",
     "text": [
      "sqft_lot_log skew: 0.962441865571436\n",
      "sqft_lot_log kurtosis: 3.3297326183287126\n"
     ]
    }
   ],
   "source": [
    "# Creating lot_size log column given skew\n",
    "create_log(kc, 'sqft_lot', col_pos=9, bins=20)"
   ]
  },
  {
   "cell_type": "markdown",
   "metadata": {},
   "source": [
    "**Notes on Lot Size Log**\n",
    "- Outliers make lot_size highly positively skewed\n",
    "- Log function brings to normal, almost perfect with Skew near 1 and Kurtosis near 3."
   ]
  },
  {
   "cell_type": "code",
   "execution_count": 42,
   "metadata": {
    "ExecuteTime": {
     "end_time": "2021-03-11T12:02:43.159654Z",
     "start_time": "2021-03-11T12:02:43.029187Z"
    }
   },
   "outputs": [
    {
     "name": "stdout",
     "output_type": "stream",
     "text": [
      "-0.19297462232104715\n",
      "sqft_lot_box 4 Std Dev: 4.8656846419159745 | Home Counts above this size: 0 | Skew: -0.10698100645759137 | Kurtosis: 1.9132610561751\n"
     ]
    },
    {
     "data": {
      "image/png": "[encoded data removed]",
      "text/plain": [
       "<Figure size 576x288 with 1 Axes>"
      ]
     },
     "metadata": {
      "needs_background": "light"
     },
     "output_type": "display_data"
    }
   ],
   "source": [
    "sqft_lot_box = []\n",
    "sqft_lot_box, sqft_box_lambda = stats.boxcox(kc.sqft_lot)\n",
    "kc.insert(loc=10, column='sqft_lot_box', value=pd.Series(sqft_lot_box))\n",
    "print(sqft_box_lambda)\n",
    "check_normality(kc, 'sqft_lot_box', bins=20)"
   ]
  },
  {
   "cell_type": "code",
   "execution_count": 117,
   "metadata": {
    "ExecuteTime": {
     "end_time": "2021-03-11T12:27:47.159729Z",
     "start_time": "2021-03-11T12:27:47.105630Z"
    }
   },
   "outputs": [],
   "source": [
    "box_fillna(kc, 'sqft_lot_box')"
   ]
  },
  {
   "cell_type": "markdown",
   "metadata": {
    "ExecuteTime": {
     "end_time": "2021-03-07T19:22:00.642836Z",
     "start_time": "2021-03-07T19:22:00.639193Z"
    }
   },
   "source": [
    "#### Sqft Living Log"
   ]
  },
  {
   "cell_type": "code",
   "execution_count": null,
   "metadata": {
    "ExecuteTime": {
     "end_time": "2021-03-11T11:19:26.715767Z",
     "start_time": "2021-03-11T11:19:24.732Z"
    }
   },
   "outputs": [],
   "source": [
    "check_normality(kc, 'sqft_living', bins=20)"
   ]
  },
  {
   "cell_type": "markdown",
   "metadata": {},
   "source": [
    "**Notes on Square Foot Living**\n",
    "- 94 outliers above 4 standard deviations \"mega homes\"\n",
    "- Let's create a log transform to see how normal we can get since sqft_living will be one of our top predictors\n",
    "- Validated there are no 0 values in field before log transform"
   ]
  },
  {
   "cell_type": "code",
   "execution_count": 43,
   "metadata": {
    "ExecuteTime": {
     "end_time": "2021-03-11T12:02:47.421140Z",
     "start_time": "2021-03-11T12:02:47.222328Z"
    }
   },
   "outputs": [
    {
     "data": {
      "image/png": "[encoded data removed]",
      "text/plain": [
       "<Figure size 864x288 with 2 Axes>"
      ]
     },
     "metadata": {
      "needs_background": "light"
     },
     "output_type": "display_data"
    },
    {
     "name": "stdout",
     "output_type": "stream",
     "text": [
      "sqft_living_log skew: -0.02741167569494022\n",
      "sqft_living_log kurtosis: -0.07913378171831864\n"
     ]
    }
   ],
   "source": [
    "# Creating lot_size log column given skew\n",
    "create_log(kc, 'sqft_living', col_pos=8, bins=20)"
   ]
  },
  {
   "cell_type": "code",
   "execution_count": 44,
   "metadata": {
    "ExecuteTime": {
     "end_time": "2021-03-11T12:02:58.755822Z",
     "start_time": "2021-03-11T12:02:58.626830Z"
    }
   },
   "outputs": [
    {
     "name": "stdout",
     "output_type": "stream",
     "text": [
      "0.02221621916765391\n",
      "sqft_living_box 4 Std Dev: 10.229929408172227 | Home Counts above this size: 2 | Skew: -0.0003251050729460044 | Kurtosis: -0.07383931972154079\n"
     ]
    },
    {
     "data": {
      "image/png": "[encoded data removed]",
      "text/plain": [
       "<Figure size 576x288 with 1 Axes>"
      ]
     },
     "metadata": {
      "needs_background": "light"
     },
     "output_type": "display_data"
    }
   ],
   "source": [
    "sqft_living_box = []\n",
    "sqft_living_box, sqft_living_lambda = stats.boxcox(kc.sqft_living)\n",
    "kc.insert(loc=9, column='sqft_living_box', value=pd.Series(sqft_living_box))\n",
    "print(sqft_living_lambda)\n",
    "check_normality(kc, 'sqft_living_box', bins=20)"
   ]
  },
  {
   "cell_type": "code",
   "execution_count": 49,
   "metadata": {
    "ExecuteTime": {
     "end_time": "2021-03-11T12:08:09.213058Z",
     "start_time": "2021-03-11T12:08:09.192857Z"
    }
   },
   "outputs": [
    {
     "data": {
      "text/html": [
       "<div>\n",
       "<style scoped>\n",
       "    .dataframe tbody tr th:only-of-type {\n",
       "        vertical-align: middle;\n",
       "    }\n",
       "\n",
       "    .dataframe tbody tr th {\n",
       "        vertical-align: top;\n",
       "    }\n",
       "\n",
       "    .dataframe thead th {\n",
       "        text-align: right;\n",
       "    }\n",
       "</style>\n",
       "<table border=\"1\" class=\"dataframe\">\n",
       "  <thead>\n",
       "    <tr style=\"text-align: right;\">\n",
       "      <th></th>\n",
       "      <th>id</th>\n",
       "      <th>date</th>\n",
       "      <th>price</th>\n",
       "      <th>bedrooms</th>\n",
       "      <th>price_box</th>\n",
       "      <th>bathrooms</th>\n",
       "      <th>sqft_living</th>\n",
       "      <th>sqft_lot</th>\n",
       "      <th>sqft_living_log</th>\n",
       "      <th>sqft_living_box</th>\n",
       "      <th>floors</th>\n",
       "      <th>sqft_lot_log</th>\n",
       "      <th>sqft_lot_box</th>\n",
       "      <th>waterfront</th>\n",
       "      <th>view</th>\n",
       "      <th>condition</th>\n",
       "      <th>grade</th>\n",
       "      <th>sqft_above</th>\n",
       "      <th>sqft_basement</th>\n",
       "      <th>yr_built</th>\n",
       "      <th>yr_renovated</th>\n",
       "      <th>zipcode</th>\n",
       "      <th>lat</th>\n",
       "      <th>long</th>\n",
       "      <th>sqft_living15</th>\n",
       "      <th>sqft_lot15</th>\n",
       "    </tr>\n",
       "  </thead>\n",
       "  <tbody>\n",
       "  </tbody>\n",
       "</table>\n",
       "</div>"
      ],
      "text/plain": [
       "Empty DataFrame\n",
       "Columns: [id, date, price, bedrooms, price_box, bathrooms, sqft_living, sqft_lot, sqft_living_log, sqft_living_box, floors, sqft_lot_log, sqft_lot_box, waterfront, view, condition, grade, sqft_above, sqft_basement, yr_built, yr_renovated, zipcode, lat, long, sqft_living15, sqft_lot15]\n",
       "Index: []"
      ]
     },
     "execution_count": 49,
     "metadata": {},
     "output_type": "execute_result"
    }
   ],
   "source": [
    "# Check if nan issue on one record 21596 persists\n",
    "kc[kc.sqft_living_box.isnull()==True]"
   ]
  },
  {
   "cell_type": "code",
   "execution_count": 48,
   "metadata": {
    "ExecuteTime": {
     "end_time": "2021-03-11T12:08:07.035690Z",
     "start_time": "2021-03-11T12:08:06.982951Z"
    }
   },
   "outputs": [],
   "source": [
    "box_fillna(kc, 'sqft_living_box')"
   ]
  },
  {
   "cell_type": "markdown",
   "metadata": {
    "ExecuteTime": {
     "end_time": "2021-03-07T19:22:00.642836Z",
     "start_time": "2021-03-07T19:22:00.639193Z"
    }
   },
   "source": [
    "#### Sqft  Above Log"
   ]
  },
  {
   "cell_type": "code",
   "execution_count": null,
   "metadata": {
    "ExecuteTime": {
     "end_time": "2021-03-11T11:19:26.717489Z",
     "start_time": "2021-03-11T11:19:24.742Z"
    }
   },
   "outputs": [],
   "source": [
    "check_normality(kc, 'sqft_above', bins=20)"
   ]
  },
  {
   "cell_type": "markdown",
   "metadata": {},
   "source": [
    "**Notes on Square Foot Living**\n",
    "- 94 outliers above 4 standard deviations \"mega homes\"\n",
    "- Let's create a log transform to see how normal we can get since sqft_living will be one of our top predictors"
   ]
  },
  {
   "cell_type": "code",
   "execution_count": 50,
   "metadata": {
    "ExecuteTime": {
     "end_time": "2021-03-11T12:08:17.351459Z",
     "start_time": "2021-03-11T12:08:17.191196Z"
    }
   },
   "outputs": [
    {
     "data": {
      "image/png": "[encoded data removed]",
      "text/plain": [
       "<Figure size 864x288 with 2 Axes>"
      ]
     },
     "metadata": {
      "needs_background": "light"
     },
     "output_type": "display_data"
    },
    {
     "name": "stdout",
     "output_type": "stream",
     "text": [
      "sqft_above_log skew: 0.25962050320447505\n",
      "sqft_above_log kurtosis: -0.3338961015253301\n"
     ]
    }
   ],
   "source": [
    "create_log(kc, 'sqft_above', col_pos=19, bins=20)"
   ]
  },
  {
   "cell_type": "markdown",
   "metadata": {},
   "source": [
    "#### Sqft Living15"
   ]
  },
  {
   "cell_type": "code",
   "execution_count": null,
   "metadata": {
    "ExecuteTime": {
     "end_time": "2021-03-11T11:19:26.718786Z",
     "start_time": "2021-03-11T11:19:24.748Z"
    }
   },
   "outputs": [],
   "source": [
    "check_normality(kc, 'sqft_living15', bins=20)"
   ]
  },
  {
   "cell_type": "markdown",
   "metadata": {},
   "source": [
    "**Notes on Sq Ft Living 15**\n",
    "- Sqft_living15 slightly skewed positively, but not going to pursue log transform at this point."
   ]
  },
  {
   "cell_type": "markdown",
   "metadata": {
    "ExecuteTime": {
     "end_time": "2021-03-07T20:02:27.028147Z",
     "start_time": "2021-03-07T20:02:27.025528Z"
    }
   },
   "source": [
    "#### Sqft Lot 15 Log"
   ]
  },
  {
   "cell_type": "code",
   "execution_count": null,
   "metadata": {
    "ExecuteTime": {
     "end_time": "2021-03-11T11:19:26.719352Z",
     "start_time": "2021-03-11T11:19:24.753Z"
    }
   },
   "outputs": [],
   "source": [
    "check_normality(kc, 'sqft_lot15', bins=20)"
   ]
  },
  {
   "cell_type": "code",
   "execution_count": 53,
   "metadata": {
    "ExecuteTime": {
     "end_time": "2021-03-11T12:09:15.221851Z",
     "start_time": "2021-03-11T12:09:14.982962Z"
    }
   },
   "outputs": [
    {
     "data": {
      "image/png": "[encoded data removed]",
      "text/plain": [
       "<Figure size 864x288 with 2 Axes>"
      ]
     },
     "metadata": {
      "needs_background": "light"
     },
     "output_type": "display_data"
    },
    {
     "name": "stdout",
     "output_type": "stream",
     "text": [
      "sqft_lot15_log skew: 0.9661306389463542\n",
      "sqft_lot15_log kurtosis: 3.564141691595105\n"
     ]
    }
   ],
   "source": [
    "create_log(kc, 'sqft_lot15', col_pos=28, bins=20)"
   ]
  },
  {
   "cell_type": "markdown",
   "metadata": {
    "ExecuteTime": {
     "end_time": "2021-03-07T20:03:17.757044Z",
     "start_time": "2021-03-07T20:03:17.734031Z"
    }
   },
   "source": [
    "**Notes on Sqft Lot 15**\n",
    "- Tons of outliers, highly skewed like lot size.\n",
    "- Log transformation brings into normal shape with near 1 skew and 3.6 kurosis"
   ]
  },
  {
   "cell_type": "markdown",
   "metadata": {
    "ExecuteTime": {
     "end_time": "2021-03-07T20:02:27.028147Z",
     "start_time": "2021-03-07T20:02:27.025528Z"
    }
   },
   "source": [
    "#### Bedrooms Log"
   ]
  },
  {
   "cell_type": "code",
   "execution_count": null,
   "metadata": {
    "ExecuteTime": {
     "end_time": "2021-03-11T11:19:26.720579Z",
     "start_time": "2021-03-11T11:19:24.759Z"
    }
   },
   "outputs": [],
   "source": [
    "check_normality(kc, 'bedrooms', bins=20)"
   ]
  },
  {
   "cell_type": "code",
   "execution_count": 54,
   "metadata": {
    "ExecuteTime": {
     "end_time": "2021-03-11T12:09:20.638018Z",
     "start_time": "2021-03-11T12:09:20.464631Z"
    }
   },
   "outputs": [
    {
     "data": {
      "image/png": "[encoded data removed]",
      "text/plain": [
       "<Figure size 864x288 with 2 Axes>"
      ]
     },
     "metadata": {
      "needs_background": "light"
     },
     "output_type": "display_data"
    },
    {
     "name": "stdout",
     "output_type": "stream",
     "text": [
      "bedrooms_log skew: -0.7081340456551628\n",
      "bedrooms_log kurtosis: 1.872540737687534\n"
     ]
    }
   ],
   "source": [
    "create_log(kc, 'bedrooms', col_pos=6, bins=20)"
   ]
  },
  {
   "cell_type": "code",
   "execution_count": 55,
   "metadata": {
    "ExecuteTime": {
     "end_time": "2021-03-11T12:09:31.166467Z",
     "start_time": "2021-03-11T12:09:31.046969Z"
    }
   },
   "outputs": [
    {
     "name": "stdout",
     "output_type": "stream",
     "text": [
      "0.5853619981038436\n",
      "bedrooms_box 4 Std Dev: 3.9310226424213295 | Home Counts above this size: 23 | Skew: 0.04696202835031031 | Kurtosis: 0.9475444757643201\n"
     ]
    },
    {
     "data": {
      "image/png": "[encoded data removed]",
      "text/plain": [
       "<Figure size 576x288 with 1 Axes>"
      ]
     },
     "metadata": {
      "needs_background": "light"
     },
     "output_type": "display_data"
    }
   ],
   "source": [
    "# transform training data & save lambda value \n",
    "bedrooms_box = []\n",
    "bedrooms_box, bedrooms_lambda = stats.boxcox(kc.bedrooms)\n",
    "kc.insert(loc=7, column='bedrooms_box', value=pd.Series(bedrooms_box))\n",
    "print(bedrooms_lambda)\n",
    "check_normality(kc, 'bedrooms_box', bins=20)"
   ]
  },
  {
   "cell_type": "code",
   "execution_count": 57,
   "metadata": {
    "ExecuteTime": {
     "end_time": "2021-03-11T12:09:58.177907Z",
     "start_time": "2021-03-11T12:09:58.153172Z"
    }
   },
   "outputs": [
    {
     "data": {
      "text/html": [
       "<div>\n",
       "<style scoped>\n",
       "    .dataframe tbody tr th:only-of-type {\n",
       "        vertical-align: middle;\n",
       "    }\n",
       "\n",
       "    .dataframe tbody tr th {\n",
       "        vertical-align: top;\n",
       "    }\n",
       "\n",
       "    .dataframe thead th {\n",
       "        text-align: right;\n",
       "    }\n",
       "</style>\n",
       "<table border=\"1\" class=\"dataframe\">\n",
       "  <thead>\n",
       "    <tr style=\"text-align: right;\">\n",
       "      <th></th>\n",
       "      <th>id</th>\n",
       "      <th>date</th>\n",
       "      <th>price</th>\n",
       "      <th>price_log</th>\n",
       "      <th>bedrooms</th>\n",
       "      <th>price_box</th>\n",
       "      <th>bedrooms_log</th>\n",
       "      <th>bedrooms_box</th>\n",
       "      <th>bathrooms</th>\n",
       "      <th>sqft_living</th>\n",
       "      <th>sqft_lot</th>\n",
       "      <th>sqft_living_log</th>\n",
       "      <th>sqft_living_box</th>\n",
       "      <th>floors</th>\n",
       "      <th>sqft_lot_log</th>\n",
       "      <th>sqft_lot_box</th>\n",
       "      <th>waterfront</th>\n",
       "      <th>view</th>\n",
       "      <th>condition</th>\n",
       "      <th>grade</th>\n",
       "      <th>sqft_above</th>\n",
       "      <th>sqft_basement</th>\n",
       "      <th>sqft_above_log</th>\n",
       "      <th>yr_built</th>\n",
       "      <th>yr_renovated</th>\n",
       "      <th>zipcode</th>\n",
       "      <th>lat</th>\n",
       "      <th>long</th>\n",
       "      <th>sqft_living15</th>\n",
       "      <th>sqft_lot15</th>\n",
       "      <th>sqft_lot15_log</th>\n",
       "    </tr>\n",
       "  </thead>\n",
       "  <tbody>\n",
       "    <tr>\n",
       "      <th>21596</th>\n",
       "      <td>1523300157</td>\n",
       "      <td>2014-10-15</td>\n",
       "      <td>325,000.00</td>\n",
       "      <td>12.69</td>\n",
       "      <td>2</td>\n",
       "      <td>4.04</td>\n",
       "      <td>0.69</td>\n",
       "      <td>nan</td>\n",
       "      <td>0.75</td>\n",
       "      <td>1020</td>\n",
       "      <td>1076</td>\n",
       "      <td>6.93</td>\n",
       "      <td>8.23</td>\n",
       "      <td>2.00</td>\n",
       "      <td>6.98</td>\n",
       "      <td>nan</td>\n",
       "      <td>0.00</td>\n",
       "      <td>0.00</td>\n",
       "      <td>3</td>\n",
       "      <td>7</td>\n",
       "      <td>1020</td>\n",
       "      <td>0</td>\n",
       "      <td>6.93</td>\n",
       "      <td>2008</td>\n",
       "      <td>0</td>\n",
       "      <td>98144</td>\n",
       "      <td>47.59</td>\n",
       "      <td>-122.30</td>\n",
       "      <td>1020</td>\n",
       "      <td>1357</td>\n",
       "      <td>7.21</td>\n",
       "    </tr>\n",
       "  </tbody>\n",
       "</table>\n",
       "</div>"
      ],
      "text/plain": [
       "               id       date      price  price_log  bedrooms  price_box  \\\n",
       "21596  1523300157 2014-10-15 325,000.00      12.69         2       4.04   \n",
       "\n",
       "       bedrooms_log  bedrooms_box  bathrooms  sqft_living  sqft_lot  \\\n",
       "21596          0.69           nan       0.75         1020      1076   \n",
       "\n",
       "       sqft_living_log  sqft_living_box  floors  sqft_lot_log  sqft_lot_box  \\\n",
       "21596             6.93             8.23    2.00          6.98           nan   \n",
       "\n",
       "       waterfront  view  condition  grade  sqft_above  sqft_basement  \\\n",
       "21596        0.00  0.00          3      7        1020              0   \n",
       "\n",
       "       sqft_above_log  yr_built  yr_renovated zipcode   lat    long  \\\n",
       "21596            6.93      2008             0   98144 47.59 -122.30   \n",
       "\n",
       "       sqft_living15  sqft_lot15  sqft_lot15_log  \n",
       "21596           1020        1357            7.21  "
      ]
     },
     "execution_count": 57,
     "metadata": {},
     "output_type": "execute_result"
    }
   ],
   "source": [
    "kc.tail(1)"
   ]
  },
  {
   "cell_type": "code",
   "execution_count": 58,
   "metadata": {
    "ExecuteTime": {
     "end_time": "2021-03-11T12:10:05.746364Z",
     "start_time": "2021-03-11T12:10:05.693208Z"
    }
   },
   "outputs": [],
   "source": [
    "box_fillna(kc, 'bedrooms_box')"
   ]
  },
  {
   "cell_type": "markdown",
   "metadata": {
    "ExecuteTime": {
     "end_time": "2021-03-07T20:02:27.028147Z",
     "start_time": "2021-03-07T20:02:27.025528Z"
    }
   },
   "source": [
    "#### Bathrooms Log"
   ]
  },
  {
   "cell_type": "code",
   "execution_count": null,
   "metadata": {
    "ExecuteTime": {
     "end_time": "2021-03-11T11:19:26.722453Z",
     "start_time": "2021-03-11T11:19:24.768Z"
    }
   },
   "outputs": [],
   "source": [
    "check_normality(kc, 'bathrooms', bins=20)"
   ]
  },
  {
   "cell_type": "code",
   "execution_count": 59,
   "metadata": {
    "ExecuteTime": {
     "end_time": "2021-03-11T12:10:12.693495Z",
     "start_time": "2021-03-11T12:10:12.507946Z"
    }
   },
   "outputs": [
    {
     "data": {
      "image/png": "[encoded data removed]",
      "text/plain": [
       "<Figure size 864x288 with 2 Axes>"
      ]
     },
     "metadata": {
      "needs_background": "light"
     },
     "output_type": "display_data"
    },
    {
     "name": "stdout",
     "output_type": "stream",
     "text": [
      "bathrooms_log skew: -0.4933014063951873\n",
      "bathrooms_log kurtosis: -0.46387674535462864\n"
     ]
    }
   ],
   "source": [
    "create_log(kc, 'bathrooms', col_pos=9, bins=20)"
   ]
  },
  {
   "cell_type": "code",
   "execution_count": 60,
   "metadata": {
    "ExecuteTime": {
     "end_time": "2021-03-11T12:10:18.130233Z",
     "start_time": "2021-03-11T12:10:18.006856Z"
    }
   },
   "outputs": [
    {
     "name": "stdout",
     "output_type": "stream",
     "text": [
      "0.5346126015678513\n",
      "bathrooms_box 4 Std Dev: 3.0709382512250003 | Home Counts above this size: 10 | Skew: -0.02415740747364864 | Kurtosis: -0.1047594861960861\n"
     ]
    },
    {
     "data": {
      "image/png": "[encoded data removed]",
      "text/plain": [
       "<Figure size 576x288 with 1 Axes>"
      ]
     },
     "metadata": {
      "needs_background": "light"
     },
     "output_type": "display_data"
    }
   ],
   "source": [
    "# transform training data & save lambda value \n",
    "bathrooms_box = []\n",
    "bathrooms_box, bathrooms_lambda = stats.boxcox(kc.bathrooms)\n",
    "kc.insert(loc=10, column='bathrooms_box', value=pd.Series(bathrooms_box))\n",
    "print(bathrooms_lambda)\n",
    "check_normality(kc, 'bathrooms_box', bins=20)"
   ]
  },
  {
   "cell_type": "code",
   "execution_count": 61,
   "metadata": {
    "ExecuteTime": {
     "end_time": "2021-03-11T12:10:26.860346Z",
     "start_time": "2021-03-11T12:10:26.833613Z"
    }
   },
   "outputs": [
    {
     "data": {
      "text/html": [
       "<div>\n",
       "<style scoped>\n",
       "    .dataframe tbody tr th:only-of-type {\n",
       "        vertical-align: middle;\n",
       "    }\n",
       "\n",
       "    .dataframe tbody tr th {\n",
       "        vertical-align: top;\n",
       "    }\n",
       "\n",
       "    .dataframe thead th {\n",
       "        text-align: right;\n",
       "    }\n",
       "</style>\n",
       "<table border=\"1\" class=\"dataframe\">\n",
       "  <thead>\n",
       "    <tr style=\"text-align: right;\">\n",
       "      <th></th>\n",
       "      <th>id</th>\n",
       "      <th>date</th>\n",
       "      <th>price</th>\n",
       "      <th>price_log</th>\n",
       "      <th>bedrooms</th>\n",
       "      <th>price_box</th>\n",
       "      <th>bedrooms_log</th>\n",
       "      <th>bedrooms_box</th>\n",
       "      <th>bathrooms</th>\n",
       "      <th>bathrooms_log</th>\n",
       "      <th>bathrooms_box</th>\n",
       "      <th>sqft_living</th>\n",
       "      <th>sqft_lot</th>\n",
       "      <th>sqft_living_log</th>\n",
       "      <th>sqft_living_box</th>\n",
       "      <th>floors</th>\n",
       "      <th>sqft_lot_log</th>\n",
       "      <th>sqft_lot_box</th>\n",
       "      <th>waterfront</th>\n",
       "      <th>view</th>\n",
       "      <th>condition</th>\n",
       "      <th>grade</th>\n",
       "      <th>sqft_above</th>\n",
       "      <th>sqft_basement</th>\n",
       "      <th>sqft_above_log</th>\n",
       "      <th>yr_built</th>\n",
       "      <th>yr_renovated</th>\n",
       "      <th>zipcode</th>\n",
       "      <th>lat</th>\n",
       "      <th>long</th>\n",
       "      <th>sqft_living15</th>\n",
       "      <th>sqft_lot15</th>\n",
       "      <th>sqft_lot15_log</th>\n",
       "    </tr>\n",
       "  </thead>\n",
       "  <tbody>\n",
       "    <tr>\n",
       "      <th>21596</th>\n",
       "      <td>1523300157</td>\n",
       "      <td>2014-10-15</td>\n",
       "      <td>325,000.00</td>\n",
       "      <td>12.69</td>\n",
       "      <td>2</td>\n",
       "      <td>4.04</td>\n",
       "      <td>0.69</td>\n",
       "      <td>1.54</td>\n",
       "      <td>0.75</td>\n",
       "      <td>-0.29</td>\n",
       "      <td>nan</td>\n",
       "      <td>1020</td>\n",
       "      <td>1076</td>\n",
       "      <td>6.93</td>\n",
       "      <td>8.23</td>\n",
       "      <td>2.00</td>\n",
       "      <td>6.98</td>\n",
       "      <td>nan</td>\n",
       "      <td>0.00</td>\n",
       "      <td>0.00</td>\n",
       "      <td>3</td>\n",
       "      <td>7</td>\n",
       "      <td>1020</td>\n",
       "      <td>0</td>\n",
       "      <td>6.93</td>\n",
       "      <td>2008</td>\n",
       "      <td>0</td>\n",
       "      <td>98144</td>\n",
       "      <td>47.59</td>\n",
       "      <td>-122.30</td>\n",
       "      <td>1020</td>\n",
       "      <td>1357</td>\n",
       "      <td>7.21</td>\n",
       "    </tr>\n",
       "  </tbody>\n",
       "</table>\n",
       "</div>"
      ],
      "text/plain": [
       "               id       date      price  price_log  bedrooms  price_box  \\\n",
       "21596  1523300157 2014-10-15 325,000.00      12.69         2       4.04   \n",
       "\n",
       "       bedrooms_log  bedrooms_box  bathrooms  bathrooms_log  bathrooms_box  \\\n",
       "21596          0.69          1.54       0.75          -0.29            nan   \n",
       "\n",
       "       sqft_living  sqft_lot  sqft_living_log  sqft_living_box  floors  \\\n",
       "21596         1020      1076             6.93             8.23    2.00   \n",
       "\n",
       "       sqft_lot_log  sqft_lot_box  waterfront  view  condition  grade  \\\n",
       "21596          6.98           nan        0.00  0.00          3      7   \n",
       "\n",
       "       sqft_above  sqft_basement  sqft_above_log  yr_built  yr_renovated  \\\n",
       "21596        1020              0            6.93      2008             0   \n",
       "\n",
       "      zipcode   lat    long  sqft_living15  sqft_lot15  sqft_lot15_log  \n",
       "21596   98144 47.59 -122.30           1020        1357            7.21  "
      ]
     },
     "execution_count": 61,
     "metadata": {},
     "output_type": "execute_result"
    }
   ],
   "source": [
    "kc.tail(1)"
   ]
  },
  {
   "cell_type": "code",
   "execution_count": 62,
   "metadata": {
    "ExecuteTime": {
     "end_time": "2021-03-11T12:10:41.054538Z",
     "start_time": "2021-03-11T12:10:41.003983Z"
    }
   },
   "outputs": [],
   "source": [
    "box_fillna(kc, 'bathrooms_box')"
   ]
  },
  {
   "cell_type": "markdown",
   "metadata": {},
   "source": [
    "#### Renovation Indicator"
   ]
  },
  {
   "cell_type": "code",
   "execution_count": 63,
   "metadata": {
    "ExecuteTime": {
     "end_time": "2021-03-11T12:10:45.082225Z",
     "start_time": "2021-03-11T12:10:45.051841Z"
    },
    "scrolled": true
   },
   "outputs": [
    {
     "data": {
      "text/html": [
       "<div>\n",
       "<style scoped>\n",
       "    .dataframe tbody tr th:only-of-type {\n",
       "        vertical-align: middle;\n",
       "    }\n",
       "\n",
       "    .dataframe tbody tr th {\n",
       "        vertical-align: top;\n",
       "    }\n",
       "\n",
       "    .dataframe thead th {\n",
       "        text-align: right;\n",
       "    }\n",
       "</style>\n",
       "<table border=\"1\" class=\"dataframe\">\n",
       "  <thead>\n",
       "    <tr style=\"text-align: right;\">\n",
       "      <th></th>\n",
       "      <th>id</th>\n",
       "      <th>date</th>\n",
       "      <th>price</th>\n",
       "      <th>price_log</th>\n",
       "      <th>bedrooms</th>\n",
       "      <th>price_box</th>\n",
       "      <th>bedrooms_log</th>\n",
       "      <th>bedrooms_box</th>\n",
       "      <th>bathrooms</th>\n",
       "      <th>bathrooms_log</th>\n",
       "      <th>bathrooms_box</th>\n",
       "      <th>sqft_living</th>\n",
       "      <th>sqft_lot</th>\n",
       "      <th>sqft_living_log</th>\n",
       "      <th>sqft_living_box</th>\n",
       "      <th>floors</th>\n",
       "      <th>sqft_lot_log</th>\n",
       "      <th>sqft_lot_box</th>\n",
       "      <th>waterfront</th>\n",
       "      <th>view</th>\n",
       "      <th>condition</th>\n",
       "      <th>grade</th>\n",
       "      <th>sqft_above</th>\n",
       "      <th>sqft_basement</th>\n",
       "      <th>sqft_above_log</th>\n",
       "      <th>yr_built</th>\n",
       "      <th>yr_renovated</th>\n",
       "      <th>renovation_ind</th>\n",
       "      <th>zipcode</th>\n",
       "      <th>lat</th>\n",
       "      <th>long</th>\n",
       "      <th>sqft_living15</th>\n",
       "      <th>sqft_lot15</th>\n",
       "      <th>sqft_lot15_log</th>\n",
       "    </tr>\n",
       "  </thead>\n",
       "  <tbody>\n",
       "    <tr>\n",
       "      <th>0</th>\n",
       "      <td>7129300520</td>\n",
       "      <td>2014-10-13</td>\n",
       "      <td>221,900.00</td>\n",
       "      <td>12.31</td>\n",
       "      <td>3</td>\n",
       "      <td>4.00</td>\n",
       "      <td>1.10</td>\n",
       "      <td>1.54</td>\n",
       "      <td>1.00</td>\n",
       "      <td>0.00</td>\n",
       "      <td>0.00</td>\n",
       "      <td>1180</td>\n",
       "      <td>5650</td>\n",
       "      <td>7.07</td>\n",
       "      <td>7.66</td>\n",
       "      <td>1.00</td>\n",
       "      <td>8.64</td>\n",
       "      <td>4.20</td>\n",
       "      <td>0.00</td>\n",
       "      <td>0.00</td>\n",
       "      <td>3</td>\n",
       "      <td>7</td>\n",
       "      <td>1180</td>\n",
       "      <td>0</td>\n",
       "      <td>7.07</td>\n",
       "      <td>1955</td>\n",
       "      <td>0</td>\n",
       "      <td>0</td>\n",
       "      <td>98178</td>\n",
       "      <td>47.51</td>\n",
       "      <td>-122.26</td>\n",
       "      <td>1340</td>\n",
       "      <td>5650</td>\n",
       "      <td>8.64</td>\n",
       "    </tr>\n",
       "    <tr>\n",
       "      <th>1</th>\n",
       "      <td>6414100192</td>\n",
       "      <td>2014-12-09</td>\n",
       "      <td>538,000.00</td>\n",
       "      <td>13.20</td>\n",
       "      <td>3</td>\n",
       "      <td>4.05</td>\n",
       "      <td>1.10</td>\n",
       "      <td>1.54</td>\n",
       "      <td>2.25</td>\n",
       "      <td>0.81</td>\n",
       "      <td>1.02</td>\n",
       "      <td>2570</td>\n",
       "      <td>7242</td>\n",
       "      <td>7.85</td>\n",
       "      <td>8.58</td>\n",
       "      <td>2.00</td>\n",
       "      <td>8.89</td>\n",
       "      <td>4.25</td>\n",
       "      <td>0.00</td>\n",
       "      <td>0.00</td>\n",
       "      <td>3</td>\n",
       "      <td>7</td>\n",
       "      <td>2170</td>\n",
       "      <td>400</td>\n",
       "      <td>7.68</td>\n",
       "      <td>1951</td>\n",
       "      <td>1991</td>\n",
       "      <td>1</td>\n",
       "      <td>98125</td>\n",
       "      <td>47.72</td>\n",
       "      <td>-122.32</td>\n",
       "      <td>1690</td>\n",
       "      <td>7639</td>\n",
       "      <td>8.94</td>\n",
       "    </tr>\n",
       "    <tr>\n",
       "      <th>2</th>\n",
       "      <td>5631500400</td>\n",
       "      <td>2015-02-25</td>\n",
       "      <td>180,000.00</td>\n",
       "      <td>12.10</td>\n",
       "      <td>2</td>\n",
       "      <td>3.99</td>\n",
       "      <td>0.69</td>\n",
       "      <td>0.85</td>\n",
       "      <td>1.00</td>\n",
       "      <td>0.00</td>\n",
       "      <td>0.00</td>\n",
       "      <td>770</td>\n",
       "      <td>10000</td>\n",
       "      <td>6.65</td>\n",
       "      <td>7.16</td>\n",
       "      <td>1.00</td>\n",
       "      <td>9.21</td>\n",
       "      <td>4.31</td>\n",
       "      <td>0.00</td>\n",
       "      <td>0.00</td>\n",
       "      <td>3</td>\n",
       "      <td>6</td>\n",
       "      <td>770</td>\n",
       "      <td>0</td>\n",
       "      <td>6.65</td>\n",
       "      <td>1933</td>\n",
       "      <td>0</td>\n",
       "      <td>0</td>\n",
       "      <td>98028</td>\n",
       "      <td>47.74</td>\n",
       "      <td>-122.23</td>\n",
       "      <td>2720</td>\n",
       "      <td>8062</td>\n",
       "      <td>8.99</td>\n",
       "    </tr>\n",
       "    <tr>\n",
       "      <th>3</th>\n",
       "      <td>2487200875</td>\n",
       "      <td>2014-12-09</td>\n",
       "      <td>604,000.00</td>\n",
       "      <td>13.31</td>\n",
       "      <td>4</td>\n",
       "      <td>4.05</td>\n",
       "      <td>1.39</td>\n",
       "      <td>2.14</td>\n",
       "      <td>3.00</td>\n",
       "      <td>1.10</td>\n",
       "      <td>1.49</td>\n",
       "      <td>1960</td>\n",
       "      <td>5000</td>\n",
       "      <td>7.58</td>\n",
       "      <td>8.26</td>\n",
       "      <td>1.00</td>\n",
       "      <td>8.52</td>\n",
       "      <td>4.18</td>\n",
       "      <td>0.00</td>\n",
       "      <td>0.00</td>\n",
       "      <td>5</td>\n",
       "      <td>7</td>\n",
       "      <td>1050</td>\n",
       "      <td>910</td>\n",
       "      <td>6.96</td>\n",
       "      <td>1965</td>\n",
       "      <td>0</td>\n",
       "      <td>0</td>\n",
       "      <td>98136</td>\n",
       "      <td>47.52</td>\n",
       "      <td>-122.39</td>\n",
       "      <td>1360</td>\n",
       "      <td>5000</td>\n",
       "      <td>8.52</td>\n",
       "    </tr>\n",
       "    <tr>\n",
       "      <th>4</th>\n",
       "      <td>1954400510</td>\n",
       "      <td>2015-02-18</td>\n",
       "      <td>510,000.00</td>\n",
       "      <td>13.14</td>\n",
       "      <td>3</td>\n",
       "      <td>4.04</td>\n",
       "      <td>1.10</td>\n",
       "      <td>1.54</td>\n",
       "      <td>2.00</td>\n",
       "      <td>0.69</td>\n",
       "      <td>0.84</td>\n",
       "      <td>1680</td>\n",
       "      <td>8080</td>\n",
       "      <td>7.43</td>\n",
       "      <td>8.07</td>\n",
       "      <td>1.00</td>\n",
       "      <td>9.00</td>\n",
       "      <td>4.27</td>\n",
       "      <td>0.00</td>\n",
       "      <td>0.00</td>\n",
       "      <td>3</td>\n",
       "      <td>8</td>\n",
       "      <td>1680</td>\n",
       "      <td>0</td>\n",
       "      <td>7.43</td>\n",
       "      <td>1987</td>\n",
       "      <td>0</td>\n",
       "      <td>0</td>\n",
       "      <td>98074</td>\n",
       "      <td>47.62</td>\n",
       "      <td>-122.05</td>\n",
       "      <td>1800</td>\n",
       "      <td>7503</td>\n",
       "      <td>8.92</td>\n",
       "    </tr>\n",
       "  </tbody>\n",
       "</table>\n",
       "</div>"
      ],
      "text/plain": [
       "           id       date      price  price_log  bedrooms  price_box  \\\n",
       "0  7129300520 2014-10-13 221,900.00      12.31         3       4.00   \n",
       "1  6414100192 2014-12-09 538,000.00      13.20         3       4.05   \n",
       "2  5631500400 2015-02-25 180,000.00      12.10         2       3.99   \n",
       "3  2487200875 2014-12-09 604,000.00      13.31         4       4.05   \n",
       "4  1954400510 2015-02-18 510,000.00      13.14         3       4.04   \n",
       "\n",
       "   bedrooms_log  bedrooms_box  bathrooms  bathrooms_log  bathrooms_box  \\\n",
       "0          1.10          1.54       1.00           0.00           0.00   \n",
       "1          1.10          1.54       2.25           0.81           1.02   \n",
       "2          0.69          0.85       1.00           0.00           0.00   \n",
       "3          1.39          2.14       3.00           1.10           1.49   \n",
       "4          1.10          1.54       2.00           0.69           0.84   \n",
       "\n",
       "   sqft_living  sqft_lot  sqft_living_log  sqft_living_box  floors  \\\n",
       "0         1180      5650             7.07             7.66    1.00   \n",
       "1         2570      7242             7.85             8.58    2.00   \n",
       "2          770     10000             6.65             7.16    1.00   \n",
       "3         1960      5000             7.58             8.26    1.00   \n",
       "4         1680      8080             7.43             8.07    1.00   \n",
       "\n",
       "   sqft_lot_log  sqft_lot_box  waterfront  view  condition  grade  sqft_above  \\\n",
       "0          8.64          4.20        0.00  0.00          3      7        1180   \n",
       "1          8.89          4.25        0.00  0.00          3      7        2170   \n",
       "2          9.21          4.31        0.00  0.00          3      6         770   \n",
       "3          8.52          4.18        0.00  0.00          5      7        1050   \n",
       "4          9.00          4.27        0.00  0.00          3      8        1680   \n",
       "\n",
       "   sqft_basement  sqft_above_log  yr_built  yr_renovated  renovation_ind  \\\n",
       "0              0            7.07      1955             0               0   \n",
       "1            400            7.68      1951          1991               1   \n",
       "2              0            6.65      1933             0               0   \n",
       "3            910            6.96      1965             0               0   \n",
       "4              0            7.43      1987             0               0   \n",
       "\n",
       "  zipcode   lat    long  sqft_living15  sqft_lot15  sqft_lot15_log  \n",
       "0   98178 47.51 -122.26           1340        5650            8.64  \n",
       "1   98125 47.72 -122.32           1690        7639            8.94  \n",
       "2   98028 47.74 -122.23           2720        8062            8.99  \n",
       "3   98136 47.52 -122.39           1360        5000            8.52  \n",
       "4   98074 47.62 -122.05           1800        7503            8.92  "
      ]
     },
     "execution_count": 63,
     "metadata": {},
     "output_type": "execute_result"
    }
   ],
   "source": [
    "# Create indicator column for homes showing renovation years (1 = Renovation)\n",
    "kc.insert(loc=27, column='renovation_ind', value=np.where((kc.yr_renovated.isnull()) | (kc.yr_renovated==0), 0, 1))\n",
    "kc.head() "
   ]
  },
  {
   "cell_type": "markdown",
   "metadata": {
    "ExecuteTime": {
     "end_time": "2021-03-09T12:01:45.425360Z",
     "start_time": "2021-03-09T12:01:45.420651Z"
    }
   },
   "source": [
    "#### Basement Indicator"
   ]
  },
  {
   "cell_type": "code",
   "execution_count": 64,
   "metadata": {
    "ExecuteTime": {
     "end_time": "2021-03-11T12:10:54.579688Z",
     "start_time": "2021-03-11T12:10:54.547730Z"
    }
   },
   "outputs": [
    {
     "data": {
      "text/html": [
       "<div>\n",
       "<style scoped>\n",
       "    .dataframe tbody tr th:only-of-type {\n",
       "        vertical-align: middle;\n",
       "    }\n",
       "\n",
       "    .dataframe tbody tr th {\n",
       "        vertical-align: top;\n",
       "    }\n",
       "\n",
       "    .dataframe thead th {\n",
       "        text-align: right;\n",
       "    }\n",
       "</style>\n",
       "<table border=\"1\" class=\"dataframe\">\n",
       "  <thead>\n",
       "    <tr style=\"text-align: right;\">\n",
       "      <th></th>\n",
       "      <th>id</th>\n",
       "      <th>date</th>\n",
       "      <th>price</th>\n",
       "      <th>price_log</th>\n",
       "      <th>bedrooms</th>\n",
       "      <th>price_box</th>\n",
       "      <th>bedrooms_log</th>\n",
       "      <th>bedrooms_box</th>\n",
       "      <th>bathrooms</th>\n",
       "      <th>bathrooms_log</th>\n",
       "      <th>bathrooms_box</th>\n",
       "      <th>sqft_living</th>\n",
       "      <th>sqft_lot</th>\n",
       "      <th>sqft_living_log</th>\n",
       "      <th>sqft_living_box</th>\n",
       "      <th>floors</th>\n",
       "      <th>sqft_lot_log</th>\n",
       "      <th>sqft_lot_box</th>\n",
       "      <th>waterfront</th>\n",
       "      <th>view</th>\n",
       "      <th>condition</th>\n",
       "      <th>grade</th>\n",
       "      <th>sqft_above</th>\n",
       "      <th>sqft_basement</th>\n",
       "      <th>sqft_above_log</th>\n",
       "      <th>basement_ind</th>\n",
       "      <th>yr_built</th>\n",
       "      <th>yr_renovated</th>\n",
       "      <th>renovation_ind</th>\n",
       "      <th>zipcode</th>\n",
       "      <th>lat</th>\n",
       "      <th>long</th>\n",
       "      <th>sqft_living15</th>\n",
       "      <th>sqft_lot15</th>\n",
       "      <th>sqft_lot15_log</th>\n",
       "    </tr>\n",
       "  </thead>\n",
       "  <tbody>\n",
       "    <tr>\n",
       "      <th>0</th>\n",
       "      <td>7129300520</td>\n",
       "      <td>2014-10-13</td>\n",
       "      <td>221,900.00</td>\n",
       "      <td>12.31</td>\n",
       "      <td>3</td>\n",
       "      <td>4.00</td>\n",
       "      <td>1.10</td>\n",
       "      <td>1.54</td>\n",
       "      <td>1.00</td>\n",
       "      <td>0.00</td>\n",
       "      <td>0.00</td>\n",
       "      <td>1180</td>\n",
       "      <td>5650</td>\n",
       "      <td>7.07</td>\n",
       "      <td>7.66</td>\n",
       "      <td>1.00</td>\n",
       "      <td>8.64</td>\n",
       "      <td>4.20</td>\n",
       "      <td>0.00</td>\n",
       "      <td>0.00</td>\n",
       "      <td>3</td>\n",
       "      <td>7</td>\n",
       "      <td>1180</td>\n",
       "      <td>0</td>\n",
       "      <td>7.07</td>\n",
       "      <td>0</td>\n",
       "      <td>1955</td>\n",
       "      <td>0</td>\n",
       "      <td>0</td>\n",
       "      <td>98178</td>\n",
       "      <td>47.51</td>\n",
       "      <td>-122.26</td>\n",
       "      <td>1340</td>\n",
       "      <td>5650</td>\n",
       "      <td>8.64</td>\n",
       "    </tr>\n",
       "    <tr>\n",
       "      <th>1</th>\n",
       "      <td>6414100192</td>\n",
       "      <td>2014-12-09</td>\n",
       "      <td>538,000.00</td>\n",
       "      <td>13.20</td>\n",
       "      <td>3</td>\n",
       "      <td>4.05</td>\n",
       "      <td>1.10</td>\n",
       "      <td>1.54</td>\n",
       "      <td>2.25</td>\n",
       "      <td>0.81</td>\n",
       "      <td>1.02</td>\n",
       "      <td>2570</td>\n",
       "      <td>7242</td>\n",
       "      <td>7.85</td>\n",
       "      <td>8.58</td>\n",
       "      <td>2.00</td>\n",
       "      <td>8.89</td>\n",
       "      <td>4.25</td>\n",
       "      <td>0.00</td>\n",
       "      <td>0.00</td>\n",
       "      <td>3</td>\n",
       "      <td>7</td>\n",
       "      <td>2170</td>\n",
       "      <td>400</td>\n",
       "      <td>7.68</td>\n",
       "      <td>1</td>\n",
       "      <td>1951</td>\n",
       "      <td>1991</td>\n",
       "      <td>1</td>\n",
       "      <td>98125</td>\n",
       "      <td>47.72</td>\n",
       "      <td>-122.32</td>\n",
       "      <td>1690</td>\n",
       "      <td>7639</td>\n",
       "      <td>8.94</td>\n",
       "    </tr>\n",
       "    <tr>\n",
       "      <th>2</th>\n",
       "      <td>5631500400</td>\n",
       "      <td>2015-02-25</td>\n",
       "      <td>180,000.00</td>\n",
       "      <td>12.10</td>\n",
       "      <td>2</td>\n",
       "      <td>3.99</td>\n",
       "      <td>0.69</td>\n",
       "      <td>0.85</td>\n",
       "      <td>1.00</td>\n",
       "      <td>0.00</td>\n",
       "      <td>0.00</td>\n",
       "      <td>770</td>\n",
       "      <td>10000</td>\n",
       "      <td>6.65</td>\n",
       "      <td>7.16</td>\n",
       "      <td>1.00</td>\n",
       "      <td>9.21</td>\n",
       "      <td>4.31</td>\n",
       "      <td>0.00</td>\n",
       "      <td>0.00</td>\n",
       "      <td>3</td>\n",
       "      <td>6</td>\n",
       "      <td>770</td>\n",
       "      <td>0</td>\n",
       "      <td>6.65</td>\n",
       "      <td>0</td>\n",
       "      <td>1933</td>\n",
       "      <td>0</td>\n",
       "      <td>0</td>\n",
       "      <td>98028</td>\n",
       "      <td>47.74</td>\n",
       "      <td>-122.23</td>\n",
       "      <td>2720</td>\n",
       "      <td>8062</td>\n",
       "      <td>8.99</td>\n",
       "    </tr>\n",
       "    <tr>\n",
       "      <th>3</th>\n",
       "      <td>2487200875</td>\n",
       "      <td>2014-12-09</td>\n",
       "      <td>604,000.00</td>\n",
       "      <td>13.31</td>\n",
       "      <td>4</td>\n",
       "      <td>4.05</td>\n",
       "      <td>1.39</td>\n",
       "      <td>2.14</td>\n",
       "      <td>3.00</td>\n",
       "      <td>1.10</td>\n",
       "      <td>1.49</td>\n",
       "      <td>1960</td>\n",
       "      <td>5000</td>\n",
       "      <td>7.58</td>\n",
       "      <td>8.26</td>\n",
       "      <td>1.00</td>\n",
       "      <td>8.52</td>\n",
       "      <td>4.18</td>\n",
       "      <td>0.00</td>\n",
       "      <td>0.00</td>\n",
       "      <td>5</td>\n",
       "      <td>7</td>\n",
       "      <td>1050</td>\n",
       "      <td>910</td>\n",
       "      <td>6.96</td>\n",
       "      <td>1</td>\n",
       "      <td>1965</td>\n",
       "      <td>0</td>\n",
       "      <td>0</td>\n",
       "      <td>98136</td>\n",
       "      <td>47.52</td>\n",
       "      <td>-122.39</td>\n",
       "      <td>1360</td>\n",
       "      <td>5000</td>\n",
       "      <td>8.52</td>\n",
       "    </tr>\n",
       "    <tr>\n",
       "      <th>4</th>\n",
       "      <td>1954400510</td>\n",
       "      <td>2015-02-18</td>\n",
       "      <td>510,000.00</td>\n",
       "      <td>13.14</td>\n",
       "      <td>3</td>\n",
       "      <td>4.04</td>\n",
       "      <td>1.10</td>\n",
       "      <td>1.54</td>\n",
       "      <td>2.00</td>\n",
       "      <td>0.69</td>\n",
       "      <td>0.84</td>\n",
       "      <td>1680</td>\n",
       "      <td>8080</td>\n",
       "      <td>7.43</td>\n",
       "      <td>8.07</td>\n",
       "      <td>1.00</td>\n",
       "      <td>9.00</td>\n",
       "      <td>4.27</td>\n",
       "      <td>0.00</td>\n",
       "      <td>0.00</td>\n",
       "      <td>3</td>\n",
       "      <td>8</td>\n",
       "      <td>1680</td>\n",
       "      <td>0</td>\n",
       "      <td>7.43</td>\n",
       "      <td>0</td>\n",
       "      <td>1987</td>\n",
       "      <td>0</td>\n",
       "      <td>0</td>\n",
       "      <td>98074</td>\n",
       "      <td>47.62</td>\n",
       "      <td>-122.05</td>\n",
       "      <td>1800</td>\n",
       "      <td>7503</td>\n",
       "      <td>8.92</td>\n",
       "    </tr>\n",
       "  </tbody>\n",
       "</table>\n",
       "</div>"
      ],
      "text/plain": [
       "           id       date      price  price_log  bedrooms  price_box  \\\n",
       "0  7129300520 2014-10-13 221,900.00      12.31         3       4.00   \n",
       "1  6414100192 2014-12-09 538,000.00      13.20         3       4.05   \n",
       "2  5631500400 2015-02-25 180,000.00      12.10         2       3.99   \n",
       "3  2487200875 2014-12-09 604,000.00      13.31         4       4.05   \n",
       "4  1954400510 2015-02-18 510,000.00      13.14         3       4.04   \n",
       "\n",
       "   bedrooms_log  bedrooms_box  bathrooms  bathrooms_log  bathrooms_box  \\\n",
       "0          1.10          1.54       1.00           0.00           0.00   \n",
       "1          1.10          1.54       2.25           0.81           1.02   \n",
       "2          0.69          0.85       1.00           0.00           0.00   \n",
       "3          1.39          2.14       3.00           1.10           1.49   \n",
       "4          1.10          1.54       2.00           0.69           0.84   \n",
       "\n",
       "   sqft_living  sqft_lot  sqft_living_log  sqft_living_box  floors  \\\n",
       "0         1180      5650             7.07             7.66    1.00   \n",
       "1         2570      7242             7.85             8.58    2.00   \n",
       "2          770     10000             6.65             7.16    1.00   \n",
       "3         1960      5000             7.58             8.26    1.00   \n",
       "4         1680      8080             7.43             8.07    1.00   \n",
       "\n",
       "   sqft_lot_log  sqft_lot_box  waterfront  view  condition  grade  sqft_above  \\\n",
       "0          8.64          4.20        0.00  0.00          3      7        1180   \n",
       "1          8.89          4.25        0.00  0.00          3      7        2170   \n",
       "2          9.21          4.31        0.00  0.00          3      6         770   \n",
       "3          8.52          4.18        0.00  0.00          5      7        1050   \n",
       "4          9.00          4.27        0.00  0.00          3      8        1680   \n",
       "\n",
       "   sqft_basement  sqft_above_log  basement_ind  yr_built  yr_renovated  \\\n",
       "0              0            7.07             0      1955             0   \n",
       "1            400            7.68             1      1951          1991   \n",
       "2              0            6.65             0      1933             0   \n",
       "3            910            6.96             1      1965             0   \n",
       "4              0            7.43             0      1987             0   \n",
       "\n",
       "   renovation_ind zipcode   lat    long  sqft_living15  sqft_lot15  \\\n",
       "0               0   98178 47.51 -122.26           1340        5650   \n",
       "1               1   98125 47.72 -122.32           1690        7639   \n",
       "2               0   98028 47.74 -122.23           2720        8062   \n",
       "3               0   98136 47.52 -122.39           1360        5000   \n",
       "4               0   98074 47.62 -122.05           1800        7503   \n",
       "\n",
       "   sqft_lot15_log  \n",
       "0            8.64  \n",
       "1            8.94  \n",
       "2            8.99  \n",
       "3            8.52  \n",
       "4            8.92  "
      ]
     },
     "execution_count": 64,
     "metadata": {},
     "output_type": "execute_result"
    }
   ],
   "source": [
    "# Create indicator column for homes with basement based on non-zero sqft\n",
    "kc.insert(loc=25, column='basement_ind', value=np.where(kc.sqft_basement==0, 0, 1))\n",
    "kc.head() "
   ]
  },
  {
   "cell_type": "markdown",
   "metadata": {},
   "source": [
    "#### Sqft Per Bedroom"
   ]
  },
  {
   "cell_type": "code",
   "execution_count": 65,
   "metadata": {
    "ExecuteTime": {
     "end_time": "2021-03-11T12:10:57.158771Z",
     "start_time": "2021-03-11T12:10:57.127387Z"
    }
   },
   "outputs": [
    {
     "data": {
      "text/html": [
       "<div>\n",
       "<style scoped>\n",
       "    .dataframe tbody tr th:only-of-type {\n",
       "        vertical-align: middle;\n",
       "    }\n",
       "\n",
       "    .dataframe tbody tr th {\n",
       "        vertical-align: top;\n",
       "    }\n",
       "\n",
       "    .dataframe thead th {\n",
       "        text-align: right;\n",
       "    }\n",
       "</style>\n",
       "<table border=\"1\" class=\"dataframe\">\n",
       "  <thead>\n",
       "    <tr style=\"text-align: right;\">\n",
       "      <th></th>\n",
       "      <th>id</th>\n",
       "      <th>date</th>\n",
       "      <th>price</th>\n",
       "      <th>price_log</th>\n",
       "      <th>bedrooms</th>\n",
       "      <th>price_box</th>\n",
       "      <th>bedrooms_log</th>\n",
       "      <th>bedrooms_box</th>\n",
       "      <th>sqft_per_bedroom</th>\n",
       "      <th>bathrooms</th>\n",
       "      <th>bathrooms_log</th>\n",
       "      <th>bathrooms_box</th>\n",
       "      <th>sqft_living</th>\n",
       "      <th>sqft_lot</th>\n",
       "      <th>sqft_living_log</th>\n",
       "      <th>sqft_living_box</th>\n",
       "      <th>floors</th>\n",
       "      <th>sqft_lot_log</th>\n",
       "      <th>sqft_lot_box</th>\n",
       "      <th>waterfront</th>\n",
       "      <th>view</th>\n",
       "      <th>condition</th>\n",
       "      <th>grade</th>\n",
       "      <th>sqft_above</th>\n",
       "      <th>sqft_basement</th>\n",
       "      <th>sqft_above_log</th>\n",
       "      <th>basement_ind</th>\n",
       "      <th>yr_built</th>\n",
       "      <th>yr_renovated</th>\n",
       "      <th>renovation_ind</th>\n",
       "      <th>zipcode</th>\n",
       "      <th>lat</th>\n",
       "      <th>long</th>\n",
       "      <th>sqft_living15</th>\n",
       "      <th>sqft_lot15</th>\n",
       "      <th>sqft_lot15_log</th>\n",
       "    </tr>\n",
       "  </thead>\n",
       "  <tbody>\n",
       "    <tr>\n",
       "      <th>0</th>\n",
       "      <td>7129300520</td>\n",
       "      <td>2014-10-13</td>\n",
       "      <td>221,900.00</td>\n",
       "      <td>12.31</td>\n",
       "      <td>3</td>\n",
       "      <td>4.00</td>\n",
       "      <td>1.10</td>\n",
       "      <td>1.54</td>\n",
       "      <td>393.33</td>\n",
       "      <td>1.00</td>\n",
       "      <td>0.00</td>\n",
       "      <td>0.00</td>\n",
       "      <td>1180</td>\n",
       "      <td>5650</td>\n",
       "      <td>7.07</td>\n",
       "      <td>7.66</td>\n",
       "      <td>1.00</td>\n",
       "      <td>8.64</td>\n",
       "      <td>4.20</td>\n",
       "      <td>0.00</td>\n",
       "      <td>0.00</td>\n",
       "      <td>3</td>\n",
       "      <td>7</td>\n",
       "      <td>1180</td>\n",
       "      <td>0</td>\n",
       "      <td>7.07</td>\n",
       "      <td>0</td>\n",
       "      <td>1955</td>\n",
       "      <td>0</td>\n",
       "      <td>0</td>\n",
       "      <td>98178</td>\n",
       "      <td>47.51</td>\n",
       "      <td>-122.26</td>\n",
       "      <td>1340</td>\n",
       "      <td>5650</td>\n",
       "      <td>8.64</td>\n",
       "    </tr>\n",
       "    <tr>\n",
       "      <th>1</th>\n",
       "      <td>6414100192</td>\n",
       "      <td>2014-12-09</td>\n",
       "      <td>538,000.00</td>\n",
       "      <td>13.20</td>\n",
       "      <td>3</td>\n",
       "      <td>4.05</td>\n",
       "      <td>1.10</td>\n",
       "      <td>1.54</td>\n",
       "      <td>856.67</td>\n",
       "      <td>2.25</td>\n",
       "      <td>0.81</td>\n",
       "      <td>1.02</td>\n",
       "      <td>2570</td>\n",
       "      <td>7242</td>\n",
       "      <td>7.85</td>\n",
       "      <td>8.58</td>\n",
       "      <td>2.00</td>\n",
       "      <td>8.89</td>\n",
       "      <td>4.25</td>\n",
       "      <td>0.00</td>\n",
       "      <td>0.00</td>\n",
       "      <td>3</td>\n",
       "      <td>7</td>\n",
       "      <td>2170</td>\n",
       "      <td>400</td>\n",
       "      <td>7.68</td>\n",
       "      <td>1</td>\n",
       "      <td>1951</td>\n",
       "      <td>1991</td>\n",
       "      <td>1</td>\n",
       "      <td>98125</td>\n",
       "      <td>47.72</td>\n",
       "      <td>-122.32</td>\n",
       "      <td>1690</td>\n",
       "      <td>7639</td>\n",
       "      <td>8.94</td>\n",
       "    </tr>\n",
       "    <tr>\n",
       "      <th>2</th>\n",
       "      <td>5631500400</td>\n",
       "      <td>2015-02-25</td>\n",
       "      <td>180,000.00</td>\n",
       "      <td>12.10</td>\n",
       "      <td>2</td>\n",
       "      <td>3.99</td>\n",
       "      <td>0.69</td>\n",
       "      <td>0.85</td>\n",
       "      <td>385.00</td>\n",
       "      <td>1.00</td>\n",
       "      <td>0.00</td>\n",
       "      <td>0.00</td>\n",
       "      <td>770</td>\n",
       "      <td>10000</td>\n",
       "      <td>6.65</td>\n",
       "      <td>7.16</td>\n",
       "      <td>1.00</td>\n",
       "      <td>9.21</td>\n",
       "      <td>4.31</td>\n",
       "      <td>0.00</td>\n",
       "      <td>0.00</td>\n",
       "      <td>3</td>\n",
       "      <td>6</td>\n",
       "      <td>770</td>\n",
       "      <td>0</td>\n",
       "      <td>6.65</td>\n",
       "      <td>0</td>\n",
       "      <td>1933</td>\n",
       "      <td>0</td>\n",
       "      <td>0</td>\n",
       "      <td>98028</td>\n",
       "      <td>47.74</td>\n",
       "      <td>-122.23</td>\n",
       "      <td>2720</td>\n",
       "      <td>8062</td>\n",
       "      <td>8.99</td>\n",
       "    </tr>\n",
       "    <tr>\n",
       "      <th>3</th>\n",
       "      <td>2487200875</td>\n",
       "      <td>2014-12-09</td>\n",
       "      <td>604,000.00</td>\n",
       "      <td>13.31</td>\n",
       "      <td>4</td>\n",
       "      <td>4.05</td>\n",
       "      <td>1.39</td>\n",
       "      <td>2.14</td>\n",
       "      <td>490.00</td>\n",
       "      <td>3.00</td>\n",
       "      <td>1.10</td>\n",
       "      <td>1.49</td>\n",
       "      <td>1960</td>\n",
       "      <td>5000</td>\n",
       "      <td>7.58</td>\n",
       "      <td>8.26</td>\n",
       "      <td>1.00</td>\n",
       "      <td>8.52</td>\n",
       "      <td>4.18</td>\n",
       "      <td>0.00</td>\n",
       "      <td>0.00</td>\n",
       "      <td>5</td>\n",
       "      <td>7</td>\n",
       "      <td>1050</td>\n",
       "      <td>910</td>\n",
       "      <td>6.96</td>\n",
       "      <td>1</td>\n",
       "      <td>1965</td>\n",
       "      <td>0</td>\n",
       "      <td>0</td>\n",
       "      <td>98136</td>\n",
       "      <td>47.52</td>\n",
       "      <td>-122.39</td>\n",
       "      <td>1360</td>\n",
       "      <td>5000</td>\n",
       "      <td>8.52</td>\n",
       "    </tr>\n",
       "    <tr>\n",
       "      <th>4</th>\n",
       "      <td>1954400510</td>\n",
       "      <td>2015-02-18</td>\n",
       "      <td>510,000.00</td>\n",
       "      <td>13.14</td>\n",
       "      <td>3</td>\n",
       "      <td>4.04</td>\n",
       "      <td>1.10</td>\n",
       "      <td>1.54</td>\n",
       "      <td>560.00</td>\n",
       "      <td>2.00</td>\n",
       "      <td>0.69</td>\n",
       "      <td>0.84</td>\n",
       "      <td>1680</td>\n",
       "      <td>8080</td>\n",
       "      <td>7.43</td>\n",
       "      <td>8.07</td>\n",
       "      <td>1.00</td>\n",
       "      <td>9.00</td>\n",
       "      <td>4.27</td>\n",
       "      <td>0.00</td>\n",
       "      <td>0.00</td>\n",
       "      <td>3</td>\n",
       "      <td>8</td>\n",
       "      <td>1680</td>\n",
       "      <td>0</td>\n",
       "      <td>7.43</td>\n",
       "      <td>0</td>\n",
       "      <td>1987</td>\n",
       "      <td>0</td>\n",
       "      <td>0</td>\n",
       "      <td>98074</td>\n",
       "      <td>47.62</td>\n",
       "      <td>-122.05</td>\n",
       "      <td>1800</td>\n",
       "      <td>7503</td>\n",
       "      <td>8.92</td>\n",
       "    </tr>\n",
       "  </tbody>\n",
       "</table>\n",
       "</div>"
      ],
      "text/plain": [
       "           id       date      price  price_log  bedrooms  price_box  \\\n",
       "0  7129300520 2014-10-13 221,900.00      12.31         3       4.00   \n",
       "1  6414100192 2014-12-09 538,000.00      13.20         3       4.05   \n",
       "2  5631500400 2015-02-25 180,000.00      12.10         2       3.99   \n",
       "3  2487200875 2014-12-09 604,000.00      13.31         4       4.05   \n",
       "4  1954400510 2015-02-18 510,000.00      13.14         3       4.04   \n",
       "\n",
       "   bedrooms_log  bedrooms_box  sqft_per_bedroom  bathrooms  bathrooms_log  \\\n",
       "0          1.10          1.54            393.33       1.00           0.00   \n",
       "1          1.10          1.54            856.67       2.25           0.81   \n",
       "2          0.69          0.85            385.00       1.00           0.00   \n",
       "3          1.39          2.14            490.00       3.00           1.10   \n",
       "4          1.10          1.54            560.00       2.00           0.69   \n",
       "\n",
       "   bathrooms_box  sqft_living  sqft_lot  sqft_living_log  sqft_living_box  \\\n",
       "0           0.00         1180      5650             7.07             7.66   \n",
       "1           1.02         2570      7242             7.85             8.58   \n",
       "2           0.00          770     10000             6.65             7.16   \n",
       "3           1.49         1960      5000             7.58             8.26   \n",
       "4           0.84         1680      8080             7.43             8.07   \n",
       "\n",
       "   floors  sqft_lot_log  sqft_lot_box  waterfront  view  condition  grade  \\\n",
       "0    1.00          8.64          4.20        0.00  0.00          3      7   \n",
       "1    2.00          8.89          4.25        0.00  0.00          3      7   \n",
       "2    1.00          9.21          4.31        0.00  0.00          3      6   \n",
       "3    1.00          8.52          4.18        0.00  0.00          5      7   \n",
       "4    1.00          9.00          4.27        0.00  0.00          3      8   \n",
       "\n",
       "   sqft_above  sqft_basement  sqft_above_log  basement_ind  yr_built  \\\n",
       "0        1180              0            7.07             0      1955   \n",
       "1        2170            400            7.68             1      1951   \n",
       "2         770              0            6.65             0      1933   \n",
       "3        1050            910            6.96             1      1965   \n",
       "4        1680              0            7.43             0      1987   \n",
       "\n",
       "   yr_renovated  renovation_ind zipcode   lat    long  sqft_living15  \\\n",
       "0             0               0   98178 47.51 -122.26           1340   \n",
       "1          1991               1   98125 47.72 -122.32           1690   \n",
       "2             0               0   98028 47.74 -122.23           2720   \n",
       "3             0               0   98136 47.52 -122.39           1360   \n",
       "4             0               0   98074 47.62 -122.05           1800   \n",
       "\n",
       "   sqft_lot15  sqft_lot15_log  \n",
       "0        5650            8.64  \n",
       "1        7639            8.94  \n",
       "2        8062            8.99  \n",
       "3        5000            8.52  \n",
       "4        7503            8.92  "
      ]
     },
     "execution_count": 65,
     "metadata": {},
     "output_type": "execute_result"
    }
   ],
   "source": [
    "kc.insert(loc=8, column='sqft_per_bedroom', value=kc['sqft_living']/kc['bedrooms'])\n",
    "kc.head()"
   ]
  },
  {
   "cell_type": "code",
   "execution_count": null,
   "metadata": {
    "ExecuteTime": {
     "end_time": "2021-03-11T11:19:26.726277Z",
     "start_time": "2021-03-11T11:19:24.786Z"
    }
   },
   "outputs": [],
   "source": [
    "check_normality(kc, 'sqft_per_bedroom', bins=20)"
   ]
  },
  {
   "cell_type": "code",
   "execution_count": 66,
   "metadata": {
    "ExecuteTime": {
     "end_time": "2021-03-11T12:11:01.983242Z",
     "start_time": "2021-03-11T12:11:01.783475Z"
    }
   },
   "outputs": [
    {
     "data": {
      "image/png": "[encoded data removed]",
      "text/plain": [
       "<Figure size 864x288 with 2 Axes>"
      ]
     },
     "metadata": {
      "needs_background": "light"
     },
     "output_type": "display_data"
    },
    {
     "name": "stdout",
     "output_type": "stream",
     "text": [
      "sqft_per_bedroom_log skew: 0.28789619313930154\n",
      "sqft_per_bedroom_log kurtosis: 0.1447890918941246\n"
     ]
    }
   ],
   "source": [
    "create_log(kc, 'sqft_per_bedroom', col_pos=9, bins=20)"
   ]
  },
  {
   "cell_type": "markdown",
   "metadata": {},
   "source": [
    "#### Bedrooms Derived"
   ]
  },
  {
   "cell_type": "code",
   "execution_count": 67,
   "metadata": {
    "ExecuteTime": {
     "end_time": "2021-03-11T12:11:04.928480Z",
     "start_time": "2021-03-11T12:11:04.902028Z"
    }
   },
   "outputs": [],
   "source": [
    "kc.insert(loc=10, column='bedroom_der', value=kc.bedrooms.map(lambda x: x if x<=6 else 6))"
   ]
  },
  {
   "cell_type": "markdown",
   "metadata": {},
   "source": [
    "#### Condition Group"
   ]
  },
  {
   "cell_type": "code",
   "execution_count": 68,
   "metadata": {
    "ExecuteTime": {
     "end_time": "2021-03-11T12:11:09.982349Z",
     "start_time": "2021-03-11T12:11:09.947992Z"
    }
   },
   "outputs": [
    {
     "data": {
      "text/html": [
       "<div>\n",
       "<style scoped>\n",
       "    .dataframe tbody tr th:only-of-type {\n",
       "        vertical-align: middle;\n",
       "    }\n",
       "\n",
       "    .dataframe tbody tr th {\n",
       "        vertical-align: top;\n",
       "    }\n",
       "\n",
       "    .dataframe thead th {\n",
       "        text-align: right;\n",
       "    }\n",
       "</style>\n",
       "<table border=\"1\" class=\"dataframe\">\n",
       "  <thead>\n",
       "    <tr style=\"text-align: right;\">\n",
       "      <th></th>\n",
       "      <th>id</th>\n",
       "      <th>date</th>\n",
       "      <th>price</th>\n",
       "      <th>price_log</th>\n",
       "      <th>bedrooms</th>\n",
       "      <th>price_box</th>\n",
       "      <th>bedrooms_log</th>\n",
       "      <th>bedrooms_box</th>\n",
       "      <th>sqft_per_bedroom</th>\n",
       "      <th>sqft_per_bedroom_log</th>\n",
       "      <th>bedroom_der</th>\n",
       "      <th>bathrooms</th>\n",
       "      <th>bathrooms_log</th>\n",
       "      <th>bathrooms_box</th>\n",
       "      <th>sqft_living</th>\n",
       "      <th>sqft_lot</th>\n",
       "      <th>sqft_living_log</th>\n",
       "      <th>sqft_living_box</th>\n",
       "      <th>floors</th>\n",
       "      <th>sqft_lot_log</th>\n",
       "      <th>sqft_lot_box</th>\n",
       "      <th>waterfront</th>\n",
       "      <th>view</th>\n",
       "      <th>condition</th>\n",
       "      <th>condition_grp</th>\n",
       "      <th>grade</th>\n",
       "      <th>sqft_above</th>\n",
       "      <th>sqft_basement</th>\n",
       "      <th>sqft_above_log</th>\n",
       "      <th>basement_ind</th>\n",
       "      <th>yr_built</th>\n",
       "      <th>yr_renovated</th>\n",
       "      <th>renovation_ind</th>\n",
       "      <th>zipcode</th>\n",
       "      <th>lat</th>\n",
       "      <th>long</th>\n",
       "      <th>sqft_living15</th>\n",
       "      <th>sqft_lot15</th>\n",
       "      <th>sqft_lot15_log</th>\n",
       "    </tr>\n",
       "  </thead>\n",
       "  <tbody>\n",
       "    <tr>\n",
       "      <th>0</th>\n",
       "      <td>7129300520</td>\n",
       "      <td>2014-10-13</td>\n",
       "      <td>221,900.00</td>\n",
       "      <td>12.31</td>\n",
       "      <td>3</td>\n",
       "      <td>4.00</td>\n",
       "      <td>1.10</td>\n",
       "      <td>1.54</td>\n",
       "      <td>393.33</td>\n",
       "      <td>5.97</td>\n",
       "      <td>3</td>\n",
       "      <td>1.00</td>\n",
       "      <td>0.00</td>\n",
       "      <td>0.00</td>\n",
       "      <td>1180</td>\n",
       "      <td>5650</td>\n",
       "      <td>7.07</td>\n",
       "      <td>7.66</td>\n",
       "      <td>1.00</td>\n",
       "      <td>8.64</td>\n",
       "      <td>4.20</td>\n",
       "      <td>0.00</td>\n",
       "      <td>0.00</td>\n",
       "      <td>3</td>\n",
       "      <td>average</td>\n",
       "      <td>7</td>\n",
       "      <td>1180</td>\n",
       "      <td>0</td>\n",
       "      <td>7.07</td>\n",
       "      <td>0</td>\n",
       "      <td>1955</td>\n",
       "      <td>0</td>\n",
       "      <td>0</td>\n",
       "      <td>98178</td>\n",
       "      <td>47.51</td>\n",
       "      <td>-122.26</td>\n",
       "      <td>1340</td>\n",
       "      <td>5650</td>\n",
       "      <td>8.64</td>\n",
       "    </tr>\n",
       "    <tr>\n",
       "      <th>1</th>\n",
       "      <td>6414100192</td>\n",
       "      <td>2014-12-09</td>\n",
       "      <td>538,000.00</td>\n",
       "      <td>13.20</td>\n",
       "      <td>3</td>\n",
       "      <td>4.05</td>\n",
       "      <td>1.10</td>\n",
       "      <td>1.54</td>\n",
       "      <td>856.67</td>\n",
       "      <td>6.75</td>\n",
       "      <td>3</td>\n",
       "      <td>2.25</td>\n",
       "      <td>0.81</td>\n",
       "      <td>1.02</td>\n",
       "      <td>2570</td>\n",
       "      <td>7242</td>\n",
       "      <td>7.85</td>\n",
       "      <td>8.58</td>\n",
       "      <td>2.00</td>\n",
       "      <td>8.89</td>\n",
       "      <td>4.25</td>\n",
       "      <td>0.00</td>\n",
       "      <td>0.00</td>\n",
       "      <td>3</td>\n",
       "      <td>average</td>\n",
       "      <td>7</td>\n",
       "      <td>2170</td>\n",
       "      <td>400</td>\n",
       "      <td>7.68</td>\n",
       "      <td>1</td>\n",
       "      <td>1951</td>\n",
       "      <td>1991</td>\n",
       "      <td>1</td>\n",
       "      <td>98125</td>\n",
       "      <td>47.72</td>\n",
       "      <td>-122.32</td>\n",
       "      <td>1690</td>\n",
       "      <td>7639</td>\n",
       "      <td>8.94</td>\n",
       "    </tr>\n",
       "    <tr>\n",
       "      <th>2</th>\n",
       "      <td>5631500400</td>\n",
       "      <td>2015-02-25</td>\n",
       "      <td>180,000.00</td>\n",
       "      <td>12.10</td>\n",
       "      <td>2</td>\n",
       "      <td>3.99</td>\n",
       "      <td>0.69</td>\n",
       "      <td>0.85</td>\n",
       "      <td>385.00</td>\n",
       "      <td>5.95</td>\n",
       "      <td>2</td>\n",
       "      <td>1.00</td>\n",
       "      <td>0.00</td>\n",
       "      <td>0.00</td>\n",
       "      <td>770</td>\n",
       "      <td>10000</td>\n",
       "      <td>6.65</td>\n",
       "      <td>7.16</td>\n",
       "      <td>1.00</td>\n",
       "      <td>9.21</td>\n",
       "      <td>4.31</td>\n",
       "      <td>0.00</td>\n",
       "      <td>0.00</td>\n",
       "      <td>3</td>\n",
       "      <td>average</td>\n",
       "      <td>6</td>\n",
       "      <td>770</td>\n",
       "      <td>0</td>\n",
       "      <td>6.65</td>\n",
       "      <td>0</td>\n",
       "      <td>1933</td>\n",
       "      <td>0</td>\n",
       "      <td>0</td>\n",
       "      <td>98028</td>\n",
       "      <td>47.74</td>\n",
       "      <td>-122.23</td>\n",
       "      <td>2720</td>\n",
       "      <td>8062</td>\n",
       "      <td>8.99</td>\n",
       "    </tr>\n",
       "    <tr>\n",
       "      <th>3</th>\n",
       "      <td>2487200875</td>\n",
       "      <td>2014-12-09</td>\n",
       "      <td>604,000.00</td>\n",
       "      <td>13.31</td>\n",
       "      <td>4</td>\n",
       "      <td>4.05</td>\n",
       "      <td>1.39</td>\n",
       "      <td>2.14</td>\n",
       "      <td>490.00</td>\n",
       "      <td>6.19</td>\n",
       "      <td>4</td>\n",
       "      <td>3.00</td>\n",
       "      <td>1.10</td>\n",
       "      <td>1.49</td>\n",
       "      <td>1960</td>\n",
       "      <td>5000</td>\n",
       "      <td>7.58</td>\n",
       "      <td>8.26</td>\n",
       "      <td>1.00</td>\n",
       "      <td>8.52</td>\n",
       "      <td>4.18</td>\n",
       "      <td>0.00</td>\n",
       "      <td>0.00</td>\n",
       "      <td>5</td>\n",
       "      <td>excellent</td>\n",
       "      <td>7</td>\n",
       "      <td>1050</td>\n",
       "      <td>910</td>\n",
       "      <td>6.96</td>\n",
       "      <td>1</td>\n",
       "      <td>1965</td>\n",
       "      <td>0</td>\n",
       "      <td>0</td>\n",
       "      <td>98136</td>\n",
       "      <td>47.52</td>\n",
       "      <td>-122.39</td>\n",
       "      <td>1360</td>\n",
       "      <td>5000</td>\n",
       "      <td>8.52</td>\n",
       "    </tr>\n",
       "    <tr>\n",
       "      <th>4</th>\n",
       "      <td>1954400510</td>\n",
       "      <td>2015-02-18</td>\n",
       "      <td>510,000.00</td>\n",
       "      <td>13.14</td>\n",
       "      <td>3</td>\n",
       "      <td>4.04</td>\n",
       "      <td>1.10</td>\n",
       "      <td>1.54</td>\n",
       "      <td>560.00</td>\n",
       "      <td>6.33</td>\n",
       "      <td>3</td>\n",
       "      <td>2.00</td>\n",
       "      <td>0.69</td>\n",
       "      <td>0.84</td>\n",
       "      <td>1680</td>\n",
       "      <td>8080</td>\n",
       "      <td>7.43</td>\n",
       "      <td>8.07</td>\n",
       "      <td>1.00</td>\n",
       "      <td>9.00</td>\n",
       "      <td>4.27</td>\n",
       "      <td>0.00</td>\n",
       "      <td>0.00</td>\n",
       "      <td>3</td>\n",
       "      <td>average</td>\n",
       "      <td>8</td>\n",
       "      <td>1680</td>\n",
       "      <td>0</td>\n",
       "      <td>7.43</td>\n",
       "      <td>0</td>\n",
       "      <td>1987</td>\n",
       "      <td>0</td>\n",
       "      <td>0</td>\n",
       "      <td>98074</td>\n",
       "      <td>47.62</td>\n",
       "      <td>-122.05</td>\n",
       "      <td>1800</td>\n",
       "      <td>7503</td>\n",
       "      <td>8.92</td>\n",
       "    </tr>\n",
       "  </tbody>\n",
       "</table>\n",
       "</div>"
      ],
      "text/plain": [
       "           id       date      price  price_log  bedrooms  price_box  \\\n",
       "0  7129300520 2014-10-13 221,900.00      12.31         3       4.00   \n",
       "1  6414100192 2014-12-09 538,000.00      13.20         3       4.05   \n",
       "2  5631500400 2015-02-25 180,000.00      12.10         2       3.99   \n",
       "3  2487200875 2014-12-09 604,000.00      13.31         4       4.05   \n",
       "4  1954400510 2015-02-18 510,000.00      13.14         3       4.04   \n",
       "\n",
       "   bedrooms_log  bedrooms_box  sqft_per_bedroom  sqft_per_bedroom_log  \\\n",
       "0          1.10          1.54            393.33                  5.97   \n",
       "1          1.10          1.54            856.67                  6.75   \n",
       "2          0.69          0.85            385.00                  5.95   \n",
       "3          1.39          2.14            490.00                  6.19   \n",
       "4          1.10          1.54            560.00                  6.33   \n",
       "\n",
       "   bedroom_der  bathrooms  bathrooms_log  bathrooms_box  sqft_living  \\\n",
       "0            3       1.00           0.00           0.00         1180   \n",
       "1            3       2.25           0.81           1.02         2570   \n",
       "2            2       1.00           0.00           0.00          770   \n",
       "3            4       3.00           1.10           1.49         1960   \n",
       "4            3       2.00           0.69           0.84         1680   \n",
       "\n",
       "   sqft_lot  sqft_living_log  sqft_living_box  floors  sqft_lot_log  \\\n",
       "0      5650             7.07             7.66    1.00          8.64   \n",
       "1      7242             7.85             8.58    2.00          8.89   \n",
       "2     10000             6.65             7.16    1.00          9.21   \n",
       "3      5000             7.58             8.26    1.00          8.52   \n",
       "4      8080             7.43             8.07    1.00          9.00   \n",
       "\n",
       "   sqft_lot_box  waterfront  view  condition condition_grp  grade  sqft_above  \\\n",
       "0          4.20        0.00  0.00          3       average      7        1180   \n",
       "1          4.25        0.00  0.00          3       average      7        2170   \n",
       "2          4.31        0.00  0.00          3       average      6         770   \n",
       "3          4.18        0.00  0.00          5     excellent      7        1050   \n",
       "4          4.27        0.00  0.00          3       average      8        1680   \n",
       "\n",
       "   sqft_basement  sqft_above_log  basement_ind  yr_built  yr_renovated  \\\n",
       "0              0            7.07             0      1955             0   \n",
       "1            400            7.68             1      1951          1991   \n",
       "2              0            6.65             0      1933             0   \n",
       "3            910            6.96             1      1965             0   \n",
       "4              0            7.43             0      1987             0   \n",
       "\n",
       "   renovation_ind zipcode   lat    long  sqft_living15  sqft_lot15  \\\n",
       "0               0   98178 47.51 -122.26           1340        5650   \n",
       "1               1   98125 47.72 -122.32           1690        7639   \n",
       "2               0   98028 47.74 -122.23           2720        8062   \n",
       "3               0   98136 47.52 -122.39           1360        5000   \n",
       "4               0   98074 47.62 -122.05           1800        7503   \n",
       "\n",
       "   sqft_lot15_log  \n",
       "0            8.64  \n",
       "1            8.94  \n",
       "2            8.99  \n",
       "3            8.52  \n",
       "4            8.92  "
      ]
     },
     "execution_count": 68,
     "metadata": {},
     "output_type": "execute_result"
    }
   ],
   "source": [
    "condition_map = {1: 'poor', 2: 'poor', 3: 'average', 4: 'average', 5: 'excellent'}\n",
    "kc.insert(loc=24, column='condition_grp', value=kc.condition.map(condition_map))\n",
    "kc.head()"
   ]
  },
  {
   "cell_type": "markdown",
   "metadata": {},
   "source": [
    "#### Miles From Seattle"
   ]
  },
  {
   "cell_type": "code",
   "execution_count": 69,
   "metadata": {
    "ExecuteTime": {
     "end_time": "2021-03-11T12:11:13.241648Z",
     "start_time": "2021-03-11T12:11:13.203630Z"
    }
   },
   "outputs": [],
   "source": [
    "# create tuple for each home of latitude and longitudes to feed mileage calculation\n",
    "seattle_coord = tuple([47.608013, -122.335167])\n",
    "kc.insert(loc=36, column='home_lat_long',value = tuple(zip(kc.lat, kc.long)))"
   ]
  },
  {
   "cell_type": "code",
   "execution_count": 70,
   "metadata": {
    "ExecuteTime": {
     "end_time": "2021-03-11T12:11:21.200420Z",
     "start_time": "2021-03-11T12:11:21.119491Z"
    }
   },
   "outputs": [
    {
     "data": {
      "text/html": [
       "<div>\n",
       "<style scoped>\n",
       "    .dataframe tbody tr th:only-of-type {\n",
       "        vertical-align: middle;\n",
       "    }\n",
       "\n",
       "    .dataframe tbody tr th {\n",
       "        vertical-align: top;\n",
       "    }\n",
       "\n",
       "    .dataframe thead th {\n",
       "        text-align: right;\n",
       "    }\n",
       "</style>\n",
       "<table border=\"1\" class=\"dataframe\">\n",
       "  <thead>\n",
       "    <tr style=\"text-align: right;\">\n",
       "      <th></th>\n",
       "      <th>id</th>\n",
       "      <th>date</th>\n",
       "      <th>price</th>\n",
       "      <th>price_log</th>\n",
       "      <th>bedrooms</th>\n",
       "      <th>price_box</th>\n",
       "      <th>bedrooms_log</th>\n",
       "      <th>bedrooms_box</th>\n",
       "      <th>sqft_per_bedroom</th>\n",
       "      <th>sqft_per_bedroom_log</th>\n",
       "      <th>bedroom_der</th>\n",
       "      <th>bathrooms</th>\n",
       "      <th>bathrooms_log</th>\n",
       "      <th>bathrooms_box</th>\n",
       "      <th>sqft_living</th>\n",
       "      <th>sqft_lot</th>\n",
       "      <th>sqft_living_log</th>\n",
       "      <th>sqft_living_box</th>\n",
       "      <th>floors</th>\n",
       "      <th>sqft_lot_log</th>\n",
       "      <th>sqft_lot_box</th>\n",
       "      <th>waterfront</th>\n",
       "      <th>view</th>\n",
       "      <th>condition</th>\n",
       "      <th>condition_grp</th>\n",
       "      <th>grade</th>\n",
       "      <th>sqft_above</th>\n",
       "      <th>sqft_basement</th>\n",
       "      <th>sqft_above_log</th>\n",
       "      <th>basement_ind</th>\n",
       "      <th>yr_built</th>\n",
       "      <th>yr_renovated</th>\n",
       "      <th>renovation_ind</th>\n",
       "      <th>zipcode</th>\n",
       "      <th>lat</th>\n",
       "      <th>long</th>\n",
       "      <th>home_lat_long</th>\n",
       "      <th>sqft_living15</th>\n",
       "      <th>sqft_lot15</th>\n",
       "      <th>sqft_lot15_log</th>\n",
       "      <th>miles_fr_seattle</th>\n",
       "    </tr>\n",
       "  </thead>\n",
       "  <tbody>\n",
       "    <tr>\n",
       "      <th>0</th>\n",
       "      <td>7129300520</td>\n",
       "      <td>2014-10-13</td>\n",
       "      <td>221,900.00</td>\n",
       "      <td>12.31</td>\n",
       "      <td>3</td>\n",
       "      <td>4.00</td>\n",
       "      <td>1.10</td>\n",
       "      <td>1.54</td>\n",
       "      <td>393.33</td>\n",
       "      <td>5.97</td>\n",
       "      <td>3</td>\n",
       "      <td>1.00</td>\n",
       "      <td>0.00</td>\n",
       "      <td>0.00</td>\n",
       "      <td>1180</td>\n",
       "      <td>5650</td>\n",
       "      <td>7.07</td>\n",
       "      <td>7.66</td>\n",
       "      <td>1.00</td>\n",
       "      <td>8.64</td>\n",
       "      <td>4.20</td>\n",
       "      <td>0.00</td>\n",
       "      <td>0.00</td>\n",
       "      <td>3</td>\n",
       "      <td>average</td>\n",
       "      <td>7</td>\n",
       "      <td>1180</td>\n",
       "      <td>0</td>\n",
       "      <td>7.07</td>\n",
       "      <td>0</td>\n",
       "      <td>1955</td>\n",
       "      <td>0</td>\n",
       "      <td>0</td>\n",
       "      <td>98178</td>\n",
       "      <td>47.51</td>\n",
       "      <td>-122.26</td>\n",
       "      <td>(47.5112, -122.257)</td>\n",
       "      <td>1340</td>\n",
       "      <td>5650</td>\n",
       "      <td>8.64</td>\n",
       "      <td>7.62</td>\n",
       "    </tr>\n",
       "    <tr>\n",
       "      <th>1</th>\n",
       "      <td>6414100192</td>\n",
       "      <td>2014-12-09</td>\n",
       "      <td>538,000.00</td>\n",
       "      <td>13.20</td>\n",
       "      <td>3</td>\n",
       "      <td>4.05</td>\n",
       "      <td>1.10</td>\n",
       "      <td>1.54</td>\n",
       "      <td>856.67</td>\n",
       "      <td>6.75</td>\n",
       "      <td>3</td>\n",
       "      <td>2.25</td>\n",
       "      <td>0.81</td>\n",
       "      <td>1.02</td>\n",
       "      <td>2570</td>\n",
       "      <td>7242</td>\n",
       "      <td>7.85</td>\n",
       "      <td>8.58</td>\n",
       "      <td>2.00</td>\n",
       "      <td>8.89</td>\n",
       "      <td>4.25</td>\n",
       "      <td>0.00</td>\n",
       "      <td>0.00</td>\n",
       "      <td>3</td>\n",
       "      <td>average</td>\n",
       "      <td>7</td>\n",
       "      <td>2170</td>\n",
       "      <td>400</td>\n",
       "      <td>7.68</td>\n",
       "      <td>1</td>\n",
       "      <td>1951</td>\n",
       "      <td>1991</td>\n",
       "      <td>1</td>\n",
       "      <td>98125</td>\n",
       "      <td>47.72</td>\n",
       "      <td>-122.32</td>\n",
       "      <td>(47.721000000000004, -122.319)</td>\n",
       "      <td>1690</td>\n",
       "      <td>7639</td>\n",
       "      <td>8.94</td>\n",
       "      <td>7.84</td>\n",
       "    </tr>\n",
       "    <tr>\n",
       "      <th>2</th>\n",
       "      <td>5631500400</td>\n",
       "      <td>2015-02-25</td>\n",
       "      <td>180,000.00</td>\n",
       "      <td>12.10</td>\n",
       "      <td>2</td>\n",
       "      <td>3.99</td>\n",
       "      <td>0.69</td>\n",
       "      <td>0.85</td>\n",
       "      <td>385.00</td>\n",
       "      <td>5.95</td>\n",
       "      <td>2</td>\n",
       "      <td>1.00</td>\n",
       "      <td>0.00</td>\n",
       "      <td>0.00</td>\n",
       "      <td>770</td>\n",
       "      <td>10000</td>\n",
       "      <td>6.65</td>\n",
       "      <td>7.16</td>\n",
       "      <td>1.00</td>\n",
       "      <td>9.21</td>\n",
       "      <td>4.31</td>\n",
       "      <td>0.00</td>\n",
       "      <td>0.00</td>\n",
       "      <td>3</td>\n",
       "      <td>average</td>\n",
       "      <td>6</td>\n",
       "      <td>770</td>\n",
       "      <td>0</td>\n",
       "      <td>6.65</td>\n",
       "      <td>0</td>\n",
       "      <td>1933</td>\n",
       "      <td>0</td>\n",
       "      <td>0</td>\n",
       "      <td>98028</td>\n",
       "      <td>47.74</td>\n",
       "      <td>-122.23</td>\n",
       "      <td>(47.7379, -122.23299999999999)</td>\n",
       "      <td>2720</td>\n",
       "      <td>8062</td>\n",
       "      <td>8.99</td>\n",
       "      <td>10.16</td>\n",
       "    </tr>\n",
       "    <tr>\n",
       "      <th>3</th>\n",
       "      <td>2487200875</td>\n",
       "      <td>2014-12-09</td>\n",
       "      <td>604,000.00</td>\n",
       "      <td>13.31</td>\n",
       "      <td>4</td>\n",
       "      <td>4.05</td>\n",
       "      <td>1.39</td>\n",
       "      <td>2.14</td>\n",
       "      <td>490.00</td>\n",
       "      <td>6.19</td>\n",
       "      <td>4</td>\n",
       "      <td>3.00</td>\n",
       "      <td>1.10</td>\n",
       "      <td>1.49</td>\n",
       "      <td>1960</td>\n",
       "      <td>5000</td>\n",
       "      <td>7.58</td>\n",
       "      <td>8.26</td>\n",
       "      <td>1.00</td>\n",
       "      <td>8.52</td>\n",
       "      <td>4.18</td>\n",
       "      <td>0.00</td>\n",
       "      <td>0.00</td>\n",
       "      <td>5</td>\n",
       "      <td>excellent</td>\n",
       "      <td>7</td>\n",
       "      <td>1050</td>\n",
       "      <td>910</td>\n",
       "      <td>6.96</td>\n",
       "      <td>1</td>\n",
       "      <td>1965</td>\n",
       "      <td>0</td>\n",
       "      <td>0</td>\n",
       "      <td>98136</td>\n",
       "      <td>47.52</td>\n",
       "      <td>-122.39</td>\n",
       "      <td>(47.5208, -122.39299999999999)</td>\n",
       "      <td>1360</td>\n",
       "      <td>5000</td>\n",
       "      <td>8.52</td>\n",
       "      <td>6.60</td>\n",
       "    </tr>\n",
       "    <tr>\n",
       "      <th>4</th>\n",
       "      <td>1954400510</td>\n",
       "      <td>2015-02-18</td>\n",
       "      <td>510,000.00</td>\n",
       "      <td>13.14</td>\n",
       "      <td>3</td>\n",
       "      <td>4.04</td>\n",
       "      <td>1.10</td>\n",
       "      <td>1.54</td>\n",
       "      <td>560.00</td>\n",
       "      <td>6.33</td>\n",
       "      <td>3</td>\n",
       "      <td>2.00</td>\n",
       "      <td>0.69</td>\n",
       "      <td>0.84</td>\n",
       "      <td>1680</td>\n",
       "      <td>8080</td>\n",
       "      <td>7.43</td>\n",
       "      <td>8.07</td>\n",
       "      <td>1.00</td>\n",
       "      <td>9.00</td>\n",
       "      <td>4.27</td>\n",
       "      <td>0.00</td>\n",
       "      <td>0.00</td>\n",
       "      <td>3</td>\n",
       "      <td>average</td>\n",
       "      <td>8</td>\n",
       "      <td>1680</td>\n",
       "      <td>0</td>\n",
       "      <td>7.43</td>\n",
       "      <td>0</td>\n",
       "      <td>1987</td>\n",
       "      <td>0</td>\n",
       "      <td>0</td>\n",
       "      <td>98074</td>\n",
       "      <td>47.62</td>\n",
       "      <td>-122.05</td>\n",
       "      <td>(47.6168, -122.045)</td>\n",
       "      <td>1800</td>\n",
       "      <td>7503</td>\n",
       "      <td>8.92</td>\n",
       "      <td>13.53</td>\n",
       "    </tr>\n",
       "  </tbody>\n",
       "</table>\n",
       "</div>"
      ],
      "text/plain": [
       "           id       date      price  price_log  bedrooms  price_box  \\\n",
       "0  7129300520 2014-10-13 221,900.00      12.31         3       4.00   \n",
       "1  6414100192 2014-12-09 538,000.00      13.20         3       4.05   \n",
       "2  5631500400 2015-02-25 180,000.00      12.10         2       3.99   \n",
       "3  2487200875 2014-12-09 604,000.00      13.31         4       4.05   \n",
       "4  1954400510 2015-02-18 510,000.00      13.14         3       4.04   \n",
       "\n",
       "   bedrooms_log  bedrooms_box  sqft_per_bedroom  sqft_per_bedroom_log  \\\n",
       "0          1.10          1.54            393.33                  5.97   \n",
       "1          1.10          1.54            856.67                  6.75   \n",
       "2          0.69          0.85            385.00                  5.95   \n",
       "3          1.39          2.14            490.00                  6.19   \n",
       "4          1.10          1.54            560.00                  6.33   \n",
       "\n",
       "   bedroom_der  bathrooms  bathrooms_log  bathrooms_box  sqft_living  \\\n",
       "0            3       1.00           0.00           0.00         1180   \n",
       "1            3       2.25           0.81           1.02         2570   \n",
       "2            2       1.00           0.00           0.00          770   \n",
       "3            4       3.00           1.10           1.49         1960   \n",
       "4            3       2.00           0.69           0.84         1680   \n",
       "\n",
       "   sqft_lot  sqft_living_log  sqft_living_box  floors  sqft_lot_log  \\\n",
       "0      5650             7.07             7.66    1.00          8.64   \n",
       "1      7242             7.85             8.58    2.00          8.89   \n",
       "2     10000             6.65             7.16    1.00          9.21   \n",
       "3      5000             7.58             8.26    1.00          8.52   \n",
       "4      8080             7.43             8.07    1.00          9.00   \n",
       "\n",
       "   sqft_lot_box  waterfront  view  condition condition_grp  grade  sqft_above  \\\n",
       "0          4.20        0.00  0.00          3       average      7        1180   \n",
       "1          4.25        0.00  0.00          3       average      7        2170   \n",
       "2          4.31        0.00  0.00          3       average      6         770   \n",
       "3          4.18        0.00  0.00          5     excellent      7        1050   \n",
       "4          4.27        0.00  0.00          3       average      8        1680   \n",
       "\n",
       "   sqft_basement  sqft_above_log  basement_ind  yr_built  yr_renovated  \\\n",
       "0              0            7.07             0      1955             0   \n",
       "1            400            7.68             1      1951          1991   \n",
       "2              0            6.65             0      1933             0   \n",
       "3            910            6.96             1      1965             0   \n",
       "4              0            7.43             0      1987             0   \n",
       "\n",
       "   renovation_ind zipcode   lat    long                   home_lat_long  \\\n",
       "0               0   98178 47.51 -122.26             (47.5112, -122.257)   \n",
       "1               1   98125 47.72 -122.32  (47.721000000000004, -122.319)   \n",
       "2               0   98028 47.74 -122.23  (47.7379, -122.23299999999999)   \n",
       "3               0   98136 47.52 -122.39  (47.5208, -122.39299999999999)   \n",
       "4               0   98074 47.62 -122.05             (47.6168, -122.045)   \n",
       "\n",
       "   sqft_living15  sqft_lot15  sqft_lot15_log  miles_fr_seattle  \n",
       "0           1340        5650            8.64              7.62  \n",
       "1           1690        7639            8.94              7.84  \n",
       "2           2720        8062            8.99             10.16  \n",
       "3           1360        5000            8.52              6.60  \n",
       "4           1800        7503            8.92             13.53  "
      ]
     },
     "execution_count": 70,
     "metadata": {},
     "output_type": "execute_result"
    }
   ],
   "source": [
    "# create feature of miles from city center of Seattle\n",
    "seattle_calc = []\n",
    "for home in kc['home_lat_long']:\n",
    "    seattle_calc.append(haversine(home, seattle_coord, unit='mi'))\n",
    "    \n",
    "kc['miles_fr_seattle'] = pd.Series(seattle_calc)\n",
    "kc.miles_fr_seattle.fillna(kc.miles_fr_seattle.median(), inplace=True)\n",
    "kc.head()"
   ]
  },
  {
   "cell_type": "code",
   "execution_count": 71,
   "metadata": {
    "ExecuteTime": {
     "end_time": "2021-03-11T12:11:49.645141Z",
     "start_time": "2021-03-11T12:11:49.619704Z"
    }
   },
   "outputs": [
    {
     "data": {
      "text/html": [
       "<div>\n",
       "<style scoped>\n",
       "    .dataframe tbody tr th:only-of-type {\n",
       "        vertical-align: middle;\n",
       "    }\n",
       "\n",
       "    .dataframe tbody tr th {\n",
       "        vertical-align: top;\n",
       "    }\n",
       "\n",
       "    .dataframe thead th {\n",
       "        text-align: right;\n",
       "    }\n",
       "</style>\n",
       "<table border=\"1\" class=\"dataframe\">\n",
       "  <thead>\n",
       "    <tr style=\"text-align: right;\">\n",
       "      <th></th>\n",
       "      <th>id</th>\n",
       "      <th>date</th>\n",
       "      <th>price</th>\n",
       "      <th>price_log</th>\n",
       "      <th>bedrooms</th>\n",
       "      <th>price_box</th>\n",
       "      <th>bedrooms_log</th>\n",
       "      <th>bedrooms_box</th>\n",
       "      <th>sqft_per_bedroom</th>\n",
       "      <th>sqft_per_bedroom_log</th>\n",
       "      <th>bedroom_der</th>\n",
       "      <th>bathrooms</th>\n",
       "      <th>bathrooms_log</th>\n",
       "      <th>bathrooms_box</th>\n",
       "      <th>sqft_living</th>\n",
       "      <th>sqft_lot</th>\n",
       "      <th>sqft_living_log</th>\n",
       "      <th>sqft_living_box</th>\n",
       "      <th>floors</th>\n",
       "      <th>sqft_lot_log</th>\n",
       "      <th>sqft_lot_box</th>\n",
       "      <th>waterfront</th>\n",
       "      <th>view</th>\n",
       "      <th>condition</th>\n",
       "      <th>condition_grp</th>\n",
       "      <th>grade</th>\n",
       "      <th>sqft_above</th>\n",
       "      <th>sqft_basement</th>\n",
       "      <th>sqft_above_log</th>\n",
       "      <th>basement_ind</th>\n",
       "      <th>yr_built</th>\n",
       "      <th>yr_renovated</th>\n",
       "      <th>renovation_ind</th>\n",
       "      <th>zipcode</th>\n",
       "      <th>lat</th>\n",
       "      <th>long</th>\n",
       "      <th>home_lat_long</th>\n",
       "      <th>sqft_living15</th>\n",
       "      <th>sqft_lot15</th>\n",
       "      <th>sqft_lot15_log</th>\n",
       "      <th>miles_fr_seattle</th>\n",
       "    </tr>\n",
       "  </thead>\n",
       "  <tbody>\n",
       "  </tbody>\n",
       "</table>\n",
       "</div>"
      ],
      "text/plain": [
       "Empty DataFrame\n",
       "Columns: [id, date, price, price_log, bedrooms, price_box, bedrooms_log, bedrooms_box, sqft_per_bedroom, sqft_per_bedroom_log, bedroom_der, bathrooms, bathrooms_log, bathrooms_box, sqft_living, sqft_lot, sqft_living_log, sqft_living_box, floors, sqft_lot_log, sqft_lot_box, waterfront, view, condition, condition_grp, grade, sqft_above, sqft_basement, sqft_above_log, basement_ind, yr_built, yr_renovated, renovation_ind, zipcode, lat, long, home_lat_long, sqft_living15, sqft_lot15, sqft_lot15_log, miles_fr_seattle]\n",
       "Index: []"
      ]
     },
     "execution_count": 71,
     "metadata": {},
     "output_type": "execute_result"
    }
   ],
   "source": [
    "kc[kc['miles_fr_seattle'].isna()==True].head()"
   ]
  },
  {
   "cell_type": "code",
   "execution_count": null,
   "metadata": {
    "ExecuteTime": {
     "end_time": "2021-03-11T11:19:26.729978Z",
     "start_time": "2021-03-11T11:19:24.803Z"
    }
   },
   "outputs": [],
   "source": [
    "check_normality(kc, 'miles_fr_seattle')"
   ]
  },
  {
   "cell_type": "code",
   "execution_count": 72,
   "metadata": {
    "ExecuteTime": {
     "end_time": "2021-03-11T12:12:05.274065Z",
     "start_time": "2021-03-11T12:12:05.055822Z"
    }
   },
   "outputs": [
    {
     "data": {
      "image/png": "[encoded data removed]",
      "text/plain": [
       "<Figure size 864x288 with 2 Axes>"
      ]
     },
     "metadata": {
      "needs_background": "light"
     },
     "output_type": "display_data"
    },
    {
     "name": "stdout",
     "output_type": "stream",
     "text": [
      "miles_fr_seattle_log skew: -0.5909581116428807\n",
      "miles_fr_seattle_log kurtosis: -0.022811683040730113\n"
     ]
    }
   ],
   "source": [
    "# transform training data & save lambda value \n",
    "create_log(kc, 'miles_fr_seattle', col_pos=37, bins=20)"
   ]
  },
  {
   "cell_type": "code",
   "execution_count": 73,
   "metadata": {
    "ExecuteTime": {
     "end_time": "2021-03-11T12:12:11.451607Z",
     "start_time": "2021-03-11T12:12:11.339579Z"
    }
   },
   "outputs": [
    {
     "name": "stdout",
     "output_type": "stream",
     "text": [
      "miles_fr_seattle_sqrt 4 Std Dev: 7.212433819932752 | Home Counts above this size: 0 | Skew: 0.12991689958589042 | Kurtosis: -0.5808706476636059\n"
     ]
    },
    {
     "data": {
      "image/png": "[encoded data removed]",
      "text/plain": [
       "<Figure size 576x288 with 1 Axes>"
      ]
     },
     "metadata": {
      "needs_background": "light"
     },
     "output_type": "display_data"
    }
   ],
   "source": [
    "kc['miles_fr_seattle_sqrt']=np.sqrt(kc['miles_fr_seattle'])\n",
    "check_normality(kc, 'miles_fr_seattle_sqrt')"
   ]
  },
  {
   "cell_type": "markdown",
   "metadata": {},
   "source": [
    "#### Zip Price Sqft Decile"
   ]
  },
  {
   "cell_type": "code",
   "execution_count": 74,
   "metadata": {
    "ExecuteTime": {
     "end_time": "2021-03-11T12:12:21.426218Z",
     "start_time": "2021-03-11T12:12:21.410985Z"
    }
   },
   "outputs": [],
   "source": [
    "kc['price_sf'] = kc['price']/kc['sqft_living']\n",
    "zip_psf = kc.groupby('zipcode')['price_sf'].median().reset_index()"
   ]
  },
  {
   "cell_type": "code",
   "execution_count": null,
   "metadata": {
    "ExecuteTime": {
     "end_time": "2021-03-11T11:19:26.732827Z",
     "start_time": "2021-03-11T11:19:24.816Z"
    }
   },
   "outputs": [],
   "source": [
    "kc['price_sf'].hist()"
   ]
  },
  {
   "cell_type": "code",
   "execution_count": null,
   "metadata": {
    "ExecuteTime": {
     "end_time": "2021-03-11T11:19:26.733349Z",
     "start_time": "2021-03-11T11:19:24.819Z"
    }
   },
   "outputs": [],
   "source": [
    "zip_psf['price_sf'].hist()"
   ]
  },
  {
   "cell_type": "code",
   "execution_count": null,
   "metadata": {
    "ExecuteTime": {
     "end_time": "2021-03-11T11:19:26.734013Z",
     "start_time": "2021-03-11T11:19:24.821Z"
    }
   },
   "outputs": [],
   "source": [
    "np.log(zip_psf['price_sf']).hist()"
   ]
  },
  {
   "cell_type": "code",
   "execution_count": 75,
   "metadata": {
    "ExecuteTime": {
     "end_time": "2021-03-11T12:12:29.631037Z",
     "start_time": "2021-03-11T12:12:29.620737Z"
    }
   },
   "outputs": [
    {
     "name": "stdout",
     "output_type": "stream",
     "text": [
      "fitted lambda is -0.41015480777301483\n"
     ]
    }
   ],
   "source": [
    "fitted_data, fitted_lambda = stats.boxcox(zip_psf['price_sf'])\n",
    "print(f'fitted lambda is {fitted_lambda}')"
   ]
  },
  {
   "cell_type": "code",
   "execution_count": 76,
   "metadata": {
    "ExecuteTime": {
     "end_time": "2021-03-11T12:12:35.978863Z",
     "start_time": "2021-03-11T12:12:35.959790Z"
    }
   },
   "outputs": [
    {
     "data": {
      "text/html": [
       "<div>\n",
       "<style scoped>\n",
       "    .dataframe tbody tr th:only-of-type {\n",
       "        vertical-align: middle;\n",
       "    }\n",
       "\n",
       "    .dataframe tbody tr th {\n",
       "        vertical-align: top;\n",
       "    }\n",
       "\n",
       "    .dataframe thead th {\n",
       "        text-align: right;\n",
       "    }\n",
       "</style>\n",
       "<table border=\"1\" class=\"dataframe\">\n",
       "  <thead>\n",
       "    <tr style=\"text-align: right;\">\n",
       "      <th></th>\n",
       "      <th>zipcode</th>\n",
       "      <th>price_sf</th>\n",
       "      <th>zip_price_sf_box</th>\n",
       "    </tr>\n",
       "  </thead>\n",
       "  <tbody>\n",
       "    <tr>\n",
       "      <th>0</th>\n",
       "      <td>98001</td>\n",
       "      <td>147.14134463</td>\n",
       "      <td>2.12336857</td>\n",
       "    </tr>\n",
       "    <tr>\n",
       "      <th>1</th>\n",
       "      <td>98002</td>\n",
       "      <td>147.17741935</td>\n",
       "      <td>2.12340021</td>\n",
       "    </tr>\n",
       "    <tr>\n",
       "      <th>2</th>\n",
       "      <td>98003</td>\n",
       "      <td>154.81924571</td>\n",
       "      <td>2.12986667</td>\n",
       "    </tr>\n",
       "    <tr>\n",
       "      <th>3</th>\n",
       "      <td>98004</td>\n",
       "      <td>456.94444444</td>\n",
       "      <td>2.24036295</td>\n",
       "    </tr>\n",
       "    <tr>\n",
       "      <th>4</th>\n",
       "      <td>98005</td>\n",
       "      <td>316.34043088</td>\n",
       "      <td>2.20817059</td>\n",
       "    </tr>\n",
       "  </tbody>\n",
       "</table>\n",
       "</div>"
      ],
      "text/plain": [
       "  zipcode     price_sf  zip_price_sf_box\n",
       "0   98001 147.14134463        2.12336857\n",
       "1   98002 147.17741935        2.12340021\n",
       "2   98003 154.81924571        2.12986667\n",
       "3   98004 456.94444444        2.24036295\n",
       "4   98005 316.34043088        2.20817059"
      ]
     },
     "execution_count": 76,
     "metadata": {},
     "output_type": "execute_result"
    }
   ],
   "source": [
    "box = pd.DataFrame(fitted_data, columns = ['zip_price_sf_box'])\n",
    "zip_psf_box = pd.concat([zip_psf, box], axis=1)\n",
    "pd.options.display.float_format = '{:,.8f}'.format\n",
    "zip_psf_box.head()\n",
    "\n",
    "# scipy.special.inv_boxcox(y, lambda)"
   ]
  },
  {
   "cell_type": "code",
   "execution_count": null,
   "metadata": {
    "ExecuteTime": {
     "end_time": "2021-03-11T11:19:26.735726Z",
     "start_time": "2021-03-11T11:19:24.828Z"
    }
   },
   "outputs": [],
   "source": [
    "check_normality(zip_psf_box, 'zip_price_sf_box', bins=10)"
   ]
  },
  {
   "cell_type": "code",
   "execution_count": 77,
   "metadata": {
    "ExecuteTime": {
     "end_time": "2021-03-11T12:13:44.689484Z",
     "start_time": "2021-03-11T12:13:44.664043Z"
    }
   },
   "outputs": [
    {
     "data": {
      "text/plain": [
       "[{'decile': 1, 'upper_range': 2.131502681750592},\n",
       " {'decile': 2, 'upper_range': 2.1434853039526396},\n",
       " {'decile': 3, 'upper_range': 2.1608433532433304},\n",
       " {'decile': 4, 'upper_range': 2.168390229052141},\n",
       " {'decile': 5, 'upper_range': 2.1817738704687497},\n",
       " {'decile': 6, 'upper_range': 2.1885994360144547},\n",
       " {'decile': 7, 'upper_range': 2.199363148678238},\n",
       " {'decile': 8, 'upper_range': 2.2138002397137817},\n",
       " {'decile': 9, 'upper_range': 2.224337147729981},\n",
       " {'decile': 10, 'upper_range': 2.256872144006299}]"
      ]
     },
     "execution_count": 77,
     "metadata": {},
     "output_type": "execute_result"
    }
   ],
   "source": [
    "# Get the bin edges with retbin\n",
    "results, bins_edges = pd.qcut(zip_psf_box['zip_price_sf_box'], q=10, retbins=True)\n",
    "\n",
    "def create_intervals(array):\n",
    "    ''' Simple function to print the width of each bin from the bin edges in the passed list.'''\n",
    "    interval_dict = {}\n",
    "    zip_psf_deciles = []\n",
    "    for index, edge in enumerate(array):\n",
    "        if index == 0:\n",
    "            continue\n",
    "        interval_dict = {'decile': index, 'upper_range': edge}\n",
    "        zip_psf_deciles.append(interval_dict)\n",
    "    return zip_psf_deciles\n",
    "\n",
    "zip_psf_deciles = create_intervals(bins_edges)\n",
    "zip_psf_deciles"
   ]
  },
  {
   "cell_type": "code",
   "execution_count": 78,
   "metadata": {
    "ExecuteTime": {
     "end_time": "2021-03-11T12:13:47.503454Z",
     "start_time": "2021-03-11T12:13:47.495243Z"
    }
   },
   "outputs": [],
   "source": [
    "# function to return key for any value\n",
    "def map_psf_decile(val):\n",
    "    for d in zip_psf_deciles:\n",
    "        if val <= d['upper_range']:\n",
    "            return d['decile']\n",
    "        elif (d['decile']==10) & (val > d['upper_range']):\n",
    "            return d['decile']\n",
    "    return \"value out of range\""
   ]
  },
  {
   "cell_type": "code",
   "execution_count": 79,
   "metadata": {
    "ExecuteTime": {
     "end_time": "2021-03-11T12:13:53.306498Z",
     "start_time": "2021-03-11T12:13:53.282955Z"
    }
   },
   "outputs": [
    {
     "data": {
      "text/html": [
       "<div>\n",
       "<style scoped>\n",
       "    .dataframe tbody tr th:only-of-type {\n",
       "        vertical-align: middle;\n",
       "    }\n",
       "\n",
       "    .dataframe tbody tr th {\n",
       "        vertical-align: top;\n",
       "    }\n",
       "\n",
       "    .dataframe thead th {\n",
       "        text-align: right;\n",
       "    }\n",
       "</style>\n",
       "<table border=\"1\" class=\"dataframe\">\n",
       "  <thead>\n",
       "    <tr style=\"text-align: right;\">\n",
       "      <th></th>\n",
       "      <th>id</th>\n",
       "      <th>date</th>\n",
       "      <th>price</th>\n",
       "      <th>price_log</th>\n",
       "      <th>bedrooms</th>\n",
       "      <th>price_box</th>\n",
       "      <th>bedrooms_log</th>\n",
       "      <th>bedrooms_box</th>\n",
       "      <th>sqft_per_bedroom</th>\n",
       "      <th>sqft_per_bedroom_log</th>\n",
       "      <th>bedroom_der</th>\n",
       "      <th>bathrooms</th>\n",
       "      <th>bathrooms_log</th>\n",
       "      <th>bathrooms_box</th>\n",
       "      <th>sqft_living</th>\n",
       "      <th>sqft_lot</th>\n",
       "      <th>sqft_living_log</th>\n",
       "      <th>sqft_living_box</th>\n",
       "      <th>floors</th>\n",
       "      <th>sqft_lot_log</th>\n",
       "      <th>sqft_lot_box</th>\n",
       "      <th>waterfront</th>\n",
       "      <th>view</th>\n",
       "      <th>condition</th>\n",
       "      <th>condition_grp</th>\n",
       "      <th>grade</th>\n",
       "      <th>sqft_above</th>\n",
       "      <th>sqft_basement</th>\n",
       "      <th>sqft_above_log</th>\n",
       "      <th>basement_ind</th>\n",
       "      <th>yr_built</th>\n",
       "      <th>yr_renovated</th>\n",
       "      <th>renovation_ind</th>\n",
       "      <th>zipcode</th>\n",
       "      <th>lat</th>\n",
       "      <th>long</th>\n",
       "      <th>home_lat_long</th>\n",
       "      <th>miles_fr_seattle_log</th>\n",
       "      <th>sqft_living15</th>\n",
       "      <th>sqft_lot15</th>\n",
       "      <th>sqft_lot15_log</th>\n",
       "      <th>miles_fr_seattle</th>\n",
       "      <th>miles_fr_seattle_sqrt</th>\n",
       "      <th>price_sf</th>\n",
       "    </tr>\n",
       "  </thead>\n",
       "  <tbody>\n",
       "  </tbody>\n",
       "</table>\n",
       "</div>"
      ],
      "text/plain": [
       "Empty DataFrame\n",
       "Columns: [id, date, price, price_log, bedrooms, price_box, bedrooms_log, bedrooms_box, sqft_per_bedroom, sqft_per_bedroom_log, bedroom_der, bathrooms, bathrooms_log, bathrooms_box, sqft_living, sqft_lot, sqft_living_log, sqft_living_box, floors, sqft_lot_log, sqft_lot_box, waterfront, view, condition, condition_grp, grade, sqft_above, sqft_basement, sqft_above_log, basement_ind, yr_built, yr_renovated, renovation_ind, zipcode, lat, long, home_lat_long, miles_fr_seattle_log, sqft_living15, sqft_lot15, sqft_lot15_log, miles_fr_seattle, miles_fr_seattle_sqrt, price_sf]\n",
       "Index: []"
      ]
     },
     "execution_count": 79,
     "metadata": {},
     "output_type": "execute_result"
    }
   ],
   "source": [
    "kc[kc['price_sf'].isna()==True]\n",
    "# kc.iloc[15856:15857]"
   ]
  },
  {
   "cell_type": "code",
   "execution_count": 80,
   "metadata": {
    "ExecuteTime": {
     "end_time": "2021-03-11T12:14:55.473881Z",
     "start_time": "2021-03-11T12:14:55.467775Z"
    }
   },
   "outputs": [],
   "source": [
    "fit_price_sf = stats.boxcox(kc['price_sf'], fitted_lambda)\n",
    "box_kc = pd.DataFrame(fit_price_sf, columns = ['price_sf_box'])"
   ]
  },
  {
   "cell_type": "code",
   "execution_count": 87,
   "metadata": {
    "ExecuteTime": {
     "end_time": "2021-03-11T12:20:58.435056Z",
     "start_time": "2021-03-11T12:20:58.427057Z"
    }
   },
   "outputs": [
    {
     "data": {
      "text/plain": [
       "(21596, 21596, 21597)"
      ]
     },
     "execution_count": 87,
     "metadata": {},
     "output_type": "execute_result"
    }
   ],
   "source": [
    "len(fit_price_sf), len(box_kc), len(kc)"
   ]
  },
  {
   "cell_type": "code",
   "execution_count": 82,
   "metadata": {
    "ExecuteTime": {
     "end_time": "2021-03-11T12:15:59.403670Z",
     "start_time": "2021-03-11T12:15:59.353780Z"
    }
   },
   "outputs": [
    {
     "data": {
      "text/html": [
       "<div>\n",
       "<style scoped>\n",
       "    .dataframe tbody tr th:only-of-type {\n",
       "        vertical-align: middle;\n",
       "    }\n",
       "\n",
       "    .dataframe tbody tr th {\n",
       "        vertical-align: top;\n",
       "    }\n",
       "\n",
       "    .dataframe thead th {\n",
       "        text-align: right;\n",
       "    }\n",
       "</style>\n",
       "<table border=\"1\" class=\"dataframe\">\n",
       "  <thead>\n",
       "    <tr style=\"text-align: right;\">\n",
       "      <th></th>\n",
       "      <th>id</th>\n",
       "      <th>date</th>\n",
       "      <th>price</th>\n",
       "      <th>price_log</th>\n",
       "      <th>bedrooms</th>\n",
       "      <th>price_box</th>\n",
       "      <th>bedrooms_log</th>\n",
       "      <th>bedrooms_box</th>\n",
       "      <th>sqft_per_bedroom</th>\n",
       "      <th>sqft_per_bedroom_log</th>\n",
       "      <th>bedroom_der</th>\n",
       "      <th>bathrooms</th>\n",
       "      <th>bathrooms_log</th>\n",
       "      <th>bathrooms_box</th>\n",
       "      <th>sqft_living</th>\n",
       "      <th>sqft_lot</th>\n",
       "      <th>sqft_living_log</th>\n",
       "      <th>sqft_living_box</th>\n",
       "      <th>floors</th>\n",
       "      <th>sqft_lot_log</th>\n",
       "      <th>sqft_lot_box</th>\n",
       "      <th>waterfront</th>\n",
       "      <th>view</th>\n",
       "      <th>condition</th>\n",
       "      <th>condition_grp</th>\n",
       "      <th>grade</th>\n",
       "      <th>sqft_above</th>\n",
       "      <th>sqft_basement</th>\n",
       "      <th>sqft_above_log</th>\n",
       "      <th>basement_ind</th>\n",
       "      <th>yr_built</th>\n",
       "      <th>yr_renovated</th>\n",
       "      <th>renovation_ind</th>\n",
       "      <th>zipcode</th>\n",
       "      <th>lat</th>\n",
       "      <th>long</th>\n",
       "      <th>home_lat_long</th>\n",
       "      <th>miles_fr_seattle_log</th>\n",
       "      <th>sqft_living15</th>\n",
       "      <th>sqft_lot15</th>\n",
       "      <th>sqft_lot15_log</th>\n",
       "      <th>miles_fr_seattle</th>\n",
       "      <th>miles_fr_seattle_sqrt</th>\n",
       "      <th>price_sf</th>\n",
       "      <th>price_sf_box</th>\n",
       "    </tr>\n",
       "  </thead>\n",
       "  <tbody>\n",
       "    <tr>\n",
       "      <th>21596</th>\n",
       "      <td>1,523,300,157.00000000</td>\n",
       "      <td>2014-10-15</td>\n",
       "      <td>325,000.00000000</td>\n",
       "      <td>12.69158046</td>\n",
       "      <td>2.00000000</td>\n",
       "      <td>4.03872181</td>\n",
       "      <td>0.69314718</td>\n",
       "      <td>1.54151148</td>\n",
       "      <td>510.00000000</td>\n",
       "      <td>6.23441073</td>\n",
       "      <td>2.00000000</td>\n",
       "      <td>0.75000000</td>\n",
       "      <td>-0.28768207</td>\n",
       "      <td>1.01512581</td>\n",
       "      <td>1,020.00000000</td>\n",
       "      <td>1,076.00000000</td>\n",
       "      <td>6.92755791</td>\n",
       "      <td>8.22587403</td>\n",
       "      <td>2.00000000</td>\n",
       "      <td>6.98100574</td>\n",
       "      <td>nan</td>\n",
       "      <td>0.00000000</td>\n",
       "      <td>0.00000000</td>\n",
       "      <td>3.00000000</td>\n",
       "      <td>average</td>\n",
       "      <td>7.00000000</td>\n",
       "      <td>1,020.00000000</td>\n",
       "      <td>0.00000000</td>\n",
       "      <td>6.92755791</td>\n",
       "      <td>0.00000000</td>\n",
       "      <td>2,008.00000000</td>\n",
       "      <td>0.00000000</td>\n",
       "      <td>0.00000000</td>\n",
       "      <td>98144</td>\n",
       "      <td>47.59410000</td>\n",
       "      <td>-122.29900000</td>\n",
       "      <td>(47.5941, -122.29899999999999)</td>\n",
       "      <td>2.33441902</td>\n",
       "      <td>1,020.00000000</td>\n",
       "      <td>1,357.00000000</td>\n",
       "      <td>7.21303166</td>\n",
       "      <td>10.32346046</td>\n",
       "      <td>3.21301423</td>\n",
       "      <td>318.62745098</td>\n",
       "      <td>nan</td>\n",
       "    </tr>\n",
       "  </tbody>\n",
       "</table>\n",
       "</div>"
      ],
      "text/plain": [
       "                          id       date            price   price_log  \\\n",
       "21596 1,523,300,157.00000000 2014-10-15 325,000.00000000 12.69158046   \n",
       "\n",
       "        bedrooms  price_box  bedrooms_log  bedrooms_box  sqft_per_bedroom  \\\n",
       "21596 2.00000000 4.03872181    0.69314718    1.54151148      510.00000000   \n",
       "\n",
       "       sqft_per_bedroom_log  bedroom_der  bathrooms  bathrooms_log  \\\n",
       "21596            6.23441073   2.00000000 0.75000000    -0.28768207   \n",
       "\n",
       "       bathrooms_box    sqft_living       sqft_lot  sqft_living_log  \\\n",
       "21596     1.01512581 1,020.00000000 1,076.00000000       6.92755791   \n",
       "\n",
       "       sqft_living_box     floors  sqft_lot_log  sqft_lot_box  waterfront  \\\n",
       "21596       8.22587403 2.00000000    6.98100574           nan  0.00000000   \n",
       "\n",
       "            view  condition condition_grp      grade     sqft_above  \\\n",
       "21596 0.00000000 3.00000000       average 7.00000000 1,020.00000000   \n",
       "\n",
       "       sqft_basement  sqft_above_log  basement_ind       yr_built  \\\n",
       "21596     0.00000000      6.92755791    0.00000000 2,008.00000000   \n",
       "\n",
       "       yr_renovated  renovation_ind zipcode         lat          long  \\\n",
       "21596    0.00000000      0.00000000   98144 47.59410000 -122.29900000   \n",
       "\n",
       "                        home_lat_long  miles_fr_seattle_log  sqft_living15  \\\n",
       "21596  (47.5941, -122.29899999999999)            2.33441902 1,020.00000000   \n",
       "\n",
       "          sqft_lot15  sqft_lot15_log  miles_fr_seattle  miles_fr_seattle_sqrt  \\\n",
       "21596 1,357.00000000      7.21303166       10.32346046             3.21301423   \n",
       "\n",
       "          price_sf  price_sf_box  \n",
       "21596 318.62745098           nan  "
      ]
     },
     "execution_count": 82,
     "metadata": {},
     "output_type": "execute_result"
    }
   ],
   "source": [
    "kc = pd.concat([kc, box_kc], axis=1)\n",
    "kc.tail(1)"
   ]
  },
  {
   "cell_type": "code",
   "execution_count": 84,
   "metadata": {
    "ExecuteTime": {
     "end_time": "2021-03-11T12:16:41.511032Z",
     "start_time": "2021-03-11T12:16:41.458723Z"
    }
   },
   "outputs": [],
   "source": [
    "box_fillna(kc, 'price_sf_box')"
   ]
  },
  {
   "cell_type": "code",
   "execution_count": 91,
   "metadata": {
    "ExecuteTime": {
     "end_time": "2021-03-11T12:22:38.251011Z",
     "start_time": "2021-03-11T12:22:38.219291Z"
    }
   },
   "outputs": [
    {
     "data": {
      "text/html": [
       "<div>\n",
       "<style scoped>\n",
       "    .dataframe tbody tr th:only-of-type {\n",
       "        vertical-align: middle;\n",
       "    }\n",
       "\n",
       "    .dataframe tbody tr th {\n",
       "        vertical-align: top;\n",
       "    }\n",
       "\n",
       "    .dataframe thead th {\n",
       "        text-align: right;\n",
       "    }\n",
       "</style>\n",
       "<table border=\"1\" class=\"dataframe\">\n",
       "  <thead>\n",
       "    <tr style=\"text-align: right;\">\n",
       "      <th></th>\n",
       "      <th>id</th>\n",
       "      <th>date</th>\n",
       "      <th>price</th>\n",
       "      <th>price_log</th>\n",
       "      <th>bedrooms</th>\n",
       "      <th>price_box</th>\n",
       "      <th>bedrooms_log</th>\n",
       "      <th>bedrooms_box</th>\n",
       "      <th>sqft_per_bedroom</th>\n",
       "      <th>sqft_per_bedroom_log</th>\n",
       "      <th>bedroom_der</th>\n",
       "      <th>bathrooms</th>\n",
       "      <th>bathrooms_log</th>\n",
       "      <th>bathrooms_box</th>\n",
       "      <th>sqft_living</th>\n",
       "      <th>sqft_lot</th>\n",
       "      <th>sqft_living_log</th>\n",
       "      <th>sqft_living_box</th>\n",
       "      <th>floors</th>\n",
       "      <th>sqft_lot_log</th>\n",
       "      <th>sqft_lot_box</th>\n",
       "      <th>waterfront</th>\n",
       "      <th>view</th>\n",
       "      <th>condition</th>\n",
       "      <th>condition_grp</th>\n",
       "      <th>grade</th>\n",
       "      <th>sqft_above</th>\n",
       "      <th>sqft_basement</th>\n",
       "      <th>sqft_above_log</th>\n",
       "      <th>basement_ind</th>\n",
       "      <th>yr_built</th>\n",
       "      <th>yr_renovated</th>\n",
       "      <th>renovation_ind</th>\n",
       "      <th>zipcode</th>\n",
       "      <th>lat</th>\n",
       "      <th>long</th>\n",
       "      <th>home_lat_long</th>\n",
       "      <th>miles_fr_seattle_log</th>\n",
       "      <th>sqft_living15</th>\n",
       "      <th>sqft_lot15</th>\n",
       "      <th>sqft_lot15_log</th>\n",
       "      <th>miles_fr_seattle</th>\n",
       "      <th>miles_fr_seattle_sqrt</th>\n",
       "      <th>price_sf</th>\n",
       "      <th>price_sf_box</th>\n",
       "    </tr>\n",
       "  </thead>\n",
       "  <tbody>\n",
       "    <tr>\n",
       "      <th>15856</th>\n",
       "      <td>nan</td>\n",
       "      <td>NaT</td>\n",
       "      <td>nan</td>\n",
       "      <td>nan</td>\n",
       "      <td>nan</td>\n",
       "      <td>nan</td>\n",
       "      <td>nan</td>\n",
       "      <td>nan</td>\n",
       "      <td>nan</td>\n",
       "      <td>nan</td>\n",
       "      <td>nan</td>\n",
       "      <td>nan</td>\n",
       "      <td>nan</td>\n",
       "      <td>nan</td>\n",
       "      <td>nan</td>\n",
       "      <td>nan</td>\n",
       "      <td>nan</td>\n",
       "      <td>nan</td>\n",
       "      <td>nan</td>\n",
       "      <td>nan</td>\n",
       "      <td>nan</td>\n",
       "      <td>nan</td>\n",
       "      <td>nan</td>\n",
       "      <td>nan</td>\n",
       "      <td>NaN</td>\n",
       "      <td>nan</td>\n",
       "      <td>nan</td>\n",
       "      <td>nan</td>\n",
       "      <td>nan</td>\n",
       "      <td>nan</td>\n",
       "      <td>nan</td>\n",
       "      <td>nan</td>\n",
       "      <td>nan</td>\n",
       "      <td>NaN</td>\n",
       "      <td>nan</td>\n",
       "      <td>nan</td>\n",
       "      <td>NaN</td>\n",
       "      <td>nan</td>\n",
       "      <td>nan</td>\n",
       "      <td>nan</td>\n",
       "      <td>nan</td>\n",
       "      <td>nan</td>\n",
       "      <td>nan</td>\n",
       "      <td>nan</td>\n",
       "      <td>2.12695927</td>\n",
       "    </tr>\n",
       "  </tbody>\n",
       "</table>\n",
       "</div>"
      ],
      "text/plain": [
       "       id date  price  price_log  bedrooms  price_box  bedrooms_log  \\\n",
       "15856 nan  NaT    nan        nan       nan        nan           nan   \n",
       "\n",
       "       bedrooms_box  sqft_per_bedroom  sqft_per_bedroom_log  bedroom_der  \\\n",
       "15856           nan               nan                   nan          nan   \n",
       "\n",
       "       bathrooms  bathrooms_log  bathrooms_box  sqft_living  sqft_lot  \\\n",
       "15856        nan            nan            nan          nan       nan   \n",
       "\n",
       "       sqft_living_log  sqft_living_box  floors  sqft_lot_log  sqft_lot_box  \\\n",
       "15856              nan              nan     nan           nan           nan   \n",
       "\n",
       "       waterfront  view  condition condition_grp  grade  sqft_above  \\\n",
       "15856         nan   nan        nan           NaN    nan         nan   \n",
       "\n",
       "       sqft_basement  sqft_above_log  basement_ind  yr_built  yr_renovated  \\\n",
       "15856            nan             nan           nan       nan           nan   \n",
       "\n",
       "       renovation_ind zipcode  lat  long home_lat_long  miles_fr_seattle_log  \\\n",
       "15856             nan     NaN  nan   nan           NaN                   nan   \n",
       "\n",
       "       sqft_living15  sqft_lot15  sqft_lot15_log  miles_fr_seattle  \\\n",
       "15856            nan         nan             nan               nan   \n",
       "\n",
       "       miles_fr_seattle_sqrt  price_sf  price_sf_box  \n",
       "15856                    nan       nan    2.12695927  "
      ]
     },
     "execution_count": 91,
     "metadata": {},
     "output_type": "execute_result"
    }
   ],
   "source": [
    "kc.iloc[15856:15857]"
   ]
  },
  {
   "cell_type": "code",
   "execution_count": 92,
   "metadata": {
    "ExecuteTime": {
     "end_time": "2021-03-11T12:22:44.879315Z",
     "start_time": "2021-03-11T12:22:44.854703Z"
    }
   },
   "outputs": [],
   "source": [
    "# record index 15856, dropped in outliers section keeps reappearing when running this code:\n",
    "# kc = pd.concat([kc, box_kc], axis=1); somehow the concatenation is bring back this index with all nans.  \n",
    "kc.drop([15856], inplace=True)"
   ]
  },
  {
   "cell_type": "code",
   "execution_count": 93,
   "metadata": {
    "ExecuteTime": {
     "end_time": "2021-03-11T12:22:49.461673Z",
     "start_time": "2021-03-11T12:22:49.291152Z"
    }
   },
   "outputs": [],
   "source": [
    "kc['price_sf_box_decile'] = kc['price_sf_box'].apply(lambda x: map_psf_decile(x)).astype(int)"
   ]
  },
  {
   "cell_type": "code",
   "execution_count": 97,
   "metadata": {
    "ExecuteTime": {
     "end_time": "2021-03-11T12:24:10.759733Z",
     "start_time": "2021-03-11T12:24:10.729978Z"
    }
   },
   "outputs": [
    {
     "data": {
      "text/html": [
       "<div>\n",
       "<style scoped>\n",
       "    .dataframe tbody tr th:only-of-type {\n",
       "        vertical-align: middle;\n",
       "    }\n",
       "\n",
       "    .dataframe tbody tr th {\n",
       "        vertical-align: top;\n",
       "    }\n",
       "\n",
       "    .dataframe thead th {\n",
       "        text-align: right;\n",
       "    }\n",
       "</style>\n",
       "<table border=\"1\" class=\"dataframe\">\n",
       "  <thead>\n",
       "    <tr style=\"text-align: right;\">\n",
       "      <th></th>\n",
       "      <th>id</th>\n",
       "      <th>date</th>\n",
       "      <th>price</th>\n",
       "      <th>price_log</th>\n",
       "      <th>bedrooms</th>\n",
       "      <th>price_box</th>\n",
       "      <th>bedrooms_log</th>\n",
       "      <th>bedrooms_box</th>\n",
       "      <th>sqft_per_bedroom</th>\n",
       "      <th>sqft_per_bedroom_log</th>\n",
       "      <th>bedroom_der</th>\n",
       "      <th>bathrooms</th>\n",
       "      <th>bathrooms_log</th>\n",
       "      <th>bathrooms_box</th>\n",
       "      <th>sqft_living</th>\n",
       "      <th>sqft_lot</th>\n",
       "      <th>sqft_living_log</th>\n",
       "      <th>sqft_living_box</th>\n",
       "      <th>floors</th>\n",
       "      <th>sqft_lot_log</th>\n",
       "      <th>sqft_lot_box</th>\n",
       "      <th>waterfront</th>\n",
       "      <th>view</th>\n",
       "      <th>condition</th>\n",
       "      <th>condition_grp</th>\n",
       "      <th>grade</th>\n",
       "      <th>sqft_above</th>\n",
       "      <th>sqft_basement</th>\n",
       "      <th>sqft_above_log</th>\n",
       "      <th>basement_ind</th>\n",
       "      <th>yr_built</th>\n",
       "      <th>yr_renovated</th>\n",
       "      <th>renovation_ind</th>\n",
       "      <th>zipcode</th>\n",
       "      <th>lat</th>\n",
       "      <th>long</th>\n",
       "      <th>home_lat_long</th>\n",
       "      <th>miles_fr_seattle_log</th>\n",
       "      <th>sqft_living15</th>\n",
       "      <th>sqft_lot15</th>\n",
       "      <th>sqft_lot15_log</th>\n",
       "      <th>miles_fr_seattle</th>\n",
       "      <th>miles_fr_seattle_sqrt</th>\n",
       "      <th>price_sf</th>\n",
       "      <th>price_sf_box</th>\n",
       "      <th>price_sf_box_decile</th>\n",
       "    </tr>\n",
       "  </thead>\n",
       "  <tbody>\n",
       "    <tr>\n",
       "      <th>21596</th>\n",
       "      <td>1,523,300,157.00000000</td>\n",
       "      <td>2014-10-15</td>\n",
       "      <td>325,000.00000000</td>\n",
       "      <td>12.69158046</td>\n",
       "      <td>2.00000000</td>\n",
       "      <td>4.03872181</td>\n",
       "      <td>0.69314718</td>\n",
       "      <td>1.54151148</td>\n",
       "      <td>510.00000000</td>\n",
       "      <td>6.23441073</td>\n",
       "      <td>2.00000000</td>\n",
       "      <td>0.75000000</td>\n",
       "      <td>-0.28768207</td>\n",
       "      <td>1.01512581</td>\n",
       "      <td>1,020.00000000</td>\n",
       "      <td>1,076.00000000</td>\n",
       "      <td>6.92755791</td>\n",
       "      <td>8.22587403</td>\n",
       "      <td>2.00000000</td>\n",
       "      <td>6.98100574</td>\n",
       "      <td>nan</td>\n",
       "      <td>0.00000000</td>\n",
       "      <td>0.00000000</td>\n",
       "      <td>3.00000000</td>\n",
       "      <td>average</td>\n",
       "      <td>7.00000000</td>\n",
       "      <td>1,020.00000000</td>\n",
       "      <td>0.00000000</td>\n",
       "      <td>6.92755791</td>\n",
       "      <td>0.00000000</td>\n",
       "      <td>2,008.00000000</td>\n",
       "      <td>0.00000000</td>\n",
       "      <td>0.00000000</td>\n",
       "      <td>98144</td>\n",
       "      <td>47.59410000</td>\n",
       "      <td>-122.29900000</td>\n",
       "      <td>(47.5941, -122.29899999999999)</td>\n",
       "      <td>2.33441902</td>\n",
       "      <td>1,020.00000000</td>\n",
       "      <td>1,357.00000000</td>\n",
       "      <td>7.21303166</td>\n",
       "      <td>10.32346046</td>\n",
       "      <td>3.21301423</td>\n",
       "      <td>318.62745098</td>\n",
       "      <td>2.18260094</td>\n",
       "      <td>6</td>\n",
       "    </tr>\n",
       "  </tbody>\n",
       "</table>\n",
       "</div>"
      ],
      "text/plain": [
       "                          id       date            price   price_log  \\\n",
       "21596 1,523,300,157.00000000 2014-10-15 325,000.00000000 12.69158046   \n",
       "\n",
       "        bedrooms  price_box  bedrooms_log  bedrooms_box  sqft_per_bedroom  \\\n",
       "21596 2.00000000 4.03872181    0.69314718    1.54151148      510.00000000   \n",
       "\n",
       "       sqft_per_bedroom_log  bedroom_der  bathrooms  bathrooms_log  \\\n",
       "21596            6.23441073   2.00000000 0.75000000    -0.28768207   \n",
       "\n",
       "       bathrooms_box    sqft_living       sqft_lot  sqft_living_log  \\\n",
       "21596     1.01512581 1,020.00000000 1,076.00000000       6.92755791   \n",
       "\n",
       "       sqft_living_box     floors  sqft_lot_log  sqft_lot_box  waterfront  \\\n",
       "21596       8.22587403 2.00000000    6.98100574           nan  0.00000000   \n",
       "\n",
       "            view  condition condition_grp      grade     sqft_above  \\\n",
       "21596 0.00000000 3.00000000       average 7.00000000 1,020.00000000   \n",
       "\n",
       "       sqft_basement  sqft_above_log  basement_ind       yr_built  \\\n",
       "21596     0.00000000      6.92755791    0.00000000 2,008.00000000   \n",
       "\n",
       "       yr_renovated  renovation_ind zipcode         lat          long  \\\n",
       "21596    0.00000000      0.00000000   98144 47.59410000 -122.29900000   \n",
       "\n",
       "                        home_lat_long  miles_fr_seattle_log  sqft_living15  \\\n",
       "21596  (47.5941, -122.29899999999999)            2.33441902 1,020.00000000   \n",
       "\n",
       "          sqft_lot15  sqft_lot15_log  miles_fr_seattle  miles_fr_seattle_sqrt  \\\n",
       "21596 1,357.00000000      7.21303166       10.32346046             3.21301423   \n",
       "\n",
       "          price_sf  price_sf_box  price_sf_box_decile  \n",
       "21596 318.62745098    2.18260094                    6  "
      ]
     },
     "execution_count": 97,
     "metadata": {},
     "output_type": "execute_result"
    }
   ],
   "source": [
    "# check for duplicate columns from running multiple times\n",
    "kc.tail(1)"
   ]
  },
  {
   "cell_type": "code",
   "execution_count": null,
   "metadata": {
    "ExecuteTime": {
     "end_time": "2021-03-11T11:19:26.740367Z",
     "start_time": "2021-03-11T11:19:24.847Z"
    }
   },
   "outputs": [],
   "source": [
    "# kc.drop(columns=['price_sf_box'], axis=1, inplace=True)"
   ]
  },
  {
   "cell_type": "code",
   "execution_count": 98,
   "metadata": {
    "ExecuteTime": {
     "end_time": "2021-03-11T12:24:20.053610Z",
     "start_time": "2021-03-11T12:24:20.040490Z"
    }
   },
   "outputs": [
    {
     "data": {
      "text/plain": [
       "price_sf_box_decile\n",
       "1    143.54066986\n",
       "2    167.10201651\n",
       "3    188.29268293\n",
       "4    208.10810811\n",
       "5    229.11740159\n",
       "6    250.00000000\n",
       "7    272.30046948\n",
       "8    306.16681072\n",
       "9    350.82236842\n",
       "10   417.35537190\n",
       "Name: price_sf, dtype: float64"
      ]
     },
     "execution_count": 98,
     "metadata": {},
     "output_type": "execute_result"
    }
   ],
   "source": [
    "kc.groupby('price_sf_box_decile')['price_sf'].median()"
   ]
  },
  {
   "cell_type": "code",
   "execution_count": 99,
   "metadata": {
    "ExecuteTime": {
     "end_time": "2021-03-11T12:24:26.606859Z",
     "start_time": "2021-03-11T12:24:26.499490Z"
    }
   },
   "outputs": [
    {
     "name": "stdout",
     "output_type": "stream",
     "text": [
      "price_sf_box 4 Std Dev: 2.3455369341160752 | Home Counts above this size: 0 | Skew: -0.2585338862647854 | Kurtosis: -0.29294699462834517\n"
     ]
    },
    {
     "data": {
      "image/png": "[encoded data removed]",
      "text/plain": [
       "<Figure size 576x288 with 1 Axes>"
      ]
     },
     "metadata": {
      "needs_background": "light"
     },
     "output_type": "display_data"
    }
   ],
   "source": [
    "check_normality(kc, 'price_sf_box')"
   ]
  },
  {
   "cell_type": "code",
   "execution_count": 100,
   "metadata": {
    "ExecuteTime": {
     "end_time": "2021-03-11T12:24:30.962179Z",
     "start_time": "2021-03-11T12:24:30.856746Z"
    }
   },
   "outputs": [
    {
     "name": "stdout",
     "output_type": "stream",
     "text": [
      "price_sf 4 Std Dev: 616.2264312072768 | Home Counts above this size: 0 | Skew: 0.9731375539795851 | Kurtosis: 0.83652013622229\n"
     ]
    },
    {
     "data": {
      "image/png": "[encoded data removed]",
      "text/plain": [
       "<Figure size 576x288 with 1 Axes>"
      ]
     },
     "metadata": {
      "needs_background": "light"
     },
     "output_type": "display_data"
    }
   ],
   "source": [
    "check_normality(zip_psf_box, 'price_sf')"
   ]
  },
  {
   "cell_type": "code",
   "execution_count": 101,
   "metadata": {
    "ExecuteTime": {
     "end_time": "2021-03-11T12:24:42.211311Z",
     "start_time": "2021-03-11T12:24:42.092694Z"
    }
   },
   "outputs": [
    {
     "name": "stdout",
     "output_type": "stream",
     "text": [
      "zip_price_sf_box 4 Std Dev: 2.3181398805616467 | Home Counts above this size: 0 | Skew: 0.04165867960961311 | Kurtosis: -0.8938377485526492\n"
     ]
    },
    {
     "data": {
      "image/png": "[encoded data removed]",
      "text/plain": [
       "<Figure size 576x288 with 1 Axes>"
      ]
     },
     "metadata": {
      "needs_background": "light"
     },
     "output_type": "display_data"
    }
   ],
   "source": [
    "check_normality(zip_psf_box, 'zip_price_sf_box')"
   ]
  },
  {
   "cell_type": "code",
   "execution_count": 102,
   "metadata": {
    "ExecuteTime": {
     "end_time": "2021-03-11T12:24:44.246699Z",
     "start_time": "2021-03-11T12:24:44.136422Z"
    }
   },
   "outputs": [
    {
     "name": "stdout",
     "output_type": "stream",
     "text": [
      "price_sf_box_decile 4 Std Dev: 17.750301584014835 | Home Counts above this size: 0 | Skew: -0.07110207640085976 | Kurtosis: -1.297031875548991\n"
     ]
    },
    {
     "data": {
      "image/png": "[encoded data removed]",
      "text/plain": [
       "<Figure size 576x288 with 1 Axes>"
      ]
     },
     "metadata": {
      "needs_background": "light"
     },
     "output_type": "display_data"
    }
   ],
   "source": [
    "check_normality(kc, 'price_sf_box_decile')"
   ]
  },
  {
   "cell_type": "markdown",
   "metadata": {},
   "source": [
    "#### Zip Price Sqft Decile 2"
   ]
  },
  {
   "cell_type": "code",
   "execution_count": 103,
   "metadata": {
    "ExecuteTime": {
     "end_time": "2021-03-11T12:24:50.586832Z",
     "start_time": "2021-03-11T12:24:50.469879Z"
    }
   },
   "outputs": [
    {
     "name": "stdout",
     "output_type": "stream",
     "text": [
      "price_sf 4 Std Dev: 704.1333051746667 | Home Counts above this size: 76 | Skew: 1.2471022617551608 | Kurtosis: 2.0999301666916343\n"
     ]
    },
    {
     "data": {
      "image/png": "[encoded data removed]",
      "text/plain": [
       "<Figure size 576x288 with 1 Axes>"
      ]
     },
     "metadata": {
      "needs_background": "light"
     },
     "output_type": "display_data"
    }
   ],
   "source": [
    "check_normality(kc, 'price_sf')"
   ]
  },
  {
   "cell_type": "code",
   "execution_count": null,
   "metadata": {
    "ExecuteTime": {
     "end_time": "2021-03-11T11:19:26.745058Z",
     "start_time": "2021-03-11T11:19:24.867Z"
    }
   },
   "outputs": [],
   "source": [
    "kc.head()"
   ]
  },
  {
   "cell_type": "code",
   "execution_count": 104,
   "metadata": {
    "ExecuteTime": {
     "end_time": "2021-03-11T12:24:54.883704Z",
     "start_time": "2021-03-11T12:24:54.697619Z"
    }
   },
   "outputs": [
    {
     "data": {
      "image/png": "[encoded data removed]",
      "text/plain": [
       "<Figure size 864x288 with 2 Axes>"
      ]
     },
     "metadata": {
      "needs_background": "light"
     },
     "output_type": "display_data"
    },
    {
     "name": "stdout",
     "output_type": "stream",
     "text": [
      "price_sf_log skew: 0.1405260365890009\n",
      "price_sf_log kurtosis: -0.2951939509791961\n"
     ]
    }
   ],
   "source": [
    "create_log(kc, 'price_sf')"
   ]
  },
  {
   "cell_type": "code",
   "execution_count": 105,
   "metadata": {
    "ExecuteTime": {
     "end_time": "2021-03-11T12:24:59.953413Z",
     "start_time": "2021-03-11T12:24:59.939002Z"
    }
   },
   "outputs": [
    {
     "data": {
      "text/plain": [
       "zipcode\n",
       "98001   147.14134463\n",
       "98002   147.17741935\n",
       "98003   154.81924571\n",
       "98004   456.94444444\n",
       "98005   316.34043088\n",
       "Name: price_sf, dtype: float64"
      ]
     },
     "execution_count": 105,
     "metadata": {},
     "output_type": "execute_result"
    }
   ],
   "source": [
    "# dataframe with median price_sf for each zipcode\n",
    "zip_psf_medians = kc.groupby('zipcode')['price_sf'].median()\n",
    "zip_psf_medians.head()"
   ]
  },
  {
   "cell_type": "code",
   "execution_count": 106,
   "metadata": {
    "ExecuteTime": {
     "end_time": "2021-03-11T12:25:06.074912Z",
     "start_time": "2021-03-11T12:25:06.068514Z"
    }
   },
   "outputs": [],
   "source": [
    "# function to return key for any value\n",
    "def zip_median_lookup(zipcode):\n",
    "    for z, m in zip_psf_medians.items():\n",
    "        if zipcode == z:\n",
    "            return m\n",
    "        else:\n",
    "            continue\n",
    "    return \"value not found\""
   ]
  },
  {
   "cell_type": "code",
   "execution_count": 107,
   "metadata": {
    "ExecuteTime": {
     "end_time": "2021-03-11T12:25:08.832625Z",
     "start_time": "2021-03-11T12:25:08.809769Z"
    }
   },
   "outputs": [],
   "source": [
    "# apply zip_median_lookup function to dataframe to generate feature\n",
    "kc['zip_psf_median'] = kc.zipcode.apply(lambda z: zip_median_lookup(z)).astype(float)"
   ]
  },
  {
   "cell_type": "code",
   "execution_count": 108,
   "metadata": {
    "ExecuteTime": {
     "end_time": "2021-03-11T12:25:11.203326Z",
     "start_time": "2021-03-11T12:25:11.096943Z"
    }
   },
   "outputs": [
    {
     "name": "stdout",
     "output_type": "stream",
     "text": [
      "zip_psf_median 4 Std Dev: 569.7755353275165 | Home Counts above this size: 0 | Skew: 0.6116961603141974 | Kurtosis: -0.1132435579740112\n"
     ]
    },
    {
     "data": {
      "image/png": "[encoded data removed]",
      "text/plain": [
       "<Figure size 576x288 with 1 Axes>"
      ]
     },
     "metadata": {
      "needs_background": "light"
     },
     "output_type": "display_data"
    }
   ],
   "source": [
    "check_normality(kc, 'zip_psf_median')"
   ]
  },
  {
   "cell_type": "code",
   "execution_count": 109,
   "metadata": {
    "ExecuteTime": {
     "end_time": "2021-03-11T12:25:16.337773Z",
     "start_time": "2021-03-11T12:25:16.313256Z"
    }
   },
   "outputs": [
    {
     "data": {
      "text/html": [
       "<div>\n",
       "<style scoped>\n",
       "    .dataframe tbody tr th:only-of-type {\n",
       "        vertical-align: middle;\n",
       "    }\n",
       "\n",
       "    .dataframe tbody tr th {\n",
       "        vertical-align: top;\n",
       "    }\n",
       "\n",
       "    .dataframe thead th {\n",
       "        text-align: right;\n",
       "    }\n",
       "</style>\n",
       "<table border=\"1\" class=\"dataframe\">\n",
       "  <thead>\n",
       "    <tr style=\"text-align: right;\">\n",
       "      <th></th>\n",
       "      <th>price_sf_log</th>\n",
       "      <th>id</th>\n",
       "      <th>date</th>\n",
       "      <th>price</th>\n",
       "      <th>price_log</th>\n",
       "      <th>bedrooms</th>\n",
       "      <th>price_box</th>\n",
       "      <th>bedrooms_log</th>\n",
       "      <th>bedrooms_box</th>\n",
       "      <th>sqft_per_bedroom</th>\n",
       "      <th>sqft_per_bedroom_log</th>\n",
       "      <th>bedroom_der</th>\n",
       "      <th>bathrooms</th>\n",
       "      <th>bathrooms_log</th>\n",
       "      <th>bathrooms_box</th>\n",
       "      <th>sqft_living</th>\n",
       "      <th>sqft_lot</th>\n",
       "      <th>sqft_living_log</th>\n",
       "      <th>sqft_living_box</th>\n",
       "      <th>floors</th>\n",
       "      <th>sqft_lot_log</th>\n",
       "      <th>sqft_lot_box</th>\n",
       "      <th>waterfront</th>\n",
       "      <th>view</th>\n",
       "      <th>condition</th>\n",
       "      <th>condition_grp</th>\n",
       "      <th>grade</th>\n",
       "      <th>sqft_above</th>\n",
       "      <th>sqft_basement</th>\n",
       "      <th>sqft_above_log</th>\n",
       "      <th>basement_ind</th>\n",
       "      <th>yr_built</th>\n",
       "      <th>yr_renovated</th>\n",
       "      <th>renovation_ind</th>\n",
       "      <th>zipcode</th>\n",
       "      <th>lat</th>\n",
       "      <th>long</th>\n",
       "      <th>home_lat_long</th>\n",
       "      <th>miles_fr_seattle_log</th>\n",
       "      <th>sqft_living15</th>\n",
       "      <th>sqft_lot15</th>\n",
       "      <th>sqft_lot15_log</th>\n",
       "      <th>miles_fr_seattle</th>\n",
       "      <th>miles_fr_seattle_sqrt</th>\n",
       "      <th>price_sf</th>\n",
       "      <th>price_sf_box</th>\n",
       "      <th>price_sf_box_decile</th>\n",
       "      <th>zip_psf_median</th>\n",
       "    </tr>\n",
       "  </thead>\n",
       "  <tbody>\n",
       "  </tbody>\n",
       "</table>\n",
       "</div>"
      ],
      "text/plain": [
       "Empty DataFrame\n",
       "Columns: [price_sf_log, id, date, price, price_log, bedrooms, price_box, bedrooms_log, bedrooms_box, sqft_per_bedroom, sqft_per_bedroom_log, bedroom_der, bathrooms, bathrooms_log, bathrooms_box, sqft_living, sqft_lot, sqft_living_log, sqft_living_box, floors, sqft_lot_log, sqft_lot_box, waterfront, view, condition, condition_grp, grade, sqft_above, sqft_basement, sqft_above_log, basement_ind, yr_built, yr_renovated, renovation_ind, zipcode, lat, long, home_lat_long, miles_fr_seattle_log, sqft_living15, sqft_lot15, sqft_lot15_log, miles_fr_seattle, miles_fr_seattle_sqrt, price_sf, price_sf_box, price_sf_box_decile, zip_psf_median]\n",
       "Index: []"
      ]
     },
     "execution_count": 109,
     "metadata": {},
     "output_type": "execute_result"
    }
   ],
   "source": [
    "kc[kc.zip_psf_median.isnull()==True]"
   ]
  },
  {
   "cell_type": "code",
   "execution_count": 110,
   "metadata": {
    "ExecuteTime": {
     "end_time": "2021-03-11T12:25:30.504898Z",
     "start_time": "2021-03-11T12:25:30.466022Z"
    }
   },
   "outputs": [
    {
     "name": "stdout",
     "output_type": "stream",
     "text": [
      "zip median lambda is -0.07960809846686995\n"
     ]
    }
   ],
   "source": [
    "fit_psf_median, median_lambda = stats.boxcox(kc['zip_psf_median'])\n",
    "box_zip_median = pd.DataFrame(fit_psf_median, columns = ['zip_psf_median_box'])\n",
    "print(f'zip median lambda is {median_lambda}')"
   ]
  },
  {
   "cell_type": "code",
   "execution_count": 111,
   "metadata": {
    "ExecuteTime": {
     "end_time": "2021-03-11T12:25:32.976874Z",
     "start_time": "2021-03-11T12:25:32.874738Z"
    }
   },
   "outputs": [
    {
     "name": "stdout",
     "output_type": "stream",
     "text": [
      "zip_psf_median_box 4 Std Dev: 5.242478152668861 | Home Counts above this size: 0 | Skew: 0.0075463489065949055 | Kurtosis: -0.9249159873746322\n"
     ]
    },
    {
     "data": {
      "image/png": "[encoded data removed]",
      "text/plain": [
       "<Figure size 576x288 with 1 Axes>"
      ]
     },
     "metadata": {
      "needs_background": "light"
     },
     "output_type": "display_data"
    }
   ],
   "source": [
    "check_normality(box_zip_median, 'zip_psf_median_box')"
   ]
  },
  {
   "cell_type": "code",
   "execution_count": 112,
   "metadata": {
    "ExecuteTime": {
     "end_time": "2021-03-11T12:25:51.746097Z",
     "start_time": "2021-03-11T12:25:51.711950Z"
    }
   },
   "outputs": [],
   "source": [
    "kc = pd.concat([kc, box_zip_median], axis=1)"
   ]
  },
  {
   "cell_type": "code",
   "execution_count": 114,
   "metadata": {
    "ExecuteTime": {
     "end_time": "2021-03-11T12:25:56.898675Z",
     "start_time": "2021-03-11T12:25:56.868206Z"
    }
   },
   "outputs": [
    {
     "data": {
      "text/html": [
       "<div>\n",
       "<style scoped>\n",
       "    .dataframe tbody tr th:only-of-type {\n",
       "        vertical-align: middle;\n",
       "    }\n",
       "\n",
       "    .dataframe tbody tr th {\n",
       "        vertical-align: top;\n",
       "    }\n",
       "\n",
       "    .dataframe thead th {\n",
       "        text-align: right;\n",
       "    }\n",
       "</style>\n",
       "<table border=\"1\" class=\"dataframe\">\n",
       "  <thead>\n",
       "    <tr style=\"text-align: right;\">\n",
       "      <th></th>\n",
       "      <th>price_sf_log</th>\n",
       "      <th>id</th>\n",
       "      <th>date</th>\n",
       "      <th>price</th>\n",
       "      <th>price_log</th>\n",
       "      <th>bedrooms</th>\n",
       "      <th>price_box</th>\n",
       "      <th>bedrooms_log</th>\n",
       "      <th>bedrooms_box</th>\n",
       "      <th>sqft_per_bedroom</th>\n",
       "      <th>sqft_per_bedroom_log</th>\n",
       "      <th>bedroom_der</th>\n",
       "      <th>bathrooms</th>\n",
       "      <th>bathrooms_log</th>\n",
       "      <th>bathrooms_box</th>\n",
       "      <th>sqft_living</th>\n",
       "      <th>sqft_lot</th>\n",
       "      <th>sqft_living_log</th>\n",
       "      <th>sqft_living_box</th>\n",
       "      <th>floors</th>\n",
       "      <th>sqft_lot_log</th>\n",
       "      <th>sqft_lot_box</th>\n",
       "      <th>waterfront</th>\n",
       "      <th>view</th>\n",
       "      <th>condition</th>\n",
       "      <th>condition_grp</th>\n",
       "      <th>grade</th>\n",
       "      <th>sqft_above</th>\n",
       "      <th>sqft_basement</th>\n",
       "      <th>sqft_above_log</th>\n",
       "      <th>basement_ind</th>\n",
       "      <th>yr_built</th>\n",
       "      <th>yr_renovated</th>\n",
       "      <th>renovation_ind</th>\n",
       "      <th>zipcode</th>\n",
       "      <th>lat</th>\n",
       "      <th>long</th>\n",
       "      <th>home_lat_long</th>\n",
       "      <th>miles_fr_seattle_log</th>\n",
       "      <th>sqft_living15</th>\n",
       "      <th>sqft_lot15</th>\n",
       "      <th>sqft_lot15_log</th>\n",
       "      <th>miles_fr_seattle</th>\n",
       "      <th>miles_fr_seattle_sqrt</th>\n",
       "      <th>price_sf</th>\n",
       "      <th>price_sf_box</th>\n",
       "      <th>price_sf_box_decile</th>\n",
       "      <th>zip_psf_median</th>\n",
       "      <th>zip_psf_median_box</th>\n",
       "    </tr>\n",
       "  </thead>\n",
       "  <tbody>\n",
       "    <tr>\n",
       "      <th>21596</th>\n",
       "      <td>5.76402256</td>\n",
       "      <td>1,523,300,157.00000000</td>\n",
       "      <td>2014-10-15</td>\n",
       "      <td>325,000.00000000</td>\n",
       "      <td>12.69158046</td>\n",
       "      <td>2.00000000</td>\n",
       "      <td>4.03872181</td>\n",
       "      <td>0.69314718</td>\n",
       "      <td>1.54151148</td>\n",
       "      <td>510.00000000</td>\n",
       "      <td>6.23441073</td>\n",
       "      <td>2.00000000</td>\n",
       "      <td>0.75000000</td>\n",
       "      <td>-0.28768207</td>\n",
       "      <td>1.01512581</td>\n",
       "      <td>1,020.00000000</td>\n",
       "      <td>1,076.00000000</td>\n",
       "      <td>6.92755791</td>\n",
       "      <td>8.22587403</td>\n",
       "      <td>2.00000000</td>\n",
       "      <td>6.98100574</td>\n",
       "      <td>nan</td>\n",
       "      <td>0.00000000</td>\n",
       "      <td>0.00000000</td>\n",
       "      <td>3.00000000</td>\n",
       "      <td>average</td>\n",
       "      <td>7.00000000</td>\n",
       "      <td>1,020.00000000</td>\n",
       "      <td>0.00000000</td>\n",
       "      <td>6.92755791</td>\n",
       "      <td>0.00000000</td>\n",
       "      <td>2,008.00000000</td>\n",
       "      <td>0.00000000</td>\n",
       "      <td>0.00000000</td>\n",
       "      <td>98144</td>\n",
       "      <td>47.59410000</td>\n",
       "      <td>-122.29900000</td>\n",
       "      <td>(47.5941, -122.29899999999999)</td>\n",
       "      <td>2.33441902</td>\n",
       "      <td>1,020.00000000</td>\n",
       "      <td>1,357.00000000</td>\n",
       "      <td>7.21303166</td>\n",
       "      <td>10.32346046</td>\n",
       "      <td>3.21301423</td>\n",
       "      <td>318.62745098</td>\n",
       "      <td>2.18260094</td>\n",
       "      <td>6.00000000</td>\n",
       "      <td>302.63157895</td>\n",
       "      <td>nan</td>\n",
       "    </tr>\n",
       "  </tbody>\n",
       "</table>\n",
       "</div>"
      ],
      "text/plain": [
       "       price_sf_log                     id       date            price  \\\n",
       "21596    5.76402256 1,523,300,157.00000000 2014-10-15 325,000.00000000   \n",
       "\n",
       "        price_log   bedrooms  price_box  bedrooms_log  bedrooms_box  \\\n",
       "21596 12.69158046 2.00000000 4.03872181    0.69314718    1.54151148   \n",
       "\n",
       "       sqft_per_bedroom  sqft_per_bedroom_log  bedroom_der  bathrooms  \\\n",
       "21596      510.00000000            6.23441073   2.00000000 0.75000000   \n",
       "\n",
       "       bathrooms_log  bathrooms_box    sqft_living       sqft_lot  \\\n",
       "21596    -0.28768207     1.01512581 1,020.00000000 1,076.00000000   \n",
       "\n",
       "       sqft_living_log  sqft_living_box     floors  sqft_lot_log  \\\n",
       "21596       6.92755791       8.22587403 2.00000000    6.98100574   \n",
       "\n",
       "       sqft_lot_box  waterfront       view  condition condition_grp  \\\n",
       "21596           nan  0.00000000 0.00000000 3.00000000       average   \n",
       "\n",
       "           grade     sqft_above  sqft_basement  sqft_above_log  basement_ind  \\\n",
       "21596 7.00000000 1,020.00000000     0.00000000      6.92755791    0.00000000   \n",
       "\n",
       "            yr_built  yr_renovated  renovation_ind zipcode         lat  \\\n",
       "21596 2,008.00000000    0.00000000      0.00000000   98144 47.59410000   \n",
       "\n",
       "               long                   home_lat_long  miles_fr_seattle_log  \\\n",
       "21596 -122.29900000  (47.5941, -122.29899999999999)            2.33441902   \n",
       "\n",
       "       sqft_living15     sqft_lot15  sqft_lot15_log  miles_fr_seattle  \\\n",
       "21596 1,020.00000000 1,357.00000000      7.21303166       10.32346046   \n",
       "\n",
       "       miles_fr_seattle_sqrt     price_sf  price_sf_box  price_sf_box_decile  \\\n",
       "21596             3.21301423 318.62745098    2.18260094           6.00000000   \n",
       "\n",
       "       zip_psf_median  zip_psf_median_box  \n",
       "21596    302.63157895                 nan  "
      ]
     },
     "execution_count": 114,
     "metadata": {},
     "output_type": "execute_result"
    }
   ],
   "source": [
    "kc.tail(1)"
   ]
  },
  {
   "cell_type": "code",
   "execution_count": 115,
   "metadata": {
    "ExecuteTime": {
     "end_time": "2021-03-11T12:26:23.464724Z",
     "start_time": "2021-03-11T12:26:23.414005Z"
    }
   },
   "outputs": [],
   "source": [
    "box_fillna(kc, 'zip_psf_median_box')"
   ]
  },
  {
   "cell_type": "code",
   "execution_count": null,
   "metadata": {
    "ExecuteTime": {
     "end_time": "2021-03-11T11:19:26.751812Z",
     "start_time": "2021-03-11T11:19:24.896Z"
    }
   },
   "outputs": [],
   "source": [
    "# kc.drop(columns='zip_psf_median_box', axis=1, inplace=True)"
   ]
  },
  {
   "cell_type": "code",
   "execution_count": 118,
   "metadata": {
    "ExecuteTime": {
     "end_time": "2021-03-11T12:27:56.583926Z",
     "start_time": "2021-03-11T12:27:56.549963Z"
    }
   },
   "outputs": [
    {
     "data": {
      "text/html": [
       "<div>\n",
       "<style scoped>\n",
       "    .dataframe tbody tr th:only-of-type {\n",
       "        vertical-align: middle;\n",
       "    }\n",
       "\n",
       "    .dataframe tbody tr th {\n",
       "        vertical-align: top;\n",
       "    }\n",
       "\n",
       "    .dataframe thead th {\n",
       "        text-align: right;\n",
       "    }\n",
       "</style>\n",
       "<table border=\"1\" class=\"dataframe\">\n",
       "  <thead>\n",
       "    <tr style=\"text-align: right;\">\n",
       "      <th></th>\n",
       "      <th>price_sf_log</th>\n",
       "      <th>id</th>\n",
       "      <th>date</th>\n",
       "      <th>price</th>\n",
       "      <th>price_log</th>\n",
       "      <th>bedrooms</th>\n",
       "      <th>price_box</th>\n",
       "      <th>bedrooms_log</th>\n",
       "      <th>bedrooms_box</th>\n",
       "      <th>sqft_per_bedroom</th>\n",
       "      <th>sqft_per_bedroom_log</th>\n",
       "      <th>bedroom_der</th>\n",
       "      <th>bathrooms</th>\n",
       "      <th>bathrooms_log</th>\n",
       "      <th>bathrooms_box</th>\n",
       "      <th>sqft_living</th>\n",
       "      <th>sqft_lot</th>\n",
       "      <th>sqft_living_log</th>\n",
       "      <th>sqft_living_box</th>\n",
       "      <th>floors</th>\n",
       "      <th>sqft_lot_log</th>\n",
       "      <th>sqft_lot_box</th>\n",
       "      <th>waterfront</th>\n",
       "      <th>view</th>\n",
       "      <th>condition</th>\n",
       "      <th>condition_grp</th>\n",
       "      <th>grade</th>\n",
       "      <th>sqft_above</th>\n",
       "      <th>sqft_basement</th>\n",
       "      <th>sqft_above_log</th>\n",
       "      <th>basement_ind</th>\n",
       "      <th>yr_built</th>\n",
       "      <th>yr_renovated</th>\n",
       "      <th>renovation_ind</th>\n",
       "      <th>zipcode</th>\n",
       "      <th>lat</th>\n",
       "      <th>long</th>\n",
       "      <th>home_lat_long</th>\n",
       "      <th>miles_fr_seattle_log</th>\n",
       "      <th>sqft_living15</th>\n",
       "      <th>sqft_lot15</th>\n",
       "      <th>sqft_lot15_log</th>\n",
       "      <th>miles_fr_seattle</th>\n",
       "      <th>miles_fr_seattle_sqrt</th>\n",
       "      <th>price_sf</th>\n",
       "      <th>price_sf_box</th>\n",
       "      <th>price_sf_box_decile</th>\n",
       "      <th>zip_psf_median</th>\n",
       "      <th>zip_psf_median_box</th>\n",
       "    </tr>\n",
       "  </thead>\n",
       "  <tbody>\n",
       "    <tr>\n",
       "      <th>15856</th>\n",
       "      <td>nan</td>\n",
       "      <td>nan</td>\n",
       "      <td>NaT</td>\n",
       "      <td>nan</td>\n",
       "      <td>nan</td>\n",
       "      <td>nan</td>\n",
       "      <td>nan</td>\n",
       "      <td>nan</td>\n",
       "      <td>nan</td>\n",
       "      <td>nan</td>\n",
       "      <td>nan</td>\n",
       "      <td>nan</td>\n",
       "      <td>nan</td>\n",
       "      <td>nan</td>\n",
       "      <td>nan</td>\n",
       "      <td>nan</td>\n",
       "      <td>nan</td>\n",
       "      <td>nan</td>\n",
       "      <td>nan</td>\n",
       "      <td>nan</td>\n",
       "      <td>nan</td>\n",
       "      <td>4.25860061</td>\n",
       "      <td>nan</td>\n",
       "      <td>nan</td>\n",
       "      <td>nan</td>\n",
       "      <td>NaN</td>\n",
       "      <td>nan</td>\n",
       "      <td>nan</td>\n",
       "      <td>nan</td>\n",
       "      <td>nan</td>\n",
       "      <td>nan</td>\n",
       "      <td>nan</td>\n",
       "      <td>nan</td>\n",
       "      <td>nan</td>\n",
       "      <td>NaN</td>\n",
       "      <td>nan</td>\n",
       "      <td>nan</td>\n",
       "      <td>NaN</td>\n",
       "      <td>nan</td>\n",
       "      <td>nan</td>\n",
       "      <td>nan</td>\n",
       "      <td>nan</td>\n",
       "      <td>nan</td>\n",
       "      <td>nan</td>\n",
       "      <td>nan</td>\n",
       "      <td>nan</td>\n",
       "      <td>nan</td>\n",
       "      <td>nan</td>\n",
       "      <td>4.11898861</td>\n",
       "    </tr>\n",
       "  </tbody>\n",
       "</table>\n",
       "</div>"
      ],
      "text/plain": [
       "       price_sf_log  id date  price  price_log  bedrooms  price_box  \\\n",
       "15856           nan nan  NaT    nan        nan       nan        nan   \n",
       "\n",
       "       bedrooms_log  bedrooms_box  sqft_per_bedroom  sqft_per_bedroom_log  \\\n",
       "15856           nan           nan               nan                   nan   \n",
       "\n",
       "       bedroom_der  bathrooms  bathrooms_log  bathrooms_box  sqft_living  \\\n",
       "15856          nan        nan            nan            nan          nan   \n",
       "\n",
       "       sqft_lot  sqft_living_log  sqft_living_box  floors  sqft_lot_log  \\\n",
       "15856       nan              nan              nan     nan           nan   \n",
       "\n",
       "       sqft_lot_box  waterfront  view  condition condition_grp  grade  \\\n",
       "15856    4.25860061         nan   nan        nan           NaN    nan   \n",
       "\n",
       "       sqft_above  sqft_basement  sqft_above_log  basement_ind  yr_built  \\\n",
       "15856         nan            nan             nan           nan       nan   \n",
       "\n",
       "       yr_renovated  renovation_ind zipcode  lat  long home_lat_long  \\\n",
       "15856           nan             nan     NaN  nan   nan           NaN   \n",
       "\n",
       "       miles_fr_seattle_log  sqft_living15  sqft_lot15  sqft_lot15_log  \\\n",
       "15856                   nan            nan         nan             nan   \n",
       "\n",
       "       miles_fr_seattle  miles_fr_seattle_sqrt  price_sf  price_sf_box  \\\n",
       "15856               nan                    nan       nan           nan   \n",
       "\n",
       "       price_sf_box_decile  zip_psf_median  zip_psf_median_box  \n",
       "15856                  nan             nan          4.11898861  "
      ]
     },
     "execution_count": 118,
     "metadata": {},
     "output_type": "execute_result"
    }
   ],
   "source": [
    "kc[kc.isna().any(axis=1)==True]"
   ]
  },
  {
   "cell_type": "code",
   "execution_count": 119,
   "metadata": {
    "ExecuteTime": {
     "end_time": "2021-03-11T12:27:58.916359Z",
     "start_time": "2021-03-11T12:27:58.904123Z"
    }
   },
   "outputs": [],
   "source": [
    "kc.drop([15856], inplace=True)"
   ]
  },
  {
   "cell_type": "markdown",
   "metadata": {
    "ExecuteTime": {
     "end_time": "2021-03-01T19:10:53.248545Z",
     "start_time": "2021-03-01T19:10:53.245607Z"
    }
   },
   "source": [
    "### Time Series Analysis"
   ]
  },
  {
   "cell_type": "markdown",
   "metadata": {},
   "source": [
    "#### Sales By Month"
   ]
  },
  {
   "cell_type": "code",
   "execution_count": 120,
   "metadata": {
    "ExecuteTime": {
     "end_time": "2021-03-11T12:28:08.040802Z",
     "start_time": "2021-03-11T12:28:07.889827Z"
    },
    "scrolled": false
   },
   "outputs": [
    {
     "data": {
      "image/png": "[encoded data removed]",
      "text/plain": [
       "<Figure size 864x432 with 1 Axes>"
      ]
     },
     "metadata": {
      "needs_background": "light"
     },
     "output_type": "display_data"
    }
   ],
   "source": [
    "# Plot number of sales by month for King County home sales data\n",
    "kc['sales_cnt']=1 # dummy variable to sum sales\n",
    "kc['year_month'] = kc.date.dt.to_period('m') # transform date into month\n",
    "df_grp = kc.groupby(['year_month'])['sales_cnt'].sum().reset_index()\n",
    "\n",
    "# Create barplot with average line\n",
    "f, ax = plt.subplots(1, 1, figsize=(12, 6))\n",
    "f.suptitle('Sales by Month in King County', fontsize=14, fontweight ='bold')\n",
    "sns.set_style(\"dark\")\n",
    "ax = sns.barplot(data=df_grp, x='year_month', y='sales_cnt', color='tab:blue', saturation=.5)\n",
    "ax.axhline(df_grp.sales_cnt.mean(), color='tab:orange')\n",
    "ax.set_xlabel('Month', fontsize=12)\n",
    "ax.set_ylabel('Number of Sales', fontsize=12)\n",
    "plt.show()"
   ]
  },
  {
   "cell_type": "markdown",
   "metadata": {},
   "source": [
    "**Notes on Sales Trend**\n",
    "- Total sales transations of 21,597 spread across 13 months with 1,661 average/month in sample\n",
    "- May 2015 looks to be a partial month, may excluded it to have a complete 1 year of data (2014-05 through 2015-04)\n",
    "- Sales time series exhibits expected seasonality in Spring/Summer with slower Winter months"
   ]
  },
  {
   "cell_type": "markdown",
   "metadata": {},
   "source": [
    "#### Sales By Year Built"
   ]
  },
  {
   "cell_type": "code",
   "execution_count": null,
   "metadata": {
    "ExecuteTime": {
     "end_time": "2021-03-11T11:19:26.753589Z",
     "start_time": "2021-03-11T11:19:24.908Z"
    },
    "scrolled": false
   },
   "outputs": [],
   "source": [
    "# Plot number of sales by month for King County home sales data\n",
    "df_grp = kc.groupby(['yr_built'])['sales_cnt'].sum().reset_index()\n",
    "df_grp2 = kc.groupby(['yr_built'])['price'].mean().reset_index()\n",
    "\n",
    "# Create barplot with average line\n",
    "f, ax = plt.subplots(figsize=(18, 6)) \n",
    "f.suptitle('Sales by Year Built in King County', fontsize=14, fontweight ='bold')\n",
    "sns.set_style(\"dark\")\n",
    "ax = sns.barplot(data=df_grp, x='yr_built', y='sales_cnt', color='tab:blue', saturation=.5, ax=ax)\n",
    "ax.set_xlabel('Year Built', fontsize=12)\n",
    "ax.set_ylabel('Number of Sales', fontsize=12)\n",
    "ax.xaxis.set_major_locator(ticker.AutoLocator())\n",
    "ax2 = ax.twinx()\n",
    "ax2 = sns.lineplot(data=df_grp2, marker='o', ax=ax2)\n",
    "ax2.set_ylabel('Average Price', fontsize=12)\n",
    "plt.show()"
   ]
  },
  {
   "cell_type": "markdown",
   "metadata": {},
   "source": [
    "#### Avg Living Space and BR"
   ]
  },
  {
   "cell_type": "code",
   "execution_count": null,
   "metadata": {
    "ExecuteTime": {
     "end_time": "2021-03-11T11:19:26.754494Z",
     "start_time": "2021-03-11T11:19:24.911Z"
    },
    "scrolled": false
   },
   "outputs": [],
   "source": [
    "# Plot number of sales by month for King County home sales data\n",
    "df_grp = kc.groupby(['yr_built'])['sqft_living'].mean().reset_index()\n",
    "df_grp2 = kc.groupby(['yr_built'])['bedrooms'].mean().reset_index()\n",
    "df_grp3 = df_grp.merge(df_grp2)\n",
    "df_grp3['sqft_per_bedroom']=df_grp3['sqft_living']/df_grp3['bedrooms']\n",
    "\n",
    "# Create barplot with average line\n",
    "f, ax = plt.subplots(figsize=(18, 6)) \n",
    "f.suptitle('Average Living Space By Year Built in King County', fontsize=14, fontweight ='bold')\n",
    "sns.set_style(\"dark\")\n",
    "ax = sns.barplot(data=df_grp, x='yr_built', y='sqft_living', color='tab:orange', saturation=.5, ax=ax)\n",
    "ax.set_xlabel('Year Built', fontsize=12)\n",
    "ax.set_ylabel('Average Living Space', fontsize=12)\n",
    "ax.xaxis.set_major_locator(ticker.AutoLocator())\n",
    "ax2 = ax.twinx()\n",
    "ax2 = sns.lineplot(data=df_grp3['sqft_per_bedroom'], marker='o', ax=ax2)\n",
    "ax2.set_ylabel('Average Living Sqft Per Bedroom', fontsize=12)\n",
    "plt.show()"
   ]
  },
  {
   "cell_type": "markdown",
   "metadata": {
    "ExecuteTime": {
     "end_time": "2021-03-04T19:58:16.126272Z",
     "start_time": "2021-03-04T19:58:16.114758Z"
    }
   },
   "source": [
    "**Notes on Living Space Year Built**\n",
    "- Average Living Space: 1,764 (<1970) vs. \n",
    "- Average Bedrooms: 3.20 vs.\n",
    "- Living Sqft Per Bedroom: 552 vs."
   ]
  },
  {
   "cell_type": "code",
   "execution_count": null,
   "metadata": {
    "ExecuteTime": {
     "end_time": "2021-03-11T11:19:26.755149Z",
     "start_time": "2021-03-11T11:19:24.914Z"
    }
   },
   "outputs": [],
   "source": [
    "df_grp3['yr_built_der'] = df_grp3.yr_built.map(lambda x: 'pre-1970' if x < 1970 else 'post-1970')\n",
    "df_grp3.groupby('yr_built_der').mean()"
   ]
  },
  {
   "cell_type": "code",
   "execution_count": null,
   "metadata": {
    "ExecuteTime": {
     "end_time": "2021-03-11T11:19:26.755803Z",
     "start_time": "2021-03-11T11:19:24.917Z"
    }
   },
   "outputs": [],
   "source": [
    "print(f'{len(kc[kc.bedrooms>6])} homes, or {round(len(kc[kc.bedrooms>6])/len(kc),3)}% of total, have greater than 6 bedrooms ')"
   ]
  },
  {
   "cell_type": "markdown",
   "metadata": {},
   "source": [
    "### Category Profiles"
   ]
  },
  {
   "cell_type": "markdown",
   "metadata": {},
   "source": [
    "#### Plot Functions"
   ]
  },
  {
   "cell_type": "code",
   "execution_count": null,
   "metadata": {
    "ExecuteTime": {
     "end_time": "2021-03-11T11:19:26.756393Z",
     "start_time": "2021-03-11T11:19:24.921Z"
    },
    "scrolled": true
   },
   "outputs": [],
   "source": [
    "# Define function to generate Top N values, counts and % total for a column\n",
    "def topn_count(df, column, topn):\n",
    "    c = df[column].value_counts(dropna=False)\n",
    "    p = df[column].value_counts(dropna=False, normalize=True).mul(100).round(1).astype(str) + '%'\n",
    "    cp = (100*df.groupby(column).size().cumsum()/df.groupby(column).size().sum()).round(1).astype(str) + '%'\n",
    "    print(f'Top 10 Counts By {column.title()}')\n",
    "    return pd.concat([c, p ,cp], axis=1, keys=['Counts', '%', 'Cum %']).iloc[:topn]"
   ]
  },
  {
   "cell_type": "code",
   "execution_count": null,
   "metadata": {
    "ExecuteTime": {
     "end_time": "2021-03-11T11:19:26.757494Z",
     "start_time": "2021-03-11T11:19:24.924Z"
    },
    "scrolled": true
   },
   "outputs": [],
   "source": [
    "#  topn_count(kc, 'bedrooms', 10)"
   ]
  },
  {
   "cell_type": "code",
   "execution_count": null,
   "metadata": {
    "ExecuteTime": {
     "end_time": "2021-03-11T11:19:26.758147Z",
     "start_time": "2021-03-11T11:19:24.926Z"
    },
    "scrolled": true
   },
   "outputs": [],
   "source": [
    "# Define function to generate 3 plots for X and Y columns in a dataframe: Histogram, Price Box Plot and Top N % Distribution\n",
    "def distplots(df, xcol, ycol, topn):\n",
    "    # Set a figure with 3 subplots and figure-level settings\n",
    "    f, (ax,ax2,ax3,ax4) = plt.subplots(1, 4, figsize=(18, 6))\n",
    "    sns.set_theme(style='ticks', palette='deep')\n",
    "    sns.set_style('whitegrid')\n",
    "    f.suptitle('Column Value Distributions', fontsize=14, fontweight ='bold')\n",
    "    f.tight_layout(pad=3)\n",
    "    \n",
    "    # Subplot 1 - Histogram by desired xcol showing probability %\n",
    "    ax = plt.subplot2grid((1, 7), (0, 0), colspan=2)\n",
    "    ax = sns.histplot(data=df, x=xcol, color='skyblue', stat='probability', discrete = True, ax=ax)\n",
    "    ax.set_title('Histogram')\n",
    "\n",
    "    # Subplot 2 - Scatter plot xcol vs. ycol\n",
    "    ax2 = plt.subplot2grid((1, 7), (0, 2), colspan=2)\n",
    "    ax2 = sns.scatterplot(df[xcol], df[ycol])\n",
    "    ax2.set_title(f'{ycol.title()} vs {xcol.title()} Scatterplot')\n",
    "#     ax2.set_xlabel(column)\n",
    "#     ax2.set_ylabel('Sale Price in $100,000')\n",
    "    \n",
    "    # Subplot 3 - Boxplot by desired xcol against ycol (e.g. price) to see distributions grouped by xcol\n",
    "    ax3 = plt.subplot2grid((1, 7), (0, 4), colspan=2)\n",
    "    ax3 = sns.boxplot(data=df, x=xcol, y=ycol, showfliers=False, ax=ax3) # Excludes outliers for presentability \n",
    "    ax3.set_title('Boxplot')\n",
    "\n",
    "    # Calculate medians and number of observations per group for use in positioning labels on plot\n",
    "    medians = df.groupby([xcol])[ycol].median().values\n",
    "    nobs = df[xcol].value_counts(sort=False).sort_index().values\n",
    "    nobs = [str(x) for x in nobs.tolist()]\n",
    "    nobs = [\"n: \" + i for i in nobs]\n",
    "\n",
    "    # Add number of observations to the boxplot for indication of each box's relative likelihood\n",
    "    pos = range(len(nobs))\n",
    "    for tick, label in zip(pos, ax2.get_xticklabels()):\n",
    "        ax3.text(pos[tick], medians[tick] + 0.2, nobs[tick], horizontalalignment='center', size='x-small', color='w', weight='bold')\n",
    "    \n",
    "    # Subplot 4 - Add dataframe top N value counts and % of group as a table in 3rd plot\n",
    "    top = topn_count(df, xcol, topn)\n",
    "    ax4 = plt.subplot2grid((1, 7), (0, 6))\n",
    "    ax4.table(cellText=top.values,rowLabels=top.index, colLabels=top.columns, cellLoc = 'center', rowLoc = 'center', loc='center')\n",
    "    ax4.axis(\"off\")\n",
    "    ax4.set_title('Top Values')\n",
    "    plt.show()"
   ]
  },
  {
   "cell_type": "code",
   "execution_count": null,
   "metadata": {
    "ExecuteTime": {
     "end_time": "2021-03-11T11:19:26.758644Z",
     "start_time": "2021-03-11T11:19:24.929Z"
    }
   },
   "outputs": [],
   "source": [
    "# data.hist(figsize=(18,15), bins='auto');"
   ]
  },
  {
   "cell_type": "markdown",
   "metadata": {},
   "source": [
    "#### Bedrooms"
   ]
  },
  {
   "cell_type": "code",
   "execution_count": null,
   "metadata": {
    "ExecuteTime": {
     "end_time": "2021-03-11T11:19:26.759274Z",
     "start_time": "2021-03-11T11:19:24.932Z"
    },
    "scrolled": false
   },
   "outputs": [],
   "source": [
    "distplots(kc, 'bedrooms', 'price', 10)"
   ]
  },
  {
   "cell_type": "markdown",
   "metadata": {},
   "source": [
    "**Notes on Bedrooms**\n",
    "- One outlier at 33 BR excluded for graph presentability\n",
    "- Mode is 3 BR and 78% are 3/4 BR. Only 1.5% higher than 5 BR and only 1% at 1 BR.\n",
    "- Limiting to 1-6 BR looks relatively normal, might not need log transformation. This would mean dropping 0.3% of the data from modeling.\n",
    "- Median price increases from 1-7 BRs, assume strong correlation. The IQR upper whisker increases more than lower whisker for higher bedrooms."
   ]
  },
  {
   "cell_type": "markdown",
   "metadata": {},
   "source": [
    "#### Bathrooms"
   ]
  },
  {
   "cell_type": "code",
   "execution_count": null,
   "metadata": {
    "ExecuteTime": {
     "end_time": "2021-03-11T11:19:26.759986Z",
     "start_time": "2021-03-11T11:19:24.937Z"
    },
    "scrolled": false
   },
   "outputs": [],
   "source": [
    "distplots(kc, 'bathrooms', 'price', 23)"
   ]
  },
  {
   "cell_type": "markdown",
   "metadata": {},
   "source": [
    "**Notes on Bathrooms**\n",
    "- Over 50% of homes have quarter or half bathrooms listed (.25, .5 or .75); Are half-baths worth 50% of a bath count in regression?\n",
    "- Roughly 49% home have 2-3 baths, another 39% have 1-2 baths; 98% have 3 baths or under.\n",
    "- Outliers: 75 homes (0.3%) have less than 1 bathroom. 12 homes have 6 or more. If bathrooms in model, might drop both outliers (1-6 baths).\n",
    "- Distribution looks skewed right, might need log transformation.\n",
    "- Median price increases with bathrooms, linear if not exponetially."
   ]
  },
  {
   "cell_type": "markdown",
   "metadata": {},
   "source": [
    "#### Floors"
   ]
  },
  {
   "cell_type": "code",
   "execution_count": null,
   "metadata": {
    "ExecuteTime": {
     "end_time": "2021-03-11T11:19:26.760607Z",
     "start_time": "2021-03-11T11:19:24.942Z"
    },
    "scrolled": false
   },
   "outputs": [],
   "source": [
    "distplots(kc, 'floors', 'price', 10)"
   ]
  },
  {
   "cell_type": "markdown",
   "metadata": {},
   "source": [
    "**Notes on Floors**\n",
    "- Approximately 10% of homes have split-levels; Are half-floors worth 50% of a floor in regression?\n",
    "- Roughly 49% home have single floor, another 38% have 2; Only 3% have 3 floors or higher (small samples and prices don't scale).\n",
    "- Outliers: None\n",
    "- Distribution not normal, would use category OHE variables.\n",
    "- Median price and upper whisker band increases linearly with floors until 3+. Split level 1.5 similar to 2 floors in pricing."
   ]
  },
  {
   "cell_type": "markdown",
   "metadata": {},
   "source": [
    "#### Condition"
   ]
  },
  {
   "cell_type": "code",
   "execution_count": null,
   "metadata": {
    "ExecuteTime": {
     "end_time": "2021-03-11T11:19:26.761170Z",
     "start_time": "2021-03-11T11:19:24.947Z"
    },
    "scrolled": false
   },
   "outputs": [],
   "source": [
    "distplots(kc, 'condition', 'price', 5)"
   ]
  },
  {
   "cell_type": "markdown",
   "metadata": {},
   "source": [
    "**Notes on Condition**\n",
    "- From data dictionary: Score of 1/2 indicate major repairs required. Score 3 is average, with 4/5 be above average and exceptional.\n",
    "- Roughly 2/3rd of homes are average (3), 1/4 are above average (4) and top 8% score excellent (5).\n",
    "- Only 1% have 1/2 scores, probably due to market requirements to have a functional home to list for sale.\n",
    "- Outliers: None denoted\n",
    "- Distribution skewed left, candidate for category feature using OHE.\n",
    "- Median price and IQR bands exhibit increasing step functions: 1/2 cluster-->3/4 cluster-->5"
   ]
  },
  {
   "cell_type": "markdown",
   "metadata": {},
   "source": [
    "#### Grade"
   ]
  },
  {
   "cell_type": "code",
   "execution_count": null,
   "metadata": {
    "ExecuteTime": {
     "end_time": "2021-03-11T11:19:26.761696Z",
     "start_time": "2021-03-11T11:19:24.952Z"
    },
    "scrolled": false
   },
   "outputs": [],
   "source": [
    "distplots(kc, 'grade', 'price', 13)"
   ]
  },
  {
   "cell_type": "markdown",
   "metadata": {},
   "source": [
    "**Notes on Grade**\n",
    "- From data dictionary: Range from 1-13 as an indication of quality level of building. 1-3 unfit, 13 mansion, 7 average.\n",
    "- Roughly 41% of homes are average (7), another 37% at 6 or 8. Top 20% are 9+.\n",
    "- Outliers: None denoted\n",
    "- Distribution appears farily normal, candidate for continuous variable without log transformation.\n",
    "- Median price and IQR bands exhibit exponetialality, pivoting at 9-13 markedly upwards."
   ]
  },
  {
   "cell_type": "markdown",
   "metadata": {},
   "source": [
    "#### Waterfront"
   ]
  },
  {
   "cell_type": "code",
   "execution_count": null,
   "metadata": {
    "ExecuteTime": {
     "end_time": "2021-03-11T11:19:26.762269Z",
     "start_time": "2021-03-11T11:19:24.957Z"
    },
    "scrolled": false
   },
   "outputs": [],
   "source": [
    "distplots(kc, 'waterfront', 'price', 10)"
   ]
  },
  {
   "cell_type": "markdown",
   "metadata": {},
   "source": [
    "**Notes on Waterfront**\n",
    "- Small sample of 146 but nearly triple the prices with high skew higher"
   ]
  },
  {
   "cell_type": "markdown",
   "metadata": {},
   "source": [
    "#### Renovation Ind"
   ]
  },
  {
   "cell_type": "code",
   "execution_count": null,
   "metadata": {
    "ExecuteTime": {
     "end_time": "2021-03-11T11:19:26.762788Z",
     "start_time": "2021-03-11T11:19:24.961Z"
    },
    "scrolled": false
   },
   "outputs": [],
   "source": [
    "distplots(kc, 'renovation_ind', 'price', 10)"
   ]
  },
  {
   "cell_type": "markdown",
   "metadata": {},
   "source": [
    "**Notes on Renovation Indicator**\n",
    "- Small sample of 744 but median price is ~25% higher"
   ]
  },
  {
   "cell_type": "markdown",
   "metadata": {},
   "source": [
    "#### View"
   ]
  },
  {
   "cell_type": "code",
   "execution_count": null,
   "metadata": {
    "ExecuteTime": {
     "end_time": "2021-03-11T11:19:26.763297Z",
     "start_time": "2021-03-11T11:19:24.966Z"
    },
    "scrolled": false
   },
   "outputs": [],
   "source": [
    "distplots(kc, 'view', 'price', 10)\n",
    "plt.show()"
   ]
  },
  {
   "cell_type": "markdown",
   "metadata": {},
   "source": [
    "**Notes on View**\n",
    "- Only about 10% have a view value but media prices definitely get a lift, especially views 3/4"
   ]
  },
  {
   "cell_type": "markdown",
   "metadata": {},
   "source": [
    "#### Zip"
   ]
  },
  {
   "cell_type": "code",
   "execution_count": null,
   "metadata": {
    "ExecuteTime": {
     "end_time": "2021-03-11T11:19:26.763814Z",
     "start_time": "2021-03-11T11:19:24.970Z"
    },
    "scrolled": false
   },
   "outputs": [],
   "source": [
    "# Boxplot showing distributions of sales price by zipcode\n",
    "plt.figure(figsize=(18,8))\n",
    "sns.boxplot(data=kc, x='zipcode', y='price')\n",
    "plt.xticks(rotation=70)\n",
    "plt.tight_layout()\n",
    "plt.show()"
   ]
  },
  {
   "cell_type": "markdown",
   "metadata": {},
   "source": [
    "**Notes on Zip**\n",
    "- 70 distinct zip codes\n",
    "- Zipcode definitely influence prices and price distributions\n",
    "- Medians above \\\\$1M: 3 zips, Upper Whiskers above \\\\$1M: 8\n",
    "- Outliers above \\\\$4M: 6 zips "
   ]
  },
  {
   "cell_type": "code",
   "execution_count": null,
   "metadata": {
    "ExecuteTime": {
     "end_time": "2021-03-11T11:19:26.764418Z",
     "start_time": "2021-03-11T11:19:24.973Z"
    },
    "scrolled": false
   },
   "outputs": [],
   "source": [
    "# Boxplot showing distributions of sales price by zipcode (no outliers shown)\n",
    "plt.figure(figsize=(18,8))\n",
    "sns.boxplot(data=kc, x='zipcode', y='price', showfliers=False)\n",
    "plt.xticks(rotation=70)\n",
    "plt.tight_layout()\n",
    "plt.show()"
   ]
  },
  {
   "cell_type": "code",
   "execution_count": null,
   "metadata": {
    "ExecuteTime": {
     "end_time": "2021-03-11T11:19:26.764938Z",
     "start_time": "2021-03-11T11:19:24.976Z"
    },
    "scrolled": false
   },
   "outputs": [],
   "source": [
    "# Boxplot showing distributions of sales price by zipcode (no outliers shown)\n",
    "plt.figure(figsize=(12,6))\n",
    "sns.boxplot(data=kc, x='price_sf_box_decile', y='price_sf', showfliers=False)\n",
    "plt.xticks(rotation=70)\n",
    "plt.tight_layout()\n",
    "plt.show()"
   ]
  },
  {
   "cell_type": "markdown",
   "metadata": {},
   "source": [
    "### Continuous Profiles"
   ]
  },
  {
   "cell_type": "code",
   "execution_count": null,
   "metadata": {
    "ExecuteTime": {
     "end_time": "2021-03-11T11:19:26.765389Z",
     "start_time": "2021-03-11T11:19:24.979Z"
    },
    "scrolled": true
   },
   "outputs": [],
   "source": [
    "# Columns on which to generate histograms to distribution exploration\n",
    "pair_col1 = ['price','price_log','floors','bedrooms','bathrooms','waterfront','view','condition','grade','basement_ind','yr_built','renovation_ind']\n",
    "pair_col2 = ['price','price_log','sqft_living','sqft_living_log','sqft_lot','sqft_lot_log','sqft_above','sqft_basement','sqft_living15','sqft_lot15','sqft_lot15_log']\n",
    "pair_col3 = ['price','price_log','miles_fr_seattle','miles_fr_seattle_log','miles_fr_seattle_sqrt']\n",
    "\n",
    "# function for scatterplot and diagonal histogram matrix for list of columns\n",
    "def pairplot(df, column_list):\n",
    "    g = sns.pairplot(df[column_list], palette='Set2', kind='scatter', diag_kind='kde', height=1)"
   ]
  },
  {
   "cell_type": "markdown",
   "metadata": {},
   "source": [
    "#### Pairgrid 1"
   ]
  },
  {
   "cell_type": "code",
   "execution_count": null,
   "metadata": {
    "ExecuteTime": {
     "end_time": "2021-03-11T11:19:26.765969Z",
     "start_time": "2021-03-11T11:19:24.982Z"
    },
    "scrolled": false
   },
   "outputs": [],
   "source": [
    "# plot the pairgrid for column set #1\n",
    "pairplot(kc, pair_col1)"
   ]
  },
  {
   "cell_type": "markdown",
   "metadata": {},
   "source": [
    "**Notes of Pairgrid 1**\n",
    "- sqft_living and sqft_above have linear relations to price, pairplot between them definitely colinear\n",
    "- sqft_lot doesn't seem to matter much to price, but let's check for extreme outliers to see if they impact"
   ]
  },
  {
   "cell_type": "markdown",
   "metadata": {},
   "source": [
    "#### Pairgrid 2"
   ]
  },
  {
   "cell_type": "code",
   "execution_count": null,
   "metadata": {
    "ExecuteTime": {
     "end_time": "2021-03-11T11:19:26.766556Z",
     "start_time": "2021-03-11T11:19:24.987Z"
    },
    "scrolled": false
   },
   "outputs": [],
   "source": [
    "# plot the pairgrid for column set #2\n",
    "pairplot(kc, pair_col2)"
   ]
  },
  {
   "cell_type": "markdown",
   "metadata": {},
   "source": [
    "**Notes of Pairgrid 2**\n",
    "- sqft_living15 (nearest 15 neighbors) has linear relations to price, but also to sqft_living (with more spread). Check collinearity\n",
    "- sqft_lot15 doesn't seem to matter much to price"
   ]
  },
  {
   "cell_type": "markdown",
   "metadata": {},
   "source": [
    "#### Pairgrid 3"
   ]
  },
  {
   "cell_type": "code",
   "execution_count": null,
   "metadata": {
    "ExecuteTime": {
     "end_time": "2021-03-11T11:19:26.767114Z",
     "start_time": "2021-03-11T11:19:24.991Z"
    },
    "scrolled": false
   },
   "outputs": [],
   "source": [
    "# plot the pairgrid for column set #2\n",
    "pairplot(kc, pair_col3)"
   ]
  },
  {
   "cell_type": "markdown",
   "metadata": {},
   "source": [
    "**Notes of Pairgrid 2**\n",
    "- sqft_living15 (nearest 15 neighbors) has linear relations to price, but also to sqft_living (with more spread). Check collinearity\n",
    "- sqft_lot15 doesn't seem to matter much to price"
   ]
  },
  {
   "cell_type": "markdown",
   "metadata": {},
   "source": [
    "# Model Preparation"
   ]
  },
  {
   "cell_type": "markdown",
   "metadata": {},
   "source": [
    "### Correlations"
   ]
  },
  {
   "cell_type": "code",
   "execution_count": null,
   "metadata": {
    "ExecuteTime": {
     "end_time": "2021-03-11T11:19:26.767609Z",
     "start_time": "2021-03-11T11:19:24.997Z"
    },
    "scrolled": true
   },
   "outputs": [],
   "source": [
    "corr = kc.corr()\n",
    "corr"
   ]
  },
  {
   "cell_type": "code",
   "execution_count": null,
   "metadata": {
    "ExecuteTime": {
     "end_time": "2021-03-11T11:19:26.768112Z",
     "start_time": "2021-03-11T11:19:24.999Z"
    },
    "scrolled": true
   },
   "outputs": [],
   "source": [
    "corr['price'].sort_values(ascending=False)"
   ]
  },
  {
   "cell_type": "code",
   "execution_count": null,
   "metadata": {
    "ExecuteTime": {
     "end_time": "2021-03-11T11:19:26.768596Z",
     "start_time": "2021-03-11T11:19:25.002Z"
    },
    "scrolled": true
   },
   "outputs": [],
   "source": [
    "corr['price_log'].sort_values(ascending=False)"
   ]
  },
  {
   "cell_type": "markdown",
   "metadata": {},
   "source": [
    "**Notes on Price Correlation**\n",
    "- Strong correlations (0.6-0.8): sqft_living, grade, sqft_above\n",
    "- Moderate correlations (0.4-0.6): sqft_living15, bathrooms, view"
   ]
  },
  {
   "cell_type": "code",
   "execution_count": null,
   "metadata": {
    "ExecuteTime": {
     "end_time": "2021-03-11T11:19:26.769254Z",
     "start_time": "2021-03-11T11:19:25.005Z"
    },
    "scrolled": false
   },
   "outputs": [],
   "source": [
    "f, ax = plt.subplots(figsize=(18,15))\n",
    "sns.heatmap(corr, center=0, linewidths=0.4, cmap='coolwarm', square=True, annot=True, cbar_kws={'shrink': 0.6})\n",
    "plt.show()"
   ]
  },
  {
   "cell_type": "markdown",
   "metadata": {},
   "source": [
    "### Multi-Colinearity"
   ]
  },
  {
   "cell_type": "code",
   "execution_count": null,
   "metadata": {
    "ExecuteTime": {
     "end_time": "2021-03-11T11:19:26.769744Z",
     "start_time": "2021-03-11T11:19:25.008Z"
    },
    "scrolled": true
   },
   "outputs": [],
   "source": [
    "# Check for collinearity among potential predicator values by pairs\n",
    "df=corr.stack().reset_index().sort_values(0, ascending=False)\n",
    "# zip the variable name columns (Which were only named level_0 and level_1 by default) in a new column named \"pairs\"\n",
    "df['pairs'] = list(zip(df.level_0, df.level_1))\n",
    "# set index to pairs\n",
    "df.set_index(['pairs'], inplace = True)\n",
    "#d rop level columns\n",
    "df.drop(columns=['level_1', 'level_0'], inplace = True)\n",
    "# rename correlation column as cc rather than 0\n",
    "df.columns = ['correlation']\n",
    "# drop duplicates\n",
    "df.drop_duplicates(inplace=True)\n",
    "df[abs(df.correlation) > .65]"
   ]
  },
  {
   "cell_type": "markdown",
   "metadata": {
    "ExecuteTime": {
     "end_time": "2021-03-04T22:05:03.860543Z",
     "start_time": "2021-03-04T22:05:03.856361Z"
    }
   },
   "source": [
    "**Notes on multi-colinearity**\n",
    "- Ignore logs of columns compared to source column.\n",
    "- Probably don't need sqft_living and sqft_above (0.88) as highly duplicatative.\n",
    "- sqft_living and grade at 0.76 leave in for now (grade should be independent of sqft)\n",
    "- sqft_living and bathrooms at 0.76 leave in for now (common knowledge pricing is set by # bathrooms somewhat independent of sqft?)\n",
    "- Bathrooms and grade at 0.67, leave for now perhaps look at interaction term."
   ]
  },
  {
   "cell_type": "markdown",
   "metadata": {},
   "source": [
    "### One-hot encoding"
   ]
  },
  {
   "cell_type": "code",
   "execution_count": 121,
   "metadata": {
    "ExecuteTime": {
     "end_time": "2021-03-11T12:28:23.619727Z",
     "start_time": "2021-03-11T12:28:23.606216Z"
    }
   },
   "outputs": [],
   "source": [
    "# Convert category variables data type\n",
    "categoricals= ['condition_grp','zipcode']\n",
    "kc[categoricals] = kc[categoricals].astype('category')"
   ]
  },
  {
   "cell_type": "code",
   "execution_count": 122,
   "metadata": {
    "ExecuteTime": {
     "end_time": "2021-03-11T12:28:24.652978Z",
     "start_time": "2021-03-11T12:28:24.609008Z"
    },
    "scrolled": false
   },
   "outputs": [
    {
     "data": {
      "text/html": [
       "<div>\n",
       "<style scoped>\n",
       "    .dataframe tbody tr th:only-of-type {\n",
       "        vertical-align: middle;\n",
       "    }\n",
       "\n",
       "    .dataframe tbody tr th {\n",
       "        vertical-align: top;\n",
       "    }\n",
       "\n",
       "    .dataframe thead th {\n",
       "        text-align: right;\n",
       "    }\n",
       "</style>\n",
       "<table border=\"1\" class=\"dataframe\">\n",
       "  <thead>\n",
       "    <tr style=\"text-align: right;\">\n",
       "      <th></th>\n",
       "      <th>condition_grp_excellent</th>\n",
       "      <th>condition_grp_poor</th>\n",
       "      <th>zipcode_98002</th>\n",
       "      <th>zipcode_98003</th>\n",
       "      <th>zipcode_98004</th>\n",
       "      <th>zipcode_98005</th>\n",
       "      <th>zipcode_98006</th>\n",
       "      <th>zipcode_98007</th>\n",
       "      <th>zipcode_98008</th>\n",
       "      <th>zipcode_98010</th>\n",
       "      <th>zipcode_98011</th>\n",
       "      <th>zipcode_98014</th>\n",
       "      <th>zipcode_98019</th>\n",
       "      <th>zipcode_98022</th>\n",
       "      <th>zipcode_98023</th>\n",
       "      <th>zipcode_98024</th>\n",
       "      <th>zipcode_98027</th>\n",
       "      <th>zipcode_98028</th>\n",
       "      <th>zipcode_98029</th>\n",
       "      <th>zipcode_98030</th>\n",
       "      <th>zipcode_98031</th>\n",
       "      <th>zipcode_98032</th>\n",
       "      <th>zipcode_98033</th>\n",
       "      <th>zipcode_98034</th>\n",
       "      <th>zipcode_98038</th>\n",
       "      <th>zipcode_98039</th>\n",
       "      <th>zipcode_98040</th>\n",
       "      <th>zipcode_98042</th>\n",
       "      <th>zipcode_98045</th>\n",
       "      <th>zipcode_98052</th>\n",
       "      <th>zipcode_98053</th>\n",
       "      <th>zipcode_98055</th>\n",
       "      <th>zipcode_98056</th>\n",
       "      <th>zipcode_98058</th>\n",
       "      <th>zipcode_98059</th>\n",
       "      <th>zipcode_98065</th>\n",
       "      <th>zipcode_98070</th>\n",
       "      <th>zipcode_98072</th>\n",
       "      <th>zipcode_98074</th>\n",
       "      <th>zipcode_98075</th>\n",
       "      <th>zipcode_98077</th>\n",
       "      <th>zipcode_98092</th>\n",
       "      <th>zipcode_98102</th>\n",
       "      <th>zipcode_98103</th>\n",
       "      <th>zipcode_98105</th>\n",
       "      <th>zipcode_98106</th>\n",
       "      <th>zipcode_98107</th>\n",
       "      <th>zipcode_98108</th>\n",
       "      <th>zipcode_98109</th>\n",
       "      <th>zipcode_98112</th>\n",
       "      <th>zipcode_98115</th>\n",
       "      <th>zipcode_98116</th>\n",
       "      <th>zipcode_98117</th>\n",
       "      <th>zipcode_98118</th>\n",
       "      <th>zipcode_98119</th>\n",
       "      <th>zipcode_98122</th>\n",
       "      <th>zipcode_98125</th>\n",
       "      <th>zipcode_98126</th>\n",
       "      <th>zipcode_98133</th>\n",
       "      <th>zipcode_98136</th>\n",
       "      <th>zipcode_98144</th>\n",
       "      <th>zipcode_98146</th>\n",
       "      <th>zipcode_98148</th>\n",
       "      <th>zipcode_98155</th>\n",
       "      <th>zipcode_98166</th>\n",
       "      <th>zipcode_98168</th>\n",
       "      <th>zipcode_98177</th>\n",
       "      <th>zipcode_98178</th>\n",
       "      <th>zipcode_98188</th>\n",
       "      <th>zipcode_98198</th>\n",
       "      <th>zipcode_98199</th>\n",
       "    </tr>\n",
       "  </thead>\n",
       "  <tbody>\n",
       "    <tr>\n",
       "      <th>0</th>\n",
       "      <td>0</td>\n",
       "      <td>0</td>\n",
       "      <td>0</td>\n",
       "      <td>0</td>\n",
       "      <td>0</td>\n",
       "      <td>0</td>\n",
       "      <td>0</td>\n",
       "      <td>0</td>\n",
       "      <td>0</td>\n",
       "      <td>0</td>\n",
       "      <td>0</td>\n",
       "      <td>0</td>\n",
       "      <td>0</td>\n",
       "      <td>0</td>\n",
       "      <td>0</td>\n",
       "      <td>0</td>\n",
       "      <td>0</td>\n",
       "      <td>0</td>\n",
       "      <td>0</td>\n",
       "      <td>0</td>\n",
       "      <td>0</td>\n",
       "      <td>0</td>\n",
       "      <td>0</td>\n",
       "      <td>0</td>\n",
       "      <td>0</td>\n",
       "      <td>0</td>\n",
       "      <td>0</td>\n",
       "      <td>0</td>\n",
       "      <td>0</td>\n",
       "      <td>0</td>\n",
       "      <td>0</td>\n",
       "      <td>0</td>\n",
       "      <td>0</td>\n",
       "      <td>0</td>\n",
       "      <td>0</td>\n",
       "      <td>0</td>\n",
       "      <td>0</td>\n",
       "      <td>0</td>\n",
       "      <td>0</td>\n",
       "      <td>0</td>\n",
       "      <td>0</td>\n",
       "      <td>0</td>\n",
       "      <td>0</td>\n",
       "      <td>0</td>\n",
       "      <td>0</td>\n",
       "      <td>0</td>\n",
       "      <td>0</td>\n",
       "      <td>0</td>\n",
       "      <td>0</td>\n",
       "      <td>0</td>\n",
       "      <td>0</td>\n",
       "      <td>0</td>\n",
       "      <td>0</td>\n",
       "      <td>0</td>\n",
       "      <td>0</td>\n",
       "      <td>0</td>\n",
       "      <td>0</td>\n",
       "      <td>0</td>\n",
       "      <td>0</td>\n",
       "      <td>0</td>\n",
       "      <td>0</td>\n",
       "      <td>0</td>\n",
       "      <td>0</td>\n",
       "      <td>0</td>\n",
       "      <td>0</td>\n",
       "      <td>0</td>\n",
       "      <td>0</td>\n",
       "      <td>1</td>\n",
       "      <td>0</td>\n",
       "      <td>0</td>\n",
       "      <td>0</td>\n",
       "    </tr>\n",
       "    <tr>\n",
       "      <th>1</th>\n",
       "      <td>0</td>\n",
       "      <td>0</td>\n",
       "      <td>0</td>\n",
       "      <td>0</td>\n",
       "      <td>0</td>\n",
       "      <td>0</td>\n",
       "      <td>0</td>\n",
       "      <td>0</td>\n",
       "      <td>0</td>\n",
       "      <td>0</td>\n",
       "      <td>0</td>\n",
       "      <td>0</td>\n",
       "      <td>0</td>\n",
       "      <td>0</td>\n",
       "      <td>0</td>\n",
       "      <td>0</td>\n",
       "      <td>0</td>\n",
       "      <td>0</td>\n",
       "      <td>0</td>\n",
       "      <td>0</td>\n",
       "      <td>0</td>\n",
       "      <td>0</td>\n",
       "      <td>0</td>\n",
       "      <td>0</td>\n",
       "      <td>0</td>\n",
       "      <td>0</td>\n",
       "      <td>0</td>\n",
       "      <td>0</td>\n",
       "      <td>0</td>\n",
       "      <td>0</td>\n",
       "      <td>0</td>\n",
       "      <td>0</td>\n",
       "      <td>0</td>\n",
       "      <td>0</td>\n",
       "      <td>0</td>\n",
       "      <td>0</td>\n",
       "      <td>0</td>\n",
       "      <td>0</td>\n",
       "      <td>0</td>\n",
       "      <td>0</td>\n",
       "      <td>0</td>\n",
       "      <td>0</td>\n",
       "      <td>0</td>\n",
       "      <td>0</td>\n",
       "      <td>0</td>\n",
       "      <td>0</td>\n",
       "      <td>0</td>\n",
       "      <td>0</td>\n",
       "      <td>0</td>\n",
       "      <td>0</td>\n",
       "      <td>0</td>\n",
       "      <td>0</td>\n",
       "      <td>0</td>\n",
       "      <td>0</td>\n",
       "      <td>0</td>\n",
       "      <td>0</td>\n",
       "      <td>1</td>\n",
       "      <td>0</td>\n",
       "      <td>0</td>\n",
       "      <td>0</td>\n",
       "      <td>0</td>\n",
       "      <td>0</td>\n",
       "      <td>0</td>\n",
       "      <td>0</td>\n",
       "      <td>0</td>\n",
       "      <td>0</td>\n",
       "      <td>0</td>\n",
       "      <td>0</td>\n",
       "      <td>0</td>\n",
       "      <td>0</td>\n",
       "      <td>0</td>\n",
       "    </tr>\n",
       "    <tr>\n",
       "      <th>2</th>\n",
       "      <td>0</td>\n",
       "      <td>0</td>\n",
       "      <td>0</td>\n",
       "      <td>0</td>\n",
       "      <td>0</td>\n",
       "      <td>0</td>\n",
       "      <td>0</td>\n",
       "      <td>0</td>\n",
       "      <td>0</td>\n",
       "      <td>0</td>\n",
       "      <td>0</td>\n",
       "      <td>0</td>\n",
       "      <td>0</td>\n",
       "      <td>0</td>\n",
       "      <td>0</td>\n",
       "      <td>0</td>\n",
       "      <td>0</td>\n",
       "      <td>1</td>\n",
       "      <td>0</td>\n",
       "      <td>0</td>\n",
       "      <td>0</td>\n",
       "      <td>0</td>\n",
       "      <td>0</td>\n",
       "      <td>0</td>\n",
       "      <td>0</td>\n",
       "      <td>0</td>\n",
       "      <td>0</td>\n",
       "      <td>0</td>\n",
       "      <td>0</td>\n",
       "      <td>0</td>\n",
       "      <td>0</td>\n",
       "      <td>0</td>\n",
       "      <td>0</td>\n",
       "      <td>0</td>\n",
       "      <td>0</td>\n",
       "      <td>0</td>\n",
       "      <td>0</td>\n",
       "      <td>0</td>\n",
       "      <td>0</td>\n",
       "      <td>0</td>\n",
       "      <td>0</td>\n",
       "      <td>0</td>\n",
       "      <td>0</td>\n",
       "      <td>0</td>\n",
       "      <td>0</td>\n",
       "      <td>0</td>\n",
       "      <td>0</td>\n",
       "      <td>0</td>\n",
       "      <td>0</td>\n",
       "      <td>0</td>\n",
       "      <td>0</td>\n",
       "      <td>0</td>\n",
       "      <td>0</td>\n",
       "      <td>0</td>\n",
       "      <td>0</td>\n",
       "      <td>0</td>\n",
       "      <td>0</td>\n",
       "      <td>0</td>\n",
       "      <td>0</td>\n",
       "      <td>0</td>\n",
       "      <td>0</td>\n",
       "      <td>0</td>\n",
       "      <td>0</td>\n",
       "      <td>0</td>\n",
       "      <td>0</td>\n",
       "      <td>0</td>\n",
       "      <td>0</td>\n",
       "      <td>0</td>\n",
       "      <td>0</td>\n",
       "      <td>0</td>\n",
       "      <td>0</td>\n",
       "    </tr>\n",
       "    <tr>\n",
       "      <th>3</th>\n",
       "      <td>1</td>\n",
       "      <td>0</td>\n",
       "      <td>0</td>\n",
       "      <td>0</td>\n",
       "      <td>0</td>\n",
       "      <td>0</td>\n",
       "      <td>0</td>\n",
       "      <td>0</td>\n",
       "      <td>0</td>\n",
       "      <td>0</td>\n",
       "      <td>0</td>\n",
       "      <td>0</td>\n",
       "      <td>0</td>\n",
       "      <td>0</td>\n",
       "      <td>0</td>\n",
       "      <td>0</td>\n",
       "      <td>0</td>\n",
       "      <td>0</td>\n",
       "      <td>0</td>\n",
       "      <td>0</td>\n",
       "      <td>0</td>\n",
       "      <td>0</td>\n",
       "      <td>0</td>\n",
       "      <td>0</td>\n",
       "      <td>0</td>\n",
       "      <td>0</td>\n",
       "      <td>0</td>\n",
       "      <td>0</td>\n",
       "      <td>0</td>\n",
       "      <td>0</td>\n",
       "      <td>0</td>\n",
       "      <td>0</td>\n",
       "      <td>0</td>\n",
       "      <td>0</td>\n",
       "      <td>0</td>\n",
       "      <td>0</td>\n",
       "      <td>0</td>\n",
       "      <td>0</td>\n",
       "      <td>0</td>\n",
       "      <td>0</td>\n",
       "      <td>0</td>\n",
       "      <td>0</td>\n",
       "      <td>0</td>\n",
       "      <td>0</td>\n",
       "      <td>0</td>\n",
       "      <td>0</td>\n",
       "      <td>0</td>\n",
       "      <td>0</td>\n",
       "      <td>0</td>\n",
       "      <td>0</td>\n",
       "      <td>0</td>\n",
       "      <td>0</td>\n",
       "      <td>0</td>\n",
       "      <td>0</td>\n",
       "      <td>0</td>\n",
       "      <td>0</td>\n",
       "      <td>0</td>\n",
       "      <td>0</td>\n",
       "      <td>0</td>\n",
       "      <td>1</td>\n",
       "      <td>0</td>\n",
       "      <td>0</td>\n",
       "      <td>0</td>\n",
       "      <td>0</td>\n",
       "      <td>0</td>\n",
       "      <td>0</td>\n",
       "      <td>0</td>\n",
       "      <td>0</td>\n",
       "      <td>0</td>\n",
       "      <td>0</td>\n",
       "      <td>0</td>\n",
       "    </tr>\n",
       "    <tr>\n",
       "      <th>4</th>\n",
       "      <td>0</td>\n",
       "      <td>0</td>\n",
       "      <td>0</td>\n",
       "      <td>0</td>\n",
       "      <td>0</td>\n",
       "      <td>0</td>\n",
       "      <td>0</td>\n",
       "      <td>0</td>\n",
       "      <td>0</td>\n",
       "      <td>0</td>\n",
       "      <td>0</td>\n",
       "      <td>0</td>\n",
       "      <td>0</td>\n",
       "      <td>0</td>\n",
       "      <td>0</td>\n",
       "      <td>0</td>\n",
       "      <td>0</td>\n",
       "      <td>0</td>\n",
       "      <td>0</td>\n",
       "      <td>0</td>\n",
       "      <td>0</td>\n",
       "      <td>0</td>\n",
       "      <td>0</td>\n",
       "      <td>0</td>\n",
       "      <td>0</td>\n",
       "      <td>0</td>\n",
       "      <td>0</td>\n",
       "      <td>0</td>\n",
       "      <td>0</td>\n",
       "      <td>0</td>\n",
       "      <td>0</td>\n",
       "      <td>0</td>\n",
       "      <td>0</td>\n",
       "      <td>0</td>\n",
       "      <td>0</td>\n",
       "      <td>0</td>\n",
       "      <td>0</td>\n",
       "      <td>0</td>\n",
       "      <td>1</td>\n",
       "      <td>0</td>\n",
       "      <td>0</td>\n",
       "      <td>0</td>\n",
       "      <td>0</td>\n",
       "      <td>0</td>\n",
       "      <td>0</td>\n",
       "      <td>0</td>\n",
       "      <td>0</td>\n",
       "      <td>0</td>\n",
       "      <td>0</td>\n",
       "      <td>0</td>\n",
       "      <td>0</td>\n",
       "      <td>0</td>\n",
       "      <td>0</td>\n",
       "      <td>0</td>\n",
       "      <td>0</td>\n",
       "      <td>0</td>\n",
       "      <td>0</td>\n",
       "      <td>0</td>\n",
       "      <td>0</td>\n",
       "      <td>0</td>\n",
       "      <td>0</td>\n",
       "      <td>0</td>\n",
       "      <td>0</td>\n",
       "      <td>0</td>\n",
       "      <td>0</td>\n",
       "      <td>0</td>\n",
       "      <td>0</td>\n",
       "      <td>0</td>\n",
       "      <td>0</td>\n",
       "      <td>0</td>\n",
       "      <td>0</td>\n",
       "    </tr>\n",
       "  </tbody>\n",
       "</table>\n",
       "</div>"
      ],
      "text/plain": [
       "   condition_grp_excellent  condition_grp_poor  zipcode_98002  zipcode_98003  \\\n",
       "0                        0                   0              0              0   \n",
       "1                        0                   0              0              0   \n",
       "2                        0                   0              0              0   \n",
       "3                        1                   0              0              0   \n",
       "4                        0                   0              0              0   \n",
       "\n",
       "   zipcode_98004  zipcode_98005  zipcode_98006  zipcode_98007  zipcode_98008  \\\n",
       "0              0              0              0              0              0   \n",
       "1              0              0              0              0              0   \n",
       "2              0              0              0              0              0   \n",
       "3              0              0              0              0              0   \n",
       "4              0              0              0              0              0   \n",
       "\n",
       "   zipcode_98010  zipcode_98011  zipcode_98014  zipcode_98019  zipcode_98022  \\\n",
       "0              0              0              0              0              0   \n",
       "1              0              0              0              0              0   \n",
       "2              0              0              0              0              0   \n",
       "3              0              0              0              0              0   \n",
       "4              0              0              0              0              0   \n",
       "\n",
       "   zipcode_98023  zipcode_98024  zipcode_98027  zipcode_98028  zipcode_98029  \\\n",
       "0              0              0              0              0              0   \n",
       "1              0              0              0              0              0   \n",
       "2              0              0              0              1              0   \n",
       "3              0              0              0              0              0   \n",
       "4              0              0              0              0              0   \n",
       "\n",
       "   zipcode_98030  zipcode_98031  zipcode_98032  zipcode_98033  zipcode_98034  \\\n",
       "0              0              0              0              0              0   \n",
       "1              0              0              0              0              0   \n",
       "2              0              0              0              0              0   \n",
       "3              0              0              0              0              0   \n",
       "4              0              0              0              0              0   \n",
       "\n",
       "   zipcode_98038  zipcode_98039  zipcode_98040  zipcode_98042  zipcode_98045  \\\n",
       "0              0              0              0              0              0   \n",
       "1              0              0              0              0              0   \n",
       "2              0              0              0              0              0   \n",
       "3              0              0              0              0              0   \n",
       "4              0              0              0              0              0   \n",
       "\n",
       "   zipcode_98052  zipcode_98053  zipcode_98055  zipcode_98056  zipcode_98058  \\\n",
       "0              0              0              0              0              0   \n",
       "1              0              0              0              0              0   \n",
       "2              0              0              0              0              0   \n",
       "3              0              0              0              0              0   \n",
       "4              0              0              0              0              0   \n",
       "\n",
       "   zipcode_98059  zipcode_98065  zipcode_98070  zipcode_98072  zipcode_98074  \\\n",
       "0              0              0              0              0              0   \n",
       "1              0              0              0              0              0   \n",
       "2              0              0              0              0              0   \n",
       "3              0              0              0              0              0   \n",
       "4              0              0              0              0              1   \n",
       "\n",
       "   zipcode_98075  zipcode_98077  zipcode_98092  zipcode_98102  zipcode_98103  \\\n",
       "0              0              0              0              0              0   \n",
       "1              0              0              0              0              0   \n",
       "2              0              0              0              0              0   \n",
       "3              0              0              0              0              0   \n",
       "4              0              0              0              0              0   \n",
       "\n",
       "   zipcode_98105  zipcode_98106  zipcode_98107  zipcode_98108  zipcode_98109  \\\n",
       "0              0              0              0              0              0   \n",
       "1              0              0              0              0              0   \n",
       "2              0              0              0              0              0   \n",
       "3              0              0              0              0              0   \n",
       "4              0              0              0              0              0   \n",
       "\n",
       "   zipcode_98112  zipcode_98115  zipcode_98116  zipcode_98117  zipcode_98118  \\\n",
       "0              0              0              0              0              0   \n",
       "1              0              0              0              0              0   \n",
       "2              0              0              0              0              0   \n",
       "3              0              0              0              0              0   \n",
       "4              0              0              0              0              0   \n",
       "\n",
       "   zipcode_98119  zipcode_98122  zipcode_98125  zipcode_98126  zipcode_98133  \\\n",
       "0              0              0              0              0              0   \n",
       "1              0              0              1              0              0   \n",
       "2              0              0              0              0              0   \n",
       "3              0              0              0              0              0   \n",
       "4              0              0              0              0              0   \n",
       "\n",
       "   zipcode_98136  zipcode_98144  zipcode_98146  zipcode_98148  zipcode_98155  \\\n",
       "0              0              0              0              0              0   \n",
       "1              0              0              0              0              0   \n",
       "2              0              0              0              0              0   \n",
       "3              1              0              0              0              0   \n",
       "4              0              0              0              0              0   \n",
       "\n",
       "   zipcode_98166  zipcode_98168  zipcode_98177  zipcode_98178  zipcode_98188  \\\n",
       "0              0              0              0              1              0   \n",
       "1              0              0              0              0              0   \n",
       "2              0              0              0              0              0   \n",
       "3              0              0              0              0              0   \n",
       "4              0              0              0              0              0   \n",
       "\n",
       "   zipcode_98198  zipcode_98199  \n",
       "0              0              0  \n",
       "1              0              0  \n",
       "2              0              0  \n",
       "3              0              0  \n",
       "4              0              0  "
      ]
     },
     "execution_count": 122,
     "metadata": {},
     "output_type": "execute_result"
    }
   ],
   "source": [
    "# one hot encode categoricals\n",
    "kc_ohe = pd.get_dummies(kc[categoricals], drop_first=True)\n",
    "kc_ohe.head()"
   ]
  },
  {
   "cell_type": "code",
   "execution_count": 123,
   "metadata": {
    "ExecuteTime": {
     "end_time": "2021-03-11T12:28:27.153979Z",
     "start_time": "2021-03-11T12:28:27.097474Z"
    }
   },
   "outputs": [
    {
     "data": {
      "text/html": [
       "<div>\n",
       "<style scoped>\n",
       "    .dataframe tbody tr th:only-of-type {\n",
       "        vertical-align: middle;\n",
       "    }\n",
       "\n",
       "    .dataframe tbody tr th {\n",
       "        vertical-align: top;\n",
       "    }\n",
       "\n",
       "    .dataframe thead th {\n",
       "        text-align: right;\n",
       "    }\n",
       "</style>\n",
       "<table border=\"1\" class=\"dataframe\">\n",
       "  <thead>\n",
       "    <tr style=\"text-align: right;\">\n",
       "      <th></th>\n",
       "      <th>price_sf_log</th>\n",
       "      <th>price</th>\n",
       "      <th>price_log</th>\n",
       "      <th>bedrooms</th>\n",
       "      <th>price_box</th>\n",
       "      <th>bedrooms_log</th>\n",
       "      <th>bedrooms_box</th>\n",
       "      <th>sqft_per_bedroom</th>\n",
       "      <th>sqft_per_bedroom_log</th>\n",
       "      <th>bedroom_der</th>\n",
       "      <th>bathrooms</th>\n",
       "      <th>bathrooms_log</th>\n",
       "      <th>bathrooms_box</th>\n",
       "      <th>sqft_living</th>\n",
       "      <th>sqft_lot</th>\n",
       "      <th>sqft_living_log</th>\n",
       "      <th>sqft_living_box</th>\n",
       "      <th>floors</th>\n",
       "      <th>sqft_lot_log</th>\n",
       "      <th>sqft_lot_box</th>\n",
       "      <th>waterfront</th>\n",
       "      <th>view</th>\n",
       "      <th>condition</th>\n",
       "      <th>condition_grp</th>\n",
       "      <th>grade</th>\n",
       "      <th>sqft_above</th>\n",
       "      <th>sqft_basement</th>\n",
       "      <th>sqft_above_log</th>\n",
       "      <th>basement_ind</th>\n",
       "      <th>yr_built</th>\n",
       "      <th>yr_renovated</th>\n",
       "      <th>renovation_ind</th>\n",
       "      <th>zipcode</th>\n",
       "      <th>miles_fr_seattle_log</th>\n",
       "      <th>sqft_living15</th>\n",
       "      <th>sqft_lot15</th>\n",
       "      <th>sqft_lot15_log</th>\n",
       "      <th>miles_fr_seattle</th>\n",
       "      <th>miles_fr_seattle_sqrt</th>\n",
       "      <th>price_sf</th>\n",
       "      <th>price_sf_box</th>\n",
       "      <th>price_sf_box_decile</th>\n",
       "      <th>zip_psf_median</th>\n",
       "      <th>zip_psf_median_box</th>\n",
       "      <th>sales_cnt</th>\n",
       "      <th>year_month</th>\n",
       "      <th>condition_grp_excellent</th>\n",
       "      <th>condition_grp_poor</th>\n",
       "      <th>zipcode_98002</th>\n",
       "      <th>zipcode_98003</th>\n",
       "      <th>zipcode_98004</th>\n",
       "      <th>zipcode_98005</th>\n",
       "      <th>zipcode_98006</th>\n",
       "      <th>zipcode_98007</th>\n",
       "      <th>zipcode_98008</th>\n",
       "      <th>zipcode_98010</th>\n",
       "      <th>zipcode_98011</th>\n",
       "      <th>zipcode_98014</th>\n",
       "      <th>zipcode_98019</th>\n",
       "      <th>zipcode_98022</th>\n",
       "      <th>zipcode_98023</th>\n",
       "      <th>zipcode_98024</th>\n",
       "      <th>zipcode_98027</th>\n",
       "      <th>zipcode_98028</th>\n",
       "      <th>zipcode_98029</th>\n",
       "      <th>zipcode_98030</th>\n",
       "      <th>zipcode_98031</th>\n",
       "      <th>zipcode_98032</th>\n",
       "      <th>zipcode_98033</th>\n",
       "      <th>zipcode_98034</th>\n",
       "      <th>zipcode_98038</th>\n",
       "      <th>zipcode_98039</th>\n",
       "      <th>zipcode_98040</th>\n",
       "      <th>zipcode_98042</th>\n",
       "      <th>zipcode_98045</th>\n",
       "      <th>zipcode_98052</th>\n",
       "      <th>zipcode_98053</th>\n",
       "      <th>zipcode_98055</th>\n",
       "      <th>zipcode_98056</th>\n",
       "      <th>zipcode_98058</th>\n",
       "      <th>zipcode_98059</th>\n",
       "      <th>zipcode_98065</th>\n",
       "      <th>zipcode_98070</th>\n",
       "      <th>zipcode_98072</th>\n",
       "      <th>zipcode_98074</th>\n",
       "      <th>zipcode_98075</th>\n",
       "      <th>zipcode_98077</th>\n",
       "      <th>zipcode_98092</th>\n",
       "      <th>zipcode_98102</th>\n",
       "      <th>zipcode_98103</th>\n",
       "      <th>zipcode_98105</th>\n",
       "      <th>zipcode_98106</th>\n",
       "      <th>zipcode_98107</th>\n",
       "      <th>zipcode_98108</th>\n",
       "      <th>zipcode_98109</th>\n",
       "      <th>zipcode_98112</th>\n",
       "      <th>zipcode_98115</th>\n",
       "      <th>zipcode_98116</th>\n",
       "      <th>zipcode_98117</th>\n",
       "      <th>zipcode_98118</th>\n",
       "      <th>zipcode_98119</th>\n",
       "      <th>zipcode_98122</th>\n",
       "      <th>zipcode_98125</th>\n",
       "      <th>zipcode_98126</th>\n",
       "      <th>zipcode_98133</th>\n",
       "      <th>zipcode_98136</th>\n",
       "      <th>zipcode_98144</th>\n",
       "      <th>zipcode_98146</th>\n",
       "      <th>zipcode_98148</th>\n",
       "      <th>zipcode_98155</th>\n",
       "      <th>zipcode_98166</th>\n",
       "      <th>zipcode_98168</th>\n",
       "      <th>zipcode_98177</th>\n",
       "      <th>zipcode_98178</th>\n",
       "      <th>zipcode_98188</th>\n",
       "      <th>zipcode_98198</th>\n",
       "      <th>zipcode_98199</th>\n",
       "    </tr>\n",
       "  </thead>\n",
       "  <tbody>\n",
       "    <tr>\n",
       "      <th>0</th>\n",
       "      <td>5.23671239</td>\n",
       "      <td>221,900.00000000</td>\n",
       "      <td>12.30998211</td>\n",
       "      <td>3.00000000</td>\n",
       "      <td>4.00314587</td>\n",
       "      <td>1.09861229</td>\n",
       "      <td>1.54151148</td>\n",
       "      <td>393.33333333</td>\n",
       "      <td>5.97465743</td>\n",
       "      <td>3.00000000</td>\n",
       "      <td>1.00000000</td>\n",
       "      <td>0.00000000</td>\n",
       "      <td>0.00000000</td>\n",
       "      <td>1,180.00000000</td>\n",
       "      <td>5,650.00000000</td>\n",
       "      <td>7.07326972</td>\n",
       "      <td>7.65931218</td>\n",
       "      <td>1.00000000</td>\n",
       "      <td>8.63941082</td>\n",
       "      <td>4.20377896</td>\n",
       "      <td>0.00000000</td>\n",
       "      <td>0.00000000</td>\n",
       "      <td>3.00000000</td>\n",
       "      <td>average</td>\n",
       "      <td>7.00000000</td>\n",
       "      <td>1,180.00000000</td>\n",
       "      <td>0.00000000</td>\n",
       "      <td>7.07326972</td>\n",
       "      <td>0.00000000</td>\n",
       "      <td>1,955.00000000</td>\n",
       "      <td>0.00000000</td>\n",
       "      <td>0.00000000</td>\n",
       "      <td>98178</td>\n",
       "      <td>2.03046029</td>\n",
       "      <td>1,340.00000000</td>\n",
       "      <td>5,650.00000000</td>\n",
       "      <td>8.63941082</td>\n",
       "      <td>7.61759185</td>\n",
       "      <td>2.75999852</td>\n",
       "      <td>188.05084746</td>\n",
       "      <td>2.15349572</td>\n",
       "      <td>3.00000000</td>\n",
       "      <td>176.62345914</td>\n",
       "      <td>4.24084303</td>\n",
       "      <td>1</td>\n",
       "      <td>2014-10</td>\n",
       "      <td>0</td>\n",
       "      <td>0</td>\n",
       "      <td>0</td>\n",
       "      <td>0</td>\n",
       "      <td>0</td>\n",
       "      <td>0</td>\n",
       "      <td>0</td>\n",
       "      <td>0</td>\n",
       "      <td>0</td>\n",
       "      <td>0</td>\n",
       "      <td>0</td>\n",
       "      <td>0</td>\n",
       "      <td>0</td>\n",
       "      <td>0</td>\n",
       "      <td>0</td>\n",
       "      <td>0</td>\n",
       "      <td>0</td>\n",
       "      <td>0</td>\n",
       "      <td>0</td>\n",
       "      <td>0</td>\n",
       "      <td>0</td>\n",
       "      <td>0</td>\n",
       "      <td>0</td>\n",
       "      <td>0</td>\n",
       "      <td>0</td>\n",
       "      <td>0</td>\n",
       "      <td>0</td>\n",
       "      <td>0</td>\n",
       "      <td>0</td>\n",
       "      <td>0</td>\n",
       "      <td>0</td>\n",
       "      <td>0</td>\n",
       "      <td>0</td>\n",
       "      <td>0</td>\n",
       "      <td>0</td>\n",
       "      <td>0</td>\n",
       "      <td>0</td>\n",
       "      <td>0</td>\n",
       "      <td>0</td>\n",
       "      <td>0</td>\n",
       "      <td>0</td>\n",
       "      <td>0</td>\n",
       "      <td>0</td>\n",
       "      <td>0</td>\n",
       "      <td>0</td>\n",
       "      <td>0</td>\n",
       "      <td>0</td>\n",
       "      <td>0</td>\n",
       "      <td>0</td>\n",
       "      <td>0</td>\n",
       "      <td>0</td>\n",
       "      <td>0</td>\n",
       "      <td>0</td>\n",
       "      <td>0</td>\n",
       "      <td>0</td>\n",
       "      <td>0</td>\n",
       "      <td>0</td>\n",
       "      <td>0</td>\n",
       "      <td>0</td>\n",
       "      <td>0</td>\n",
       "      <td>0</td>\n",
       "      <td>0</td>\n",
       "      <td>0</td>\n",
       "      <td>0</td>\n",
       "      <td>0</td>\n",
       "      <td>0</td>\n",
       "      <td>0</td>\n",
       "      <td>1</td>\n",
       "      <td>0</td>\n",
       "      <td>0</td>\n",
       "      <td>0</td>\n",
       "    </tr>\n",
       "    <tr>\n",
       "      <th>1</th>\n",
       "      <td>5.34395266</td>\n",
       "      <td>538,000.00000000</td>\n",
       "      <td>13.19561384</td>\n",
       "      <td>3.00000000</td>\n",
       "      <td>4.04680802</td>\n",
       "      <td>1.09861229</td>\n",
       "      <td>1.54151148</td>\n",
       "      <td>856.66666667</td>\n",
       "      <td>6.75304889</td>\n",
       "      <td>3.00000000</td>\n",
       "      <td>2.25000000</td>\n",
       "      <td>0.81093022</td>\n",
       "      <td>1.01512581</td>\n",
       "      <td>2,570.00000000</td>\n",
       "      <td>7,242.00000000</td>\n",
       "      <td>7.85166118</td>\n",
       "      <td>8.57807664</td>\n",
       "      <td>2.00000000</td>\n",
       "      <td>8.88765269</td>\n",
       "      <td>4.24953666</td>\n",
       "      <td>0.00000000</td>\n",
       "      <td>0.00000000</td>\n",
       "      <td>3.00000000</td>\n",
       "      <td>average</td>\n",
       "      <td>7.00000000</td>\n",
       "      <td>2,170.00000000</td>\n",
       "      <td>400.00000000</td>\n",
       "      <td>7.68248245</td>\n",
       "      <td>1.00000000</td>\n",
       "      <td>1,951.00000000</td>\n",
       "      <td>1,991.00000000</td>\n",
       "      <td>1.00000000</td>\n",
       "      <td>98125</td>\n",
       "      <td>2.05959866</td>\n",
       "      <td>1,690.00000000</td>\n",
       "      <td>7,639.00000000</td>\n",
       "      <td>8.94102198</td>\n",
       "      <td>7.84282157</td>\n",
       "      <td>2.80050381</td>\n",
       "      <td>209.33852140</td>\n",
       "      <td>2.16574291</td>\n",
       "      <td>4.00000000</td>\n",
       "      <td>264.18699187</td>\n",
       "      <td>4.50331855</td>\n",
       "      <td>1</td>\n",
       "      <td>2014-12</td>\n",
       "      <td>0</td>\n",
       "      <td>0</td>\n",
       "      <td>0</td>\n",
       "      <td>0</td>\n",
       "      <td>0</td>\n",
       "      <td>0</td>\n",
       "      <td>0</td>\n",
       "      <td>0</td>\n",
       "      <td>0</td>\n",
       "      <td>0</td>\n",
       "      <td>0</td>\n",
       "      <td>0</td>\n",
       "      <td>0</td>\n",
       "      <td>0</td>\n",
       "      <td>0</td>\n",
       "      <td>0</td>\n",
       "      <td>0</td>\n",
       "      <td>0</td>\n",
       "      <td>0</td>\n",
       "      <td>0</td>\n",
       "      <td>0</td>\n",
       "      <td>0</td>\n",
       "      <td>0</td>\n",
       "      <td>0</td>\n",
       "      <td>0</td>\n",
       "      <td>0</td>\n",
       "      <td>0</td>\n",
       "      <td>0</td>\n",
       "      <td>0</td>\n",
       "      <td>0</td>\n",
       "      <td>0</td>\n",
       "      <td>0</td>\n",
       "      <td>0</td>\n",
       "      <td>0</td>\n",
       "      <td>0</td>\n",
       "      <td>0</td>\n",
       "      <td>0</td>\n",
       "      <td>0</td>\n",
       "      <td>0</td>\n",
       "      <td>0</td>\n",
       "      <td>0</td>\n",
       "      <td>0</td>\n",
       "      <td>0</td>\n",
       "      <td>0</td>\n",
       "      <td>0</td>\n",
       "      <td>0</td>\n",
       "      <td>0</td>\n",
       "      <td>0</td>\n",
       "      <td>0</td>\n",
       "      <td>0</td>\n",
       "      <td>0</td>\n",
       "      <td>0</td>\n",
       "      <td>0</td>\n",
       "      <td>0</td>\n",
       "      <td>0</td>\n",
       "      <td>0</td>\n",
       "      <td>1</td>\n",
       "      <td>0</td>\n",
       "      <td>0</td>\n",
       "      <td>0</td>\n",
       "      <td>0</td>\n",
       "      <td>0</td>\n",
       "      <td>0</td>\n",
       "      <td>0</td>\n",
       "      <td>0</td>\n",
       "      <td>0</td>\n",
       "      <td>0</td>\n",
       "      <td>0</td>\n",
       "      <td>0</td>\n",
       "      <td>0</td>\n",
       "      <td>0</td>\n",
       "    </tr>\n",
       "    <tr>\n",
       "      <th>2</th>\n",
       "      <td>5.45432162</td>\n",
       "      <td>180,000.00000000</td>\n",
       "      <td>12.10071213</td>\n",
       "      <td>2.00000000</td>\n",
       "      <td>3.99142502</td>\n",
       "      <td>0.69314718</td>\n",
       "      <td>0.85488198</td>\n",
       "      <td>385.00000000</td>\n",
       "      <td>5.95324333</td>\n",
       "      <td>2.00000000</td>\n",
       "      <td>1.00000000</td>\n",
       "      <td>0.00000000</td>\n",
       "      <td>0.00000000</td>\n",
       "      <td>770.00000000</td>\n",
       "      <td>10,000.00000000</td>\n",
       "      <td>6.64639051</td>\n",
       "      <td>7.16215595</td>\n",
       "      <td>1.00000000</td>\n",
       "      <td>9.21034037</td>\n",
       "      <td>4.30583245</td>\n",
       "      <td>0.00000000</td>\n",
       "      <td>0.00000000</td>\n",
       "      <td>3.00000000</td>\n",
       "      <td>average</td>\n",
       "      <td>6.00000000</td>\n",
       "      <td>770.00000000</td>\n",
       "      <td>0.00000000</td>\n",
       "      <td>6.64639051</td>\n",
       "      <td>0.00000000</td>\n",
       "      <td>1,933.00000000</td>\n",
       "      <td>0.00000000</td>\n",
       "      <td>0.00000000</td>\n",
       "      <td>98028</td>\n",
       "      <td>2.31800767</td>\n",
       "      <td>2,720.00000000</td>\n",
       "      <td>8,062.00000000</td>\n",
       "      <td>8.99491694</td>\n",
       "      <td>10.15542122</td>\n",
       "      <td>3.18675716</td>\n",
       "      <td>233.76623377</td>\n",
       "      <td>2.17779734</td>\n",
       "      <td>5.00000000</td>\n",
       "      <td>221.85430464</td>\n",
       "      <td>4.39050713</td>\n",
       "      <td>1</td>\n",
       "      <td>2015-02</td>\n",
       "      <td>0</td>\n",
       "      <td>0</td>\n",
       "      <td>0</td>\n",
       "      <td>0</td>\n",
       "      <td>0</td>\n",
       "      <td>0</td>\n",
       "      <td>0</td>\n",
       "      <td>0</td>\n",
       "      <td>0</td>\n",
       "      <td>0</td>\n",
       "      <td>0</td>\n",
       "      <td>0</td>\n",
       "      <td>0</td>\n",
       "      <td>0</td>\n",
       "      <td>0</td>\n",
       "      <td>0</td>\n",
       "      <td>0</td>\n",
       "      <td>1</td>\n",
       "      <td>0</td>\n",
       "      <td>0</td>\n",
       "      <td>0</td>\n",
       "      <td>0</td>\n",
       "      <td>0</td>\n",
       "      <td>0</td>\n",
       "      <td>0</td>\n",
       "      <td>0</td>\n",
       "      <td>0</td>\n",
       "      <td>0</td>\n",
       "      <td>0</td>\n",
       "      <td>0</td>\n",
       "      <td>0</td>\n",
       "      <td>0</td>\n",
       "      <td>0</td>\n",
       "      <td>0</td>\n",
       "      <td>0</td>\n",
       "      <td>0</td>\n",
       "      <td>0</td>\n",
       "      <td>0</td>\n",
       "      <td>0</td>\n",
       "      <td>0</td>\n",
       "      <td>0</td>\n",
       "      <td>0</td>\n",
       "      <td>0</td>\n",
       "      <td>0</td>\n",
       "      <td>0</td>\n",
       "      <td>0</td>\n",
       "      <td>0</td>\n",
       "      <td>0</td>\n",
       "      <td>0</td>\n",
       "      <td>0</td>\n",
       "      <td>0</td>\n",
       "      <td>0</td>\n",
       "      <td>0</td>\n",
       "      <td>0</td>\n",
       "      <td>0</td>\n",
       "      <td>0</td>\n",
       "      <td>0</td>\n",
       "      <td>0</td>\n",
       "      <td>0</td>\n",
       "      <td>0</td>\n",
       "      <td>0</td>\n",
       "      <td>0</td>\n",
       "      <td>0</td>\n",
       "      <td>0</td>\n",
       "      <td>0</td>\n",
       "      <td>0</td>\n",
       "      <td>0</td>\n",
       "      <td>0</td>\n",
       "      <td>0</td>\n",
       "      <td>0</td>\n",
       "      <td>0</td>\n",
       "    </tr>\n",
       "    <tr>\n",
       "      <th>3</th>\n",
       "      <td>5.73062972</td>\n",
       "      <td>604,000.00000000</td>\n",
       "      <td>13.31132948</td>\n",
       "      <td>4.00000000</td>\n",
       "      <td>4.05186762</td>\n",
       "      <td>1.38629436</td>\n",
       "      <td>2.13756008</td>\n",
       "      <td>490.00000000</td>\n",
       "      <td>6.19440539</td>\n",
       "      <td>4.00000000</td>\n",
       "      <td>3.00000000</td>\n",
       "      <td>1.09861229</td>\n",
       "      <td>1.49488011</td>\n",
       "      <td>1,960.00000000</td>\n",
       "      <td>5,000.00000000</td>\n",
       "      <td>7.58069975</td>\n",
       "      <td>8.25644647</td>\n",
       "      <td>1.00000000</td>\n",
       "      <td>8.51719319</td>\n",
       "      <td>4.18043282</td>\n",
       "      <td>0.00000000</td>\n",
       "      <td>0.00000000</td>\n",
       "      <td>5.00000000</td>\n",
       "      <td>excellent</td>\n",
       "      <td>7.00000000</td>\n",
       "      <td>1,050.00000000</td>\n",
       "      <td>910.00000000</td>\n",
       "      <td>6.95654544</td>\n",
       "      <td>1.00000000</td>\n",
       "      <td>1,965.00000000</td>\n",
       "      <td>0.00000000</td>\n",
       "      <td>0.00000000</td>\n",
       "      <td>98136</td>\n",
       "      <td>1.88730642</td>\n",
       "      <td>1,360.00000000</td>\n",
       "      <td>5,000.00000000</td>\n",
       "      <td>8.51719319</td>\n",
       "      <td>6.60156288</td>\n",
       "      <td>2.56935067</td>\n",
       "      <td>308.16326531</td>\n",
       "      <td>2.20568742</td>\n",
       "      <td>8.00000000</td>\n",
       "      <td>319.44444444</td>\n",
       "      <td>4.62423966</td>\n",
       "      <td>1</td>\n",
       "      <td>2014-12</td>\n",
       "      <td>1</td>\n",
       "      <td>0</td>\n",
       "      <td>0</td>\n",
       "      <td>0</td>\n",
       "      <td>0</td>\n",
       "      <td>0</td>\n",
       "      <td>0</td>\n",
       "      <td>0</td>\n",
       "      <td>0</td>\n",
       "      <td>0</td>\n",
       "      <td>0</td>\n",
       "      <td>0</td>\n",
       "      <td>0</td>\n",
       "      <td>0</td>\n",
       "      <td>0</td>\n",
       "      <td>0</td>\n",
       "      <td>0</td>\n",
       "      <td>0</td>\n",
       "      <td>0</td>\n",
       "      <td>0</td>\n",
       "      <td>0</td>\n",
       "      <td>0</td>\n",
       "      <td>0</td>\n",
       "      <td>0</td>\n",
       "      <td>0</td>\n",
       "      <td>0</td>\n",
       "      <td>0</td>\n",
       "      <td>0</td>\n",
       "      <td>0</td>\n",
       "      <td>0</td>\n",
       "      <td>0</td>\n",
       "      <td>0</td>\n",
       "      <td>0</td>\n",
       "      <td>0</td>\n",
       "      <td>0</td>\n",
       "      <td>0</td>\n",
       "      <td>0</td>\n",
       "      <td>0</td>\n",
       "      <td>0</td>\n",
       "      <td>0</td>\n",
       "      <td>0</td>\n",
       "      <td>0</td>\n",
       "      <td>0</td>\n",
       "      <td>0</td>\n",
       "      <td>0</td>\n",
       "      <td>0</td>\n",
       "      <td>0</td>\n",
       "      <td>0</td>\n",
       "      <td>0</td>\n",
       "      <td>0</td>\n",
       "      <td>0</td>\n",
       "      <td>0</td>\n",
       "      <td>0</td>\n",
       "      <td>0</td>\n",
       "      <td>0</td>\n",
       "      <td>0</td>\n",
       "      <td>0</td>\n",
       "      <td>0</td>\n",
       "      <td>0</td>\n",
       "      <td>1</td>\n",
       "      <td>0</td>\n",
       "      <td>0</td>\n",
       "      <td>0</td>\n",
       "      <td>0</td>\n",
       "      <td>0</td>\n",
       "      <td>0</td>\n",
       "      <td>0</td>\n",
       "      <td>0</td>\n",
       "      <td>0</td>\n",
       "      <td>0</td>\n",
       "      <td>0</td>\n",
       "    </tr>\n",
       "    <tr>\n",
       "      <th>4</th>\n",
       "      <td>5.71561693</td>\n",
       "      <td>510,000.00000000</td>\n",
       "      <td>13.14216600</td>\n",
       "      <td>3.00000000</td>\n",
       "      <td>4.04442395</td>\n",
       "      <td>1.09861229</td>\n",
       "      <td>1.54151148</td>\n",
       "      <td>560.00000000</td>\n",
       "      <td>6.32793678</td>\n",
       "      <td>3.00000000</td>\n",
       "      <td>2.00000000</td>\n",
       "      <td>0.69314718</td>\n",
       "      <td>0.83902461</td>\n",
       "      <td>1,680.00000000</td>\n",
       "      <td>8,080.00000000</td>\n",
       "      <td>7.42654907</td>\n",
       "      <td>8.07433240</td>\n",
       "      <td>1.00000000</td>\n",
       "      <td>8.99714715</td>\n",
       "      <td>4.26903318</td>\n",
       "      <td>0.00000000</td>\n",
       "      <td>0.00000000</td>\n",
       "      <td>3.00000000</td>\n",
       "      <td>average</td>\n",
       "      <td>8.00000000</td>\n",
       "      <td>1,680.00000000</td>\n",
       "      <td>0.00000000</td>\n",
       "      <td>7.42654907</td>\n",
       "      <td>0.00000000</td>\n",
       "      <td>1,987.00000000</td>\n",
       "      <td>0.00000000</td>\n",
       "      <td>0.00000000</td>\n",
       "      <td>98074</td>\n",
       "      <td>2.60485433</td>\n",
       "      <td>1,800.00000000</td>\n",
       "      <td>7,503.00000000</td>\n",
       "      <td>8.92305822</td>\n",
       "      <td>13.52925438</td>\n",
       "      <td>3.67821348</td>\n",
       "      <td>303.57142857</td>\n",
       "      <td>2.20425188</td>\n",
       "      <td>8.00000000</td>\n",
       "      <td>255.35168196</td>\n",
       "      <td>4.48146811</td>\n",
       "      <td>1</td>\n",
       "      <td>2015-02</td>\n",
       "      <td>0</td>\n",
       "      <td>0</td>\n",
       "      <td>0</td>\n",
       "      <td>0</td>\n",
       "      <td>0</td>\n",
       "      <td>0</td>\n",
       "      <td>0</td>\n",
       "      <td>0</td>\n",
       "      <td>0</td>\n",
       "      <td>0</td>\n",
       "      <td>0</td>\n",
       "      <td>0</td>\n",
       "      <td>0</td>\n",
       "      <td>0</td>\n",
       "      <td>0</td>\n",
       "      <td>0</td>\n",
       "      <td>0</td>\n",
       "      <td>0</td>\n",
       "      <td>0</td>\n",
       "      <td>0</td>\n",
       "      <td>0</td>\n",
       "      <td>0</td>\n",
       "      <td>0</td>\n",
       "      <td>0</td>\n",
       "      <td>0</td>\n",
       "      <td>0</td>\n",
       "      <td>0</td>\n",
       "      <td>0</td>\n",
       "      <td>0</td>\n",
       "      <td>0</td>\n",
       "      <td>0</td>\n",
       "      <td>0</td>\n",
       "      <td>0</td>\n",
       "      <td>0</td>\n",
       "      <td>0</td>\n",
       "      <td>0</td>\n",
       "      <td>0</td>\n",
       "      <td>0</td>\n",
       "      <td>1</td>\n",
       "      <td>0</td>\n",
       "      <td>0</td>\n",
       "      <td>0</td>\n",
       "      <td>0</td>\n",
       "      <td>0</td>\n",
       "      <td>0</td>\n",
       "      <td>0</td>\n",
       "      <td>0</td>\n",
       "      <td>0</td>\n",
       "      <td>0</td>\n",
       "      <td>0</td>\n",
       "      <td>0</td>\n",
       "      <td>0</td>\n",
       "      <td>0</td>\n",
       "      <td>0</td>\n",
       "      <td>0</td>\n",
       "      <td>0</td>\n",
       "      <td>0</td>\n",
       "      <td>0</td>\n",
       "      <td>0</td>\n",
       "      <td>0</td>\n",
       "      <td>0</td>\n",
       "      <td>0</td>\n",
       "      <td>0</td>\n",
       "      <td>0</td>\n",
       "      <td>0</td>\n",
       "      <td>0</td>\n",
       "      <td>0</td>\n",
       "      <td>0</td>\n",
       "      <td>0</td>\n",
       "      <td>0</td>\n",
       "      <td>0</td>\n",
       "    </tr>\n",
       "  </tbody>\n",
       "</table>\n",
       "</div>"
      ],
      "text/plain": [
       "   price_sf_log            price   price_log   bedrooms  price_box  \\\n",
       "0    5.23671239 221,900.00000000 12.30998211 3.00000000 4.00314587   \n",
       "1    5.34395266 538,000.00000000 13.19561384 3.00000000 4.04680802   \n",
       "2    5.45432162 180,000.00000000 12.10071213 2.00000000 3.99142502   \n",
       "3    5.73062972 604,000.00000000 13.31132948 4.00000000 4.05186762   \n",
       "4    5.71561693 510,000.00000000 13.14216600 3.00000000 4.04442395   \n",
       "\n",
       "   bedrooms_log  bedrooms_box  sqft_per_bedroom  sqft_per_bedroom_log  \\\n",
       "0    1.09861229    1.54151148      393.33333333            5.97465743   \n",
       "1    1.09861229    1.54151148      856.66666667            6.75304889   \n",
       "2    0.69314718    0.85488198      385.00000000            5.95324333   \n",
       "3    1.38629436    2.13756008      490.00000000            6.19440539   \n",
       "4    1.09861229    1.54151148      560.00000000            6.32793678   \n",
       "\n",
       "   bedroom_der  bathrooms  bathrooms_log  bathrooms_box    sqft_living  \\\n",
       "0   3.00000000 1.00000000     0.00000000     0.00000000 1,180.00000000   \n",
       "1   3.00000000 2.25000000     0.81093022     1.01512581 2,570.00000000   \n",
       "2   2.00000000 1.00000000     0.00000000     0.00000000   770.00000000   \n",
       "3   4.00000000 3.00000000     1.09861229     1.49488011 1,960.00000000   \n",
       "4   3.00000000 2.00000000     0.69314718     0.83902461 1,680.00000000   \n",
       "\n",
       "         sqft_lot  sqft_living_log  sqft_living_box     floors  sqft_lot_log  \\\n",
       "0  5,650.00000000       7.07326972       7.65931218 1.00000000    8.63941082   \n",
       "1  7,242.00000000       7.85166118       8.57807664 2.00000000    8.88765269   \n",
       "2 10,000.00000000       6.64639051       7.16215595 1.00000000    9.21034037   \n",
       "3  5,000.00000000       7.58069975       8.25644647 1.00000000    8.51719319   \n",
       "4  8,080.00000000       7.42654907       8.07433240 1.00000000    8.99714715   \n",
       "\n",
       "   sqft_lot_box  waterfront       view  condition condition_grp      grade  \\\n",
       "0    4.20377896  0.00000000 0.00000000 3.00000000       average 7.00000000   \n",
       "1    4.24953666  0.00000000 0.00000000 3.00000000       average 7.00000000   \n",
       "2    4.30583245  0.00000000 0.00000000 3.00000000       average 6.00000000   \n",
       "3    4.18043282  0.00000000 0.00000000 5.00000000     excellent 7.00000000   \n",
       "4    4.26903318  0.00000000 0.00000000 3.00000000       average 8.00000000   \n",
       "\n",
       "      sqft_above  sqft_basement  sqft_above_log  basement_ind       yr_built  \\\n",
       "0 1,180.00000000     0.00000000      7.07326972    0.00000000 1,955.00000000   \n",
       "1 2,170.00000000   400.00000000      7.68248245    1.00000000 1,951.00000000   \n",
       "2   770.00000000     0.00000000      6.64639051    0.00000000 1,933.00000000   \n",
       "3 1,050.00000000   910.00000000      6.95654544    1.00000000 1,965.00000000   \n",
       "4 1,680.00000000     0.00000000      7.42654907    0.00000000 1,987.00000000   \n",
       "\n",
       "    yr_renovated  renovation_ind zipcode  miles_fr_seattle_log  sqft_living15  \\\n",
       "0     0.00000000      0.00000000   98178            2.03046029 1,340.00000000   \n",
       "1 1,991.00000000      1.00000000   98125            2.05959866 1,690.00000000   \n",
       "2     0.00000000      0.00000000   98028            2.31800767 2,720.00000000   \n",
       "3     0.00000000      0.00000000   98136            1.88730642 1,360.00000000   \n",
       "4     0.00000000      0.00000000   98074            2.60485433 1,800.00000000   \n",
       "\n",
       "      sqft_lot15  sqft_lot15_log  miles_fr_seattle  miles_fr_seattle_sqrt  \\\n",
       "0 5,650.00000000      8.63941082        7.61759185             2.75999852   \n",
       "1 7,639.00000000      8.94102198        7.84282157             2.80050381   \n",
       "2 8,062.00000000      8.99491694       10.15542122             3.18675716   \n",
       "3 5,000.00000000      8.51719319        6.60156288             2.56935067   \n",
       "4 7,503.00000000      8.92305822       13.52925438             3.67821348   \n",
       "\n",
       "      price_sf  price_sf_box  price_sf_box_decile  zip_psf_median  \\\n",
       "0 188.05084746    2.15349572           3.00000000    176.62345914   \n",
       "1 209.33852140    2.16574291           4.00000000    264.18699187   \n",
       "2 233.76623377    2.17779734           5.00000000    221.85430464   \n",
       "3 308.16326531    2.20568742           8.00000000    319.44444444   \n",
       "4 303.57142857    2.20425188           8.00000000    255.35168196   \n",
       "\n",
       "   zip_psf_median_box  sales_cnt year_month  condition_grp_excellent  \\\n",
       "0          4.24084303          1    2014-10                        0   \n",
       "1          4.50331855          1    2014-12                        0   \n",
       "2          4.39050713          1    2015-02                        0   \n",
       "3          4.62423966          1    2014-12                        1   \n",
       "4          4.48146811          1    2015-02                        0   \n",
       "\n",
       "   condition_grp_poor  zipcode_98002  zipcode_98003  zipcode_98004  \\\n",
       "0                   0              0              0              0   \n",
       "1                   0              0              0              0   \n",
       "2                   0              0              0              0   \n",
       "3                   0              0              0              0   \n",
       "4                   0              0              0              0   \n",
       "\n",
       "   zipcode_98005  zipcode_98006  zipcode_98007  zipcode_98008  zipcode_98010  \\\n",
       "0              0              0              0              0              0   \n",
       "1              0              0              0              0              0   \n",
       "2              0              0              0              0              0   \n",
       "3              0              0              0              0              0   \n",
       "4              0              0              0              0              0   \n",
       "\n",
       "   zipcode_98011  zipcode_98014  zipcode_98019  zipcode_98022  zipcode_98023  \\\n",
       "0              0              0              0              0              0   \n",
       "1              0              0              0              0              0   \n",
       "2              0              0              0              0              0   \n",
       "3              0              0              0              0              0   \n",
       "4              0              0              0              0              0   \n",
       "\n",
       "   zipcode_98024  zipcode_98027  zipcode_98028  zipcode_98029  zipcode_98030  \\\n",
       "0              0              0              0              0              0   \n",
       "1              0              0              0              0              0   \n",
       "2              0              0              1              0              0   \n",
       "3              0              0              0              0              0   \n",
       "4              0              0              0              0              0   \n",
       "\n",
       "   zipcode_98031  zipcode_98032  zipcode_98033  zipcode_98034  zipcode_98038  \\\n",
       "0              0              0              0              0              0   \n",
       "1              0              0              0              0              0   \n",
       "2              0              0              0              0              0   \n",
       "3              0              0              0              0              0   \n",
       "4              0              0              0              0              0   \n",
       "\n",
       "   zipcode_98039  zipcode_98040  zipcode_98042  zipcode_98045  zipcode_98052  \\\n",
       "0              0              0              0              0              0   \n",
       "1              0              0              0              0              0   \n",
       "2              0              0              0              0              0   \n",
       "3              0              0              0              0              0   \n",
       "4              0              0              0              0              0   \n",
       "\n",
       "   zipcode_98053  zipcode_98055  zipcode_98056  zipcode_98058  zipcode_98059  \\\n",
       "0              0              0              0              0              0   \n",
       "1              0              0              0              0              0   \n",
       "2              0              0              0              0              0   \n",
       "3              0              0              0              0              0   \n",
       "4              0              0              0              0              0   \n",
       "\n",
       "   zipcode_98065  zipcode_98070  zipcode_98072  zipcode_98074  zipcode_98075  \\\n",
       "0              0              0              0              0              0   \n",
       "1              0              0              0              0              0   \n",
       "2              0              0              0              0              0   \n",
       "3              0              0              0              0              0   \n",
       "4              0              0              0              1              0   \n",
       "\n",
       "   zipcode_98077  zipcode_98092  zipcode_98102  zipcode_98103  zipcode_98105  \\\n",
       "0              0              0              0              0              0   \n",
       "1              0              0              0              0              0   \n",
       "2              0              0              0              0              0   \n",
       "3              0              0              0              0              0   \n",
       "4              0              0              0              0              0   \n",
       "\n",
       "   zipcode_98106  zipcode_98107  zipcode_98108  zipcode_98109  zipcode_98112  \\\n",
       "0              0              0              0              0              0   \n",
       "1              0              0              0              0              0   \n",
       "2              0              0              0              0              0   \n",
       "3              0              0              0              0              0   \n",
       "4              0              0              0              0              0   \n",
       "\n",
       "   zipcode_98115  zipcode_98116  zipcode_98117  zipcode_98118  zipcode_98119  \\\n",
       "0              0              0              0              0              0   \n",
       "1              0              0              0              0              0   \n",
       "2              0              0              0              0              0   \n",
       "3              0              0              0              0              0   \n",
       "4              0              0              0              0              0   \n",
       "\n",
       "   zipcode_98122  zipcode_98125  zipcode_98126  zipcode_98133  zipcode_98136  \\\n",
       "0              0              0              0              0              0   \n",
       "1              0              1              0              0              0   \n",
       "2              0              0              0              0              0   \n",
       "3              0              0              0              0              1   \n",
       "4              0              0              0              0              0   \n",
       "\n",
       "   zipcode_98144  zipcode_98146  zipcode_98148  zipcode_98155  zipcode_98166  \\\n",
       "0              0              0              0              0              0   \n",
       "1              0              0              0              0              0   \n",
       "2              0              0              0              0              0   \n",
       "3              0              0              0              0              0   \n",
       "4              0              0              0              0              0   \n",
       "\n",
       "   zipcode_98168  zipcode_98177  zipcode_98178  zipcode_98188  zipcode_98198  \\\n",
       "0              0              0              1              0              0   \n",
       "1              0              0              0              0              0   \n",
       "2              0              0              0              0              0   \n",
       "3              0              0              0              0              0   \n",
       "4              0              0              0              0              0   \n",
       "\n",
       "   zipcode_98199  \n",
       "0              0  \n",
       "1              0  \n",
       "2              0  \n",
       "3              0  \n",
       "4              0  "
      ]
     },
     "execution_count": 123,
     "metadata": {},
     "output_type": "execute_result"
    }
   ],
   "source": [
    "# Concatenate OHE columns with original dataframe, dropping OHE original features\n",
    "kc_comb = pd.concat([kc, kc_ohe], axis=1)\n",
    "kc_comb.drop(['id','date','lat','long','home_lat_long'], axis=1, inplace=True)\n",
    "kc_comb.head()"
   ]
  },
  {
   "cell_type": "markdown",
   "metadata": {},
   "source": [
    "### Train-Test Split"
   ]
  },
  {
   "cell_type": "code",
   "execution_count": 124,
   "metadata": {
    "ExecuteTime": {
     "end_time": "2021-03-11T12:28:30.416525Z",
     "start_time": "2021-03-11T12:28:30.403478Z"
    }
   },
   "outputs": [],
   "source": [
    "# Divide dataset into X predictors and y target\n",
    "X = kc_comb.drop(['price','price_log','price_box'], axis=1)\n",
    "y = kc_comb[['price','price_log','price_box']]"
   ]
  },
  {
   "cell_type": "code",
   "execution_count": 125,
   "metadata": {
    "ExecuteTime": {
     "end_time": "2021-03-11T12:28:32.149999Z",
     "start_time": "2021-03-11T12:28:32.124900Z"
    }
   },
   "outputs": [],
   "source": [
    "# Split the data into 80% training and 20% test sets\n",
    "X_train, X_test, y_train, y_test = train_test_split(X, y, test_size=0.2, shuffle=True, random_state=42)"
   ]
  },
  {
   "cell_type": "code",
   "execution_count": 126,
   "metadata": {
    "ExecuteTime": {
     "end_time": "2021-03-11T12:28:34.071534Z",
     "start_time": "2021-03-11T12:28:34.064851Z"
    }
   },
   "outputs": [
    {
     "name": "stdout",
     "output_type": "stream",
     "text": [
      "17276 4320 17276 4320\n"
     ]
    }
   ],
   "source": [
    "# Validate rows in splits look as expected\n",
    "print(len(X_train), len(X_test), len(y_train), len(y_test))"
   ]
  },
  {
   "cell_type": "code",
   "execution_count": 127,
   "metadata": {
    "ExecuteTime": {
     "end_time": "2021-03-11T12:28:37.646575Z",
     "start_time": "2021-03-11T12:28:37.632335Z"
    }
   },
   "outputs": [
    {
     "data": {
      "text/html": [
       "<div>\n",
       "<style scoped>\n",
       "    .dataframe tbody tr th:only-of-type {\n",
       "        vertical-align: middle;\n",
       "    }\n",
       "\n",
       "    .dataframe tbody tr th {\n",
       "        vertical-align: top;\n",
       "    }\n",
       "\n",
       "    .dataframe thead th {\n",
       "        text-align: right;\n",
       "    }\n",
       "</style>\n",
       "<table border=\"1\" class=\"dataframe\">\n",
       "  <thead>\n",
       "    <tr style=\"text-align: right;\">\n",
       "      <th></th>\n",
       "      <th>price</th>\n",
       "      <th>price_log</th>\n",
       "      <th>price_box</th>\n",
       "    </tr>\n",
       "  </thead>\n",
       "  <tbody>\n",
       "  </tbody>\n",
       "</table>\n",
       "</div>"
      ],
      "text/plain": [
       "Empty DataFrame\n",
       "Columns: [price, price_log, price_box]\n",
       "Index: []"
      ]
     },
     "execution_count": 127,
     "metadata": {},
     "output_type": "execute_result"
    }
   ],
   "source": [
    "# X_train[X_train.isna().any(axis=1)]\n",
    "# X_test[X_test.isna().any(axis=1)]\n",
    "y_train[y_train.isna().any(axis=1)]\n",
    "y_test[y_test.isna().any(axis=1)]"
   ]
  },
  {
   "cell_type": "code",
   "execution_count": null,
   "metadata": {
    "ExecuteTime": {
     "end_time": "2021-03-11T11:19:26.775254Z",
     "start_time": "2021-03-11T11:19:25.032Z"
    }
   },
   "outputs": [],
   "source": [
    "# X_test.drop([15856], inplace=True)"
   ]
  },
  {
   "cell_type": "code",
   "execution_count": 128,
   "metadata": {
    "ExecuteTime": {
     "end_time": "2021-03-11T12:28:45.708881Z",
     "start_time": "2021-03-11T12:28:45.703578Z"
    }
   },
   "outputs": [
    {
     "name": "stdout",
     "output_type": "stream",
     "text": [
      "['price_sf_log', 'bedrooms', 'bedrooms_log', 'bedrooms_box', 'sqft_per_bedroom', 'sqft_per_bedroom_log', 'bedroom_der', 'bathrooms', 'bathrooms_log', 'bathrooms_box', 'sqft_living', 'sqft_lot', 'sqft_living_log', 'sqft_living_box', 'floors', 'sqft_lot_log', 'sqft_lot_box', 'waterfront', 'view', 'condition', 'condition_grp', 'grade', 'sqft_above', 'sqft_basement', 'sqft_above_log', 'basement_ind', 'yr_built', 'yr_renovated', 'renovation_ind', 'zipcode', 'miles_fr_seattle_log', 'sqft_living15', 'sqft_lot15', 'sqft_lot15_log', 'miles_fr_seattle', 'miles_fr_seattle_sqrt', 'price_sf', 'price_sf_box', 'price_sf_box_decile', 'zip_psf_median', 'zip_psf_median_box', 'sales_cnt', 'year_month', 'condition_grp_excellent', 'condition_grp_poor', 'zipcode_98002', 'zipcode_98003', 'zipcode_98004', 'zipcode_98005', 'zipcode_98006', 'zipcode_98007', 'zipcode_98008', 'zipcode_98010', 'zipcode_98011', 'zipcode_98014', 'zipcode_98019', 'zipcode_98022', 'zipcode_98023', 'zipcode_98024', 'zipcode_98027', 'zipcode_98028', 'zipcode_98029', 'zipcode_98030', 'zipcode_98031', 'zipcode_98032', 'zipcode_98033', 'zipcode_98034', 'zipcode_98038', 'zipcode_98039', 'zipcode_98040', 'zipcode_98042', 'zipcode_98045', 'zipcode_98052', 'zipcode_98053', 'zipcode_98055', 'zipcode_98056', 'zipcode_98058', 'zipcode_98059', 'zipcode_98065', 'zipcode_98070', 'zipcode_98072', 'zipcode_98074', 'zipcode_98075', 'zipcode_98077', 'zipcode_98092', 'zipcode_98102', 'zipcode_98103', 'zipcode_98105', 'zipcode_98106', 'zipcode_98107', 'zipcode_98108', 'zipcode_98109', 'zipcode_98112', 'zipcode_98115', 'zipcode_98116', 'zipcode_98117', 'zipcode_98118', 'zipcode_98119', 'zipcode_98122', 'zipcode_98125', 'zipcode_98126', 'zipcode_98133', 'zipcode_98136', 'zipcode_98144', 'zipcode_98146', 'zipcode_98148', 'zipcode_98155', 'zipcode_98166', 'zipcode_98168', 'zipcode_98177', 'zipcode_98178', 'zipcode_98188', 'zipcode_98198', 'zipcode_98199']\n"
     ]
    }
   ],
   "source": [
    "# Use to choose features for this model\n",
    "print(X_train.columns.tolist())"
   ]
  },
  {
   "cell_type": "markdown",
   "metadata": {},
   "source": [
    "## Functions"
   ]
  },
  {
   "cell_type": "markdown",
   "metadata": {},
   "source": [
    "### calc_sm_ols"
   ]
  },
  {
   "cell_type": "code",
   "execution_count": 129,
   "metadata": {
    "ExecuteTime": {
     "end_time": "2021-03-11T12:29:05.043274Z",
     "start_time": "2021-03-11T12:29:05.031671Z"
    },
    "scrolled": false
   },
   "outputs": [],
   "source": [
    "# Function takes X and y dataframes and generates statsmodel OLS results\n",
    "def calc_sm_ols(model_nbr, X, y):\n",
    "    '''Takes in X predictors and y target dataframes, generates statsmodel OLS model, predictions and summary stats'''\n",
    "    X_int = sm.add_constant(X)\n",
    "    model = sm.OLS(y, X_int).fit()\n",
    "    print(model.summary())\n",
    "    \n",
    "    # generate model predictions and calculate errors \n",
    "    y_pred = model.predict(X_int)\n",
    "    if y.name == 'price' :\n",
    "        rmse = round(ev.rmse(y, y_pred))\n",
    "        mae = round(ev.meanabs(y, y_pred))\n",
    "    elif y.name == 'price_log' :\n",
    "        rmse = round(ev.rmse(np.exp(y), np.exp(y_pred)))\n",
    "        mae = round(ev.meanabs(np.exp(y), np.exp(y_pred)))\n",
    "    else :\n",
    "        print(f'Cannot calculate RMSE and MAE from y variable {y}')\n",
    "                     \n",
    "    print(f'\\nModel {model_nbr} Summary Statistics')\n",
    "    print(f'Root Mean Squared Error (RMSE): {rmse}.')\n",
    "    print(f'Mean Absolute Error (MAE): {mae}.')\n",
    "    return model"
   ]
  },
  {
   "cell_type": "markdown",
   "metadata": {},
   "source": [
    "### qqplot"
   ]
  },
  {
   "cell_type": "code",
   "execution_count": 130,
   "metadata": {
    "ExecuteTime": {
     "end_time": "2021-03-11T12:29:07.435304Z",
     "start_time": "2021-03-11T12:29:07.428064Z"
    }
   },
   "outputs": [],
   "source": [
    "# function to generate QQ-plots an OLS model\n",
    "def qqplot(model_nbr, model):\n",
    "    '''Receives OLS model as parameter and generates QQ-plots for normality of residuals'''\n",
    "    # generate QQ-plot\n",
    "    residuals = model.resid\n",
    "    sm.graphics.qqplot(residuals, dist=stats.norm, line='45', fit=True)\n",
    "    plt.title(f'\\nModel {model_nbr} QQ-plot' )\n",
    "    plt.show()"
   ]
  },
  {
   "cell_type": "markdown",
   "metadata": {},
   "source": [
    "### plot_residuals"
   ]
  },
  {
   "cell_type": "code",
   "execution_count": 131,
   "metadata": {
    "ExecuteTime": {
     "end_time": "2021-03-11T12:29:09.141993Z",
     "start_time": "2021-03-11T12:29:09.132853Z"
    }
   },
   "outputs": [],
   "source": [
    "# function to generate residuals for each independent variable in an OLS model\n",
    "def plot_residuals(model_nbr, model):\n",
    "    '''Receives OLS model as parameter and generates residual plots for each predictor (X) to test for normality of residuals'''\n",
    "    # loop through variables to show residuals for each\n",
    "    x_vars = model.params.keys().tolist()\n",
    "    x_vars.remove('const')\n",
    "\n",
    "    for x in x_vars:\n",
    "        f = plt.figure(figsize=(15,8))\n",
    "        f = sm.graphics.plot_regress_exog(model, x, fig=f)   \n",
    "        plt.show()\n",
    "       # review in future iteration Checking Heteroscadasticity (Goldfeld-Quandt test)"
   ]
  },
  {
   "cell_type": "markdown",
   "metadata": {},
   "source": [
    "### normalize"
   ]
  },
  {
   "cell_type": "code",
   "execution_count": 132,
   "metadata": {
    "ExecuteTime": {
     "end_time": "2021-03-11T12:29:10.883491Z",
     "start_time": "2021-03-11T12:29:10.875808Z"
    }
   },
   "outputs": [],
   "source": [
    "# normalize a feature (subract mean and divide by std)\n",
    "def normalize(feature):\n",
    "    return (feature - feature.mean()) / feature.std()\n",
    "\n",
    "#denormalize (add mean and multiple by std)\n",
    "def denormalize(feature, log_df):\n",
    "    return log_df['price_log'].std()*feature + log_df['price_log'].mean()"
   ]
  },
  {
   "cell_type": "markdown",
   "metadata": {},
   "source": [
    "## Model 1:  Naive Start"
   ]
  },
  {
   "cell_type": "markdown",
   "metadata": {},
   "source": [
    "### Strategy"
   ]
  },
  {
   "cell_type": "markdown",
   "metadata": {},
   "source": [
    "**Model 1 Approach**\n",
    "- This model is a baseline model that we'll build on in future iterations with more complexity and features\n",
    "- Model 1 will start without use of log columns and solve for price using top correlated columns\n",
    "- Columns to try include all high (sqft_living, grade, sqft_above) and medium correlations (sqft_living15, bathrooms, view)\n",
    "- Model 1 will not incorporate much colinearity concerns to start"
   ]
  },
  {
   "cell_type": "code",
   "execution_count": 133,
   "metadata": {
    "ExecuteTime": {
     "end_time": "2021-03-11T12:29:15.459606Z",
     "start_time": "2021-03-11T12:29:15.440576Z"
    }
   },
   "outputs": [
    {
     "data": {
      "text/html": [
       "<div>\n",
       "<style scoped>\n",
       "    .dataframe tbody tr th:only-of-type {\n",
       "        vertical-align: middle;\n",
       "    }\n",
       "\n",
       "    .dataframe tbody tr th {\n",
       "        vertical-align: top;\n",
       "    }\n",
       "\n",
       "    .dataframe thead th {\n",
       "        text-align: right;\n",
       "    }\n",
       "</style>\n",
       "<table border=\"1\" class=\"dataframe\">\n",
       "  <thead>\n",
       "    <tr style=\"text-align: right;\">\n",
       "      <th></th>\n",
       "      <th>sqft_living</th>\n",
       "      <th>sqft_above</th>\n",
       "      <th>sqft_living15</th>\n",
       "      <th>bathrooms</th>\n",
       "      <th>view</th>\n",
       "      <th>grade</th>\n",
       "    </tr>\n",
       "  </thead>\n",
       "  <tbody>\n",
       "    <tr>\n",
       "      <th>6243</th>\n",
       "      <td>1,440.00000000</td>\n",
       "      <td>1,440.00000000</td>\n",
       "      <td>1,300.00000000</td>\n",
       "      <td>2.00000000</td>\n",
       "      <td>0.00000000</td>\n",
       "      <td>7.00000000</td>\n",
       "    </tr>\n",
       "    <tr>\n",
       "      <th>8986</th>\n",
       "      <td>1,430.00000000</td>\n",
       "      <td>1,140.00000000</td>\n",
       "      <td>1,310.00000000</td>\n",
       "      <td>1.75000000</td>\n",
       "      <td>2.00000000</td>\n",
       "      <td>7.00000000</td>\n",
       "    </tr>\n",
       "    <tr>\n",
       "      <th>9419</th>\n",
       "      <td>3,120.00000000</td>\n",
       "      <td>3,120.00000000</td>\n",
       "      <td>3,200.00000000</td>\n",
       "      <td>2.75000000</td>\n",
       "      <td>0.00000000</td>\n",
       "      <td>9.00000000</td>\n",
       "    </tr>\n",
       "    <tr>\n",
       "      <th>10155</th>\n",
       "      <td>2,060.00000000</td>\n",
       "      <td>1,220.00000000</td>\n",
       "      <td>1,760.00000000</td>\n",
       "      <td>2.50000000</td>\n",
       "      <td>0.00000000</td>\n",
       "      <td>7.00000000</td>\n",
       "    </tr>\n",
       "    <tr>\n",
       "      <th>10436</th>\n",
       "      <td>2,500.00000000</td>\n",
       "      <td>1,680.00000000</td>\n",
       "      <td>1,550.00000000</td>\n",
       "      <td>2.00000000</td>\n",
       "      <td>0.00000000</td>\n",
       "      <td>7.00000000</td>\n",
       "    </tr>\n",
       "  </tbody>\n",
       "</table>\n",
       "</div>"
      ],
      "text/plain": [
       "         sqft_living     sqft_above  sqft_living15  bathrooms       view  \\\n",
       "6243  1,440.00000000 1,440.00000000 1,300.00000000 2.00000000 0.00000000   \n",
       "8986  1,430.00000000 1,140.00000000 1,310.00000000 1.75000000 2.00000000   \n",
       "9419  3,120.00000000 3,120.00000000 3,200.00000000 2.75000000 0.00000000   \n",
       "10155 2,060.00000000 1,220.00000000 1,760.00000000 2.50000000 0.00000000   \n",
       "10436 2,500.00000000 1,680.00000000 1,550.00000000 2.00000000 0.00000000   \n",
       "\n",
       "           grade  \n",
       "6243  7.00000000  \n",
       "8986  7.00000000  \n",
       "9419  9.00000000  \n",
       "10155 7.00000000  \n",
       "10436 7.00000000  "
      ]
     },
     "execution_count": 133,
     "metadata": {},
     "output_type": "execute_result"
    }
   ],
   "source": [
    "# Model 1 Setup and call statsmodel function\n",
    "features_m1 = ['sqft_living', 'sqft_above', 'sqft_living15', 'bathrooms', 'view', 'grade']\n",
    "X_train_m1 = X_train[features_m1]\n",
    "y_train_m1 = y_train['price']\n",
    "X_train_m1.head()"
   ]
  },
  {
   "cell_type": "markdown",
   "metadata": {
    "ExecuteTime": {
     "end_time": "2021-03-06T21:54:31.852846Z",
     "start_time": "2021-03-06T21:54:31.825493Z"
    }
   },
   "source": [
    "### Run OLS"
   ]
  },
  {
   "cell_type": "code",
   "execution_count": 134,
   "metadata": {
    "ExecuteTime": {
     "end_time": "2021-03-11T12:29:19.588647Z",
     "start_time": "2021-03-11T12:29:19.540236Z"
    },
    "scrolled": false
   },
   "outputs": [
    {
     "name": "stdout",
     "output_type": "stream",
     "text": [
      "                            OLS Regression Results                            \n",
      "==============================================================================\n",
      "Dep. Variable:                  price   R-squared:                       0.577\n",
      "Model:                            OLS   Adj. R-squared:                  0.577\n",
      "Method:                 Least Squares   F-statistic:                     3921.\n",
      "Date:                Thu, 11 Mar 2021   Prob (F-statistic):               0.00\n",
      "Time:                        07:29:19   Log-Likelihood:            -2.3853e+05\n",
      "No. Observations:               17276   AIC:                         4.771e+05\n",
      "Df Residuals:                   17269   BIC:                         4.771e+05\n",
      "Df Model:                           6                                         \n",
      "Covariance Type:            nonrobust                                         \n",
      "=================================================================================\n",
      "                    coef    std err          t      P>|t|      [0.025      0.975]\n",
      "---------------------------------------------------------------------------------\n",
      "const         -5.949e+05   1.49e+04    -40.034      0.000   -6.24e+05   -5.66e+05\n",
      "sqft_living     211.1805      5.015     42.110      0.000     201.351     221.010\n",
      "sqft_above      -51.3254      4.928    -10.414      0.000     -60.985     -41.665\n",
      "sqft_living15     7.7316      4.425      1.747      0.081      -0.942      16.405\n",
      "bathrooms     -2.871e+04   3745.372     -7.664      0.000    -3.6e+04   -2.14e+04\n",
      "view           9.005e+04   2564.635     35.111      0.000     8.5e+04    9.51e+04\n",
      "grade          1.062e+05   2686.372     39.515      0.000    1.01e+05    1.11e+05\n",
      "==============================================================================\n",
      "Omnibus:                    13023.678   Durbin-Watson:                   2.005\n",
      "Prob(Omnibus):                  0.000   Jarque-Bera (JB):           764453.517\n",
      "Skew:                           3.092   Prob(JB):                         0.00\n",
      "Kurtosis:                      34.996   Cond. No.                     3.00e+04\n",
      "==============================================================================\n",
      "\n",
      "Notes:\n",
      "[1] Standard Errors assume that the covariance matrix of the errors is correctly specified.\n",
      "[2] The condition number is large,  3e+04. This might indicate that there are\n",
      "strong multicollinearity or other numerical problems.\n",
      "\n",
      "Model 1 Summary Statistics\n",
      "Root Mean Squared Error (RMSE): 239891.0.\n",
      "Mean Absolute Error (MAE): 156717.0.\n"
     ]
    }
   ],
   "source": [
    "model_1 = calc_sm_ols(model_nbr=1, X=X_train_m1, y=y_train_m1)"
   ]
  },
  {
   "cell_type": "markdown",
   "metadata": {},
   "source": [
    "**Model Summary Interpretation**\n",
    "- Adj r^2 = 0.628 | would be good if all else checks\n",
    "- P-value = 0.00 | would be good if all else checks\n",
    "- Skew = 2 (tgt ~0), Kurtosis = 18+ (tgt 3), JB = 191K (tgt 0-6) | Indicates major non-normality, not good\n",
    "- Cond. No. 159K | indicates strong multicollinearity (ill-conditioned)\n",
    "- Predictors:\n",
    "    - Intercept: \\\\$189K might be reasonable to represent base land value\n",
    "    - Sqft_Living: \\\\$180/sqft average doesn't see unreasonable for Seattle area, low p-value 0.00\n",
    "    - Sqft_above: negative coefficient of \\\\$69 doesn't make sense. Somethings off with variable ranges or multicollinearity\n",
    "    - Bathrooms: negative coefficient of \\\\$2K doesn't make sense. Also p-value of 0.56 when this showed one of highest correlations\n",
    "    - View: p-value of 0.00. These seem to make sense adding \\\\$88K (view 2) to \\\\$494K (view 4)\n",
    "    - Grade: Below/average (<7) has negative coeff versus lowest Grade 3 and high p-values. Coefficients on above average grades make sense but p-values split."
   ]
  },
  {
   "cell_type": "markdown",
   "metadata": {},
   "source": [
    "### QQ-plot"
   ]
  },
  {
   "cell_type": "code",
   "execution_count": null,
   "metadata": {
    "ExecuteTime": {
     "end_time": "2021-03-11T11:19:26.780316Z",
     "start_time": "2021-03-11T11:19:25.062Z"
    }
   },
   "outputs": [],
   "source": [
    "qqplot(model_nbr=1, model=model_1)"
   ]
  },
  {
   "cell_type": "markdown",
   "metadata": {},
   "source": [
    "**QQ-Plot Interpretation**\n",
    "- This is WAY off, showing major outliers on both ends. Back to the drawing board."
   ]
  },
  {
   "cell_type": "markdown",
   "metadata": {
    "heading_collapsed": true
   },
   "source": [
    "### Plot Residuals"
   ]
  },
  {
   "cell_type": "markdown",
   "metadata": {
    "hidden": true
   },
   "source": [
    "**Notes on Residuals**"
   ]
  },
  {
   "cell_type": "code",
   "execution_count": null,
   "metadata": {
    "ExecuteTime": {
     "end_time": "2021-03-11T11:19:26.780856Z",
     "start_time": "2021-03-11T11:19:25.067Z"
    },
    "hidden": true,
    "scrolled": false
   },
   "outputs": [],
   "source": [
    "# qqplot(model_nbr=1, model=model_1)\n",
    "plot_residuals(model_nbr=1, model=model_1)"
   ]
  },
  {
   "cell_type": "markdown",
   "metadata": {
    "heading_collapsed": true
   },
   "source": [
    "### K-folds"
   ]
  },
  {
   "cell_type": "code",
   "execution_count": null,
   "metadata": {
    "hidden": true
   },
   "outputs": [],
   "source": []
  },
  {
   "cell_type": "markdown",
   "metadata": {
    "heading_collapsed": true
   },
   "source": [
    "### Model 1 Evaluation"
   ]
  },
  {
   "cell_type": "code",
   "execution_count": null,
   "metadata": {
    "hidden": true
   },
   "outputs": [],
   "source": []
  },
  {
   "cell_type": "markdown",
   "metadata": {},
   "source": [
    "## Model 2: Price Log + 3"
   ]
  },
  {
   "cell_type": "markdown",
   "metadata": {},
   "source": [
    "### Strategy"
   ]
  },
  {
   "cell_type": "markdown",
   "metadata": {},
   "source": [
    "**Model 2 Approach**\n",
    "- This model is a baseline model that we'll build on in future iterations with more complexity and features\n",
    "- Model 1 will start without use of log columns and solve for price using top correlated columns\n",
    "- Columns to try include all high (sqft_living, grade, sqft_above) and medium correlations (sqft_living15, bathrooms, view)\n",
    "- Removed bathrooms due to negative coefficient even though residuals didn't look too bad."
   ]
  },
  {
   "cell_type": "code",
   "execution_count": 135,
   "metadata": {
    "ExecuteTime": {
     "end_time": "2021-03-11T12:29:26.011832Z",
     "start_time": "2021-03-11T12:29:26.003282Z"
    }
   },
   "outputs": [],
   "source": [
    "# Model 2 Setup and call statsmodel function\n",
    "features_m2 = ['sqft_living_log', 'grade', 'view']\n",
    "X_train_m2 = X_train[features_m2]\n",
    "y_train_m2 = y_train['price_log']"
   ]
  },
  {
   "cell_type": "markdown",
   "metadata": {
    "ExecuteTime": {
     "end_time": "2021-03-06T21:54:31.852846Z",
     "start_time": "2021-03-06T21:54:31.825493Z"
    }
   },
   "source": [
    "### Run OLS"
   ]
  },
  {
   "cell_type": "code",
   "execution_count": 136,
   "metadata": {
    "ExecuteTime": {
     "end_time": "2021-03-11T12:29:27.595366Z",
     "start_time": "2021-03-11T12:29:27.563146Z"
    },
    "scrolled": false
   },
   "outputs": [
    {
     "name": "stdout",
     "output_type": "stream",
     "text": [
      "                            OLS Regression Results                            \n",
      "==============================================================================\n",
      "Dep. Variable:              price_log   R-squared:                       0.571\n",
      "Model:                            OLS   Adj. R-squared:                  0.571\n",
      "Method:                 Least Squares   F-statistic:                     7678.\n",
      "Date:                Thu, 11 Mar 2021   Prob (F-statistic):               0.00\n",
      "Time:                        07:29:27   Log-Likelihood:                -6145.2\n",
      "No. Observations:               17276   AIC:                         1.230e+04\n",
      "Df Residuals:                   17272   BIC:                         1.233e+04\n",
      "Df Model:                           3                                         \n",
      "Covariance Type:            nonrobust                                         \n",
      "===================================================================================\n",
      "                      coef    std err          t      P>|t|      [0.025      0.975]\n",
      "-----------------------------------------------------------------------------------\n",
      "const               8.5512      0.054    157.437      0.000       8.445       8.658\n",
      "sqft_living_log     0.3970      0.009     42.794      0.000       0.379       0.415\n",
      "grade               0.1927      0.003     57.181      0.000       0.186       0.199\n",
      "view                0.1091      0.004     30.583      0.000       0.102       0.116\n",
      "==============================================================================\n",
      "Omnibus:                       44.996   Durbin-Watson:                   2.011\n",
      "Prob(Omnibus):                  0.000   Jarque-Bera (JB):               42.703\n",
      "Skew:                           0.097   Prob(JB):                     5.33e-10\n",
      "Kurtosis:                       2.853   Cond. No.                         227.\n",
      "==============================================================================\n",
      "\n",
      "Notes:\n",
      "[1] Standard Errors assume that the covariance matrix of the errors is correctly specified.\n",
      "\n",
      "Model 2 Summary Statistics\n",
      "Root Mean Squared Error (RMSE): 233813.0.\n",
      "Mean Absolute Error (MAE): 146914.0.\n"
     ]
    }
   ],
   "source": [
    "model_2 = calc_sm_ols(model_nbr=2, X=X_train_m2, y=y_train_m2)"
   ]
  },
  {
   "cell_type": "markdown",
   "metadata": {},
   "source": [
    "**Model Summary Interpretation**\n",
    "- Adj r^2 = 0.628 | would be good if all else checks\n",
    "- P-value = 0.00 | would be good if all else checks\n",
    "- Skew = 2 (tgt ~0), Kurtosis = 18+ (tgt 3), JB = 191K (tgt 0-6) | Indicates major non-normality, not good\n",
    "- Cond. No. 159K | indicates strong multicollinearity (ill-conditioned)\n",
    "- Predictors:\n",
    "    - Intercept: \\\\$189K might be reasonable to represent base land value\n",
    "    - Sqft_Living: \\\\$180/sqft average doesn't see unreasonable for Seattle area, low p-value 0.00\n",
    "    - Sqft_above: negative coefficient of \\\\$69 doesn't make sense. Somethings off with variable ranges or multicollinearity\n",
    "    - Bathrooms: negative coefficient of \\\\$2K doesn't make sense. Also p-value of 0.56 when this showed one of highest correlations\n",
    "    - View: p-value of 0.00. These seem to make sense adding \\\\$88K (view 2) to \\\\$494K (view 4)\n",
    "    - Grade: Below/average (<7) has negative coeff versus lowest Grade 3 and high p-values. Coefficients on above average grades make sense but p-values split."
   ]
  },
  {
   "cell_type": "markdown",
   "metadata": {},
   "source": [
    "### QQ-plot"
   ]
  },
  {
   "cell_type": "code",
   "execution_count": null,
   "metadata": {
    "ExecuteTime": {
     "end_time": "2021-03-11T11:19:26.782525Z",
     "start_time": "2021-03-11T11:19:25.085Z"
    }
   },
   "outputs": [],
   "source": [
    "qqplot(model_nbr=2, model=model_2)"
   ]
  },
  {
   "cell_type": "markdown",
   "metadata": {},
   "source": [
    "**QQ-Plot Interpretation**\n",
    "- This is WAY off, showing major outliers on both ends. Back to the drawing board."
   ]
  },
  {
   "cell_type": "markdown",
   "metadata": {
    "heading_collapsed": true
   },
   "source": [
    "### Plot Residuals"
   ]
  },
  {
   "cell_type": "markdown",
   "metadata": {
    "hidden": true
   },
   "source": [
    "**Notes on Residuals**"
   ]
  },
  {
   "cell_type": "code",
   "execution_count": null,
   "metadata": {
    "ExecuteTime": {
     "end_time": "2021-03-11T11:19:26.782994Z",
     "start_time": "2021-03-11T11:19:25.091Z"
    },
    "hidden": true,
    "scrolled": false
   },
   "outputs": [],
   "source": [
    "# qqplot(model_nbr=1, model=model_1)\n",
    "plot_residuals(model_nbr=2, model=model_2)"
   ]
  },
  {
   "cell_type": "markdown",
   "metadata": {},
   "source": [
    "### K-folds"
   ]
  },
  {
   "cell_type": "code",
   "execution_count": null,
   "metadata": {},
   "outputs": [],
   "source": []
  },
  {
   "cell_type": "markdown",
   "metadata": {},
   "source": [
    "### Model 2 Evaluation"
   ]
  },
  {
   "cell_type": "code",
   "execution_count": null,
   "metadata": {},
   "outputs": [],
   "source": []
  },
  {
   "cell_type": "markdown",
   "metadata": {},
   "source": [
    "## Model 3: SqFt Above"
   ]
  },
  {
   "cell_type": "markdown",
   "metadata": {},
   "source": [
    "### Strategy"
   ]
  },
  {
   "cell_type": "markdown",
   "metadata": {},
   "source": [
    "**Model 3 Approach**\n",
    "- Trying to make sqft_above work, one of the highest correlation\n",
    "- First try sqft_above, improves model very slightly r2 +0.001 and MAE +\\\\$383 but warning on multicollinearity; residuals cone-shaped\n",
    "- Next try sqft_above_log, improves mode slightly r2 +0.004, MAE +||$1229 but negative coefficent and warning on multicol.\n",
    "- Next try sqft_above_log with interaction term with sqft_living_box: causes both terms to flip negative coefficient\n",
    "- Concluding not going to inlucde sqft_above in model at this point."
   ]
  },
  {
   "cell_type": "code",
   "execution_count": 137,
   "metadata": {
    "ExecuteTime": {
     "end_time": "2021-03-11T12:29:33.401725Z",
     "start_time": "2021-03-11T12:29:33.379916Z"
    }
   },
   "outputs": [
    {
     "name": "stderr",
     "output_type": "stream",
     "text": [
      "<ipython-input-137-4680b517fce0>:4: SettingWithCopyWarning: \n",
      "A value is trying to be set on a copy of a slice from a DataFrame.\n",
      "Try using .loc[row_indexer,col_indexer] = value instead\n",
      "\n",
      "See the caveats in the documentation: https://pandas.pydata.org/pandas-docs/stable/user_guide/indexing.html#returning-a-view-versus-a-copy\n",
      "  X_train_m3['sqft_living_above_int'] = X_train_m3['sqft_living_log']*X_train_m3['sqft_above_log']\n"
     ]
    },
    {
     "data": {
      "text/html": [
       "<div>\n",
       "<style scoped>\n",
       "    .dataframe tbody tr th:only-of-type {\n",
       "        vertical-align: middle;\n",
       "    }\n",
       "\n",
       "    .dataframe tbody tr th {\n",
       "        vertical-align: top;\n",
       "    }\n",
       "\n",
       "    .dataframe thead th {\n",
       "        text-align: right;\n",
       "    }\n",
       "</style>\n",
       "<table border=\"1\" class=\"dataframe\">\n",
       "  <thead>\n",
       "    <tr style=\"text-align: right;\">\n",
       "      <th></th>\n",
       "      <th>sqft_living_log</th>\n",
       "      <th>grade</th>\n",
       "      <th>view</th>\n",
       "      <th>sqft_above_log</th>\n",
       "      <th>sqft_living_above_int</th>\n",
       "    </tr>\n",
       "  </thead>\n",
       "  <tbody>\n",
       "    <tr>\n",
       "      <th>6243</th>\n",
       "      <td>7.27239839</td>\n",
       "      <td>7.00000000</td>\n",
       "      <td>0.00000000</td>\n",
       "      <td>7.27239839</td>\n",
       "      <td>52.88777838</td>\n",
       "    </tr>\n",
       "    <tr>\n",
       "      <th>8986</th>\n",
       "      <td>7.26542972</td>\n",
       "      <td>7.00000000</td>\n",
       "      <td>2.00000000</td>\n",
       "      <td>7.03878354</td>\n",
       "      <td>51.13978716</td>\n",
       "    </tr>\n",
       "    <tr>\n",
       "      <th>9419</th>\n",
       "      <td>8.04558828</td>\n",
       "      <td>9.00000000</td>\n",
       "      <td>0.00000000</td>\n",
       "      <td>8.04558828</td>\n",
       "      <td>64.73149078</td>\n",
       "    </tr>\n",
       "    <tr>\n",
       "      <th>10155</th>\n",
       "      <td>7.63046126</td>\n",
       "      <td>7.00000000</td>\n",
       "      <td>0.00000000</td>\n",
       "      <td>7.10660614</td>\n",
       "      <td>54.22668284</td>\n",
       "    </tr>\n",
       "    <tr>\n",
       "      <th>10436</th>\n",
       "      <td>7.82404601</td>\n",
       "      <td>7.00000000</td>\n",
       "      <td>0.00000000</td>\n",
       "      <td>7.42654907</td>\n",
       "      <td>58.10566164</td>\n",
       "    </tr>\n",
       "  </tbody>\n",
       "</table>\n",
       "</div>"
      ],
      "text/plain": [
       "       sqft_living_log      grade       view  sqft_above_log  \\\n",
       "6243        7.27239839 7.00000000 0.00000000      7.27239839   \n",
       "8986        7.26542972 7.00000000 2.00000000      7.03878354   \n",
       "9419        8.04558828 9.00000000 0.00000000      8.04558828   \n",
       "10155       7.63046126 7.00000000 0.00000000      7.10660614   \n",
       "10436       7.82404601 7.00000000 0.00000000      7.42654907   \n",
       "\n",
       "       sqft_living_above_int  \n",
       "6243             52.88777838  \n",
       "8986             51.13978716  \n",
       "9419             64.73149078  \n",
       "10155            54.22668284  \n",
       "10436            58.10566164  "
      ]
     },
     "execution_count": 137,
     "metadata": {},
     "output_type": "execute_result"
    }
   ],
   "source": [
    "# Model 3 Setup and call statsmodel function\n",
    "features_m3 = ['sqft_living_log', 'grade', 'view', 'sqft_above_log']\n",
    "X_train_m3 = X_train[features_m3]\n",
    "X_train_m3['sqft_living_above_int'] = X_train_m3['sqft_living_log']*X_train_m3['sqft_above_log']\n",
    "y_train_m3 = y_train['price_log']\n",
    "X_train_m3.head()"
   ]
  },
  {
   "cell_type": "markdown",
   "metadata": {
    "ExecuteTime": {
     "end_time": "2021-03-06T21:54:31.852846Z",
     "start_time": "2021-03-06T21:54:31.825493Z"
    }
   },
   "source": [
    "### Run OLS"
   ]
  },
  {
   "cell_type": "code",
   "execution_count": 138,
   "metadata": {
    "ExecuteTime": {
     "end_time": "2021-03-11T12:29:35.302812Z",
     "start_time": "2021-03-11T12:29:35.259605Z"
    },
    "scrolled": false
   },
   "outputs": [
    {
     "name": "stdout",
     "output_type": "stream",
     "text": [
      "                            OLS Regression Results                            \n",
      "==============================================================================\n",
      "Dep. Variable:              price_log   R-squared:                       0.583\n",
      "Model:                            OLS   Adj. R-squared:                  0.582\n",
      "Method:                 Least Squares   F-statistic:                     4819.\n",
      "Date:                Thu, 11 Mar 2021   Prob (F-statistic):               0.00\n",
      "Time:                        07:29:35   Log-Likelihood:                -5919.6\n",
      "No. Observations:               17276   AIC:                         1.185e+04\n",
      "Df Residuals:                   17270   BIC:                         1.190e+04\n",
      "Df Model:                           5                                         \n",
      "Covariance Type:            nonrobust                                         \n",
      "=========================================================================================\n",
      "                            coef    std err          t      P>|t|      [0.025      0.975]\n",
      "-----------------------------------------------------------------------------------------\n",
      "const                    19.3923      0.663     29.268      0.000      18.094      20.691\n",
      "sqft_living_log          -0.8320      0.086     -9.722      0.000      -1.000      -0.664\n",
      "grade                     0.1941      0.004     53.749      0.000       0.187       0.201\n",
      "view                      0.0960      0.004     26.814      0.000       0.089       0.103\n",
      "sqft_above_log           -1.6612      0.093    -17.836      0.000      -1.844      -1.479\n",
      "sqft_living_above_int     0.1914      0.012     16.051      0.000       0.168       0.215\n",
      "==============================================================================\n",
      "Omnibus:                       18.472   Durbin-Watson:                   2.017\n",
      "Prob(Omnibus):                  0.000   Jarque-Bera (JB):               18.328\n",
      "Skew:                           0.071   Prob(JB):                     0.000105\n",
      "Kurtosis:                       2.929   Cond. No.                     1.50e+04\n",
      "==============================================================================\n",
      "\n",
      "Notes:\n",
      "[1] Standard Errors assume that the covariance matrix of the errors is correctly specified.\n",
      "[2] The condition number is large, 1.5e+04. This might indicate that there are\n",
      "strong multicollinearity or other numerical problems.\n",
      "\n",
      "Model 3 Summary Statistics\n",
      "Root Mean Squared Error (RMSE): 227260.0.\n",
      "Mean Absolute Error (MAE): 145184.0.\n"
     ]
    }
   ],
   "source": [
    "model_3 = calc_sm_ols(model_nbr=3, X=X_train_m3, y=y_train_m3)"
   ]
  },
  {
   "cell_type": "markdown",
   "metadata": {},
   "source": [
    "**Model Summary Interpretation**\n",
    "- Adj r^2 = 0.628 | would be good if all else checks\n",
    "- P-value = 0.00 | would be good if all else checks\n",
    "- Skew = 2 (tgt ~0), Kurtosis = 18+ (tgt 3), JB = 191K (tgt 0-6) | Indicates major non-normality, not good\n",
    "- Cond. No. 159K | indicates strong multicollinearity (ill-conditioned)\n",
    "- Predictors:\n",
    "    - Intercept: \\\\$189K might be reasonable to represent base land value\n",
    "    - Sqft_Living: \\\\$180/sqft average doesn't see unreasonable for Seattle area, low p-value 0.00\n",
    "    - Sqft_above: negative coefficient of \\\\$69 doesn't make sense. Somethings off with variable ranges or multicollinearity\n",
    "    - Bathrooms: negative coefficient of \\\\$2K doesn't make sense. Also p-value of 0.56 when this showed one of highest correlations\n",
    "    - View: p-value of 0.00. These seem to make sense adding \\\\$88K (view 2) to \\\\$494K (view 4)\n",
    "    - Grade: Below/average (<7) has negative coeff versus lowest Grade 3 and high p-values. Coefficients on above average grades make sense but p-values split."
   ]
  },
  {
   "cell_type": "markdown",
   "metadata": {},
   "source": [
    "### QQ-plot"
   ]
  },
  {
   "cell_type": "code",
   "execution_count": null,
   "metadata": {
    "ExecuteTime": {
     "end_time": "2021-03-11T11:19:26.784614Z",
     "start_time": "2021-03-11T11:19:25.110Z"
    }
   },
   "outputs": [],
   "source": [
    "qqplot(model_nbr=3, model=model_3)"
   ]
  },
  {
   "cell_type": "markdown",
   "metadata": {},
   "source": [
    "**QQ-Plot Interpretation**\n",
    "- This is WAY off, showing major outliers on both ends. Back to the drawing board."
   ]
  },
  {
   "cell_type": "markdown",
   "metadata": {
    "heading_collapsed": true
   },
   "source": [
    "### Plot Residuals"
   ]
  },
  {
   "cell_type": "markdown",
   "metadata": {
    "hidden": true
   },
   "source": [
    "**Notes on Residuals**"
   ]
  },
  {
   "cell_type": "code",
   "execution_count": null,
   "metadata": {
    "ExecuteTime": {
     "end_time": "2021-03-11T11:19:26.785135Z",
     "start_time": "2021-03-11T11:19:25.116Z"
    },
    "hidden": true,
    "scrolled": false
   },
   "outputs": [],
   "source": [
    "# qqplot(model_nbr=1, model=model_1)\n",
    "plot_residuals(model_nbr=3, model=model_3)"
   ]
  },
  {
   "cell_type": "markdown",
   "metadata": {},
   "source": [
    "### K-folds"
   ]
  },
  {
   "cell_type": "code",
   "execution_count": null,
   "metadata": {},
   "outputs": [],
   "source": []
  },
  {
   "cell_type": "markdown",
   "metadata": {},
   "source": [
    "### Model 3 Evaluation"
   ]
  },
  {
   "cell_type": "code",
   "execution_count": null,
   "metadata": {},
   "outputs": [],
   "source": []
  },
  {
   "cell_type": "markdown",
   "metadata": {},
   "source": [
    "## Model 4: New Baseline"
   ]
  },
  {
   "cell_type": "markdown",
   "metadata": {},
   "source": [
    "### Strategy"
   ]
  },
  {
   "cell_type": "markdown",
   "metadata": {},
   "source": [
    "**Model 4 Approach**\n",
    "- Start with Model 2 baseline\n",
    "- Trying to incorporate bedrooms based on intuition of housing pricing in market:\n",
    "    - bedrooms: Gave negative coefficient and slighly raise MAE. Residuals show heteroskedascity at higher range of bedrooms.\n",
    "    - bedrooms_log: Still negative coefficient. r2 improved 0.3% and \\\\$500 MAE improvement. Residuals still show heteroskedascity.\n",
    "    - bedrooms_box-plot: lambda 0.58 (versus log lambda 0). Same, still negative coefficient and r2/MAE slightly worse than bedrooms_log.\n",
    "    - bedrooms_der: Capping bedrooms at 6 removed heterosk. But didn't improve model in r2/MAE.\n",
    "    - sqft_per_bedroom_log: Improved\n",
    "- Trying gain to add bedrooms after dropping in Model2.\n",
    "    - adding bathrooms results in negative coefficent and does not improve model\n",
    "    - adding bathroom_log also results in negative coefficient and no improvement.\n",
    "    - Dropping bathroom feature\n",
    "- Renovation_ind: Adding this included adjusted r2 by 0.005, MAE +1366, RMSA+2757 and lowered JB by 8 to 36. Residuals ok.\n",
    "- Waterfront, Basement both increased as well\n",
    "- Condition also bumped r2 0.01 and MAE another $3K. Tried grouping condition for just excellent or poor but lost precision so scrapped.\n",
    "- Sqft_Living15 barely most r2/MAE but caused a condition number warning about multi-colliarity. Dropping since 0.76 correlation to sqft_living.\n",
    "- Sqft_Lot_Box less skewed than log and performed 150 MAE better. residuals look good. Coefficents are negative which I interpret as larger lot sizes probably outside suburbs where prices are lower.\n",
    "    \n",
    "    "
   ]
  },
  {
   "cell_type": "code",
   "execution_count": 139,
   "metadata": {
    "ExecuteTime": {
     "end_time": "2021-03-11T12:29:41.040609Z",
     "start_time": "2021-03-11T12:29:41.022698Z"
    }
   },
   "outputs": [
    {
     "data": {
      "text/html": [
       "<div>\n",
       "<style scoped>\n",
       "    .dataframe tbody tr th:only-of-type {\n",
       "        vertical-align: middle;\n",
       "    }\n",
       "\n",
       "    .dataframe tbody tr th {\n",
       "        vertical-align: top;\n",
       "    }\n",
       "\n",
       "    .dataframe thead th {\n",
       "        text-align: right;\n",
       "    }\n",
       "</style>\n",
       "<table border=\"1\" class=\"dataframe\">\n",
       "  <thead>\n",
       "    <tr style=\"text-align: right;\">\n",
       "      <th></th>\n",
       "      <th>sqft_living_log</th>\n",
       "      <th>grade</th>\n",
       "      <th>view</th>\n",
       "      <th>sqft_per_bedroom_log</th>\n",
       "      <th>renovation_ind</th>\n",
       "      <th>waterfront</th>\n",
       "      <th>basement_ind</th>\n",
       "      <th>condition</th>\n",
       "    </tr>\n",
       "  </thead>\n",
       "  <tbody>\n",
       "    <tr>\n",
       "      <th>6243</th>\n",
       "      <td>7.27239839</td>\n",
       "      <td>7.00000000</td>\n",
       "      <td>0.00000000</td>\n",
       "      <td>5.88610403</td>\n",
       "      <td>0.00000000</td>\n",
       "      <td>0.00000000</td>\n",
       "      <td>0.00000000</td>\n",
       "      <td>4.00000000</td>\n",
       "    </tr>\n",
       "    <tr>\n",
       "      <th>8986</th>\n",
       "      <td>7.26542972</td>\n",
       "      <td>7.00000000</td>\n",
       "      <td>2.00000000</td>\n",
       "      <td>6.16681743</td>\n",
       "      <td>0.00000000</td>\n",
       "      <td>0.00000000</td>\n",
       "      <td>1.00000000</td>\n",
       "      <td>4.00000000</td>\n",
       "    </tr>\n",
       "    <tr>\n",
       "      <th>9419</th>\n",
       "      <td>8.04558828</td>\n",
       "      <td>9.00000000</td>\n",
       "      <td>0.00000000</td>\n",
       "      <td>6.65929392</td>\n",
       "      <td>0.00000000</td>\n",
       "      <td>0.00000000</td>\n",
       "      <td>0.00000000</td>\n",
       "      <td>3.00000000</td>\n",
       "    </tr>\n",
       "    <tr>\n",
       "      <th>10155</th>\n",
       "      <td>7.63046126</td>\n",
       "      <td>7.00000000</td>\n",
       "      <td>0.00000000</td>\n",
       "      <td>6.24416690</td>\n",
       "      <td>0.00000000</td>\n",
       "      <td>0.00000000</td>\n",
       "      <td>1.00000000</td>\n",
       "      <td>3.00000000</td>\n",
       "    </tr>\n",
       "    <tr>\n",
       "      <th>10436</th>\n",
       "      <td>7.82404601</td>\n",
       "      <td>7.00000000</td>\n",
       "      <td>0.00000000</td>\n",
       "      <td>6.72543372</td>\n",
       "      <td>0.00000000</td>\n",
       "      <td>0.00000000</td>\n",
       "      <td>1.00000000</td>\n",
       "      <td>5.00000000</td>\n",
       "    </tr>\n",
       "  </tbody>\n",
       "</table>\n",
       "</div>"
      ],
      "text/plain": [
       "       sqft_living_log      grade       view  sqft_per_bedroom_log  \\\n",
       "6243        7.27239839 7.00000000 0.00000000            5.88610403   \n",
       "8986        7.26542972 7.00000000 2.00000000            6.16681743   \n",
       "9419        8.04558828 9.00000000 0.00000000            6.65929392   \n",
       "10155       7.63046126 7.00000000 0.00000000            6.24416690   \n",
       "10436       7.82404601 7.00000000 0.00000000            6.72543372   \n",
       "\n",
       "       renovation_ind  waterfront  basement_ind  condition  \n",
       "6243       0.00000000  0.00000000    0.00000000 4.00000000  \n",
       "8986       0.00000000  0.00000000    1.00000000 4.00000000  \n",
       "9419       0.00000000  0.00000000    0.00000000 3.00000000  \n",
       "10155      0.00000000  0.00000000    1.00000000 3.00000000  \n",
       "10436      0.00000000  0.00000000    1.00000000 5.00000000  "
      ]
     },
     "execution_count": 139,
     "metadata": {},
     "output_type": "execute_result"
    }
   ],
   "source": [
    "# Model 4 Setup and call statsmodel function\n",
    "features_m4 = ['sqft_living_log','grade','view','sqft_per_bedroom_log','renovation_ind','waterfront','basement_ind','condition'] \n",
    "X_train_m4 = X_train[features_m4]\n",
    "y_train_m4 = y_train['price_log']\n",
    "X_train_m4.head()"
   ]
  },
  {
   "cell_type": "markdown",
   "metadata": {
    "ExecuteTime": {
     "end_time": "2021-03-06T21:54:31.852846Z",
     "start_time": "2021-03-06T21:54:31.825493Z"
    }
   },
   "source": [
    "### Run OLS"
   ]
  },
  {
   "cell_type": "code",
   "execution_count": 140,
   "metadata": {
    "ExecuteTime": {
     "end_time": "2021-03-11T12:29:42.998085Z",
     "start_time": "2021-03-11T12:29:42.947920Z"
    },
    "scrolled": false
   },
   "outputs": [
    {
     "name": "stdout",
     "output_type": "stream",
     "text": [
      "                            OLS Regression Results                            \n",
      "==============================================================================\n",
      "Dep. Variable:              price_log   R-squared:                       0.603\n",
      "Model:                            OLS   Adj. R-squared:                  0.602\n",
      "Method:                 Least Squares   F-statistic:                     3272.\n",
      "Date:                Thu, 11 Mar 2021   Prob (F-statistic):               0.00\n",
      "Time:                        07:29:42   Log-Likelihood:                -5495.8\n",
      "No. Observations:               17276   AIC:                         1.101e+04\n",
      "Df Residuals:                   17267   BIC:                         1.108e+04\n",
      "Df Model:                           8                                         \n",
      "Covariance Type:            nonrobust                                         \n",
      "========================================================================================\n",
      "                           coef    std err          t      P>|t|      [0.025      0.975]\n",
      "----------------------------------------------------------------------------------------\n",
      "const                    8.1542      0.064    126.922      0.000       8.028       8.280\n",
      "sqft_living_log          0.2724      0.011     25.289      0.000       0.251       0.294\n",
      "grade                    0.2118      0.003     62.085      0.000       0.205       0.219\n",
      "view                     0.0718      0.004     19.054      0.000       0.064       0.079\n",
      "sqft_per_bedroom_log     0.1313      0.012     10.870      0.000       0.108       0.155\n",
      "renovation_ind           0.2125      0.014     15.108      0.000       0.185       0.240\n",
      "waterfront               0.3557      0.033     10.703      0.000       0.291       0.421\n",
      "basement_ind             0.0895      0.006     16.102      0.000       0.079       0.100\n",
      "condition                0.0933      0.004     23.404      0.000       0.086       0.101\n",
      "==============================================================================\n",
      "Omnibus:                        9.663   Durbin-Watson:                   2.006\n",
      "Prob(Omnibus):                  0.008   Jarque-Bera (JB):                9.660\n",
      "Skew:                           0.058   Prob(JB):                      0.00799\n",
      "Kurtosis:                       3.007   Cond. No.                         334.\n",
      "==============================================================================\n",
      "\n",
      "Notes:\n",
      "[1] Standard Errors assume that the covariance matrix of the errors is correctly specified.\n",
      "\n",
      "Model 4 Summary Statistics\n",
      "Root Mean Squared Error (RMSE): 218810.0.\n",
      "Mean Absolute Error (MAE): 139025.0.\n"
     ]
    }
   ],
   "source": [
    "model_4 = calc_sm_ols(model_nbr=4, X=X_train_m4, y=y_train_m4)"
   ]
  },
  {
   "cell_type": "markdown",
   "metadata": {},
   "source": [
    "**Model Summary Interpretation**\n",
    "- Adj r^2 = 0.628 | would be good if all else checks\n",
    "- P-value = 0.00 | would be good if all else checks\n",
    "- Skew = 2 (tgt ~0), Kurtosis = 18+ (tgt 3), JB = 191K (tgt 0-6) | Indicates major non-normality, not good\n",
    "- Cond. No. 159K | indicates strong multicollinearity (ill-conditioned)\n",
    "- Predictors:\n",
    "    - Intercept: \\\\$189K might be reasonable to represent base land value\n",
    "    - Sqft_Living: \\\\$180/sqft average doesn't see unreasonable for Seattle area, low p-value 0.00\n",
    "    - Sqft_above: negative coefficient of \\\\$69 doesn't make sense. Somethings off with variable ranges or multicollinearity\n",
    "    - Bathrooms: negative coefficient of \\\\$2K doesn't make sense. Also p-value of 0.56 when this showed one of highest correlations\n",
    "    - View: p-value of 0.00. These seem to make sense adding \\\\$88K (view 2) to \\\\$494K (view 4)\n",
    "    - Grade: Below/average (<7) has negative coeff versus lowest Grade 3 and high p-values. Coefficients on above average grades make sense but p-values split."
   ]
  },
  {
   "cell_type": "markdown",
   "metadata": {},
   "source": [
    "### QQ-plot"
   ]
  },
  {
   "cell_type": "code",
   "execution_count": null,
   "metadata": {
    "ExecuteTime": {
     "end_time": "2021-03-11T11:19:26.786698Z",
     "start_time": "2021-03-11T11:19:25.135Z"
    }
   },
   "outputs": [],
   "source": [
    "qqplot(model_nbr=4, model=model_4)"
   ]
  },
  {
   "cell_type": "markdown",
   "metadata": {},
   "source": [
    "**QQ-Plot Interpretation**\n",
    "- This is WAY off, showing major outliers on both ends. Back to the drawing board."
   ]
  },
  {
   "cell_type": "markdown",
   "metadata": {
    "heading_collapsed": true
   },
   "source": [
    "### Plot Residuals"
   ]
  },
  {
   "cell_type": "markdown",
   "metadata": {
    "hidden": true
   },
   "source": [
    "**Notes on Residuals**"
   ]
  },
  {
   "cell_type": "code",
   "execution_count": null,
   "metadata": {
    "ExecuteTime": {
     "end_time": "2021-03-11T11:19:26.787253Z",
     "start_time": "2021-03-11T11:19:25.141Z"
    },
    "hidden": true,
    "scrolled": false
   },
   "outputs": [],
   "source": [
    "# qqplot(model_nbr=1, model=model_1)\n",
    "plot_residuals(model_nbr=4, model=model_4)"
   ]
  },
  {
   "cell_type": "markdown",
   "metadata": {},
   "source": [
    "### K-folds"
   ]
  },
  {
   "cell_type": "code",
   "execution_count": null,
   "metadata": {},
   "outputs": [],
   "source": []
  },
  {
   "cell_type": "markdown",
   "metadata": {},
   "source": [
    "### Model 4 Evaluation"
   ]
  },
  {
   "cell_type": "code",
   "execution_count": null,
   "metadata": {},
   "outputs": [],
   "source": []
  },
  {
   "cell_type": "markdown",
   "metadata": {},
   "source": [
    "## Model 5: + Seattle Miles"
   ]
  },
  {
   "cell_type": "markdown",
   "metadata": {},
   "source": [
    "### Strategy"
   ]
  },
  {
   "cell_type": "markdown",
   "metadata": {},
   "source": [
    "**Model 5 Approach**\n",
    "- Start with Model 5 baseline\n",
    "- Miles from Seattle sqrt: \n",
    "    - Raised r2 by strong +0.07. MAE dropped by \\\\$12459. No issues with skew or residuals. Has negative correlation with price as expected.\n",
    "    - Adding this caused lot size sign to flip w p-value of .76 so removing for now.\n",
    "    \n",
    "    "
   ]
  },
  {
   "cell_type": "code",
   "execution_count": 141,
   "metadata": {
    "ExecuteTime": {
     "end_time": "2021-03-11T12:29:53.823552Z",
     "start_time": "2021-03-11T12:29:53.801161Z"
    }
   },
   "outputs": [
    {
     "data": {
      "text/html": [
       "<div>\n",
       "<style scoped>\n",
       "    .dataframe tbody tr th:only-of-type {\n",
       "        vertical-align: middle;\n",
       "    }\n",
       "\n",
       "    .dataframe tbody tr th {\n",
       "        vertical-align: top;\n",
       "    }\n",
       "\n",
       "    .dataframe thead th {\n",
       "        text-align: right;\n",
       "    }\n",
       "</style>\n",
       "<table border=\"1\" class=\"dataframe\">\n",
       "  <thead>\n",
       "    <tr style=\"text-align: right;\">\n",
       "      <th></th>\n",
       "      <th>sqft_living_log</th>\n",
       "      <th>grade</th>\n",
       "      <th>view</th>\n",
       "      <th>sqft_per_bedroom_log</th>\n",
       "      <th>renovation_ind</th>\n",
       "      <th>waterfront</th>\n",
       "      <th>basement_ind</th>\n",
       "      <th>condition</th>\n",
       "      <th>miles_fr_seattle_sqrt</th>\n",
       "    </tr>\n",
       "  </thead>\n",
       "  <tbody>\n",
       "    <tr>\n",
       "      <th>6243</th>\n",
       "      <td>7.27239839</td>\n",
       "      <td>7.00000000</td>\n",
       "      <td>0.00000000</td>\n",
       "      <td>5.88610403</td>\n",
       "      <td>0.00000000</td>\n",
       "      <td>0.00000000</td>\n",
       "      <td>0.00000000</td>\n",
       "      <td>4.00000000</td>\n",
       "      <td>1.83478680</td>\n",
       "    </tr>\n",
       "    <tr>\n",
       "      <th>8986</th>\n",
       "      <td>7.26542972</td>\n",
       "      <td>7.00000000</td>\n",
       "      <td>2.00000000</td>\n",
       "      <td>6.16681743</td>\n",
       "      <td>0.00000000</td>\n",
       "      <td>0.00000000</td>\n",
       "      <td>1.00000000</td>\n",
       "      <td>4.00000000</td>\n",
       "      <td>5.23596768</td>\n",
       "    </tr>\n",
       "    <tr>\n",
       "      <th>9419</th>\n",
       "      <td>8.04558828</td>\n",
       "      <td>9.00000000</td>\n",
       "      <td>0.00000000</td>\n",
       "      <td>6.65929392</td>\n",
       "      <td>0.00000000</td>\n",
       "      <td>0.00000000</td>\n",
       "      <td>0.00000000</td>\n",
       "      <td>3.00000000</td>\n",
       "      <td>3.57258119</td>\n",
       "    </tr>\n",
       "    <tr>\n",
       "      <th>10155</th>\n",
       "      <td>7.63046126</td>\n",
       "      <td>7.00000000</td>\n",
       "      <td>0.00000000</td>\n",
       "      <td>6.24416690</td>\n",
       "      <td>0.00000000</td>\n",
       "      <td>0.00000000</td>\n",
       "      <td>1.00000000</td>\n",
       "      <td>3.00000000</td>\n",
       "      <td>3.35003736</td>\n",
       "    </tr>\n",
       "    <tr>\n",
       "      <th>10436</th>\n",
       "      <td>7.82404601</td>\n",
       "      <td>7.00000000</td>\n",
       "      <td>0.00000000</td>\n",
       "      <td>6.72543372</td>\n",
       "      <td>0.00000000</td>\n",
       "      <td>0.00000000</td>\n",
       "      <td>1.00000000</td>\n",
       "      <td>5.00000000</td>\n",
       "      <td>2.25581412</td>\n",
       "    </tr>\n",
       "  </tbody>\n",
       "</table>\n",
       "</div>"
      ],
      "text/plain": [
       "       sqft_living_log      grade       view  sqft_per_bedroom_log  \\\n",
       "6243        7.27239839 7.00000000 0.00000000            5.88610403   \n",
       "8986        7.26542972 7.00000000 2.00000000            6.16681743   \n",
       "9419        8.04558828 9.00000000 0.00000000            6.65929392   \n",
       "10155       7.63046126 7.00000000 0.00000000            6.24416690   \n",
       "10436       7.82404601 7.00000000 0.00000000            6.72543372   \n",
       "\n",
       "       renovation_ind  waterfront  basement_ind  condition  \\\n",
       "6243       0.00000000  0.00000000    0.00000000 4.00000000   \n",
       "8986       0.00000000  0.00000000    1.00000000 4.00000000   \n",
       "9419       0.00000000  0.00000000    0.00000000 3.00000000   \n",
       "10155      0.00000000  0.00000000    1.00000000 3.00000000   \n",
       "10436      0.00000000  0.00000000    1.00000000 5.00000000   \n",
       "\n",
       "       miles_fr_seattle_sqrt  \n",
       "6243              1.83478680  \n",
       "8986              5.23596768  \n",
       "9419              3.57258119  \n",
       "10155             3.35003736  \n",
       "10436             2.25581412  "
      ]
     },
     "execution_count": 141,
     "metadata": {},
     "output_type": "execute_result"
    }
   ],
   "source": [
    "# Model 4 Setup and call statsmodel function\n",
    "features_m5 = ['sqft_living_log','grade','view','sqft_per_bedroom_log','renovation_ind','waterfront','basement_ind','condition','miles_fr_seattle_sqrt']\n",
    "X_train_m5 = X_train[features_m5]\n",
    "y_train_m5 = y_train['price_log']\n",
    "X_train_m5.head()"
   ]
  },
  {
   "cell_type": "markdown",
   "metadata": {
    "ExecuteTime": {
     "end_time": "2021-03-06T21:54:31.852846Z",
     "start_time": "2021-03-06T21:54:31.825493Z"
    }
   },
   "source": [
    "### Run OLS"
   ]
  },
  {
   "cell_type": "code",
   "execution_count": 142,
   "metadata": {
    "ExecuteTime": {
     "end_time": "2021-03-11T12:29:55.719712Z",
     "start_time": "2021-03-11T12:29:55.669091Z"
    },
    "scrolled": false
   },
   "outputs": [
    {
     "name": "stdout",
     "output_type": "stream",
     "text": [
      "                            OLS Regression Results                            \n",
      "==============================================================================\n",
      "Dep. Variable:              price_log   R-squared:                       0.678\n",
      "Model:                            OLS   Adj. R-squared:                  0.678\n",
      "Method:                 Least Squares   F-statistic:                     4035.\n",
      "Date:                Thu, 11 Mar 2021   Prob (F-statistic):               0.00\n",
      "Time:                        07:29:55   Log-Likelihood:                -3682.2\n",
      "No. Observations:               17276   AIC:                             7384.\n",
      "Df Residuals:                   17266   BIC:                             7462.\n",
      "Df Model:                           9                                         \n",
      "Covariance Type:            nonrobust                                         \n",
      "=========================================================================================\n",
      "                            coef    std err          t      P>|t|      [0.025      0.975]\n",
      "-----------------------------------------------------------------------------------------\n",
      "const                     8.2272      0.058    142.199      0.000       8.114       8.341\n",
      "sqft_living_log           0.3536      0.010     36.141      0.000       0.334       0.373\n",
      "grade                     0.1933      0.003     62.647      0.000       0.187       0.199\n",
      "view                      0.0634      0.003     18.656      0.000       0.057       0.070\n",
      "sqft_per_bedroom_log      0.1337      0.011     12.297      0.000       0.112       0.155\n",
      "renovation_ind            0.1536      0.013     12.098      0.000       0.129       0.179\n",
      "waterfront                0.4038      0.030     13.488      0.000       0.345       0.462\n",
      "basement_ind              0.0199      0.005      3.888      0.000       0.010       0.030\n",
      "condition                 0.0824      0.004     22.917      0.000       0.075       0.089\n",
      "miles_fr_seattle_sqrt    -0.1513      0.002    -63.511      0.000      -0.156      -0.147\n",
      "==============================================================================\n",
      "Omnibus:                       43.148   Durbin-Watson:                   2.007\n",
      "Prob(Omnibus):                  0.000   Jarque-Bera (JB):               54.046\n",
      "Skew:                           0.028   Prob(JB):                     1.84e-12\n",
      "Kurtosis:                       3.268   Cond. No.                         344.\n",
      "==============================================================================\n",
      "\n",
      "Notes:\n",
      "[1] Standard Errors assume that the covariance matrix of the errors is correctly specified.\n",
      "\n",
      "Model 5 Summary Statistics\n",
      "Root Mean Squared Error (RMSE): 196814.0.\n",
      "Mean Absolute Error (MAE): 125099.0.\n"
     ]
    }
   ],
   "source": [
    "model_5 = calc_sm_ols(model_nbr=5, X=X_train_m5, y=y_train_m5)"
   ]
  },
  {
   "cell_type": "markdown",
   "metadata": {},
   "source": [
    "**Model Summary Interpretation**\n",
    "- Adj r^2 = 0.628 | would be good if all else checks\n",
    "- P-value = 0.00 | would be good if all else checks\n",
    "- Skew = 2 (tgt ~0), Kurtosis = 18+ (tgt 3), JB = 191K (tgt 0-6) | Indicates major non-normality, not good\n",
    "- Cond. No. 159K | indicates strong multicollinearity (ill-conditioned)\n",
    "- Predictors:\n",
    "    - Intercept: \\\\$189K might be reasonable to represent base land value\n",
    "    - Sqft_Living: \\\\$180/sqft average doesn't see unreasonable for Seattle area, low p-value 0.00\n",
    "    - Sqft_above: negative coefficient of \\\\$69 doesn't make sense. Somethings off with variable ranges or multicollinearity\n",
    "    - Bathrooms: negative coefficient of \\\\$2K doesn't make sense. Also p-value of 0.56 when this showed one of highest correlations\n",
    "    - View: p-value of 0.00. These seem to make sense adding \\\\$88K (view 2) to \\\\$494K (view 4)\n",
    "    - Grade: Below/average (<7) has negative coeff versus lowest Grade 3 and high p-values. Coefficients on above average grades make sense but p-values split."
   ]
  },
  {
   "cell_type": "markdown",
   "metadata": {},
   "source": [
    "### QQ-plot"
   ]
  },
  {
   "cell_type": "code",
   "execution_count": null,
   "metadata": {
    "ExecuteTime": {
     "end_time": "2021-03-11T11:19:26.789105Z",
     "start_time": "2021-03-11T11:19:25.159Z"
    }
   },
   "outputs": [],
   "source": [
    "qqplot(model_nbr=5, model=model_5)"
   ]
  },
  {
   "cell_type": "markdown",
   "metadata": {},
   "source": [
    "**QQ-Plot Interpretation**\n",
    "- This is WAY off, showing major outliers on both ends. Back to the drawing board."
   ]
  },
  {
   "cell_type": "markdown",
   "metadata": {
    "heading_collapsed": true
   },
   "source": [
    "### Plot Residuals"
   ]
  },
  {
   "cell_type": "markdown",
   "metadata": {
    "hidden": true
   },
   "source": [
    "**Notes on Residuals**"
   ]
  },
  {
   "cell_type": "code",
   "execution_count": null,
   "metadata": {
    "ExecuteTime": {
     "end_time": "2021-03-11T11:19:26.789829Z",
     "start_time": "2021-03-11T11:19:25.165Z"
    },
    "hidden": true,
    "scrolled": false
   },
   "outputs": [],
   "source": [
    "# qqplot(model_nbr=1, model=model_1)\n",
    "plot_residuals(model_nbr=5, model=model_5)"
   ]
  },
  {
   "cell_type": "markdown",
   "metadata": {},
   "source": [
    "### K-folds"
   ]
  },
  {
   "cell_type": "code",
   "execution_count": null,
   "metadata": {},
   "outputs": [],
   "source": []
  },
  {
   "cell_type": "markdown",
   "metadata": {},
   "source": [
    "### Model 5 Evaluation"
   ]
  },
  {
   "cell_type": "code",
   "execution_count": null,
   "metadata": {},
   "outputs": [],
   "source": []
  },
  {
   "cell_type": "markdown",
   "metadata": {},
   "source": [
    "## Model 6  + Zip Codes"
   ]
  },
  {
   "cell_type": "markdown",
   "metadata": {},
   "source": [
    "### Strategy"
   ]
  },
  {
   "cell_type": "markdown",
   "metadata": {},
   "source": [
    "**Model 6 Approach**\n",
    "- Start with Model 5 baseline\n",
    "- Miles from Seattle sqrt: \n",
    "    - Raised r2 by strong +0.07. MAE dropped by \\\\$12459. No issues with skew or residuals. Has negative correlation with price as expected.\n",
    "    - Adding this caused lot size sign to flip w p-value of .76 so removing for now.\n",
    "    \n",
    "    "
   ]
  },
  {
   "cell_type": "code",
   "execution_count": 143,
   "metadata": {
    "ExecuteTime": {
     "end_time": "2021-03-11T12:30:08.922108Z",
     "start_time": "2021-03-11T12:30:08.883872Z"
    }
   },
   "outputs": [
    {
     "data": {
      "text/html": [
       "<div>\n",
       "<style scoped>\n",
       "    .dataframe tbody tr th:only-of-type {\n",
       "        vertical-align: middle;\n",
       "    }\n",
       "\n",
       "    .dataframe tbody tr th {\n",
       "        vertical-align: top;\n",
       "    }\n",
       "\n",
       "    .dataframe thead th {\n",
       "        text-align: right;\n",
       "    }\n",
       "</style>\n",
       "<table border=\"1\" class=\"dataframe\">\n",
       "  <thead>\n",
       "    <tr style=\"text-align: right;\">\n",
       "      <th></th>\n",
       "      <th>sqft_living_log</th>\n",
       "      <th>grade</th>\n",
       "      <th>view</th>\n",
       "      <th>sqft_per_bedroom_log</th>\n",
       "      <th>renovation_ind</th>\n",
       "      <th>waterfront</th>\n",
       "      <th>basement_ind</th>\n",
       "      <th>condition</th>\n",
       "      <th>miles_fr_seattle_sqrt</th>\n",
       "      <th>zipcode_98002</th>\n",
       "      <th>zipcode_98003</th>\n",
       "      <th>zipcode_98004</th>\n",
       "      <th>zipcode_98005</th>\n",
       "      <th>zipcode_98006</th>\n",
       "      <th>zipcode_98007</th>\n",
       "      <th>zipcode_98008</th>\n",
       "      <th>zipcode_98010</th>\n",
       "      <th>zipcode_98011</th>\n",
       "      <th>zipcode_98014</th>\n",
       "      <th>zipcode_98019</th>\n",
       "      <th>zipcode_98022</th>\n",
       "      <th>zipcode_98023</th>\n",
       "      <th>zipcode_98024</th>\n",
       "      <th>zipcode_98027</th>\n",
       "      <th>zipcode_98028</th>\n",
       "      <th>zipcode_98029</th>\n",
       "      <th>zipcode_98030</th>\n",
       "      <th>zipcode_98031</th>\n",
       "      <th>zipcode_98032</th>\n",
       "      <th>zipcode_98033</th>\n",
       "      <th>zipcode_98034</th>\n",
       "      <th>zipcode_98038</th>\n",
       "      <th>zipcode_98039</th>\n",
       "      <th>zipcode_98040</th>\n",
       "      <th>zipcode_98042</th>\n",
       "      <th>zipcode_98045</th>\n",
       "      <th>zipcode_98052</th>\n",
       "      <th>zipcode_98053</th>\n",
       "      <th>zipcode_98055</th>\n",
       "      <th>zipcode_98056</th>\n",
       "      <th>zipcode_98058</th>\n",
       "      <th>zipcode_98059</th>\n",
       "      <th>zipcode_98065</th>\n",
       "      <th>zipcode_98070</th>\n",
       "      <th>zipcode_98072</th>\n",
       "      <th>zipcode_98074</th>\n",
       "      <th>zipcode_98075</th>\n",
       "      <th>zipcode_98077</th>\n",
       "      <th>zipcode_98092</th>\n",
       "      <th>zipcode_98102</th>\n",
       "      <th>zipcode_98103</th>\n",
       "      <th>zipcode_98105</th>\n",
       "      <th>zipcode_98106</th>\n",
       "      <th>zipcode_98107</th>\n",
       "      <th>zipcode_98108</th>\n",
       "      <th>zipcode_98109</th>\n",
       "      <th>zipcode_98112</th>\n",
       "      <th>zipcode_98115</th>\n",
       "      <th>zipcode_98116</th>\n",
       "      <th>zipcode_98117</th>\n",
       "      <th>zipcode_98118</th>\n",
       "      <th>zipcode_98119</th>\n",
       "      <th>zipcode_98122</th>\n",
       "      <th>zipcode_98125</th>\n",
       "      <th>zipcode_98126</th>\n",
       "      <th>zipcode_98133</th>\n",
       "      <th>zipcode_98136</th>\n",
       "      <th>zipcode_98144</th>\n",
       "      <th>zipcode_98146</th>\n",
       "      <th>zipcode_98148</th>\n",
       "      <th>zipcode_98155</th>\n",
       "      <th>zipcode_98166</th>\n",
       "      <th>zipcode_98168</th>\n",
       "      <th>zipcode_98177</th>\n",
       "      <th>zipcode_98178</th>\n",
       "      <th>zipcode_98188</th>\n",
       "      <th>zipcode_98198</th>\n",
       "      <th>zipcode_98199</th>\n",
       "    </tr>\n",
       "  </thead>\n",
       "  <tbody>\n",
       "    <tr>\n",
       "      <th>6243</th>\n",
       "      <td>7.27239839</td>\n",
       "      <td>7.00000000</td>\n",
       "      <td>0.00000000</td>\n",
       "      <td>5.88610403</td>\n",
       "      <td>0.00000000</td>\n",
       "      <td>0.00000000</td>\n",
       "      <td>0.00000000</td>\n",
       "      <td>4.00000000</td>\n",
       "      <td>1.83478680</td>\n",
       "      <td>0</td>\n",
       "      <td>0</td>\n",
       "      <td>0</td>\n",
       "      <td>0</td>\n",
       "      <td>0</td>\n",
       "      <td>0</td>\n",
       "      <td>0</td>\n",
       "      <td>0</td>\n",
       "      <td>0</td>\n",
       "      <td>0</td>\n",
       "      <td>0</td>\n",
       "      <td>0</td>\n",
       "      <td>0</td>\n",
       "      <td>0</td>\n",
       "      <td>0</td>\n",
       "      <td>0</td>\n",
       "      <td>0</td>\n",
       "      <td>0</td>\n",
       "      <td>0</td>\n",
       "      <td>0</td>\n",
       "      <td>0</td>\n",
       "      <td>0</td>\n",
       "      <td>0</td>\n",
       "      <td>0</td>\n",
       "      <td>0</td>\n",
       "      <td>0</td>\n",
       "      <td>0</td>\n",
       "      <td>0</td>\n",
       "      <td>0</td>\n",
       "      <td>0</td>\n",
       "      <td>0</td>\n",
       "      <td>0</td>\n",
       "      <td>0</td>\n",
       "      <td>0</td>\n",
       "      <td>0</td>\n",
       "      <td>0</td>\n",
       "      <td>0</td>\n",
       "      <td>0</td>\n",
       "      <td>0</td>\n",
       "      <td>0</td>\n",
       "      <td>0</td>\n",
       "      <td>0</td>\n",
       "      <td>0</td>\n",
       "      <td>0</td>\n",
       "      <td>0</td>\n",
       "      <td>0</td>\n",
       "      <td>0</td>\n",
       "      <td>0</td>\n",
       "      <td>0</td>\n",
       "      <td>0</td>\n",
       "      <td>0</td>\n",
       "      <td>0</td>\n",
       "      <td>0</td>\n",
       "      <td>0</td>\n",
       "      <td>0</td>\n",
       "      <td>0</td>\n",
       "      <td>0</td>\n",
       "      <td>0</td>\n",
       "      <td>1</td>\n",
       "      <td>0</td>\n",
       "      <td>0</td>\n",
       "      <td>0</td>\n",
       "      <td>0</td>\n",
       "      <td>0</td>\n",
       "      <td>0</td>\n",
       "      <td>0</td>\n",
       "      <td>0</td>\n",
       "      <td>0</td>\n",
       "      <td>0</td>\n",
       "    </tr>\n",
       "    <tr>\n",
       "      <th>8986</th>\n",
       "      <td>7.26542972</td>\n",
       "      <td>7.00000000</td>\n",
       "      <td>2.00000000</td>\n",
       "      <td>6.16681743</td>\n",
       "      <td>0.00000000</td>\n",
       "      <td>0.00000000</td>\n",
       "      <td>1.00000000</td>\n",
       "      <td>4.00000000</td>\n",
       "      <td>5.23596768</td>\n",
       "      <td>0</td>\n",
       "      <td>0</td>\n",
       "      <td>0</td>\n",
       "      <td>0</td>\n",
       "      <td>0</td>\n",
       "      <td>0</td>\n",
       "      <td>0</td>\n",
       "      <td>0</td>\n",
       "      <td>0</td>\n",
       "      <td>0</td>\n",
       "      <td>0</td>\n",
       "      <td>0</td>\n",
       "      <td>0</td>\n",
       "      <td>0</td>\n",
       "      <td>0</td>\n",
       "      <td>0</td>\n",
       "      <td>0</td>\n",
       "      <td>0</td>\n",
       "      <td>0</td>\n",
       "      <td>0</td>\n",
       "      <td>0</td>\n",
       "      <td>0</td>\n",
       "      <td>0</td>\n",
       "      <td>0</td>\n",
       "      <td>0</td>\n",
       "      <td>0</td>\n",
       "      <td>1</td>\n",
       "      <td>0</td>\n",
       "      <td>0</td>\n",
       "      <td>0</td>\n",
       "      <td>0</td>\n",
       "      <td>0</td>\n",
       "      <td>0</td>\n",
       "      <td>0</td>\n",
       "      <td>0</td>\n",
       "      <td>0</td>\n",
       "      <td>0</td>\n",
       "      <td>0</td>\n",
       "      <td>0</td>\n",
       "      <td>0</td>\n",
       "      <td>0</td>\n",
       "      <td>0</td>\n",
       "      <td>0</td>\n",
       "      <td>0</td>\n",
       "      <td>0</td>\n",
       "      <td>0</td>\n",
       "      <td>0</td>\n",
       "      <td>0</td>\n",
       "      <td>0</td>\n",
       "      <td>0</td>\n",
       "      <td>0</td>\n",
       "      <td>0</td>\n",
       "      <td>0</td>\n",
       "      <td>0</td>\n",
       "      <td>0</td>\n",
       "      <td>0</td>\n",
       "      <td>0</td>\n",
       "      <td>0</td>\n",
       "      <td>0</td>\n",
       "      <td>0</td>\n",
       "      <td>0</td>\n",
       "      <td>0</td>\n",
       "      <td>0</td>\n",
       "      <td>0</td>\n",
       "      <td>0</td>\n",
       "      <td>0</td>\n",
       "      <td>0</td>\n",
       "      <td>0</td>\n",
       "      <td>0</td>\n",
       "    </tr>\n",
       "    <tr>\n",
       "      <th>9419</th>\n",
       "      <td>8.04558828</td>\n",
       "      <td>9.00000000</td>\n",
       "      <td>0.00000000</td>\n",
       "      <td>6.65929392</td>\n",
       "      <td>0.00000000</td>\n",
       "      <td>0.00000000</td>\n",
       "      <td>0.00000000</td>\n",
       "      <td>3.00000000</td>\n",
       "      <td>3.57258119</td>\n",
       "      <td>0</td>\n",
       "      <td>0</td>\n",
       "      <td>0</td>\n",
       "      <td>0</td>\n",
       "      <td>0</td>\n",
       "      <td>0</td>\n",
       "      <td>0</td>\n",
       "      <td>0</td>\n",
       "      <td>0</td>\n",
       "      <td>0</td>\n",
       "      <td>0</td>\n",
       "      <td>0</td>\n",
       "      <td>0</td>\n",
       "      <td>0</td>\n",
       "      <td>0</td>\n",
       "      <td>0</td>\n",
       "      <td>0</td>\n",
       "      <td>0</td>\n",
       "      <td>0</td>\n",
       "      <td>0</td>\n",
       "      <td>0</td>\n",
       "      <td>0</td>\n",
       "      <td>0</td>\n",
       "      <td>0</td>\n",
       "      <td>0</td>\n",
       "      <td>0</td>\n",
       "      <td>0</td>\n",
       "      <td>0</td>\n",
       "      <td>0</td>\n",
       "      <td>0</td>\n",
       "      <td>0</td>\n",
       "      <td>0</td>\n",
       "      <td>0</td>\n",
       "      <td>0</td>\n",
       "      <td>0</td>\n",
       "      <td>0</td>\n",
       "      <td>1</td>\n",
       "      <td>0</td>\n",
       "      <td>0</td>\n",
       "      <td>0</td>\n",
       "      <td>0</td>\n",
       "      <td>0</td>\n",
       "      <td>0</td>\n",
       "      <td>0</td>\n",
       "      <td>0</td>\n",
       "      <td>0</td>\n",
       "      <td>0</td>\n",
       "      <td>0</td>\n",
       "      <td>0</td>\n",
       "      <td>0</td>\n",
       "      <td>0</td>\n",
       "      <td>0</td>\n",
       "      <td>0</td>\n",
       "      <td>0</td>\n",
       "      <td>0</td>\n",
       "      <td>0</td>\n",
       "      <td>0</td>\n",
       "      <td>0</td>\n",
       "      <td>0</td>\n",
       "      <td>0</td>\n",
       "      <td>0</td>\n",
       "      <td>0</td>\n",
       "      <td>0</td>\n",
       "      <td>0</td>\n",
       "      <td>0</td>\n",
       "      <td>0</td>\n",
       "      <td>0</td>\n",
       "      <td>0</td>\n",
       "      <td>0</td>\n",
       "    </tr>\n",
       "    <tr>\n",
       "      <th>10155</th>\n",
       "      <td>7.63046126</td>\n",
       "      <td>7.00000000</td>\n",
       "      <td>0.00000000</td>\n",
       "      <td>6.24416690</td>\n",
       "      <td>0.00000000</td>\n",
       "      <td>0.00000000</td>\n",
       "      <td>1.00000000</td>\n",
       "      <td>3.00000000</td>\n",
       "      <td>3.35003736</td>\n",
       "      <td>0</td>\n",
       "      <td>0</td>\n",
       "      <td>0</td>\n",
       "      <td>0</td>\n",
       "      <td>0</td>\n",
       "      <td>0</td>\n",
       "      <td>0</td>\n",
       "      <td>0</td>\n",
       "      <td>0</td>\n",
       "      <td>0</td>\n",
       "      <td>0</td>\n",
       "      <td>0</td>\n",
       "      <td>0</td>\n",
       "      <td>0</td>\n",
       "      <td>0</td>\n",
       "      <td>0</td>\n",
       "      <td>0</td>\n",
       "      <td>0</td>\n",
       "      <td>0</td>\n",
       "      <td>0</td>\n",
       "      <td>0</td>\n",
       "      <td>1</td>\n",
       "      <td>0</td>\n",
       "      <td>0</td>\n",
       "      <td>0</td>\n",
       "      <td>0</td>\n",
       "      <td>0</td>\n",
       "      <td>0</td>\n",
       "      <td>0</td>\n",
       "      <td>0</td>\n",
       "      <td>0</td>\n",
       "      <td>0</td>\n",
       "      <td>0</td>\n",
       "      <td>0</td>\n",
       "      <td>0</td>\n",
       "      <td>0</td>\n",
       "      <td>0</td>\n",
       "      <td>0</td>\n",
       "      <td>0</td>\n",
       "      <td>0</td>\n",
       "      <td>0</td>\n",
       "      <td>0</td>\n",
       "      <td>0</td>\n",
       "      <td>0</td>\n",
       "      <td>0</td>\n",
       "      <td>0</td>\n",
       "      <td>0</td>\n",
       "      <td>0</td>\n",
       "      <td>0</td>\n",
       "      <td>0</td>\n",
       "      <td>0</td>\n",
       "      <td>0</td>\n",
       "      <td>0</td>\n",
       "      <td>0</td>\n",
       "      <td>0</td>\n",
       "      <td>0</td>\n",
       "      <td>0</td>\n",
       "      <td>0</td>\n",
       "      <td>0</td>\n",
       "      <td>0</td>\n",
       "      <td>0</td>\n",
       "      <td>0</td>\n",
       "      <td>0</td>\n",
       "      <td>0</td>\n",
       "      <td>0</td>\n",
       "      <td>0</td>\n",
       "      <td>0</td>\n",
       "      <td>0</td>\n",
       "      <td>0</td>\n",
       "    </tr>\n",
       "    <tr>\n",
       "      <th>10436</th>\n",
       "      <td>7.82404601</td>\n",
       "      <td>7.00000000</td>\n",
       "      <td>0.00000000</td>\n",
       "      <td>6.72543372</td>\n",
       "      <td>0.00000000</td>\n",
       "      <td>0.00000000</td>\n",
       "      <td>1.00000000</td>\n",
       "      <td>5.00000000</td>\n",
       "      <td>2.25581412</td>\n",
       "      <td>0</td>\n",
       "      <td>0</td>\n",
       "      <td>0</td>\n",
       "      <td>0</td>\n",
       "      <td>0</td>\n",
       "      <td>0</td>\n",
       "      <td>0</td>\n",
       "      <td>0</td>\n",
       "      <td>0</td>\n",
       "      <td>0</td>\n",
       "      <td>0</td>\n",
       "      <td>0</td>\n",
       "      <td>0</td>\n",
       "      <td>0</td>\n",
       "      <td>0</td>\n",
       "      <td>0</td>\n",
       "      <td>0</td>\n",
       "      <td>0</td>\n",
       "      <td>0</td>\n",
       "      <td>0</td>\n",
       "      <td>0</td>\n",
       "      <td>0</td>\n",
       "      <td>0</td>\n",
       "      <td>0</td>\n",
       "      <td>0</td>\n",
       "      <td>0</td>\n",
       "      <td>0</td>\n",
       "      <td>0</td>\n",
       "      <td>0</td>\n",
       "      <td>0</td>\n",
       "      <td>0</td>\n",
       "      <td>0</td>\n",
       "      <td>0</td>\n",
       "      <td>0</td>\n",
       "      <td>0</td>\n",
       "      <td>0</td>\n",
       "      <td>0</td>\n",
       "      <td>0</td>\n",
       "      <td>0</td>\n",
       "      <td>0</td>\n",
       "      <td>0</td>\n",
       "      <td>1</td>\n",
       "      <td>0</td>\n",
       "      <td>0</td>\n",
       "      <td>0</td>\n",
       "      <td>0</td>\n",
       "      <td>0</td>\n",
       "      <td>0</td>\n",
       "      <td>0</td>\n",
       "      <td>0</td>\n",
       "      <td>0</td>\n",
       "      <td>0</td>\n",
       "      <td>0</td>\n",
       "      <td>0</td>\n",
       "      <td>0</td>\n",
       "      <td>0</td>\n",
       "      <td>0</td>\n",
       "      <td>0</td>\n",
       "      <td>0</td>\n",
       "      <td>0</td>\n",
       "      <td>0</td>\n",
       "      <td>0</td>\n",
       "      <td>0</td>\n",
       "      <td>0</td>\n",
       "      <td>0</td>\n",
       "      <td>0</td>\n",
       "      <td>0</td>\n",
       "      <td>0</td>\n",
       "      <td>0</td>\n",
       "    </tr>\n",
       "  </tbody>\n",
       "</table>\n",
       "</div>"
      ],
      "text/plain": [
       "       sqft_living_log      grade       view  sqft_per_bedroom_log  \\\n",
       "6243        7.27239839 7.00000000 0.00000000            5.88610403   \n",
       "8986        7.26542972 7.00000000 2.00000000            6.16681743   \n",
       "9419        8.04558828 9.00000000 0.00000000            6.65929392   \n",
       "10155       7.63046126 7.00000000 0.00000000            6.24416690   \n",
       "10436       7.82404601 7.00000000 0.00000000            6.72543372   \n",
       "\n",
       "       renovation_ind  waterfront  basement_ind  condition  \\\n",
       "6243       0.00000000  0.00000000    0.00000000 4.00000000   \n",
       "8986       0.00000000  0.00000000    1.00000000 4.00000000   \n",
       "9419       0.00000000  0.00000000    0.00000000 3.00000000   \n",
       "10155      0.00000000  0.00000000    1.00000000 3.00000000   \n",
       "10436      0.00000000  0.00000000    1.00000000 5.00000000   \n",
       "\n",
       "       miles_fr_seattle_sqrt  zipcode_98002  zipcode_98003  zipcode_98004  \\\n",
       "6243              1.83478680              0              0              0   \n",
       "8986              5.23596768              0              0              0   \n",
       "9419              3.57258119              0              0              0   \n",
       "10155             3.35003736              0              0              0   \n",
       "10436             2.25581412              0              0              0   \n",
       "\n",
       "       zipcode_98005  zipcode_98006  zipcode_98007  zipcode_98008  \\\n",
       "6243               0              0              0              0   \n",
       "8986               0              0              0              0   \n",
       "9419               0              0              0              0   \n",
       "10155              0              0              0              0   \n",
       "10436              0              0              0              0   \n",
       "\n",
       "       zipcode_98010  zipcode_98011  zipcode_98014  zipcode_98019  \\\n",
       "6243               0              0              0              0   \n",
       "8986               0              0              0              0   \n",
       "9419               0              0              0              0   \n",
       "10155              0              0              0              0   \n",
       "10436              0              0              0              0   \n",
       "\n",
       "       zipcode_98022  zipcode_98023  zipcode_98024  zipcode_98027  \\\n",
       "6243               0              0              0              0   \n",
       "8986               0              0              0              0   \n",
       "9419               0              0              0              0   \n",
       "10155              0              0              0              0   \n",
       "10436              0              0              0              0   \n",
       "\n",
       "       zipcode_98028  zipcode_98029  zipcode_98030  zipcode_98031  \\\n",
       "6243               0              0              0              0   \n",
       "8986               0              0              0              0   \n",
       "9419               0              0              0              0   \n",
       "10155              0              0              0              0   \n",
       "10436              0              0              0              0   \n",
       "\n",
       "       zipcode_98032  zipcode_98033  zipcode_98034  zipcode_98038  \\\n",
       "6243               0              0              0              0   \n",
       "8986               0              0              0              0   \n",
       "9419               0              0              0              0   \n",
       "10155              0              0              1              0   \n",
       "10436              0              0              0              0   \n",
       "\n",
       "       zipcode_98039  zipcode_98040  zipcode_98042  zipcode_98045  \\\n",
       "6243               0              0              0              0   \n",
       "8986               0              0              0              1   \n",
       "9419               0              0              0              0   \n",
       "10155              0              0              0              0   \n",
       "10436              0              0              0              0   \n",
       "\n",
       "       zipcode_98052  zipcode_98053  zipcode_98055  zipcode_98056  \\\n",
       "6243               0              0              0              0   \n",
       "8986               0              0              0              0   \n",
       "9419               0              0              0              0   \n",
       "10155              0              0              0              0   \n",
       "10436              0              0              0              0   \n",
       "\n",
       "       zipcode_98058  zipcode_98059  zipcode_98065  zipcode_98070  \\\n",
       "6243               0              0              0              0   \n",
       "8986               0              0              0              0   \n",
       "9419               0              0              0              0   \n",
       "10155              0              0              0              0   \n",
       "10436              0              0              0              0   \n",
       "\n",
       "       zipcode_98072  zipcode_98074  zipcode_98075  zipcode_98077  \\\n",
       "6243               0              0              0              0   \n",
       "8986               0              0              0              0   \n",
       "9419               0              1              0              0   \n",
       "10155              0              0              0              0   \n",
       "10436              0              0              0              0   \n",
       "\n",
       "       zipcode_98092  zipcode_98102  zipcode_98103  zipcode_98105  \\\n",
       "6243               0              0              0              0   \n",
       "8986               0              0              0              0   \n",
       "9419               0              0              0              0   \n",
       "10155              0              0              0              0   \n",
       "10436              0              0              1              0   \n",
       "\n",
       "       zipcode_98106  zipcode_98107  zipcode_98108  zipcode_98109  \\\n",
       "6243               0              0              0              0   \n",
       "8986               0              0              0              0   \n",
       "9419               0              0              0              0   \n",
       "10155              0              0              0              0   \n",
       "10436              0              0              0              0   \n",
       "\n",
       "       zipcode_98112  zipcode_98115  zipcode_98116  zipcode_98117  \\\n",
       "6243               0              0              0              0   \n",
       "8986               0              0              0              0   \n",
       "9419               0              0              0              0   \n",
       "10155              0              0              0              0   \n",
       "10436              0              0              0              0   \n",
       "\n",
       "       zipcode_98118  zipcode_98119  zipcode_98122  zipcode_98125  \\\n",
       "6243               0              0              0              0   \n",
       "8986               0              0              0              0   \n",
       "9419               0              0              0              0   \n",
       "10155              0              0              0              0   \n",
       "10436              0              0              0              0   \n",
       "\n",
       "       zipcode_98126  zipcode_98133  zipcode_98136  zipcode_98144  \\\n",
       "6243               0              0              0              1   \n",
       "8986               0              0              0              0   \n",
       "9419               0              0              0              0   \n",
       "10155              0              0              0              0   \n",
       "10436              0              0              0              0   \n",
       "\n",
       "       zipcode_98146  zipcode_98148  zipcode_98155  zipcode_98166  \\\n",
       "6243               0              0              0              0   \n",
       "8986               0              0              0              0   \n",
       "9419               0              0              0              0   \n",
       "10155              0              0              0              0   \n",
       "10436              0              0              0              0   \n",
       "\n",
       "       zipcode_98168  zipcode_98177  zipcode_98178  zipcode_98188  \\\n",
       "6243               0              0              0              0   \n",
       "8986               0              0              0              0   \n",
       "9419               0              0              0              0   \n",
       "10155              0              0              0              0   \n",
       "10436              0              0              0              0   \n",
       "\n",
       "       zipcode_98198  zipcode_98199  \n",
       "6243               0              0  \n",
       "8986               0              0  \n",
       "9419               0              0  \n",
       "10155              0              0  \n",
       "10436              0              0  "
      ]
     },
     "execution_count": 143,
     "metadata": {},
     "output_type": "execute_result"
    }
   ],
   "source": [
    "# Model 4 Setup and call statsmodel function\n",
    "features_m6 = ['sqft_living_log','grade','view','sqft_per_bedroom_log','renovation_ind','waterfront','basement_ind','condition','miles_fr_seattle_sqrt',\n",
    "               'zipcode_98002', 'zipcode_98003', 'zipcode_98004', 'zipcode_98005', 'zipcode_98006', 'zipcode_98007', 'zipcode_98008', 'zipcode_98010', \n",
    "               'zipcode_98011', 'zipcode_98014', 'zipcode_98019', 'zipcode_98022', 'zipcode_98023', 'zipcode_98024', 'zipcode_98027', 'zipcode_98028', \n",
    "               'zipcode_98029', 'zipcode_98030', 'zipcode_98031', 'zipcode_98032', 'zipcode_98033', 'zipcode_98034', 'zipcode_98038', 'zipcode_98039', \n",
    "               'zipcode_98040', 'zipcode_98042', 'zipcode_98045', 'zipcode_98052', 'zipcode_98053', 'zipcode_98055', 'zipcode_98056', 'zipcode_98058', \n",
    "               'zipcode_98059', 'zipcode_98065', 'zipcode_98070', 'zipcode_98072', 'zipcode_98074', 'zipcode_98075', 'zipcode_98077', 'zipcode_98092', \n",
    "               'zipcode_98102', 'zipcode_98103', 'zipcode_98105', 'zipcode_98106', 'zipcode_98107', 'zipcode_98108', 'zipcode_98109', 'zipcode_98112', \n",
    "               'zipcode_98115', 'zipcode_98116', 'zipcode_98117', 'zipcode_98118', 'zipcode_98119', 'zipcode_98122', 'zipcode_98125', 'zipcode_98126', \n",
    "               'zipcode_98133', 'zipcode_98136', 'zipcode_98144', 'zipcode_98146', 'zipcode_98148', 'zipcode_98155', 'zipcode_98166', 'zipcode_98168', \n",
    "               'zipcode_98177', 'zipcode_98178', 'zipcode_98188', 'zipcode_98198', 'zipcode_98199']\n",
    "X_train_m6 = X_train[features_m6]\n",
    "y_train_m6 = y_train['price_log']\n",
    "X_train_m6.head()"
   ]
  },
  {
   "cell_type": "markdown",
   "metadata": {
    "ExecuteTime": {
     "end_time": "2021-03-06T21:54:31.852846Z",
     "start_time": "2021-03-06T21:54:31.825493Z"
    }
   },
   "source": [
    "### Run OLS"
   ]
  },
  {
   "cell_type": "code",
   "execution_count": 144,
   "metadata": {
    "ExecuteTime": {
     "end_time": "2021-03-11T12:30:10.734482Z",
     "start_time": "2021-03-11T12:30:10.484727Z"
    },
    "scrolled": false
   },
   "outputs": [
    {
     "name": "stdout",
     "output_type": "stream",
     "text": [
      "                            OLS Regression Results                            \n",
      "==============================================================================\n",
      "Dep. Variable:              price_log   R-squared:                       0.873\n",
      "Model:                            OLS   Adj. R-squared:                  0.872\n",
      "Method:                 Least Squares   F-statistic:                     1510.\n",
      "Date:                Thu, 11 Mar 2021   Prob (F-statistic):               0.00\n",
      "Time:                        07:30:10   Log-Likelihood:                 4334.8\n",
      "No. Observations:               17276   AIC:                            -8512.\n",
      "Df Residuals:                   17197   BIC:                            -7899.\n",
      "Df Model:                          78                                         \n",
      "Covariance Type:            nonrobust                                         \n",
      "=========================================================================================\n",
      "                            coef    std err          t      P>|t|      [0.025      0.975]\n",
      "-----------------------------------------------------------------------------------------\n",
      "const                     7.6463      0.042    181.648      0.000       7.564       7.729\n",
      "sqft_living_log           0.4758      0.006     73.411      0.000       0.463       0.489\n",
      "grade                     0.1075      0.002     51.632      0.000       0.103       0.112\n",
      "view                      0.0750      0.002     33.869      0.000       0.071       0.079\n",
      "sqft_per_bedroom_log      0.0600      0.007      8.606      0.000       0.046       0.074\n",
      "renovation_ind            0.0803      0.008      9.947      0.000       0.064       0.096\n",
      "waterfront                0.4714      0.019     24.637      0.000       0.434       0.509\n",
      "basement_ind             -0.0432      0.003    -12.584      0.000      -0.050      -0.036\n",
      "condition                 0.0568      0.002     24.238      0.000       0.052       0.061\n",
      "miles_fr_seattle_sqrt    -0.0164      0.002     -7.920      0.000      -0.020      -0.012\n",
      "zipcode_98002            -0.0330      0.019     -1.723      0.085      -0.071       0.005\n",
      "zipcode_98003             0.0183      0.017      1.074      0.283      -0.015       0.052\n",
      "zipcode_98004             1.1105      0.017     65.688      0.000       1.077       1.144\n",
      "zipcode_98005             0.7367      0.020     36.518      0.000       0.697       0.776\n",
      "zipcode_98006             0.6299      0.015     41.541      0.000       0.600       0.660\n",
      "zipcode_98007             0.6300      0.021     29.579      0.000       0.588       0.672\n",
      "zipcode_98008             0.6265      0.017     36.850      0.000       0.593       0.660\n",
      "zipcode_98010             0.2876      0.024     12.161      0.000       0.241       0.334\n",
      "zipcode_98011             0.4395      0.019     23.016      0.000       0.402       0.477\n",
      "zipcode_98014             0.3497      0.022     16.262      0.000       0.308       0.392\n",
      "zipcode_98019             0.3398      0.019     17.786      0.000       0.302       0.377\n",
      "zipcode_98022             0.0868      0.018      4.808      0.000       0.051       0.122\n",
      "zipcode_98023            -0.0290      0.015     -1.976      0.048      -0.058      -0.000\n",
      "zipcode_98024             0.5237      0.025     20.744      0.000       0.474       0.573\n",
      "zipcode_98027             0.5178      0.015     33.701      0.000       0.488       0.548\n",
      "zipcode_98028             0.3975      0.017     23.402      0.000       0.364       0.431\n",
      "zipcode_98029             0.5719      0.016     34.893      0.000       0.540       0.604\n",
      "zipcode_98030             0.0503      0.017      2.875      0.004       0.016       0.085\n",
      "zipcode_98031             0.0671      0.017      3.957      0.000       0.034       0.100\n",
      "zipcode_98032            -0.0418      0.022     -1.905      0.057      -0.085       0.001\n",
      "zipcode_98033             0.7706      0.016     49.451      0.000       0.740       0.801\n",
      "zipcode_98034             0.5256      0.015     35.916      0.000       0.497       0.554\n",
      "zipcode_98038             0.1747      0.014     12.163      0.000       0.147       0.203\n",
      "zipcode_98039             1.3141      0.032     41.535      0.000       1.252       1.376\n",
      "zipcode_98040             0.8745      0.017     49.974      0.000       0.840       0.909\n",
      "zipcode_98042             0.0670      0.014      4.631      0.000       0.039       0.095\n",
      "zipcode_98045             0.3580      0.018     20.132      0.000       0.323       0.393\n",
      "zipcode_98052             0.6216      0.015     42.836      0.000       0.593       0.650\n",
      "zipcode_98053             0.6082      0.016     38.572      0.000       0.577       0.639\n",
      "zipcode_98055             0.1307      0.017      7.654      0.000       0.097       0.164\n",
      "zipcode_98056             0.2962      0.016     18.942      0.000       0.266       0.327\n",
      "zipcode_98058             0.1513      0.015      9.958      0.000       0.122       0.181\n",
      "zipcode_98059             0.3397      0.015     22.498      0.000       0.310       0.369\n",
      "zipcode_98065             0.4133      0.017     24.883      0.000       0.381       0.446\n",
      "zipcode_98070             0.3490      0.023     15.057      0.000       0.304       0.394\n",
      "zipcode_98072             0.5001      0.017     29.178      0.000       0.466       0.534\n",
      "zipcode_98074             0.5555      0.015     36.002      0.000       0.525       0.586\n",
      "zipcode_98075             0.5785      0.016     36.150      0.000       0.547       0.610\n",
      "zipcode_98077             0.5084      0.019     26.879      0.000       0.471       0.545\n",
      "zipcode_98092             0.0275      0.016      1.706      0.088      -0.004       0.059\n",
      "zipcode_98102             0.8960      0.024     37.017      0.000       0.849       0.943\n",
      "zipcode_98103             0.7517      0.015     51.369      0.000       0.723       0.780\n",
      "zipcode_98105             0.9097      0.018     49.656      0.000       0.874       0.946\n",
      "zipcode_98106             0.3098      0.017     18.562      0.000       0.277       0.342\n",
      "zipcode_98107             0.7801      0.018     44.453      0.000       0.746       0.814\n",
      "zipcode_98108             0.3102      0.019     16.157      0.000       0.273       0.348\n",
      "zipcode_98109             0.9339      0.024     39.136      0.000       0.887       0.981\n",
      "zipcode_98112             1.0155      0.018     57.447      0.000       0.981       1.050\n",
      "zipcode_98115             0.7689      0.015     51.926      0.000       0.740       0.798\n",
      "zipcode_98116             0.6993      0.017     41.500      0.000       0.666       0.732\n",
      "zipcode_98117             0.7570      0.015     50.674      0.000       0.728       0.786\n",
      "zipcode_98118             0.4235      0.015     27.684      0.000       0.394       0.453\n",
      "zipcode_98119             0.9129      0.020     45.872      0.000       0.874       0.952\n",
      "zipcode_98122             0.7350      0.017     42.035      0.000       0.701       0.769\n",
      "zipcode_98125             0.5302      0.016     33.831      0.000       0.499       0.561\n",
      "zipcode_98126             0.4868      0.017     29.317      0.000       0.454       0.519\n",
      "zipcode_98133             0.4211      0.015     28.166      0.000       0.392       0.450\n",
      "zipcode_98136             0.6465      0.018     36.418      0.000       0.612       0.681\n",
      "zipcode_98144             0.6109      0.017     36.456      0.000       0.578       0.644\n",
      "zipcode_98146             0.2619      0.017     15.230      0.000       0.228       0.296\n",
      "zipcode_98148             0.1504      0.029      5.129      0.000       0.093       0.208\n",
      "zipcode_98155             0.4142      0.015     27.047      0.000       0.384       0.444\n",
      "zipcode_98166             0.2914      0.017     16.682      0.000       0.257       0.326\n",
      "zipcode_98168             0.0841      0.018      4.804      0.000       0.050       0.118\n",
      "zipcode_98177             0.5777      0.018     32.758      0.000       0.543       0.612\n",
      "zipcode_98178             0.1196      0.017      6.903      0.000       0.086       0.154\n",
      "zipcode_98188             0.0853      0.021      4.033      0.000       0.044       0.127\n",
      "zipcode_98198             0.0339      0.017      1.996      0.046       0.001       0.067\n",
      "zipcode_98199             0.8086      0.017     47.654      0.000       0.775       0.842\n",
      "==============================================================================\n",
      "Omnibus:                     1045.942   Durbin-Watson:                   2.022\n",
      "Prob(Omnibus):                  0.000   Jarque-Bera (JB):             4711.169\n",
      "Skew:                           0.035   Prob(JB):                         0.00\n",
      "Kurtosis:                       5.557   Cond. No.                         916.\n",
      "==============================================================================\n",
      "\n",
      "Notes:\n",
      "[1] Standard Errors assume that the covariance matrix of the errors is correctly specified.\n",
      "\n",
      "Model 6 Summary Statistics\n",
      "Root Mean Squared Error (RMSE): 135249.0.\n",
      "Mean Absolute Error (MAE): 75969.0.\n"
     ]
    }
   ],
   "source": [
    "model_6 = calc_sm_ols(model_nbr=6, X=X_train_m6, y=y_train_m6)"
   ]
  },
  {
   "cell_type": "markdown",
   "metadata": {},
   "source": [
    "**Model Summary Interpretation**\n",
    "- Adj r^2 = 0.628 | would be good if all else checks\n",
    "- P-value = 0.00 | would be good if all else checks\n",
    "- Skew = 2 (tgt ~0), Kurtosis = 18+ (tgt 3), JB = 191K (tgt 0-6) | Indicates major non-normality, not good\n",
    "- Cond. No. 159K | indicates strong multicollinearity (ill-conditioned)\n",
    "- Predictors:\n",
    "    - Intercept: \\\\$189K might be reasonable to represent base land value\n",
    "    - Sqft_Living: \\\\$180/sqft average doesn't see unreasonable for Seattle area, low p-value 0.00\n",
    "    - Sqft_above: negative coefficient of \\\\$69 doesn't make sense. Somethings off with variable ranges or multicollinearity\n",
    "    - Bathrooms: negative coefficient of \\\\$2K doesn't make sense. Also p-value of 0.56 when this showed one of highest correlations\n",
    "    - View: p-value of 0.00. These seem to make sense adding \\\\$88K (view 2) to \\\\$494K (view 4)\n",
    "    - Grade: Below/average (<7) has negative coeff versus lowest Grade 3 and high p-values. Coefficients on above average grades make sense but p-values split."
   ]
  },
  {
   "cell_type": "markdown",
   "metadata": {},
   "source": [
    "### QQ-plot"
   ]
  },
  {
   "cell_type": "code",
   "execution_count": 145,
   "metadata": {
    "ExecuteTime": {
     "end_time": "2021-03-11T12:30:20.914719Z",
     "start_time": "2021-03-11T12:30:20.783596Z"
    }
   },
   "outputs": [
    {
     "data": {
      "image/png": "[encoded data removed]",
      "text/plain": [
       "<Figure size 432x288 with 1 Axes>"
      ]
     },
     "metadata": {},
     "output_type": "display_data"
    }
   ],
   "source": [
    "qqplot(model_nbr=6, model=model_6)"
   ]
  },
  {
   "cell_type": "markdown",
   "metadata": {},
   "source": [
    "**QQ-Plot Interpretation**\n",
    "- This is WAY off, showing major outliers on both ends. Back to the drawing board."
   ]
  },
  {
   "cell_type": "markdown",
   "metadata": {
    "heading_collapsed": true
   },
   "source": [
    "### Plot Residuals"
   ]
  },
  {
   "cell_type": "markdown",
   "metadata": {
    "hidden": true
   },
   "source": [
    "**Notes on Residuals**"
   ]
  },
  {
   "cell_type": "code",
   "execution_count": null,
   "metadata": {
    "ExecuteTime": {
     "end_time": "2021-03-11T11:19:26.792430Z",
     "start_time": "2021-03-11T11:19:25.189Z"
    },
    "hidden": true,
    "scrolled": false
   },
   "outputs": [],
   "source": [
    "# qqplot(model_nbr=1, model=model_1)\n",
    "plot_residuals(model_nbr=6, model=model_6)"
   ]
  },
  {
   "cell_type": "markdown",
   "metadata": {},
   "source": [
    "### K-folds"
   ]
  },
  {
   "cell_type": "code",
   "execution_count": null,
   "metadata": {},
   "outputs": [],
   "source": []
  },
  {
   "cell_type": "markdown",
   "metadata": {},
   "source": [
    "### Model 6 Evaluation"
   ]
  },
  {
   "cell_type": "code",
   "execution_count": null,
   "metadata": {},
   "outputs": [],
   "source": []
  },
  {
   "cell_type": "markdown",
   "metadata": {},
   "source": [
    "## Model 7  + Normalize"
   ]
  },
  {
   "cell_type": "markdown",
   "metadata": {},
   "source": [
    "### Strategy"
   ]
  },
  {
   "cell_type": "markdown",
   "metadata": {},
   "source": [
    "**Model 7 Approach**\n",
    "- Start with Model 5 baseline\n",
    "- Add price per square foot decile engineered from zipcode medians\n",
    "    \n",
    "    "
   ]
  },
  {
   "cell_type": "code",
   "execution_count": 146,
   "metadata": {
    "ExecuteTime": {
     "end_time": "2021-03-11T12:30:28.153752Z",
     "start_time": "2021-03-11T12:30:28.125267Z"
    }
   },
   "outputs": [
    {
     "data": {
      "text/html": [
       "<div>\n",
       "<style scoped>\n",
       "    .dataframe tbody tr th:only-of-type {\n",
       "        vertical-align: middle;\n",
       "    }\n",
       "\n",
       "    .dataframe tbody tr th {\n",
       "        vertical-align: top;\n",
       "    }\n",
       "\n",
       "    .dataframe thead th {\n",
       "        text-align: right;\n",
       "    }\n",
       "</style>\n",
       "<table border=\"1\" class=\"dataframe\">\n",
       "  <thead>\n",
       "    <tr style=\"text-align: right;\">\n",
       "      <th></th>\n",
       "      <th>sqft_living_log</th>\n",
       "      <th>grade</th>\n",
       "      <th>view</th>\n",
       "      <th>sqft_per_bedroom_log</th>\n",
       "      <th>renovation_ind</th>\n",
       "      <th>waterfront</th>\n",
       "      <th>basement_ind</th>\n",
       "      <th>condition</th>\n",
       "      <th>miles_fr_seattle_sqrt</th>\n",
       "    </tr>\n",
       "  </thead>\n",
       "  <tbody>\n",
       "    <tr>\n",
       "      <th>6243</th>\n",
       "      <td>-0.65882729</td>\n",
       "      <td>-0.56079704</td>\n",
       "      <td>-0.30272758</td>\n",
       "      <td>-1.50583829</td>\n",
       "      <td>-0.18786936</td>\n",
       "      <td>-0.08327991</td>\n",
       "      <td>-0.79135728</td>\n",
       "      <td>0.90294258</td>\n",
       "      <td>-1.42953230</td>\n",
       "    </tr>\n",
       "    <tr>\n",
       "      <th>8986</th>\n",
       "      <td>-0.67526118</td>\n",
       "      <td>-0.56079704</td>\n",
       "      <td>2.30896866</td>\n",
       "      <td>-0.63759039</td>\n",
       "      <td>-0.18786936</td>\n",
       "      <td>-0.08327991</td>\n",
       "      <td>1.26357859</td>\n",
       "      <td>0.90294258</td>\n",
       "      <td>2.00270340</td>\n",
       "    </tr>\n",
       "    <tr>\n",
       "      <th>9419</th>\n",
       "      <td>1.16455083</td>\n",
       "      <td>1.15001519</td>\n",
       "      <td>-0.30272758</td>\n",
       "      <td>0.88564174</td>\n",
       "      <td>-0.18786936</td>\n",
       "      <td>-0.08327991</td>\n",
       "      <td>-0.79135728</td>\n",
       "      <td>-0.63030256</td>\n",
       "      <td>0.32412920</td>\n",
       "    </tr>\n",
       "    <tr>\n",
       "      <th>10155</th>\n",
       "      <td>0.18557589</td>\n",
       "      <td>-0.56079704</td>\n",
       "      <td>-0.30272758</td>\n",
       "      <td>-0.39834812</td>\n",
       "      <td>-0.18786936</td>\n",
       "      <td>-0.08327991</td>\n",
       "      <td>1.26357859</td>\n",
       "      <td>-0.63030256</td>\n",
       "      <td>0.09955341</td>\n",
       "    </tr>\n",
       "    <tr>\n",
       "      <th>10436</th>\n",
       "      <td>0.64209789</td>\n",
       "      <td>-0.56079704</td>\n",
       "      <td>-0.30272758</td>\n",
       "      <td>1.09021246</td>\n",
       "      <td>-0.18786936</td>\n",
       "      <td>-0.08327991</td>\n",
       "      <td>1.26357859</td>\n",
       "      <td>2.43618773</td>\n",
       "      <td>-1.00466075</td>\n",
       "    </tr>\n",
       "  </tbody>\n",
       "</table>\n",
       "</div>"
      ],
      "text/plain": [
       "       sqft_living_log       grade        view  sqft_per_bedroom_log  \\\n",
       "6243       -0.65882729 -0.56079704 -0.30272758           -1.50583829   \n",
       "8986       -0.67526118 -0.56079704  2.30896866           -0.63759039   \n",
       "9419        1.16455083  1.15001519 -0.30272758            0.88564174   \n",
       "10155       0.18557589 -0.56079704 -0.30272758           -0.39834812   \n",
       "10436       0.64209789 -0.56079704 -0.30272758            1.09021246   \n",
       "\n",
       "       renovation_ind  waterfront  basement_ind   condition  \\\n",
       "6243      -0.18786936 -0.08327991   -0.79135728  0.90294258   \n",
       "8986      -0.18786936 -0.08327991    1.26357859  0.90294258   \n",
       "9419      -0.18786936 -0.08327991   -0.79135728 -0.63030256   \n",
       "10155     -0.18786936 -0.08327991    1.26357859 -0.63030256   \n",
       "10436     -0.18786936 -0.08327991    1.26357859  2.43618773   \n",
       "\n",
       "       miles_fr_seattle_sqrt  \n",
       "6243             -1.42953230  \n",
       "8986              2.00270340  \n",
       "9419              0.32412920  \n",
       "10155             0.09955341  \n",
       "10436            -1.00466075  "
      ]
     },
     "execution_count": 146,
     "metadata": {},
     "output_type": "execute_result"
    }
   ],
   "source": [
    "# Model 4 Setup and call statsmodel function\n",
    "features_m7 = ['sqft_living_log','grade','view','sqft_per_bedroom_log','renovation_ind','waterfront','basement_ind','condition','miles_fr_seattle_sqrt']\n",
    "X_train_m7 = X_train[features_m7].apply(normalize)\n",
    "y_train_m7 = y_train['price_log']\n",
    "X_train_m7.head()"
   ]
  },
  {
   "cell_type": "markdown",
   "metadata": {
    "ExecuteTime": {
     "end_time": "2021-03-06T21:54:31.852846Z",
     "start_time": "2021-03-06T21:54:31.825493Z"
    }
   },
   "source": [
    "### Run OLS"
   ]
  },
  {
   "cell_type": "code",
   "execution_count": 147,
   "metadata": {
    "ExecuteTime": {
     "end_time": "2021-03-11T12:30:29.879123Z",
     "start_time": "2021-03-11T12:30:29.826749Z"
    },
    "scrolled": false
   },
   "outputs": [
    {
     "name": "stdout",
     "output_type": "stream",
     "text": [
      "                            OLS Regression Results                            \n",
      "==============================================================================\n",
      "Dep. Variable:              price_log   R-squared:                       0.678\n",
      "Model:                            OLS   Adj. R-squared:                  0.678\n",
      "Method:                 Least Squares   F-statistic:                     4035.\n",
      "Date:                Thu, 11 Mar 2021   Prob (F-statistic):               0.00\n",
      "Time:                        07:30:29   Log-Likelihood:                -3682.2\n",
      "No. Observations:               17276   AIC:                             7384.\n",
      "Df Residuals:                   17266   BIC:                             7462.\n",
      "Df Model:                           9                                         \n",
      "Covariance Type:            nonrobust                                         \n",
      "=========================================================================================\n",
      "                            coef    std err          t      P>|t|      [0.025      0.975]\n",
      "-----------------------------------------------------------------------------------------\n",
      "const                    13.0493      0.002   5726.015      0.000      13.045      13.054\n",
      "sqft_living_log           0.1499      0.004     36.141      0.000       0.142       0.158\n",
      "grade                     0.2260      0.004     62.647      0.000       0.219       0.233\n",
      "view                      0.0485      0.003     18.656      0.000       0.043       0.054\n",
      "sqft_per_bedroom_log      0.0432      0.004     12.297      0.000       0.036       0.050\n",
      "renovation_ind            0.0279      0.002     12.098      0.000       0.023       0.032\n",
      "waterfront                0.0334      0.002     13.488      0.000       0.029       0.038\n",
      "basement_ind              0.0097      0.002      3.888      0.000       0.005       0.015\n",
      "condition                 0.0537      0.002     22.917      0.000       0.049       0.058\n",
      "miles_fr_seattle_sqrt    -0.1499      0.002    -63.511      0.000      -0.155      -0.145\n",
      "==============================================================================\n",
      "Omnibus:                       43.148   Durbin-Watson:                   2.007\n",
      "Prob(Omnibus):                  0.000   Jarque-Bera (JB):               54.046\n",
      "Skew:                           0.028   Prob(JB):                     1.84e-12\n",
      "Kurtosis:                       3.268   Cond. No.                         3.64\n",
      "==============================================================================\n",
      "\n",
      "Notes:\n",
      "[1] Standard Errors assume that the covariance matrix of the errors is correctly specified.\n",
      "\n",
      "Model 7 Summary Statistics\n",
      "Root Mean Squared Error (RMSE): 196814.0.\n",
      "Mean Absolute Error (MAE): 125099.0.\n"
     ]
    }
   ],
   "source": [
    "model_7 = calc_sm_ols(model_nbr=7, X=X_train_m7, y=y_train_m7)"
   ]
  },
  {
   "cell_type": "markdown",
   "metadata": {},
   "source": [
    "**Model Summary Interpretation**\n",
    "- Adj r^2 = 0.628 | would be good if all else checks\n",
    "- P-value = 0.00 | would be good if all else checks\n",
    "- Skew = 2 (tgt ~0), Kurtosis = 18+ (tgt 3), JB = 191K (tgt 0-6) | Indicates major non-normality, not good\n",
    "- Cond. No. 159K | indicates strong multicollinearity (ill-conditioned)\n",
    "- Predictors:\n",
    "    - Intercept: \\\\$189K might be reasonable to represent base land value\n",
    "    - Sqft_Living: \\\\$180/sqft average doesn't see unreasonable for Seattle area, low p-value 0.00\n",
    "    - Sqft_above: negative coefficient of \\\\$69 doesn't make sense. Somethings off with variable ranges or multicollinearity\n",
    "    - Bathrooms: negative coefficient of \\\\$2K doesn't make sense. Also p-value of 0.56 when this showed one of highest correlations\n",
    "    - View: p-value of 0.00. These seem to make sense adding \\\\$88K (view 2) to \\\\$494K (view 4)\n",
    "    - Grade: Below/average (<7) has negative coeff versus lowest Grade 3 and high p-values. Coefficients on above average grades make sense but p-values split."
   ]
  },
  {
   "cell_type": "markdown",
   "metadata": {},
   "source": [
    "### QQ-plot"
   ]
  },
  {
   "cell_type": "code",
   "execution_count": 148,
   "metadata": {
    "ExecuteTime": {
     "end_time": "2021-03-11T12:30:36.347519Z",
     "start_time": "2021-03-11T12:30:36.230376Z"
    }
   },
   "outputs": [
    {
     "data": {
      "image/png": "[encoded data removed]",
      "text/plain": [
       "<Figure size 432x288 with 1 Axes>"
      ]
     },
     "metadata": {},
     "output_type": "display_data"
    }
   ],
   "source": [
    "qqplot(model_nbr=7, model=model_7)"
   ]
  },
  {
   "cell_type": "markdown",
   "metadata": {},
   "source": [
    "**QQ-Plot Interpretation**\n",
    "- This is WAY off, showing major outliers on both ends. Back to the drawing board."
   ]
  },
  {
   "cell_type": "markdown",
   "metadata": {
    "heading_collapsed": true
   },
   "source": [
    "### Plot Residuals"
   ]
  },
  {
   "cell_type": "markdown",
   "metadata": {
    "hidden": true
   },
   "source": [
    "**Notes on Residuals**"
   ]
  },
  {
   "cell_type": "code",
   "execution_count": null,
   "metadata": {
    "ExecuteTime": {
     "end_time": "2021-03-11T11:19:26.794598Z",
     "start_time": "2021-03-11T11:19:25.213Z"
    },
    "hidden": true,
    "scrolled": false
   },
   "outputs": [],
   "source": [
    "# qqplot(model_nbr=1, model=model_1)\n",
    "plot_residuals(model_nbr=7, model=model_7)"
   ]
  },
  {
   "cell_type": "markdown",
   "metadata": {},
   "source": [
    "### K-folds"
   ]
  },
  {
   "cell_type": "code",
   "execution_count": null,
   "metadata": {},
   "outputs": [],
   "source": []
  },
  {
   "cell_type": "markdown",
   "metadata": {},
   "source": [
    "### Model 7 Evaluation"
   ]
  },
  {
   "cell_type": "code",
   "execution_count": null,
   "metadata": {
    "ExecuteTime": {
     "end_time": "2021-03-11T01:21:31.719018Z",
     "start_time": "2021-03-11T01:21:31.697357Z"
    }
   },
   "outputs": [],
   "source": []
  },
  {
   "cell_type": "markdown",
   "metadata": {},
   "source": [
    "## Model 8 + PSF Decile"
   ]
  },
  {
   "cell_type": "markdown",
   "metadata": {},
   "source": [
    "### Strategy"
   ]
  },
  {
   "cell_type": "markdown",
   "metadata": {},
   "source": [
    "**Model 8 Approach**\n",
    "- Start with Model 5 baseline\n",
    "- Add Price Per Sqft Decile:\n",
    "    - Round 1: Initial feature had r2 0.96 and MAE at \\\\$41K, but residuals had pattern with deciles 1/10 skewed and deciles 2-8 declining from positive to negative.\n",
    "    - Round 2:\n",
    "    "
   ]
  },
  {
   "cell_type": "code",
   "execution_count": 149,
   "metadata": {
    "ExecuteTime": {
     "end_time": "2021-03-11T12:30:41.693818Z",
     "start_time": "2021-03-11T12:30:41.675411Z"
    }
   },
   "outputs": [
    {
     "data": {
      "text/html": [
       "<div>\n",
       "<style scoped>\n",
       "    .dataframe tbody tr th:only-of-type {\n",
       "        vertical-align: middle;\n",
       "    }\n",
       "\n",
       "    .dataframe tbody tr th {\n",
       "        vertical-align: top;\n",
       "    }\n",
       "\n",
       "    .dataframe thead th {\n",
       "        text-align: right;\n",
       "    }\n",
       "</style>\n",
       "<table border=\"1\" class=\"dataframe\">\n",
       "  <thead>\n",
       "    <tr style=\"text-align: right;\">\n",
       "      <th></th>\n",
       "      <th>sqft_living_log</th>\n",
       "      <th>grade</th>\n",
       "      <th>view</th>\n",
       "      <th>sqft_per_bedroom_log</th>\n",
       "      <th>renovation_ind</th>\n",
       "      <th>waterfront</th>\n",
       "      <th>basement_ind</th>\n",
       "      <th>condition</th>\n",
       "      <th>miles_fr_seattle_sqrt</th>\n",
       "      <th>zip_psf_median_box</th>\n",
       "    </tr>\n",
       "  </thead>\n",
       "  <tbody>\n",
       "    <tr>\n",
       "      <th>6243</th>\n",
       "      <td>7.27239839</td>\n",
       "      <td>7.00000000</td>\n",
       "      <td>0.00000000</td>\n",
       "      <td>5.88610403</td>\n",
       "      <td>0.00000000</td>\n",
       "      <td>0.00000000</td>\n",
       "      <td>0.00000000</td>\n",
       "      <td>4.00000000</td>\n",
       "      <td>1.83478680</td>\n",
       "      <td>4.59000241</td>\n",
       "    </tr>\n",
       "    <tr>\n",
       "      <th>8986</th>\n",
       "      <td>7.26542972</td>\n",
       "      <td>7.00000000</td>\n",
       "      <td>2.00000000</td>\n",
       "      <td>6.16681743</td>\n",
       "      <td>0.00000000</td>\n",
       "      <td>0.00000000</td>\n",
       "      <td>1.00000000</td>\n",
       "      <td>4.00000000</td>\n",
       "      <td>5.23596768</td>\n",
       "      <td>4.35340191</td>\n",
       "    </tr>\n",
       "    <tr>\n",
       "      <th>9419</th>\n",
       "      <td>8.04558828</td>\n",
       "      <td>9.00000000</td>\n",
       "      <td>0.00000000</td>\n",
       "      <td>6.65929392</td>\n",
       "      <td>0.00000000</td>\n",
       "      <td>0.00000000</td>\n",
       "      <td>0.00000000</td>\n",
       "      <td>3.00000000</td>\n",
       "      <td>3.57258119</td>\n",
       "      <td>4.48146811</td>\n",
       "    </tr>\n",
       "    <tr>\n",
       "      <th>10155</th>\n",
       "      <td>7.63046126</td>\n",
       "      <td>7.00000000</td>\n",
       "      <td>0.00000000</td>\n",
       "      <td>6.24416690</td>\n",
       "      <td>0.00000000</td>\n",
       "      <td>0.00000000</td>\n",
       "      <td>1.00000000</td>\n",
       "      <td>3.00000000</td>\n",
       "      <td>3.35003736</td>\n",
       "      <td>4.48303042</td>\n",
       "    </tr>\n",
       "    <tr>\n",
       "      <th>10436</th>\n",
       "      <td>7.82404601</td>\n",
       "      <td>7.00000000</td>\n",
       "      <td>0.00000000</td>\n",
       "      <td>6.72543372</td>\n",
       "      <td>0.00000000</td>\n",
       "      <td>0.00000000</td>\n",
       "      <td>1.00000000</td>\n",
       "      <td>5.00000000</td>\n",
       "      <td>2.25581412</td>\n",
       "      <td>4.69956287</td>\n",
       "    </tr>\n",
       "  </tbody>\n",
       "</table>\n",
       "</div>"
      ],
      "text/plain": [
       "       sqft_living_log      grade       view  sqft_per_bedroom_log  \\\n",
       "6243        7.27239839 7.00000000 0.00000000            5.88610403   \n",
       "8986        7.26542972 7.00000000 2.00000000            6.16681743   \n",
       "9419        8.04558828 9.00000000 0.00000000            6.65929392   \n",
       "10155       7.63046126 7.00000000 0.00000000            6.24416690   \n",
       "10436       7.82404601 7.00000000 0.00000000            6.72543372   \n",
       "\n",
       "       renovation_ind  waterfront  basement_ind  condition  \\\n",
       "6243       0.00000000  0.00000000    0.00000000 4.00000000   \n",
       "8986       0.00000000  0.00000000    1.00000000 4.00000000   \n",
       "9419       0.00000000  0.00000000    0.00000000 3.00000000   \n",
       "10155      0.00000000  0.00000000    1.00000000 3.00000000   \n",
       "10436      0.00000000  0.00000000    1.00000000 5.00000000   \n",
       "\n",
       "       miles_fr_seattle_sqrt  zip_psf_median_box  \n",
       "6243              1.83478680          4.59000241  \n",
       "8986              5.23596768          4.35340191  \n",
       "9419              3.57258119          4.48146811  \n",
       "10155             3.35003736          4.48303042  \n",
       "10436             2.25581412          4.69956287  "
      ]
     },
     "execution_count": 149,
     "metadata": {},
     "output_type": "execute_result"
    }
   ],
   "source": [
    "# Model 8 Setup and call statsmodel function\n",
    "features_m8 = ['sqft_living_log','grade','view','sqft_per_bedroom_log','renovation_ind','waterfront','basement_ind','condition','miles_fr_seattle_sqrt','zip_psf_median_box']\n",
    "X_train_m8 = X_train[features_m8] \n",
    "y_train_m8 = y_train['price_log']\n",
    "X_train_m8.head()"
   ]
  },
  {
   "cell_type": "markdown",
   "metadata": {
    "ExecuteTime": {
     "end_time": "2021-03-06T21:54:31.852846Z",
     "start_time": "2021-03-06T21:54:31.825493Z"
    }
   },
   "source": [
    "### Run OLS"
   ]
  },
  {
   "cell_type": "code",
   "execution_count": 150,
   "metadata": {
    "ExecuteTime": {
     "end_time": "2021-03-11T12:30:43.121690Z",
     "start_time": "2021-03-11T12:30:43.067479Z"
    },
    "scrolled": false
   },
   "outputs": [
    {
     "name": "stdout",
     "output_type": "stream",
     "text": [
      "                            OLS Regression Results                            \n",
      "==============================================================================\n",
      "Dep. Variable:              price_log   R-squared:                       0.745\n",
      "Model:                            OLS   Adj. R-squared:                  0.745\n",
      "Method:                 Least Squares   F-statistic:                     5050.\n",
      "Date:                Thu, 11 Mar 2021   Prob (F-statistic):               0.00\n",
      "Time:                        07:30:43   Log-Likelihood:                -1653.3\n",
      "No. Observations:               17276   AIC:                             3329.\n",
      "Df Residuals:                   17265   BIC:                             3414.\n",
      "Df Model:                          10                                         \n",
      "Covariance Type:            nonrobust                                         \n",
      "=========================================================================================\n",
      "                            coef    std err          t      P>|t|      [0.025      0.975]\n",
      "-----------------------------------------------------------------------------------------\n",
      "const                     3.3151      0.089     37.238      0.000       3.141       3.490\n",
      "sqft_living_log           0.3704      0.009     42.558      0.000       0.353       0.387\n",
      "grade                     0.1647      0.003     59.296      0.000       0.159       0.170\n",
      "view                      0.0700      0.003     23.152      0.000       0.064       0.076\n",
      "sqft_per_bedroom_log      0.0953      0.010      9.840      0.000       0.076       0.114\n",
      "renovation_ind            0.1349      0.011     11.943      0.000       0.113       0.157\n",
      "waterfront                0.4077      0.027     15.318      0.000       0.356       0.460\n",
      "basement_ind              0.0238      0.005      5.234      0.000       0.015       0.033\n",
      "condition                 0.0723      0.003     22.607      0.000       0.066       0.079\n",
      "miles_fr_seattle_sqrt     0.0104      0.003      3.255      0.001       0.004       0.017\n",
      "zip_psf_median_box        1.0698      0.016     67.610      0.000       1.039       1.101\n",
      "==============================================================================\n",
      "Omnibus:                      526.707   Durbin-Watson:                   2.020\n",
      "Prob(Omnibus):                  0.000   Jarque-Bera (JB):             1406.468\n",
      "Skew:                           0.041   Prob(JB):                    3.88e-306\n",
      "Kurtosis:                       4.395   Cond. No.                         629.\n",
      "==============================================================================\n",
      "\n",
      "Notes:\n",
      "[1] Standard Errors assume that the covariance matrix of the errors is correctly specified.\n",
      "\n",
      "Model 8 Summary Statistics\n",
      "Root Mean Squared Error (RMSE): 181748.0.\n",
      "Mean Absolute Error (MAE): 107812.0.\n"
     ]
    }
   ],
   "source": [
    "model_8 = calc_sm_ols(model_nbr=8, X=X_train_m8, y=y_train_m8)"
   ]
  },
  {
   "cell_type": "markdown",
   "metadata": {},
   "source": [
    "**Model Summary Interpretation**\n",
    "- Adj r^2 = 0.628 | would be good if all else checks\n",
    "- P-value = 0.00 | would be good if all else checks\n",
    "- Skew = 2 (tgt ~0), Kurtosis = 18+ (tgt 3), JB = 191K (tgt 0-6) | Indicates major non-normality, not good\n",
    "- Cond. No. 159K | indicates strong multicollinearity (ill-conditioned)\n",
    "- Predictors:\n",
    "    - Intercept: \\\\$189K might be reasonable to represent base land value\n",
    "    - Sqft_Living: \\\\$180/sqft average doesn't see unreasonable for Seattle area, low p-value 0.00\n",
    "    - Sqft_above: negative coefficient of \\\\$69 doesn't make sense. Somethings off with variable ranges or multicollinearity\n",
    "    - Bathrooms: negative coefficient of \\\\$2K doesn't make sense. Also p-value of 0.56 when this showed one of highest correlations\n",
    "    - View: p-value of 0.00. These seem to make sense adding \\\\$88K (view 2) to \\\\$494K (view 4)\n",
    "    - Grade: Below/average (<7) has negative coeff versus lowest Grade 3 and high p-values. Coefficients on above average grades make sense but p-values split."
   ]
  },
  {
   "cell_type": "markdown",
   "metadata": {},
   "source": [
    "### QQ-plot"
   ]
  },
  {
   "cell_type": "code",
   "execution_count": 151,
   "metadata": {
    "ExecuteTime": {
     "end_time": "2021-03-11T12:30:46.888013Z",
     "start_time": "2021-03-11T12:30:46.770808Z"
    }
   },
   "outputs": [
    {
     "data": {
      "image/png": "[encoded data removed]",
      "text/plain": [
       "<Figure size 432x288 with 1 Axes>"
      ]
     },
     "metadata": {},
     "output_type": "display_data"
    }
   ],
   "source": [
    "qqplot(model_nbr=8, model=model_8)"
   ]
  },
  {
   "cell_type": "markdown",
   "metadata": {},
   "source": [
    "**QQ-Plot Interpretation**\n",
    "- This is WAY off, showing major outliers on both ends. Back to the drawing board."
   ]
  },
  {
   "cell_type": "markdown",
   "metadata": {
    "heading_collapsed": true
   },
   "source": [
    "### Plot Residuals"
   ]
  },
  {
   "cell_type": "markdown",
   "metadata": {
    "hidden": true
   },
   "source": [
    "**Notes on Residuals**"
   ]
  },
  {
   "cell_type": "code",
   "execution_count": null,
   "metadata": {
    "ExecuteTime": {
     "end_time": "2021-03-11T11:19:26.796870Z",
     "start_time": "2021-03-11T11:19:25.236Z"
    },
    "hidden": true,
    "scrolled": false
   },
   "outputs": [],
   "source": [
    "# qqplot(model_nbr=1, model=model_1)\n",
    "plot_residuals(model_nbr=8, model=model_8)"
   ]
  },
  {
   "cell_type": "markdown",
   "metadata": {},
   "source": [
    "### K-folds"
   ]
  },
  {
   "cell_type": "code",
   "execution_count": null,
   "metadata": {},
   "outputs": [],
   "source": []
  },
  {
   "cell_type": "markdown",
   "metadata": {},
   "source": [
    "### Model 8 Evaluation"
   ]
  },
  {
   "cell_type": "code",
   "execution_count": null,
   "metadata": {},
   "outputs": [],
   "source": []
  },
  {
   "cell_type": "markdown",
   "metadata": {},
   "source": [
    "# Business Analysis"
   ]
  },
  {
   "cell_type": "markdown",
   "metadata": {},
   "source": [
    "# Deployment"
   ]
  },
  {
   "cell_type": "markdown",
   "metadata": {},
   "source": [
    "# Appendix"
   ]
  },
  {
   "cell_type": "code",
   "execution_count": null,
   "metadata": {},
   "outputs": [],
   "source": []
  }
 ],
 "metadata": {
  "kernelspec": {
   "display_name": "learn-env",
   "language": "python",
   "name": "learn-env"
  },
  "language_info": {
   "codemirror_mode": {
    "name": "ipython",
    "version": 3
   },
   "file_extension": ".py",
   "mimetype": "text/x-python",
   "name": "python",
   "nbconvert_exporter": "python",
   "pygments_lexer": "ipython3",
   "version": "3.8.5"
  },
  "toc": {
   "base_numbering": 1,
   "nav_menu": {},
   "number_sections": true,
   "sideBar": true,
   "skip_h1_title": false,
   "title_cell": "Table of Contents",
   "title_sidebar": "Contents",
   "toc_cell": false,
   "toc_position": {
    "height": "calc(100% - 180px)",
    "left": "10px",
    "top": "150px",
    "width": "369.391px"
   },
   "toc_section_display": true,
   "toc_window_display": true
  }
 },
 "nbformat": 4,
 "nbformat_minor": 4
}
