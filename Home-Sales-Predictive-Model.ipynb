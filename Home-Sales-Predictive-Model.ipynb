{
 "cells": [
  {
   "cell_type": "markdown",
   "metadata": {
    "ExecuteTime": {
     "end_time": "2021-03-01T14:32:57.174874Z",
     "start_time": "2021-03-01T14:32:57.167429Z"
    }
   },
   "source": [
    "# Businss Understanding"
   ]
  },
  {
   "cell_type": "markdown",
   "metadata": {},
   "source": [
    "## Business Objective"
   ]
  },
  {
   "cell_type": "markdown",
   "metadata": {},
   "source": [
    "## Data Sources"
   ]
  },
  {
   "cell_type": "markdown",
   "metadata": {},
   "source": [
    "## Background Info - King County"
   ]
  },
  {
   "cell_type": "markdown",
   "metadata": {},
   "source": [
    "- King County, Seattle Washington Wiki: https://en.wikipedia.org/wiki/King_County,_Washington\n",
    "- The population was 2,252,782 in the 2019 census estimate, making it the most populous county in Washington, and the 12th-most populous in the United States. \n",
    "- King County is one of three Washington counties that are included in the Seattle–Tacoma–Bellevue metropolitan statistical area.\n",
    "- About two-thirds of King County's population lives in Seattle's suburbs.\n",
    "- King County has a total area of 2,307 square miles (5,980 km2), of which 2,116 square miles (5,480 km2) is land and 191 square miles (490 km2) (8.3%) is water.\n",
    "- The highest point in the county is Mount Daniel at 7,959 feet (2,426 meters) above sea level."
   ]
  },
  {
   "cell_type": "markdown",
   "metadata": {
    "heading_collapsed": true
   },
   "source": [
    "### King County Map"
   ]
  },
  {
   "cell_type": "markdown",
   "metadata": {
    "ExecuteTime": {
     "end_time": "2021-03-01T15:29:27.744006Z",
     "start_time": "2021-03-01T15:29:27.736948Z"
    },
    "hidden": true
   },
   "source": [
    "![King County Seattle Map](images/King_County_Map.png)"
   ]
  },
  {
   "cell_type": "markdown",
   "metadata": {},
   "source": [
    "## Executive Summary"
   ]
  },
  {
   "cell_type": "markdown",
   "metadata": {},
   "source": [
    "# Data Profiling"
   ]
  },
  {
   "cell_type": "markdown",
   "metadata": {},
   "source": [
    "## Import Libraries"
   ]
  },
  {
   "cell_type": "code",
   "execution_count": 1,
   "metadata": {
    "ExecuteTime": {
     "end_time": "2021-03-07T13:00:43.809517Z",
     "start_time": "2021-03-07T13:00:42.667125Z"
    },
    "scrolled": true
   },
   "outputs": [],
   "source": [
    "# Import libraries required to load, transform, analyze and plot data\n",
    "import numpy as np\n",
    "import pandas as pd\n",
    "from pandas.plotting import table\n",
    "import matplotlib.pyplot as plt\n",
    "import matplotlib.colors as pltcol\n",
    "import matplotlib.ticker as ticker\n",
    "import seaborn as sns\n",
    "import math\n",
    "%matplotlib inline\n",
    "\n",
    "import statsmodels.api as sm\n",
    "from statsmodels.formula.api import ols\n",
    "import statsmodels.tools.eval_measures as ev\n",
    "from sklearn.model_selection import train_test_split\n",
    "import scipy.stats as stats\n",
    "\n",
    "# Set display option to remove scientific notation and restrictions on df rows/columns display\n",
    "pd.options.display.float_format = '{:,.2f}'.format\n",
    "pd.set_option('display.max_columns', None)\n",
    "pd.set_option(\"max_rows\", None)"
   ]
  },
  {
   "cell_type": "code",
   "execution_count": null,
   "metadata": {
    "ExecuteTime": {
     "end_time": "2021-03-03T21:37:31.408791Z",
     "start_time": "2021-03-03T21:37:30.446833Z"
    },
    "scrolled": true
   },
   "outputs": [],
   "source": [
    "# Add jupytertheme to this notebook for better readability\n",
    "!jt -t onedork -fs 95 -altp -tfs 11 -nfs 115 -cellw 88% -T"
   ]
  },
  {
   "cell_type": "markdown",
   "metadata": {},
   "source": [
    "## King County Housing Data"
   ]
  },
  {
   "cell_type": "markdown",
   "metadata": {},
   "source": [
    "### KC Data Dictionary"
   ]
  },
  {
   "cell_type": "markdown",
   "metadata": {},
   "source": [
    "**Data Dictionary Kings County Data Set**\n",
    " - id - unique identified for a house\n",
    " - dateDate - house was sold\n",
    " - pricePrice -  is prediction target\n",
    " - bedroomsNumber -  of Bedrooms/House\n",
    " - bathroomsNumber -  of bathrooms/bedrooms\n",
    " - sqft_livingsquare -  footage of the home\n",
    " - sqft_lotsquare -  footage of the lot\n",
    " - floorsTotal -  floors (levels) in house\n",
    " - waterfront - House which has a view to a waterfront\n",
    " - view - An index from 0 to 4 of how good the view of the property was\n",
    " - condition - How good the condition is ( Overall )\n",
    " - grade - overall grade given to the housing unit, based on King County grading system\n",
    " - sqft_above - square footage of house apart from basement\n",
    " - sqft_basement - square footage of the basement\n",
    " - yr_built - Built Year\n",
    " - yr_renovated - Year when house was renovated\n",
    " - zipcode - zip\n",
    " - lat - Latitude coordinate\n",
    " - long - Longitude coordinate\n",
    " - sqft_living15 - The square footage of interior housing living space for the nearest 15 neighbors\n",
    " - sqft_lot15 - The square footage of the land lots of the nearest 15 neighbors"
   ]
  },
  {
   "cell_type": "markdown",
   "metadata": {},
   "source": [
    "\n",
    "<a href=\"https://www.kingcounty.gov/depts/assessor/Reports/area-reports/2017/residential-westcentral/~/media/depts/assessor/documents/AreaReports/2017/Residential/013.ashx\">King County Condition and Building Grade Scoring</a>\n",
    "\n",
    "**Condition: Relative to Age and Grade**\n",
    "- 1= Poor Many repairs needed. Showing serious deterioration.\n",
    "- 2= Fair Some repairs needed immediately. Much deferred maintenance.\n",
    "- 3= Average Depending upon age of improvement; normal amount of upkeep for the age of the home.\n",
    "- 4= Good Condition above the norm for the age of the home. Indicates extra attention and care has been taken to maintain.\n",
    "- 5= Very Good Excellent maintenance and updating on home. Not a total renovation.\n",
    "\n",
    "**Residential Building Grades**\n",
    "- Grades 1 - 3 Falls short of minimum building standards. Normally cabin or inferior structure.\n",
    "- Grade 4 Generally older low quality construction. Does not meet code.\n",
    "- Grade 5 Lower construction costs and workmanship. Small, simple design.\n",
    "- Grade 6 Lowest grade currently meeting building codes. Low quality materials, simple designs.\n",
    "- Grade 7 Average grade of construction and design. Commonly seen in plats and older subdivisions.\n",
    "- Grade 8 Just above average in construction and design. Usually better materials in both the exterior and interior finishes.\n",
    "- Grade 9 Better architectural design, with extra exterior and interior design and quality.\n",
    "- Grade 10 Homes of this quality generally have high quality features. Finish work is better, and more design quality is seen in the floor plans and larger square footage.\n",
    "- Grade 11 Custom design and higher quality finish work, with added amenities of solid woods, bathroom fixtures and more luxurious options.\n",
    "- Grade 12 Custom design and excellent builders. All materials are of the highest quality and all conveniences are present.\n",
    "- Grade 13 Generally custom designed and built. Approaching the Mansion level. Large amount of highest quality cabinet work, wood trim and marble; large entries. "
   ]
  },
  {
   "cell_type": "markdown",
   "metadata": {},
   "source": [
    "### Dataframe Basics"
   ]
  },
  {
   "cell_type": "markdown",
   "metadata": {},
   "source": [
    "#### Load File"
   ]
  },
  {
   "cell_type": "code",
   "execution_count": 2,
   "metadata": {
    "ExecuteTime": {
     "end_time": "2021-03-07T13:00:51.300282Z",
     "start_time": "2021-03-07T13:00:51.235344Z"
    },
    "scrolled": true
   },
   "outputs": [
    {
     "data": {
      "text/html": [
       "<div>\n",
       "<style scoped>\n",
       "    .dataframe tbody tr th:only-of-type {\n",
       "        vertical-align: middle;\n",
       "    }\n",
       "\n",
       "    .dataframe tbody tr th {\n",
       "        vertical-align: top;\n",
       "    }\n",
       "\n",
       "    .dataframe thead th {\n",
       "        text-align: right;\n",
       "    }\n",
       "</style>\n",
       "<table border=\"1\" class=\"dataframe\">\n",
       "  <thead>\n",
       "    <tr style=\"text-align: right;\">\n",
       "      <th></th>\n",
       "      <th>id</th>\n",
       "      <th>date</th>\n",
       "      <th>price</th>\n",
       "      <th>bedrooms</th>\n",
       "      <th>bathrooms</th>\n",
       "      <th>sqft_living</th>\n",
       "      <th>sqft_lot</th>\n",
       "      <th>floors</th>\n",
       "      <th>waterfront</th>\n",
       "      <th>view</th>\n",
       "      <th>condition</th>\n",
       "      <th>grade</th>\n",
       "      <th>sqft_above</th>\n",
       "      <th>sqft_basement</th>\n",
       "      <th>yr_built</th>\n",
       "      <th>yr_renovated</th>\n",
       "      <th>zipcode</th>\n",
       "      <th>lat</th>\n",
       "      <th>long</th>\n",
       "      <th>sqft_living15</th>\n",
       "      <th>sqft_lot15</th>\n",
       "    </tr>\n",
       "  </thead>\n",
       "  <tbody>\n",
       "    <tr>\n",
       "      <th>0</th>\n",
       "      <td>7129300520</td>\n",
       "      <td>10/13/2014</td>\n",
       "      <td>221,900.00</td>\n",
       "      <td>3</td>\n",
       "      <td>1.00</td>\n",
       "      <td>1180</td>\n",
       "      <td>5650</td>\n",
       "      <td>1.00</td>\n",
       "      <td>nan</td>\n",
       "      <td>0.00</td>\n",
       "      <td>3</td>\n",
       "      <td>7</td>\n",
       "      <td>1180</td>\n",
       "      <td>0.0</td>\n",
       "      <td>1955</td>\n",
       "      <td>0.00</td>\n",
       "      <td>98178</td>\n",
       "      <td>47.51</td>\n",
       "      <td>-122.26</td>\n",
       "      <td>1340</td>\n",
       "      <td>5650</td>\n",
       "    </tr>\n",
       "    <tr>\n",
       "      <th>1</th>\n",
       "      <td>6414100192</td>\n",
       "      <td>12/9/2014</td>\n",
       "      <td>538,000.00</td>\n",
       "      <td>3</td>\n",
       "      <td>2.25</td>\n",
       "      <td>2570</td>\n",
       "      <td>7242</td>\n",
       "      <td>2.00</td>\n",
       "      <td>0.00</td>\n",
       "      <td>0.00</td>\n",
       "      <td>3</td>\n",
       "      <td>7</td>\n",
       "      <td>2170</td>\n",
       "      <td>400.0</td>\n",
       "      <td>1951</td>\n",
       "      <td>1,991.00</td>\n",
       "      <td>98125</td>\n",
       "      <td>47.72</td>\n",
       "      <td>-122.32</td>\n",
       "      <td>1690</td>\n",
       "      <td>7639</td>\n",
       "    </tr>\n",
       "    <tr>\n",
       "      <th>2</th>\n",
       "      <td>5631500400</td>\n",
       "      <td>2/25/2015</td>\n",
       "      <td>180,000.00</td>\n",
       "      <td>2</td>\n",
       "      <td>1.00</td>\n",
       "      <td>770</td>\n",
       "      <td>10000</td>\n",
       "      <td>1.00</td>\n",
       "      <td>0.00</td>\n",
       "      <td>0.00</td>\n",
       "      <td>3</td>\n",
       "      <td>6</td>\n",
       "      <td>770</td>\n",
       "      <td>0.0</td>\n",
       "      <td>1933</td>\n",
       "      <td>nan</td>\n",
       "      <td>98028</td>\n",
       "      <td>47.74</td>\n",
       "      <td>-122.23</td>\n",
       "      <td>2720</td>\n",
       "      <td>8062</td>\n",
       "    </tr>\n",
       "    <tr>\n",
       "      <th>3</th>\n",
       "      <td>2487200875</td>\n",
       "      <td>12/9/2014</td>\n",
       "      <td>604,000.00</td>\n",
       "      <td>4</td>\n",
       "      <td>3.00</td>\n",
       "      <td>1960</td>\n",
       "      <td>5000</td>\n",
       "      <td>1.00</td>\n",
       "      <td>0.00</td>\n",
       "      <td>0.00</td>\n",
       "      <td>5</td>\n",
       "      <td>7</td>\n",
       "      <td>1050</td>\n",
       "      <td>910.0</td>\n",
       "      <td>1965</td>\n",
       "      <td>0.00</td>\n",
       "      <td>98136</td>\n",
       "      <td>47.52</td>\n",
       "      <td>-122.39</td>\n",
       "      <td>1360</td>\n",
       "      <td>5000</td>\n",
       "    </tr>\n",
       "    <tr>\n",
       "      <th>4</th>\n",
       "      <td>1954400510</td>\n",
       "      <td>2/18/2015</td>\n",
       "      <td>510,000.00</td>\n",
       "      <td>3</td>\n",
       "      <td>2.00</td>\n",
       "      <td>1680</td>\n",
       "      <td>8080</td>\n",
       "      <td>1.00</td>\n",
       "      <td>0.00</td>\n",
       "      <td>0.00</td>\n",
       "      <td>3</td>\n",
       "      <td>8</td>\n",
       "      <td>1680</td>\n",
       "      <td>0.0</td>\n",
       "      <td>1987</td>\n",
       "      <td>0.00</td>\n",
       "      <td>98074</td>\n",
       "      <td>47.62</td>\n",
       "      <td>-122.05</td>\n",
       "      <td>1800</td>\n",
       "      <td>7503</td>\n",
       "    </tr>\n",
       "  </tbody>\n",
       "</table>\n",
       "</div>"
      ],
      "text/plain": [
       "           id        date      price  bedrooms  bathrooms  sqft_living  \\\n",
       "0  7129300520  10/13/2014 221,900.00         3       1.00         1180   \n",
       "1  6414100192   12/9/2014 538,000.00         3       2.25         2570   \n",
       "2  5631500400   2/25/2015 180,000.00         2       1.00          770   \n",
       "3  2487200875   12/9/2014 604,000.00         4       3.00         1960   \n",
       "4  1954400510   2/18/2015 510,000.00         3       2.00         1680   \n",
       "\n",
       "   sqft_lot  floors  waterfront  view  condition  grade  sqft_above  \\\n",
       "0      5650    1.00         nan  0.00          3      7        1180   \n",
       "1      7242    2.00        0.00  0.00          3      7        2170   \n",
       "2     10000    1.00        0.00  0.00          3      6         770   \n",
       "3      5000    1.00        0.00  0.00          5      7        1050   \n",
       "4      8080    1.00        0.00  0.00          3      8        1680   \n",
       "\n",
       "  sqft_basement  yr_built  yr_renovated  zipcode   lat    long  sqft_living15  \\\n",
       "0           0.0      1955          0.00    98178 47.51 -122.26           1340   \n",
       "1         400.0      1951      1,991.00    98125 47.72 -122.32           1690   \n",
       "2           0.0      1933           nan    98028 47.74 -122.23           2720   \n",
       "3         910.0      1965          0.00    98136 47.52 -122.39           1360   \n",
       "4           0.0      1987          0.00    98074 47.62 -122.05           1800   \n",
       "\n",
       "   sqft_lot15  \n",
       "0        5650  \n",
       "1        7639  \n",
       "2        8062  \n",
       "3        5000  \n",
       "4        7503  "
      ]
     },
     "execution_count": 2,
     "metadata": {},
     "output_type": "execute_result"
    }
   ],
   "source": [
    "# Load Kings County data set (primary driver dataframe)\n",
    "kc = pd.read_csv('data/kc_house_data.csv')\n",
    "kc.head()"
   ]
  },
  {
   "cell_type": "markdown",
   "metadata": {},
   "source": [
    "#### Info/Describe"
   ]
  },
  {
   "cell_type": "code",
   "execution_count": 3,
   "metadata": {
    "ExecuteTime": {
     "end_time": "2021-03-07T13:00:53.080609Z",
     "start_time": "2021-03-07T13:00:53.053990Z"
    },
    "scrolled": true
   },
   "outputs": [
    {
     "name": "stdout",
     "output_type": "stream",
     "text": [
      "<class 'pandas.core.frame.DataFrame'>\n",
      "RangeIndex: 21597 entries, 0 to 21596\n",
      "Data columns (total 21 columns):\n",
      " #   Column         Non-Null Count  Dtype  \n",
      "---  ------         --------------  -----  \n",
      " 0   id             21597 non-null  int64  \n",
      " 1   date           21597 non-null  object \n",
      " 2   price          21597 non-null  float64\n",
      " 3   bedrooms       21597 non-null  int64  \n",
      " 4   bathrooms      21597 non-null  float64\n",
      " 5   sqft_living    21597 non-null  int64  \n",
      " 6   sqft_lot       21597 non-null  int64  \n",
      " 7   floors         21597 non-null  float64\n",
      " 8   waterfront     19221 non-null  float64\n",
      " 9   view           21534 non-null  float64\n",
      " 10  condition      21597 non-null  int64  \n",
      " 11  grade          21597 non-null  int64  \n",
      " 12  sqft_above     21597 non-null  int64  \n",
      " 13  sqft_basement  21597 non-null  object \n",
      " 14  yr_built       21597 non-null  int64  \n",
      " 15  yr_renovated   17755 non-null  float64\n",
      " 16  zipcode        21597 non-null  int64  \n",
      " 17  lat            21597 non-null  float64\n",
      " 18  long           21597 non-null  float64\n",
      " 19  sqft_living15  21597 non-null  int64  \n",
      " 20  sqft_lot15     21597 non-null  int64  \n",
      "dtypes: float64(8), int64(11), object(2)\n",
      "memory usage: 3.5+ MB\n"
     ]
    }
   ],
   "source": [
    "kc.info()"
   ]
  },
  {
   "cell_type": "markdown",
   "metadata": {},
   "source": [
    "**Notes**\n",
    "- Non-nulls look really good, most fields don't have issues\n",
    "- Only waterfront and year renovated have significant nulls, view has a few. Fill with 0's on all. Change year renovated to int64.\n",
    "- Change zipcode to string\n",
    "- Why is sqft_basement an object?"
   ]
  },
  {
   "cell_type": "markdown",
   "metadata": {},
   "source": [
    "#### Data Cleaning"
   ]
  },
  {
   "cell_type": "code",
   "execution_count": 4,
   "metadata": {
    "ExecuteTime": {
     "end_time": "2021-03-07T13:01:06.681089Z",
     "start_time": "2021-03-07T13:01:06.672726Z"
    },
    "scrolled": false
   },
   "outputs": [
    {
     "data": {
      "text/plain": [
       "0.00    19075\n",
       "1.00      146\n",
       "Name: waterfront, dtype: int64"
      ]
     },
     "execution_count": 4,
     "metadata": {},
     "output_type": "execute_result"
    }
   ],
   "source": [
    "# Check Waterfront value distribution - only 146 have view.\n",
    "kc.waterfront.value_counts()"
   ]
  },
  {
   "cell_type": "code",
   "execution_count": 5,
   "metadata": {
    "ExecuteTime": {
     "end_time": "2021-03-07T13:01:07.860070Z",
     "start_time": "2021-03-07T13:01:07.854811Z"
    },
    "scrolled": false
   },
   "outputs": [],
   "source": [
    "# Fill nulls with 0 for waterfront given unlikely waterfront status\n",
    "kc.waterfront.fillna(0, inplace=True)"
   ]
  },
  {
   "cell_type": "code",
   "execution_count": 6,
   "metadata": {
    "ExecuteTime": {
     "end_time": "2021-03-07T13:01:10.273846Z",
     "start_time": "2021-03-07T13:01:10.264362Z"
    },
    "scrolled": false
   },
   "outputs": [
    {
     "data": {
      "text/plain": [
       "0.00    19422\n",
       "2.00      957\n",
       "3.00      508\n",
       "1.00      330\n",
       "4.00      317\n",
       "Name: view, dtype: int64"
      ]
     },
     "execution_count": 6,
     "metadata": {},
     "output_type": "execute_result"
    }
   ],
   "source": [
    "# Check View value distribution - only ~2K have view.\n",
    "kc.view.value_counts()"
   ]
  },
  {
   "cell_type": "code",
   "execution_count": 7,
   "metadata": {
    "ExecuteTime": {
     "end_time": "2021-03-07T13:01:13.345717Z",
     "start_time": "2021-03-07T13:01:13.337626Z"
    },
    "scrolled": false
   },
   "outputs": [
    {
     "data": {
      "text/plain": [
       "1.00    10673\n",
       "2.00     8235\n",
       "1.50     1910\n",
       "3.00      611\n",
       "2.50      161\n",
       "3.50        7\n",
       "Name: floors, dtype: int64"
      ]
     },
     "execution_count": 7,
     "metadata": {},
     "output_type": "execute_result"
    }
   ],
   "source": [
    "# Check View value distribution - only ~2K have view.\n",
    "kc.floors.value_counts()"
   ]
  },
  {
   "cell_type": "code",
   "execution_count": 8,
   "metadata": {
    "ExecuteTime": {
     "end_time": "2021-03-07T13:01:16.158985Z",
     "start_time": "2021-03-07T13:01:16.154158Z"
    },
    "scrolled": false
   },
   "outputs": [],
   "source": [
    "# Fill nulls with 0 for View given only 5 nulls\n",
    "kc.view.fillna(0, inplace=True)"
   ]
  },
  {
   "cell_type": "code",
   "execution_count": 9,
   "metadata": {
    "ExecuteTime": {
     "end_time": "2021-03-07T13:01:17.967711Z",
     "start_time": "2021-03-07T13:01:17.954123Z"
    },
    "scrolled": false
   },
   "outputs": [
    {
     "data": {
      "text/plain": [
       "744"
      ]
     },
     "execution_count": 9,
     "metadata": {},
     "output_type": "execute_result"
    }
   ],
   "source": [
    "# Check total renovation counts to assess frequency\n",
    "renovations = kc[(kc.yr_renovated != 0) & (kc.yr_renovated.isna()==False)]\n",
    "renovations.yr_renovated.count() # Only 744 renovations"
   ]
  },
  {
   "cell_type": "code",
   "execution_count": 10,
   "metadata": {
    "ExecuteTime": {
     "end_time": "2021-03-07T13:01:19.967709Z",
     "start_time": "2021-03-07T13:01:19.963564Z"
    },
    "scrolled": false
   },
   "outputs": [],
   "source": [
    "# Fill nulls with 0 for year renovated for consistency; 0 indicates no basement\n",
    "kc.yr_renovated.fillna(0, inplace=True)"
   ]
  },
  {
   "cell_type": "code",
   "execution_count": 11,
   "metadata": {
    "ExecuteTime": {
     "end_time": "2021-03-07T13:01:21.659039Z",
     "start_time": "2021-03-07T13:01:21.653913Z"
    }
   },
   "outputs": [
    {
     "data": {
      "text/plain": [
       "70"
      ]
     },
     "execution_count": 11,
     "metadata": {},
     "output_type": "execute_result"
    }
   ],
   "source": [
    "# Check number of zip codes present in data\n",
    "len(pd.unique(kc.zipcode))"
   ]
  },
  {
   "cell_type": "code",
   "execution_count": 12,
   "metadata": {
    "ExecuteTime": {
     "end_time": "2021-03-07T13:01:23.810365Z",
     "start_time": "2021-03-07T13:01:23.794683Z"
    },
    "scrolled": false
   },
   "outputs": [
    {
     "data": {
      "text/plain": [
       "0.0      12826\n",
       "?          454\n",
       "600.0      217\n",
       "500.0      209\n",
       "700.0      208\n",
       "Name: sqft_basement, dtype: int64"
      ]
     },
     "execution_count": 12,
     "metadata": {},
     "output_type": "execute_result"
    }
   ],
   "source": [
    "# Check Sq Ft Basement value distribution - has ? and float\n",
    "kc.sqft_basement.value_counts().head()"
   ]
  },
  {
   "cell_type": "code",
   "execution_count": 13,
   "metadata": {
    "ExecuteTime": {
     "end_time": "2021-03-07T13:01:26.067723Z",
     "start_time": "2021-03-07T13:01:26.060525Z"
    },
    "scrolled": false
   },
   "outputs": [],
   "source": [
    "# Fill nulls with 0 for View given only 5 nulls\n",
    "kc.sqft_basement.replace('?', 0, inplace=True)"
   ]
  },
  {
   "cell_type": "markdown",
   "metadata": {},
   "source": [
    "#### Data Type Conversions"
   ]
  },
  {
   "cell_type": "code",
   "execution_count": 14,
   "metadata": {
    "ExecuteTime": {
     "end_time": "2021-03-07T13:01:28.490126Z",
     "start_time": "2021-03-07T13:01:28.444622Z"
    },
    "scrolled": false
   },
   "outputs": [],
   "source": [
    "# Data type conversions\n",
    "kc['date']= pd.to_datetime(kc['date'])\n",
    "kc['zipcode']=kc['zipcode'].astype('category')\n",
    "kc['sqft_basement']=kc['sqft_basement'].astype(float).astype(int)\n",
    "kc['yr_renovated']=kc['yr_renovated'].astype(int)"
   ]
  },
  {
   "cell_type": "code",
   "execution_count": 40,
   "metadata": {
    "ExecuteTime": {
     "end_time": "2021-03-07T13:26:05.488744Z",
     "start_time": "2021-03-07T13:26:05.465490Z"
    }
   },
   "outputs": [
    {
     "name": "stdout",
     "output_type": "stream",
     "text": [
      "<class 'pandas.core.frame.DataFrame'>\n",
      "Int64Index: 21596 entries, 0 to 21596\n",
      "Data columns (total 23 columns):\n",
      " #   Column          Non-Null Count  Dtype         \n",
      "---  ------          --------------  -----         \n",
      " 0   id              21596 non-null  int64         \n",
      " 1   date            21596 non-null  datetime64[ns]\n",
      " 2   price           21596 non-null  float64       \n",
      " 3   bedrooms        21596 non-null  int64         \n",
      " 4   bathrooms       21596 non-null  float64       \n",
      " 5   sqft_living     21596 non-null  int64         \n",
      " 6   sqft_lot        21596 non-null  int64         \n",
      " 7   floors          21596 non-null  float64       \n",
      " 8   waterfront      21596 non-null  float64       \n",
      " 9   view            21596 non-null  float64       \n",
      " 10  condition       21596 non-null  int64         \n",
      " 11  grade           21596 non-null  int64         \n",
      " 12  sqft_above      21596 non-null  int64         \n",
      " 13  sqft_basement   21596 non-null  int64         \n",
      " 14  basement_ind    21596 non-null  int64         \n",
      " 15  yr_built        21596 non-null  int64         \n",
      " 16  renovation_ind  21596 non-null  int64         \n",
      " 17  yr_renovated    21596 non-null  int64         \n",
      " 18  zipcode         21596 non-null  category      \n",
      " 19  lat             21596 non-null  float64       \n",
      " 20  long            21596 non-null  float64       \n",
      " 21  sqft_living15   21596 non-null  int64         \n",
      " 22  sqft_lot15      21596 non-null  int64         \n",
      "dtypes: category(1), datetime64[ns](1), float64(7), int64(14)\n",
      "memory usage: 3.8 MB\n"
     ]
    }
   ],
   "source": [
    "# Check data type changes\n",
    "kc.info()"
   ]
  },
  {
   "cell_type": "markdown",
   "metadata": {},
   "source": [
    "#### Describe"
   ]
  },
  {
   "cell_type": "code",
   "execution_count": 16,
   "metadata": {
    "ExecuteTime": {
     "end_time": "2021-03-07T13:01:50.800078Z",
     "start_time": "2021-03-07T13:01:50.733173Z"
    },
    "scrolled": true
   },
   "outputs": [
    {
     "data": {
      "text/html": [
       "<div>\n",
       "<style scoped>\n",
       "    .dataframe tbody tr th:only-of-type {\n",
       "        vertical-align: middle;\n",
       "    }\n",
       "\n",
       "    .dataframe tbody tr th {\n",
       "        vertical-align: top;\n",
       "    }\n",
       "\n",
       "    .dataframe thead th {\n",
       "        text-align: right;\n",
       "    }\n",
       "</style>\n",
       "<table border=\"1\" class=\"dataframe\">\n",
       "  <thead>\n",
       "    <tr style=\"text-align: right;\">\n",
       "      <th></th>\n",
       "      <th>id</th>\n",
       "      <th>price</th>\n",
       "      <th>bedrooms</th>\n",
       "      <th>bathrooms</th>\n",
       "      <th>sqft_living</th>\n",
       "      <th>sqft_lot</th>\n",
       "      <th>floors</th>\n",
       "      <th>waterfront</th>\n",
       "      <th>view</th>\n",
       "      <th>condition</th>\n",
       "      <th>grade</th>\n",
       "      <th>sqft_above</th>\n",
       "      <th>sqft_basement</th>\n",
       "      <th>yr_built</th>\n",
       "      <th>yr_renovated</th>\n",
       "      <th>lat</th>\n",
       "      <th>long</th>\n",
       "      <th>sqft_living15</th>\n",
       "      <th>sqft_lot15</th>\n",
       "    </tr>\n",
       "  </thead>\n",
       "  <tbody>\n",
       "    <tr>\n",
       "      <th>count</th>\n",
       "      <td>21,597.00</td>\n",
       "      <td>21,597.00</td>\n",
       "      <td>21,597.00</td>\n",
       "      <td>21,597.00</td>\n",
       "      <td>21,597.00</td>\n",
       "      <td>21,597.00</td>\n",
       "      <td>21,597.00</td>\n",
       "      <td>21,597.00</td>\n",
       "      <td>21,597.00</td>\n",
       "      <td>21,597.00</td>\n",
       "      <td>21,597.00</td>\n",
       "      <td>21,597.00</td>\n",
       "      <td>21,597.00</td>\n",
       "      <td>21,597.00</td>\n",
       "      <td>21,597.00</td>\n",
       "      <td>21,597.00</td>\n",
       "      <td>21,597.00</td>\n",
       "      <td>21,597.00</td>\n",
       "      <td>21,597.00</td>\n",
       "    </tr>\n",
       "    <tr>\n",
       "      <th>mean</th>\n",
       "      <td>4,580,474,287.77</td>\n",
       "      <td>540,296.57</td>\n",
       "      <td>3.37</td>\n",
       "      <td>2.12</td>\n",
       "      <td>2,080.32</td>\n",
       "      <td>15,099.41</td>\n",
       "      <td>1.49</td>\n",
       "      <td>0.01</td>\n",
       "      <td>0.23</td>\n",
       "      <td>3.41</td>\n",
       "      <td>7.66</td>\n",
       "      <td>1,788.60</td>\n",
       "      <td>285.72</td>\n",
       "      <td>1,971.00</td>\n",
       "      <td>68.76</td>\n",
       "      <td>47.56</td>\n",
       "      <td>-122.21</td>\n",
       "      <td>1,986.62</td>\n",
       "      <td>12,758.28</td>\n",
       "    </tr>\n",
       "    <tr>\n",
       "      <th>std</th>\n",
       "      <td>2,876,735,715.75</td>\n",
       "      <td>367,368.14</td>\n",
       "      <td>0.93</td>\n",
       "      <td>0.77</td>\n",
       "      <td>918.11</td>\n",
       "      <td>41,412.64</td>\n",
       "      <td>0.54</td>\n",
       "      <td>0.08</td>\n",
       "      <td>0.76</td>\n",
       "      <td>0.65</td>\n",
       "      <td>1.17</td>\n",
       "      <td>827.76</td>\n",
       "      <td>439.82</td>\n",
       "      <td>29.38</td>\n",
       "      <td>364.04</td>\n",
       "      <td>0.14</td>\n",
       "      <td>0.14</td>\n",
       "      <td>685.23</td>\n",
       "      <td>27,274.44</td>\n",
       "    </tr>\n",
       "    <tr>\n",
       "      <th>min</th>\n",
       "      <td>1,000,102.00</td>\n",
       "      <td>78,000.00</td>\n",
       "      <td>1.00</td>\n",
       "      <td>0.50</td>\n",
       "      <td>370.00</td>\n",
       "      <td>520.00</td>\n",
       "      <td>1.00</td>\n",
       "      <td>0.00</td>\n",
       "      <td>0.00</td>\n",
       "      <td>1.00</td>\n",
       "      <td>3.00</td>\n",
       "      <td>370.00</td>\n",
       "      <td>0.00</td>\n",
       "      <td>1,900.00</td>\n",
       "      <td>0.00</td>\n",
       "      <td>47.16</td>\n",
       "      <td>-122.52</td>\n",
       "      <td>399.00</td>\n",
       "      <td>651.00</td>\n",
       "    </tr>\n",
       "    <tr>\n",
       "      <th>25%</th>\n",
       "      <td>2,123,049,175.00</td>\n",
       "      <td>322,000.00</td>\n",
       "      <td>3.00</td>\n",
       "      <td>1.75</td>\n",
       "      <td>1,430.00</td>\n",
       "      <td>5,040.00</td>\n",
       "      <td>1.00</td>\n",
       "      <td>0.00</td>\n",
       "      <td>0.00</td>\n",
       "      <td>3.00</td>\n",
       "      <td>7.00</td>\n",
       "      <td>1,190.00</td>\n",
       "      <td>0.00</td>\n",
       "      <td>1,951.00</td>\n",
       "      <td>0.00</td>\n",
       "      <td>47.47</td>\n",
       "      <td>-122.33</td>\n",
       "      <td>1,490.00</td>\n",
       "      <td>5,100.00</td>\n",
       "    </tr>\n",
       "    <tr>\n",
       "      <th>50%</th>\n",
       "      <td>3,904,930,410.00</td>\n",
       "      <td>450,000.00</td>\n",
       "      <td>3.00</td>\n",
       "      <td>2.25</td>\n",
       "      <td>1,910.00</td>\n",
       "      <td>7,618.00</td>\n",
       "      <td>1.50</td>\n",
       "      <td>0.00</td>\n",
       "      <td>0.00</td>\n",
       "      <td>3.00</td>\n",
       "      <td>7.00</td>\n",
       "      <td>1,560.00</td>\n",
       "      <td>0.00</td>\n",
       "      <td>1,975.00</td>\n",
       "      <td>0.00</td>\n",
       "      <td>47.57</td>\n",
       "      <td>-122.23</td>\n",
       "      <td>1,840.00</td>\n",
       "      <td>7,620.00</td>\n",
       "    </tr>\n",
       "    <tr>\n",
       "      <th>75%</th>\n",
       "      <td>7,308,900,490.00</td>\n",
       "      <td>645,000.00</td>\n",
       "      <td>4.00</td>\n",
       "      <td>2.50</td>\n",
       "      <td>2,550.00</td>\n",
       "      <td>10,685.00</td>\n",
       "      <td>2.00</td>\n",
       "      <td>0.00</td>\n",
       "      <td>0.00</td>\n",
       "      <td>4.00</td>\n",
       "      <td>8.00</td>\n",
       "      <td>2,210.00</td>\n",
       "      <td>550.00</td>\n",
       "      <td>1,997.00</td>\n",
       "      <td>0.00</td>\n",
       "      <td>47.68</td>\n",
       "      <td>-122.12</td>\n",
       "      <td>2,360.00</td>\n",
       "      <td>10,083.00</td>\n",
       "    </tr>\n",
       "    <tr>\n",
       "      <th>max</th>\n",
       "      <td>9,900,000,190.00</td>\n",
       "      <td>7,700,000.00</td>\n",
       "      <td>33.00</td>\n",
       "      <td>8.00</td>\n",
       "      <td>13,540.00</td>\n",
       "      <td>1,651,359.00</td>\n",
       "      <td>3.50</td>\n",
       "      <td>1.00</td>\n",
       "      <td>4.00</td>\n",
       "      <td>5.00</td>\n",
       "      <td>13.00</td>\n",
       "      <td>9,410.00</td>\n",
       "      <td>4,820.00</td>\n",
       "      <td>2,015.00</td>\n",
       "      <td>2,015.00</td>\n",
       "      <td>47.78</td>\n",
       "      <td>-121.31</td>\n",
       "      <td>6,210.00</td>\n",
       "      <td>871,200.00</td>\n",
       "    </tr>\n",
       "  </tbody>\n",
       "</table>\n",
       "</div>"
      ],
      "text/plain": [
       "                    id        price  bedrooms  bathrooms  sqft_living  \\\n",
       "count        21,597.00    21,597.00 21,597.00  21,597.00    21,597.00   \n",
       "mean  4,580,474,287.77   540,296.57      3.37       2.12     2,080.32   \n",
       "std   2,876,735,715.75   367,368.14      0.93       0.77       918.11   \n",
       "min       1,000,102.00    78,000.00      1.00       0.50       370.00   \n",
       "25%   2,123,049,175.00   322,000.00      3.00       1.75     1,430.00   \n",
       "50%   3,904,930,410.00   450,000.00      3.00       2.25     1,910.00   \n",
       "75%   7,308,900,490.00   645,000.00      4.00       2.50     2,550.00   \n",
       "max   9,900,000,190.00 7,700,000.00     33.00       8.00    13,540.00   \n",
       "\n",
       "          sqft_lot    floors  waterfront      view  condition     grade  \\\n",
       "count    21,597.00 21,597.00   21,597.00 21,597.00  21,597.00 21,597.00   \n",
       "mean     15,099.41      1.49        0.01      0.23       3.41      7.66   \n",
       "std      41,412.64      0.54        0.08      0.76       0.65      1.17   \n",
       "min         520.00      1.00        0.00      0.00       1.00      3.00   \n",
       "25%       5,040.00      1.00        0.00      0.00       3.00      7.00   \n",
       "50%       7,618.00      1.50        0.00      0.00       3.00      7.00   \n",
       "75%      10,685.00      2.00        0.00      0.00       4.00      8.00   \n",
       "max   1,651,359.00      3.50        1.00      4.00       5.00     13.00   \n",
       "\n",
       "       sqft_above  sqft_basement  yr_built  yr_renovated       lat      long  \\\n",
       "count   21,597.00      21,597.00 21,597.00     21,597.00 21,597.00 21,597.00   \n",
       "mean     1,788.60         285.72  1,971.00         68.76     47.56   -122.21   \n",
       "std        827.76         439.82     29.38        364.04      0.14      0.14   \n",
       "min        370.00           0.00  1,900.00          0.00     47.16   -122.52   \n",
       "25%      1,190.00           0.00  1,951.00          0.00     47.47   -122.33   \n",
       "50%      1,560.00           0.00  1,975.00          0.00     47.57   -122.23   \n",
       "75%      2,210.00         550.00  1,997.00          0.00     47.68   -122.12   \n",
       "max      9,410.00       4,820.00  2,015.00      2,015.00     47.78   -121.31   \n",
       "\n",
       "       sqft_living15  sqft_lot15  \n",
       "count      21,597.00   21,597.00  \n",
       "mean        1,986.62   12,758.28  \n",
       "std           685.23   27,274.44  \n",
       "min           399.00      651.00  \n",
       "25%         1,490.00    5,100.00  \n",
       "50%         1,840.00    7,620.00  \n",
       "75%         2,360.00   10,083.00  \n",
       "max         6,210.00  871,200.00  "
      ]
     },
     "execution_count": 16,
     "metadata": {},
     "output_type": "execute_result"
    }
   ],
   "source": [
    "kc.describe()"
   ]
  },
  {
   "cell_type": "markdown",
   "metadata": {},
   "source": [
    "**Notes on Describe**\n",
    "- Price: skewed right. Might be outlier with 7.7M\n",
    "- Bedrooms: Outlier at 33 (possibly more?)\n",
    "- Sqft_Lot: Obvious outlier at 1.6M, and mean is nearly double median.\n",
    "- Waterfront: Sparsely populated\n",
    "- Yr_Renovated: Small proportion of homes given 75th percentile is 0"
   ]
  },
  {
   "cell_type": "code",
   "execution_count": 35,
   "metadata": {
    "ExecuteTime": {
     "end_time": "2021-03-07T13:15:56.453294Z",
     "start_time": "2021-03-07T13:15:56.444018Z"
    }
   },
   "outputs": [
    {
     "name": "stdout",
     "output_type": "stream",
     "text": [
      "Lot Size 4 Std Dev: 180750.0 | Home Counts above this lot size: 291\n"
     ]
    }
   ],
   "source": [
    "# Check Lot Size outliers\n",
    "std4 = round(kc.sqft_lot.mean()+4*kc.sqft_lot.std())\n",
    "std4_cnt = len(kc[kc.sqft_lot>std4])\n",
    "print(f'Lot Size 4 Std Dev: {std4} | Home Counts above this lot size: {std4_cnt}')"
   ]
  },
  {
   "cell_type": "markdown",
   "metadata": {},
   "source": [
    "**Notes on Lot Size**\n",
    "- 291 outliers above 4 standard deviations \"mega lots\"\n",
    "- Usually lot size should be a significant variable in price, might need to transform or adjust for these mega size lots"
   ]
  },
  {
   "cell_type": "markdown",
   "metadata": {
    "ExecuteTime": {
     "end_time": "2021-03-07T12:41:38.395991Z",
     "start_time": "2021-03-07T12:41:38.391622Z"
    }
   },
   "source": [
    "#### Basic Features"
   ]
  },
  {
   "cell_type": "code",
   "execution_count": 37,
   "metadata": {
    "ExecuteTime": {
     "end_time": "2021-03-07T13:24:23.605303Z",
     "start_time": "2021-03-07T13:24:23.577603Z"
    },
    "scrolled": true
   },
   "outputs": [
    {
     "data": {
      "text/html": [
       "<div>\n",
       "<style scoped>\n",
       "    .dataframe tbody tr th:only-of-type {\n",
       "        vertical-align: middle;\n",
       "    }\n",
       "\n",
       "    .dataframe tbody tr th {\n",
       "        vertical-align: top;\n",
       "    }\n",
       "\n",
       "    .dataframe thead th {\n",
       "        text-align: right;\n",
       "    }\n",
       "</style>\n",
       "<table border=\"1\" class=\"dataframe\">\n",
       "  <thead>\n",
       "    <tr style=\"text-align: right;\">\n",
       "      <th></th>\n",
       "      <th>id</th>\n",
       "      <th>date</th>\n",
       "      <th>price</th>\n",
       "      <th>bedrooms</th>\n",
       "      <th>bathrooms</th>\n",
       "      <th>sqft_living</th>\n",
       "      <th>sqft_lot</th>\n",
       "      <th>floors</th>\n",
       "      <th>waterfront</th>\n",
       "      <th>view</th>\n",
       "      <th>condition</th>\n",
       "      <th>grade</th>\n",
       "      <th>sqft_above</th>\n",
       "      <th>sqft_basement</th>\n",
       "      <th>basement_ind</th>\n",
       "      <th>yr_built</th>\n",
       "      <th>renovation_ind</th>\n",
       "      <th>yr_renovated</th>\n",
       "      <th>zipcode</th>\n",
       "      <th>lat</th>\n",
       "      <th>long</th>\n",
       "      <th>sqft_living15</th>\n",
       "      <th>sqft_lot15</th>\n",
       "    </tr>\n",
       "  </thead>\n",
       "  <tbody>\n",
       "    <tr>\n",
       "      <th>0</th>\n",
       "      <td>7129300520</td>\n",
       "      <td>2014-10-13</td>\n",
       "      <td>221,900.00</td>\n",
       "      <td>3</td>\n",
       "      <td>1.00</td>\n",
       "      <td>1180</td>\n",
       "      <td>5650</td>\n",
       "      <td>1.00</td>\n",
       "      <td>0.00</td>\n",
       "      <td>0.00</td>\n",
       "      <td>3</td>\n",
       "      <td>7</td>\n",
       "      <td>1180</td>\n",
       "      <td>0</td>\n",
       "      <td>0</td>\n",
       "      <td>1955</td>\n",
       "      <td>0</td>\n",
       "      <td>0</td>\n",
       "      <td>98178</td>\n",
       "      <td>47.51</td>\n",
       "      <td>-122.26</td>\n",
       "      <td>1340</td>\n",
       "      <td>5650</td>\n",
       "    </tr>\n",
       "    <tr>\n",
       "      <th>1</th>\n",
       "      <td>6414100192</td>\n",
       "      <td>2014-12-09</td>\n",
       "      <td>538,000.00</td>\n",
       "      <td>3</td>\n",
       "      <td>2.25</td>\n",
       "      <td>2570</td>\n",
       "      <td>7242</td>\n",
       "      <td>2.00</td>\n",
       "      <td>0.00</td>\n",
       "      <td>0.00</td>\n",
       "      <td>3</td>\n",
       "      <td>7</td>\n",
       "      <td>2170</td>\n",
       "      <td>400</td>\n",
       "      <td>1</td>\n",
       "      <td>1951</td>\n",
       "      <td>1</td>\n",
       "      <td>1991</td>\n",
       "      <td>98125</td>\n",
       "      <td>47.72</td>\n",
       "      <td>-122.32</td>\n",
       "      <td>1690</td>\n",
       "      <td>7639</td>\n",
       "    </tr>\n",
       "    <tr>\n",
       "      <th>2</th>\n",
       "      <td>5631500400</td>\n",
       "      <td>2015-02-25</td>\n",
       "      <td>180,000.00</td>\n",
       "      <td>2</td>\n",
       "      <td>1.00</td>\n",
       "      <td>770</td>\n",
       "      <td>10000</td>\n",
       "      <td>1.00</td>\n",
       "      <td>0.00</td>\n",
       "      <td>0.00</td>\n",
       "      <td>3</td>\n",
       "      <td>6</td>\n",
       "      <td>770</td>\n",
       "      <td>0</td>\n",
       "      <td>0</td>\n",
       "      <td>1933</td>\n",
       "      <td>0</td>\n",
       "      <td>0</td>\n",
       "      <td>98028</td>\n",
       "      <td>47.74</td>\n",
       "      <td>-122.23</td>\n",
       "      <td>2720</td>\n",
       "      <td>8062</td>\n",
       "    </tr>\n",
       "    <tr>\n",
       "      <th>3</th>\n",
       "      <td>2487200875</td>\n",
       "      <td>2014-12-09</td>\n",
       "      <td>604,000.00</td>\n",
       "      <td>4</td>\n",
       "      <td>3.00</td>\n",
       "      <td>1960</td>\n",
       "      <td>5000</td>\n",
       "      <td>1.00</td>\n",
       "      <td>0.00</td>\n",
       "      <td>0.00</td>\n",
       "      <td>5</td>\n",
       "      <td>7</td>\n",
       "      <td>1050</td>\n",
       "      <td>910</td>\n",
       "      <td>1</td>\n",
       "      <td>1965</td>\n",
       "      <td>0</td>\n",
       "      <td>0</td>\n",
       "      <td>98136</td>\n",
       "      <td>47.52</td>\n",
       "      <td>-122.39</td>\n",
       "      <td>1360</td>\n",
       "      <td>5000</td>\n",
       "    </tr>\n",
       "    <tr>\n",
       "      <th>4</th>\n",
       "      <td>1954400510</td>\n",
       "      <td>2015-02-18</td>\n",
       "      <td>510,000.00</td>\n",
       "      <td>3</td>\n",
       "      <td>2.00</td>\n",
       "      <td>1680</td>\n",
       "      <td>8080</td>\n",
       "      <td>1.00</td>\n",
       "      <td>0.00</td>\n",
       "      <td>0.00</td>\n",
       "      <td>3</td>\n",
       "      <td>8</td>\n",
       "      <td>1680</td>\n",
       "      <td>0</td>\n",
       "      <td>0</td>\n",
       "      <td>1987</td>\n",
       "      <td>0</td>\n",
       "      <td>0</td>\n",
       "      <td>98074</td>\n",
       "      <td>47.62</td>\n",
       "      <td>-122.05</td>\n",
       "      <td>1800</td>\n",
       "      <td>7503</td>\n",
       "    </tr>\n",
       "  </tbody>\n",
       "</table>\n",
       "</div>"
      ],
      "text/plain": [
       "           id       date      price  bedrooms  bathrooms  sqft_living  \\\n",
       "0  7129300520 2014-10-13 221,900.00         3       1.00         1180   \n",
       "1  6414100192 2014-12-09 538,000.00         3       2.25         2570   \n",
       "2  5631500400 2015-02-25 180,000.00         2       1.00          770   \n",
       "3  2487200875 2014-12-09 604,000.00         4       3.00         1960   \n",
       "4  1954400510 2015-02-18 510,000.00         3       2.00         1680   \n",
       "\n",
       "   sqft_lot  floors  waterfront  view  condition  grade  sqft_above  \\\n",
       "0      5650    1.00        0.00  0.00          3      7        1180   \n",
       "1      7242    2.00        0.00  0.00          3      7        2170   \n",
       "2     10000    1.00        0.00  0.00          3      6         770   \n",
       "3      5000    1.00        0.00  0.00          5      7        1050   \n",
       "4      8080    1.00        0.00  0.00          3      8        1680   \n",
       "\n",
       "   sqft_basement  basement_ind  yr_built  renovation_ind  yr_renovated  \\\n",
       "0              0             0      1955               0             0   \n",
       "1            400             1      1951               1          1991   \n",
       "2              0             0      1933               0             0   \n",
       "3            910             1      1965               0             0   \n",
       "4              0             0      1987               0             0   \n",
       "\n",
       "  zipcode   lat    long  sqft_living15  sqft_lot15  \n",
       "0   98178 47.51 -122.26           1340        5650  \n",
       "1   98125 47.72 -122.32           1690        7639  \n",
       "2   98028 47.74 -122.23           2720        8062  \n",
       "3   98136 47.52 -122.39           1360        5000  \n",
       "4   98074 47.62 -122.05           1800        7503  "
      ]
     },
     "execution_count": 37,
     "metadata": {},
     "output_type": "execute_result"
    }
   ],
   "source": [
    "# Create indicator column for homes showing renovation years (1 = Renovation)\n",
    "kc.insert(loc=16, column='renovation_ind', value=np.where((kc.yr_renovated.isnull()) | (kc.yr_renovated==0), 0, 1))\n",
    "kc.head() "
   ]
  },
  {
   "cell_type": "code",
   "execution_count": 36,
   "metadata": {
    "ExecuteTime": {
     "end_time": "2021-03-07T13:23:58.382888Z",
     "start_time": "2021-03-07T13:23:58.357264Z"
    }
   },
   "outputs": [
    {
     "data": {
      "text/html": [
       "<div>\n",
       "<style scoped>\n",
       "    .dataframe tbody tr th:only-of-type {\n",
       "        vertical-align: middle;\n",
       "    }\n",
       "\n",
       "    .dataframe tbody tr th {\n",
       "        vertical-align: top;\n",
       "    }\n",
       "\n",
       "    .dataframe thead th {\n",
       "        text-align: right;\n",
       "    }\n",
       "</style>\n",
       "<table border=\"1\" class=\"dataframe\">\n",
       "  <thead>\n",
       "    <tr style=\"text-align: right;\">\n",
       "      <th></th>\n",
       "      <th>id</th>\n",
       "      <th>date</th>\n",
       "      <th>price</th>\n",
       "      <th>bedrooms</th>\n",
       "      <th>bathrooms</th>\n",
       "      <th>sqft_living</th>\n",
       "      <th>sqft_lot</th>\n",
       "      <th>floors</th>\n",
       "      <th>waterfront</th>\n",
       "      <th>view</th>\n",
       "      <th>condition</th>\n",
       "      <th>grade</th>\n",
       "      <th>sqft_above</th>\n",
       "      <th>sqft_basement</th>\n",
       "      <th>basement_ind</th>\n",
       "      <th>yr_built</th>\n",
       "      <th>yr_renovated</th>\n",
       "      <th>zipcode</th>\n",
       "      <th>lat</th>\n",
       "      <th>long</th>\n",
       "      <th>sqft_living15</th>\n",
       "      <th>sqft_lot15</th>\n",
       "    </tr>\n",
       "  </thead>\n",
       "  <tbody>\n",
       "    <tr>\n",
       "      <th>0</th>\n",
       "      <td>7129300520</td>\n",
       "      <td>2014-10-13</td>\n",
       "      <td>221,900.00</td>\n",
       "      <td>3</td>\n",
       "      <td>1.00</td>\n",
       "      <td>1180</td>\n",
       "      <td>5650</td>\n",
       "      <td>1.00</td>\n",
       "      <td>0.00</td>\n",
       "      <td>0.00</td>\n",
       "      <td>3</td>\n",
       "      <td>7</td>\n",
       "      <td>1180</td>\n",
       "      <td>0</td>\n",
       "      <td>0</td>\n",
       "      <td>1955</td>\n",
       "      <td>0</td>\n",
       "      <td>98178</td>\n",
       "      <td>47.51</td>\n",
       "      <td>-122.26</td>\n",
       "      <td>1340</td>\n",
       "      <td>5650</td>\n",
       "    </tr>\n",
       "    <tr>\n",
       "      <th>1</th>\n",
       "      <td>6414100192</td>\n",
       "      <td>2014-12-09</td>\n",
       "      <td>538,000.00</td>\n",
       "      <td>3</td>\n",
       "      <td>2.25</td>\n",
       "      <td>2570</td>\n",
       "      <td>7242</td>\n",
       "      <td>2.00</td>\n",
       "      <td>0.00</td>\n",
       "      <td>0.00</td>\n",
       "      <td>3</td>\n",
       "      <td>7</td>\n",
       "      <td>2170</td>\n",
       "      <td>400</td>\n",
       "      <td>1</td>\n",
       "      <td>1951</td>\n",
       "      <td>1991</td>\n",
       "      <td>98125</td>\n",
       "      <td>47.72</td>\n",
       "      <td>-122.32</td>\n",
       "      <td>1690</td>\n",
       "      <td>7639</td>\n",
       "    </tr>\n",
       "    <tr>\n",
       "      <th>2</th>\n",
       "      <td>5631500400</td>\n",
       "      <td>2015-02-25</td>\n",
       "      <td>180,000.00</td>\n",
       "      <td>2</td>\n",
       "      <td>1.00</td>\n",
       "      <td>770</td>\n",
       "      <td>10000</td>\n",
       "      <td>1.00</td>\n",
       "      <td>0.00</td>\n",
       "      <td>0.00</td>\n",
       "      <td>3</td>\n",
       "      <td>6</td>\n",
       "      <td>770</td>\n",
       "      <td>0</td>\n",
       "      <td>0</td>\n",
       "      <td>1933</td>\n",
       "      <td>0</td>\n",
       "      <td>98028</td>\n",
       "      <td>47.74</td>\n",
       "      <td>-122.23</td>\n",
       "      <td>2720</td>\n",
       "      <td>8062</td>\n",
       "    </tr>\n",
       "    <tr>\n",
       "      <th>3</th>\n",
       "      <td>2487200875</td>\n",
       "      <td>2014-12-09</td>\n",
       "      <td>604,000.00</td>\n",
       "      <td>4</td>\n",
       "      <td>3.00</td>\n",
       "      <td>1960</td>\n",
       "      <td>5000</td>\n",
       "      <td>1.00</td>\n",
       "      <td>0.00</td>\n",
       "      <td>0.00</td>\n",
       "      <td>5</td>\n",
       "      <td>7</td>\n",
       "      <td>1050</td>\n",
       "      <td>910</td>\n",
       "      <td>1</td>\n",
       "      <td>1965</td>\n",
       "      <td>0</td>\n",
       "      <td>98136</td>\n",
       "      <td>47.52</td>\n",
       "      <td>-122.39</td>\n",
       "      <td>1360</td>\n",
       "      <td>5000</td>\n",
       "    </tr>\n",
       "    <tr>\n",
       "      <th>4</th>\n",
       "      <td>1954400510</td>\n",
       "      <td>2015-02-18</td>\n",
       "      <td>510,000.00</td>\n",
       "      <td>3</td>\n",
       "      <td>2.00</td>\n",
       "      <td>1680</td>\n",
       "      <td>8080</td>\n",
       "      <td>1.00</td>\n",
       "      <td>0.00</td>\n",
       "      <td>0.00</td>\n",
       "      <td>3</td>\n",
       "      <td>8</td>\n",
       "      <td>1680</td>\n",
       "      <td>0</td>\n",
       "      <td>0</td>\n",
       "      <td>1987</td>\n",
       "      <td>0</td>\n",
       "      <td>98074</td>\n",
       "      <td>47.62</td>\n",
       "      <td>-122.05</td>\n",
       "      <td>1800</td>\n",
       "      <td>7503</td>\n",
       "    </tr>\n",
       "  </tbody>\n",
       "</table>\n",
       "</div>"
      ],
      "text/plain": [
       "           id       date      price  bedrooms  bathrooms  sqft_living  \\\n",
       "0  7129300520 2014-10-13 221,900.00         3       1.00         1180   \n",
       "1  6414100192 2014-12-09 538,000.00         3       2.25         2570   \n",
       "2  5631500400 2015-02-25 180,000.00         2       1.00          770   \n",
       "3  2487200875 2014-12-09 604,000.00         4       3.00         1960   \n",
       "4  1954400510 2015-02-18 510,000.00         3       2.00         1680   \n",
       "\n",
       "   sqft_lot  floors  waterfront  view  condition  grade  sqft_above  \\\n",
       "0      5650    1.00        0.00  0.00          3      7        1180   \n",
       "1      7242    2.00        0.00  0.00          3      7        2170   \n",
       "2     10000    1.00        0.00  0.00          3      6         770   \n",
       "3      5000    1.00        0.00  0.00          5      7        1050   \n",
       "4      8080    1.00        0.00  0.00          3      8        1680   \n",
       "\n",
       "   sqft_basement  basement_ind  yr_built  yr_renovated zipcode   lat    long  \\\n",
       "0              0             0      1955             0   98178 47.51 -122.26   \n",
       "1            400             1      1951          1991   98125 47.72 -122.32   \n",
       "2              0             0      1933             0   98028 47.74 -122.23   \n",
       "3            910             1      1965             0   98136 47.52 -122.39   \n",
       "4              0             0      1987             0   98074 47.62 -122.05   \n",
       "\n",
       "   sqft_living15  sqft_lot15  \n",
       "0           1340        5650  \n",
       "1           1690        7639  \n",
       "2           2720        8062  \n",
       "3           1360        5000  \n",
       "4           1800        7503  "
      ]
     },
     "execution_count": 36,
     "metadata": {},
     "output_type": "execute_result"
    }
   ],
   "source": [
    "# Create indicator column for homes with basement based on non-zero sqft\n",
    "kc.insert(loc=14, column='basement_ind', value=np.where(kc.sqft_basement==0, 0, 1))\n",
    "kc.head() "
   ]
  },
  {
   "cell_type": "markdown",
   "metadata": {
    "ExecuteTime": {
     "end_time": "2021-03-01T19:10:53.248545Z",
     "start_time": "2021-03-01T19:10:53.245607Z"
    }
   },
   "source": [
    "#### Outliers & Filters"
   ]
  },
  {
   "cell_type": "code",
   "execution_count": 38,
   "metadata": {
    "ExecuteTime": {
     "end_time": "2021-03-07T13:25:15.942281Z",
     "start_time": "2021-03-07T13:25:15.926281Z"
    },
    "scrolled": true
   },
   "outputs": [],
   "source": [
    "# Dropping rows by index for outliers and other conditions\n",
    "mask = kc.loc[kc['bedrooms']>20].index\n",
    "kc.drop(mask, inplace=True)"
   ]
  },
  {
   "cell_type": "markdown",
   "metadata": {
    "ExecuteTime": {
     "end_time": "2021-03-01T19:10:53.248545Z",
     "start_time": "2021-03-01T19:10:53.245607Z"
    }
   },
   "source": [
    "### Sales Analysis"
   ]
  },
  {
   "cell_type": "markdown",
   "metadata": {},
   "source": [
    "#### Sales Price"
   ]
  },
  {
   "cell_type": "code",
   "execution_count": 39,
   "metadata": {
    "ExecuteTime": {
     "end_time": "2021-03-07T13:25:26.391003Z",
     "start_time": "2021-03-07T13:25:25.991168Z"
    },
    "scrolled": false
   },
   "outputs": [
    {
     "data": {
      "text/plain": [
       "34.54007878960593"
      ]
     },
     "execution_count": 39,
     "metadata": {},
     "output_type": "execute_result"
    },
    {
     "data": {
      "image/png": "[encoded data removed]",
      "text/plain": [
       "<Figure size 432x288 with 1 Axes>"
      ]
     },
     "metadata": {
      "needs_background": "light"
     },
     "output_type": "display_data"
    }
   ],
   "source": [
    "# Subplot 1 - Histogram by desired xcol showing probability %\n",
    "sns.histplot(data=kc, x='price', color='skyblue', stat='probability')\n",
    "kc['price'].skew()\n",
    "kc['price'].kurtosis()"
   ]
  },
  {
   "cell_type": "markdown",
   "metadata": {},
   "source": [
    "**Notes on Sales Price**\n",
    "- From data dictionary: Range from 1-13 as an indication of quality level of building. 1-3 unfit, 13 mansion, 7 average.\n",
    "- Roughly 41% of homes are average (7), another 37% at 6 or 8. Top 20% are 9+.\n",
    "- Outliers: None denoted\n",
    "- Distribution appears farily normal, candidate for continuous variable without log transformation.\n",
    "- Median price and IQR bands exhibit exponetialality, pivoting at 9-13 markedly upwards."
   ]
  },
  {
   "cell_type": "code",
   "execution_count": null,
   "metadata": {},
   "outputs": [],
   "source": []
  },
  {
   "cell_type": "markdown",
   "metadata": {},
   "source": [
    "#### Sales Time Series"
   ]
  },
  {
   "cell_type": "code",
   "execution_count": null,
   "metadata": {
    "ExecuteTime": {
     "end_time": "2021-03-06T12:54:42.803284Z",
     "start_time": "2021-03-06T12:54:42.637667Z"
    },
    "scrolled": false
   },
   "outputs": [],
   "source": [
    "# Plot number of sales by month for King County home sales data\n",
    "kc['sales_cnt']=1 # dummy variable to sum sales\n",
    "kc['year_month'] = kc.date.dt.to_period('m') # transform date into month\n",
    "df_grp = kc.groupby(['year_month'])['sales_cnt'].sum().reset_index()\n",
    "\n",
    "# Create barplot with average line\n",
    "f, ax = plt.subplots(1, 1, figsize=(12, 6))\n",
    "f.suptitle('Sales by Month in King County', fontsize=14, fontweight ='bold')\n",
    "sns.set_style(\"dark\")\n",
    "ax = sns.barplot(data=df_grp, x='year_month', y='sales_cnt', color='tab:blue', saturation=.5)\n",
    "ax.axhline(df_grp.sales_cnt.mean(), color='tab:orange')\n",
    "ax.set_xlabel('Month', fontsize=12)\n",
    "ax.set_ylabel('Number of Sales', fontsize=12)\n",
    "plt.show()"
   ]
  },
  {
   "cell_type": "markdown",
   "metadata": {},
   "source": [
    "**Notes on Sales Trend**\n",
    "- Total sales transations of 21,597 spread across 13 months with 1,661 average/month in sample\n",
    "- May 2015 looks to be a partial month, may excluded it to have a complete 1 year of data (2014-05 through 2015-04)\n",
    "- Sales time series exhibits expected seasonality in Spring/Summer with slower Winter months"
   ]
  },
  {
   "cell_type": "markdown",
   "metadata": {},
   "source": [
    "#### Sales By Year Built"
   ]
  },
  {
   "cell_type": "code",
   "execution_count": null,
   "metadata": {
    "ExecuteTime": {
     "end_time": "2021-03-06T13:07:53.455725Z",
     "start_time": "2021-03-06T13:07:52.995702Z"
    },
    "scrolled": false
   },
   "outputs": [],
   "source": [
    "# Plot number of sales by month for King County home sales data\n",
    "df_grp = kc.groupby(['yr_built'])['sales_cnt'].sum().reset_index()\n",
    "df_grp2 = kc.groupby(['yr_built'])['price'].mean().reset_index()\n",
    "\n",
    "# Create barplot with average line\n",
    "f, ax = plt.subplots(figsize=(18, 6)) \n",
    "f.suptitle('Sales by Year Built in King County', fontsize=14, fontweight ='bold')\n",
    "sns.set_style(\"dark\")\n",
    "ax = sns.barplot(data=df_grp, x='yr_built', y='sales_cnt', color='tab:blue', saturation=.5, ax=ax)\n",
    "ax.set_xlabel('Year Built', fontsize=12)\n",
    "ax.set_ylabel('Number of Sales', fontsize=12)\n",
    "ax.xaxis.set_major_locator(ticker.AutoLocator())\n",
    "ax2 = ax.twinx()\n",
    "ax2 = sns.lineplot(data=df_grp2, marker='o', ax=ax2)\n",
    "ax2.set_ylabel('Average Price', fontsize=12)\n",
    "plt.show()"
   ]
  },
  {
   "cell_type": "markdown",
   "metadata": {
    "ExecuteTime": {
     "end_time": "2021-03-04T19:58:16.126272Z",
     "start_time": "2021-03-04T19:58:16.114758Z"
    }
   },
   "source": [
    "**Notes on Sales by Year Built**\n",
    "- Wide range distribution going back to 1900, increasingly steadily by decade\n",
    "- Initially use built year as predictor but could consider converting to decade to simplify if still correlates\n",
    "- Average prices are higher for really old (historic) or newer homes"
   ]
  },
  {
   "cell_type": "markdown",
   "metadata": {},
   "source": [
    "### Category Profiles"
   ]
  },
  {
   "cell_type": "markdown",
   "metadata": {},
   "source": [
    "#### Plot Functions"
   ]
  },
  {
   "cell_type": "code",
   "execution_count": null,
   "metadata": {
    "ExecuteTime": {
     "end_time": "2021-03-06T12:15:51.426465Z",
     "start_time": "2021-03-06T12:15:51.416505Z"
    },
    "scrolled": true
   },
   "outputs": [],
   "source": [
    "# Define function to generate Top N values, counts and % total for a column\n",
    "def topn_count(df, column, topn):\n",
    "    c = df[column].value_counts(dropna=False)\n",
    "    p = df[column].value_counts(dropna=False, normalize=True).mul(100).round(1).astype(str) + '%'\n",
    "    cp = (100*df.groupby(column).size().cumsum()/df.groupby(column).size().sum()).round(1).astype(str) + '%'\n",
    "    print(f'Top 10 Counts By {column.title()}')\n",
    "    return pd.concat([c, p ,cp], axis=1, keys=['Counts', '%', 'Cum %']).iloc[:topn]"
   ]
  },
  {
   "cell_type": "code",
   "execution_count": null,
   "metadata": {
    "ExecuteTime": {
     "end_time": "2021-03-06T12:22:07.058430Z",
     "start_time": "2021-03-06T12:22:07.053594Z"
    },
    "scrolled": true
   },
   "outputs": [],
   "source": [
    "#  topn_count(kc, 'bedrooms', 10)"
   ]
  },
  {
   "cell_type": "code",
   "execution_count": null,
   "metadata": {
    "ExecuteTime": {
     "end_time": "2021-03-06T12:16:08.939145Z",
     "start_time": "2021-03-06T12:16:08.916331Z"
    },
    "scrolled": true
   },
   "outputs": [],
   "source": [
    "# Define function to generate 3 plots for X and Y columns in a dataframe: Histogram, Price Box Plot and Top N % Distribution\n",
    "def distplots(df, xcol, ycol, topn):\n",
    "    # Set a figure with 3 subplots and figure-level settings\n",
    "    f, (ax,ax2,ax3,ax4) = plt.subplots(1, 4, figsize=(18, 6))\n",
    "    sns.set_theme(style='ticks', palette='deep')\n",
    "    sns.set_style('whitegrid')\n",
    "    f.suptitle('Column Value Distributions', fontsize=14, fontweight ='bold')\n",
    "    f.tight_layout(pad=3)\n",
    "    \n",
    "    # Subplot 1 - Histogram by desired xcol showing probability %\n",
    "    ax = plt.subplot2grid((1, 7), (0, 0), colspan=2)\n",
    "    ax = sns.histplot(data=df, x=xcol, color='skyblue', stat='probability', discrete = True, ax=ax)\n",
    "    ax.set_title('Histogram')\n",
    "\n",
    "    # Subplot 2 - Scatter plot xcol vs. ycol\n",
    "    ax2 = plt.subplot2grid((1, 7), (0, 2), colspan=2)\n",
    "    ax2 = sns.scatterplot(df[xcol], df[ycol])\n",
    "    ax2.set_title(f'{ycol.title()} vs {xcol.title()} Scatterplot')\n",
    "#     ax2.set_xlabel(column)\n",
    "#     ax2.set_ylabel('Sale Price in $100,000')\n",
    "    \n",
    "    # Subplot 3 - Boxplot by desired xcol against ycol (e.g. price) to see distributions grouped by xcol\n",
    "    ax3 = plt.subplot2grid((1, 7), (0, 4), colspan=2)\n",
    "    ax3 = sns.boxplot(data=df, x=xcol, y=ycol, showfliers=False, ax=ax3) # Excludes outliers for presentability \n",
    "    ax3.set_title('Boxplot')\n",
    "\n",
    "    # Calculate medians and number of observations per group for use in positioning labels on plot\n",
    "    medians = df.groupby([xcol])[ycol].median().values\n",
    "    nobs = df[xcol].value_counts(sort=False).sort_index().values\n",
    "    nobs = [str(x) for x in nobs.tolist()]\n",
    "    nobs = [\"n: \" + i for i in nobs]\n",
    "\n",
    "    # Add number of observations to the boxplot for indication of each box's relative likelihood\n",
    "    pos = range(len(nobs))\n",
    "    for tick, label in zip(pos, ax2.get_xticklabels()):\n",
    "        ax3.text(pos[tick], medians[tick] + 0.2, nobs[tick], horizontalalignment='center', size='x-small', color='w', weight='bold')\n",
    "    \n",
    "    # Subplot 4 - Add dataframe top N value counts and % of group as a table in 3rd plot\n",
    "    top = topn_count(df, xcol, topn)\n",
    "    ax4 = plt.subplot2grid((1, 7), (0, 6))\n",
    "    ax4.table(cellText=top.values,rowLabels=top.index, colLabels=top.columns, cellLoc = 'center', rowLoc = 'center', loc='center')\n",
    "    ax4.axis(\"off\")\n",
    "    ax4.set_title('Top Values')"
   ]
  },
  {
   "cell_type": "code",
   "execution_count": null,
   "metadata": {},
   "outputs": [],
   "source": [
    "# data.hist(figsize=(18,15), bins='auto');"
   ]
  },
  {
   "cell_type": "markdown",
   "metadata": {},
   "source": [
    "#### Bedrooms"
   ]
  },
  {
   "cell_type": "code",
   "execution_count": null,
   "metadata": {
    "ExecuteTime": {
     "end_time": "2021-03-06T12:22:16.462092Z",
     "start_time": "2021-03-06T12:22:15.641069Z"
    },
    "scrolled": false
   },
   "outputs": [],
   "source": [
    "distplots(kc, 'bedrooms', 'price', 10)"
   ]
  },
  {
   "cell_type": "markdown",
   "metadata": {},
   "source": [
    "**Notes on Bedrooms**\n",
    "- One outlier at 33 BR excluded for graph presentability\n",
    "- Mode is 3 BR and 78% are 3/4 BR. Only 1.5% higher than 5 BR and only 1% at 1 BR.\n",
    "- Limiting to 1-6 BR looks relatively normal, might not need log transformation. This would mean dropping 0.3% of the data from modeling.\n",
    "- Median price increases from 1-7 BRs, assume strong correlation. The IQR upper whisker increases more than lower whisker for higher bedrooms."
   ]
  },
  {
   "cell_type": "markdown",
   "metadata": {},
   "source": [
    "#### Bathrooms"
   ]
  },
  {
   "cell_type": "code",
   "execution_count": null,
   "metadata": {
    "ExecuteTime": {
     "end_time": "2021-03-06T12:22:23.951042Z",
     "start_time": "2021-03-06T12:22:22.854001Z"
    },
    "scrolled": false
   },
   "outputs": [],
   "source": [
    "distplots(kc, 'bathrooms', 'price', 23)"
   ]
  },
  {
   "cell_type": "markdown",
   "metadata": {},
   "source": [
    "**Notes on Bathrooms**\n",
    "- Over 50% of homes have quarter or half bathrooms listed (.25, .5 or .75); Are half-baths worth 50% of a bath count in regression?\n",
    "- Roughly 49% home have 2-3 baths, another 39% have 1-2 baths; 98% have 3 baths or under.\n",
    "- Outliers: 75 homes (0.3%) have less than 1 bathroom. 12 homes have 6 or more. If bathrooms in model, might drop both outliers (1-6 baths).\n",
    "- Distribution looks skewed right, might need log transformation.\n",
    "- Median price increases with bathrooms, linear if not exponetially."
   ]
  },
  {
   "cell_type": "markdown",
   "metadata": {},
   "source": [
    "#### Floors"
   ]
  },
  {
   "cell_type": "code",
   "execution_count": null,
   "metadata": {
    "ExecuteTime": {
     "end_time": "2021-03-06T12:22:32.915510Z",
     "start_time": "2021-03-06T12:22:32.241442Z"
    },
    "scrolled": false
   },
   "outputs": [],
   "source": [
    "distplots(kc, 'floors', 'price', 10)"
   ]
  },
  {
   "cell_type": "markdown",
   "metadata": {},
   "source": [
    "**Notes on Floors**\n",
    "- Approximately 10% of homes have split-levels; Are half-floors worth 50% of a floor in regression?\n",
    "- Roughly 49% home have single floor, another 38% have 2; Only 3% have 3 floors or higher (small samples and prices don't scale).\n",
    "- Outliers: None\n",
    "- Distribution not normal, would use category OHE variables.\n",
    "- Median price and upper whisker band increases linearly with floors until 3+. Split level 1.5 similar to 2 floors in pricing."
   ]
  },
  {
   "cell_type": "markdown",
   "metadata": {},
   "source": [
    "#### Condition"
   ]
  },
  {
   "cell_type": "code",
   "execution_count": null,
   "metadata": {
    "ExecuteTime": {
     "end_time": "2021-03-06T12:22:42.087560Z",
     "start_time": "2021-03-06T12:22:41.408238Z"
    },
    "scrolled": false
   },
   "outputs": [],
   "source": [
    "distplots(kc, 'condition', 'price', 5)"
   ]
  },
  {
   "cell_type": "markdown",
   "metadata": {},
   "source": [
    "**Notes on Condition**\n",
    "- From data dictionary: Score of 1/2 indicate major repairs required. Score 3 is average, with 4/5 be above average and exceptional.\n",
    "- Roughly 2/3rd of homes are average (3), 1/4 are above average (4) and top 8% score excellent (5).\n",
    "- Only 1% have 1/2 scores, probably due to market requirements to have a functional home to list for sale.\n",
    "- Outliers: None denoted\n",
    "- Distribution skewed left, candidate for category feature using OHE.\n",
    "- Median price and IQR bands exhibit increasing step functions: 1/2 cluster-->3/4 cluster-->5"
   ]
  },
  {
   "cell_type": "markdown",
   "metadata": {},
   "source": [
    "#### Grade"
   ]
  },
  {
   "cell_type": "code",
   "execution_count": null,
   "metadata": {
    "ExecuteTime": {
     "end_time": "2021-03-06T12:22:50.693607Z",
     "start_time": "2021-03-06T12:22:49.933073Z"
    },
    "scrolled": false
   },
   "outputs": [],
   "source": [
    "distplots(kc, 'grade', 'price', 13)"
   ]
  },
  {
   "cell_type": "markdown",
   "metadata": {},
   "source": [
    "**Notes on Grade**\n",
    "- From data dictionary: Range from 1-13 as an indication of quality level of building. 1-3 unfit, 13 mansion, 7 average.\n",
    "- Roughly 41% of homes are average (7), another 37% at 6 or 8. Top 20% are 9+.\n",
    "- Outliers: None denoted\n",
    "- Distribution appears farily normal, candidate for continuous variable without log transformation.\n",
    "- Median price and IQR bands exhibit exponetialality, pivoting at 9-13 markedly upwards."
   ]
  },
  {
   "cell_type": "markdown",
   "metadata": {},
   "source": [
    "#### Waterfront"
   ]
  },
  {
   "cell_type": "code",
   "execution_count": null,
   "metadata": {
    "ExecuteTime": {
     "end_time": "2021-03-06T13:14:10.484493Z",
     "start_time": "2021-03-06T13:14:09.906454Z"
    },
    "scrolled": false
   },
   "outputs": [],
   "source": [
    "distplots(kc, 'waterfront', 'price', 10)"
   ]
  },
  {
   "cell_type": "markdown",
   "metadata": {},
   "source": [
    "**Notes on Waterfront**\n",
    "- Small sample of 146 but nearly triple the prices with high skew higher"
   ]
  },
  {
   "cell_type": "markdown",
   "metadata": {},
   "source": [
    "#### Renovation Ind"
   ]
  },
  {
   "cell_type": "code",
   "execution_count": null,
   "metadata": {
    "ExecuteTime": {
     "end_time": "2021-03-06T13:17:10.156422Z",
     "start_time": "2021-03-06T13:17:09.587803Z"
    },
    "scrolled": false
   },
   "outputs": [],
   "source": [
    "distplots(kc, 'renovation_ind', 'price', 10)"
   ]
  },
  {
   "cell_type": "markdown",
   "metadata": {},
   "source": [
    "**Notes on Renovation Indicator**\n",
    "- Small sample of 744 but median price is ~25% higher"
   ]
  },
  {
   "cell_type": "markdown",
   "metadata": {},
   "source": [
    "#### View"
   ]
  },
  {
   "cell_type": "code",
   "execution_count": null,
   "metadata": {
    "ExecuteTime": {
     "end_time": "2021-03-06T13:53:43.814711Z",
     "start_time": "2021-03-06T13:53:43.160737Z"
    },
    "scrolled": false
   },
   "outputs": [],
   "source": [
    "distplots(kc, 'view', 'price', 10)\n",
    "plt.show()"
   ]
  },
  {
   "cell_type": "markdown",
   "metadata": {},
   "source": [
    "**Notes on View**\n",
    "- Only about 10% have a view value but media prices definitely get a lift, especially views 3/4"
   ]
  },
  {
   "cell_type": "markdown",
   "metadata": {},
   "source": [
    "#### Zip"
   ]
  },
  {
   "cell_type": "code",
   "execution_count": null,
   "metadata": {
    "ExecuteTime": {
     "end_time": "2021-03-06T12:47:43.440783Z",
     "start_time": "2021-03-06T12:47:41.729008Z"
    },
    "scrolled": false
   },
   "outputs": [],
   "source": [
    "# Boxplot showing distributions of sales price by zipcode\n",
    "plt.figure(figsize=(18,8))\n",
    "sns.boxplot(data=kc, x='zipcode', y='price')\n",
    "plt.xticks(rotation=70)\n",
    "plt.tight_layout()\n",
    "plt.show()"
   ]
  },
  {
   "cell_type": "markdown",
   "metadata": {},
   "source": [
    "**Notes on Zip**\n",
    "- 70 distinct zip codes\n",
    "- Zipcode definitely influence prices and price distributions\n",
    "- Medians above \\\\$1M: 3 zips, Upper Whiskers above \\\\$1M: 8\n",
    "- Outliers above \\\\$4M: 6 zips "
   ]
  },
  {
   "cell_type": "code",
   "execution_count": null,
   "metadata": {
    "ExecuteTime": {
     "end_time": "2021-03-06T12:48:45.683062Z",
     "start_time": "2021-03-06T12:48:44.130157Z"
    },
    "scrolled": false
   },
   "outputs": [],
   "source": [
    "# Boxplot showing distributions of sales price by zipcode (no outliers shown)\n",
    "plt.figure(figsize=(18,8))\n",
    "sns.boxplot(data=kc, x='zipcode', y='price', showfliers=False)\n",
    "plt.xticks(rotation=70)\n",
    "plt.tight_layout()\n",
    "plt.show()"
   ]
  },
  {
   "cell_type": "markdown",
   "metadata": {},
   "source": [
    "### Continuous Profiles"
   ]
  },
  {
   "cell_type": "code",
   "execution_count": null,
   "metadata": {
    "ExecuteTime": {
     "end_time": "2021-03-06T13:26:32.633572Z",
     "start_time": "2021-03-06T13:26:32.624644Z"
    },
    "scrolled": true
   },
   "outputs": [],
   "source": [
    "# Columns on which to generate histograms to distribution exploration\n",
    "pair_col1 = ['price','sqft_living','sqft_lot','sqft_above']\n",
    "pair_col2 = ['price','sqft_living','sqft_living15','sqft_lot15']\n",
    "\n",
    "# function for scatterplot and diagonal histogram matrix for list of columns\n",
    "def pairplot(df, column_list):\n",
    "    g = sns.pairplot(df[column_list], palette='Set2', kind='scatter', diag_kind='kde', height=1.5)"
   ]
  },
  {
   "cell_type": "markdown",
   "metadata": {},
   "source": [
    "#### Pairgrid 1"
   ]
  },
  {
   "cell_type": "code",
   "execution_count": null,
   "metadata": {
    "ExecuteTime": {
     "end_time": "2021-03-06T13:20:06.409741Z",
     "start_time": "2021-03-06T13:20:04.815200Z"
    },
    "scrolled": false
   },
   "outputs": [],
   "source": [
    "# plot the pairgrid for column set #1\n",
    "pairplot(kc, pair_col1)"
   ]
  },
  {
   "cell_type": "markdown",
   "metadata": {},
   "source": [
    "**Notes of Pairgrid 1**\n",
    "- sqft_living and sqft_above have linear relations to price, pairplot between them definitely colinear\n",
    "- sqft_lot doesn't seem to matter much to price, but let's check for extreme outliers to see if they impact"
   ]
  },
  {
   "cell_type": "markdown",
   "metadata": {},
   "source": [
    "#### Pairgrid 2"
   ]
  },
  {
   "cell_type": "code",
   "execution_count": null,
   "metadata": {
    "ExecuteTime": {
     "end_time": "2021-03-06T13:26:39.154452Z",
     "start_time": "2021-03-06T13:26:37.594649Z"
    },
    "scrolled": false
   },
   "outputs": [],
   "source": [
    "# plot the pairgrid for column set #2\n",
    "pairplot(kc, pair_col2)"
   ]
  },
  {
   "cell_type": "markdown",
   "metadata": {},
   "source": [
    "**Notes of Pairgrid 2**\n",
    "- sqft_living15 (nearest 15 neighbors) has linear relations to price, but also to sqft_living (with more spread). Check collinearity\n",
    "- sqft_lot15 doesn't seem to matter much to price"
   ]
  },
  {
   "cell_type": "markdown",
   "metadata": {},
   "source": [
    "# Data Preparation"
   ]
  },
  {
   "cell_type": "markdown",
   "metadata": {},
   "source": [
    "### Correlations"
   ]
  },
  {
   "cell_type": "code",
   "execution_count": null,
   "metadata": {
    "ExecuteTime": {
     "end_time": "2021-03-06T13:30:12.733657Z",
     "start_time": "2021-03-06T13:30:12.687610Z"
    },
    "scrolled": true
   },
   "outputs": [],
   "source": [
    "corr = kc.corr()\n",
    "corr"
   ]
  },
  {
   "cell_type": "code",
   "execution_count": null,
   "metadata": {
    "ExecuteTime": {
     "end_time": "2021-03-06T13:30:23.385002Z",
     "start_time": "2021-03-06T13:30:23.374555Z"
    },
    "scrolled": true
   },
   "outputs": [],
   "source": [
    "corr['price'].sort_values(ascending=False)"
   ]
  },
  {
   "cell_type": "markdown",
   "metadata": {},
   "source": [
    "**Notes on Price Correlation**\n",
    "- Strong correlations (0.6-0.8): sqft_living, grade, sqft_above\n",
    "- Moderate correlations (0.4-0.6): sqft_living15, bathrooms, view"
   ]
  },
  {
   "cell_type": "code",
   "execution_count": null,
   "metadata": {
    "ExecuteTime": {
     "end_time": "2021-03-06T13:39:57.435121Z",
     "start_time": "2021-03-06T13:39:57.185527Z"
    },
    "scrolled": false
   },
   "outputs": [],
   "source": [
    "sns.heatmap(kc.corr(), center=0, linewidths=.5, cmap=\"YlGnBu\")\n",
    "plt.show()"
   ]
  },
  {
   "cell_type": "markdown",
   "metadata": {},
   "source": [
    "### Multi-Colinearity"
   ]
  },
  {
   "cell_type": "code",
   "execution_count": null,
   "metadata": {
    "ExecuteTime": {
     "end_time": "2021-03-06T13:40:33.020278Z",
     "start_time": "2021-03-06T13:40:32.991141Z"
    },
    "scrolled": true
   },
   "outputs": [],
   "source": [
    "# Check for collinearity among potential predicator values by pairs\n",
    "df=corr.stack().reset_index().sort_values(0, ascending=False)\n",
    "# zip the variable name columns (Which were only named level_0 and level_1 by default) in a new column named \"pairs\"\n",
    "df['pairs'] = list(zip(df.level_0, df.level_1))\n",
    "# set index to pairs\n",
    "df.set_index(['pairs'], inplace = True)\n",
    "#d rop level columns\n",
    "df.drop(columns=['level_1', 'level_0'], inplace = True)\n",
    "# rename correlation column as cc rather than 0\n",
    "df.columns = ['correlation']\n",
    "# drop duplicates\n",
    "df.drop_duplicates(inplace=True)\n",
    "df[abs(df.correlation) > .65]"
   ]
  },
  {
   "cell_type": "markdown",
   "metadata": {
    "ExecuteTime": {
     "end_time": "2021-03-04T22:05:03.860543Z",
     "start_time": "2021-03-04T22:05:03.856361Z"
    }
   },
   "source": [
    "**Notes on multi-colinearity**\n",
    "- Probably don't need sqft_living and sqft_above (0.88) as highly duplicatative\n",
    "- sqft_living and grade at 0.76 leave in for now (grade should be independent of sqft)\n",
    "- sqft_living and bathrooms at 0.76 leave in for now (common knowledge pricing is set by # bathrooms somewhat independent of sqft?)"
   ]
  },
  {
   "cell_type": "markdown",
   "metadata": {},
   "source": [
    "### One-hot encoding"
   ]
  },
  {
   "cell_type": "code",
   "execution_count": null,
   "metadata": {
    "ExecuteTime": {
     "end_time": "2021-03-06T14:28:08.833316Z",
     "start_time": "2021-03-06T14:28:08.798998Z"
    }
   },
   "outputs": [],
   "source": [
    "# Convert category variables data type\n",
    "categoricals= ['bedrooms','bathrooms','floors','waterfront','view','condition','grade','renovation_ind','zipcode']\n",
    "kc[categoricals] = kc[categoricals].astype('category')"
   ]
  },
  {
   "cell_type": "code",
   "execution_count": null,
   "metadata": {
    "ExecuteTime": {
     "end_time": "2021-03-06T14:28:10.419508Z",
     "start_time": "2021-03-06T14:28:10.351902Z"
    },
    "scrolled": false
   },
   "outputs": [],
   "source": [
    "# one hot encode categoricals\n",
    "kc_ohe = pd.get_dummies(kc[categoricals], drop_first=True)\n",
    "kc_ohe.head()"
   ]
  },
  {
   "cell_type": "code",
   "execution_count": null,
   "metadata": {
    "ExecuteTime": {
     "end_time": "2021-03-06T14:31:27.641011Z",
     "start_time": "2021-03-06T14:31:27.566829Z"
    }
   },
   "outputs": [],
   "source": [
    "# Concatenate OHE columns with original dataframe, dropping OHE original features\n",
    "kc_comb = pd.concat([kc, kc_ohe], axis=1)\n",
    "kc_comb.drop(['bedrooms','bathrooms','floors','waterfront','view','condition','grade','renovation_ind','zipcode'], axis=1, inplace=True)\n",
    "kc_comb.head()"
   ]
  },
  {
   "cell_type": "code",
   "execution_count": null,
   "metadata": {
    "ExecuteTime": {
     "end_time": "2021-03-06T14:34:20.834948Z",
     "start_time": "2021-03-06T14:34:20.816956Z"
    }
   },
   "outputs": [],
   "source": [
    "# Drop columns that won't be used at all\n",
    "kc_comb.drop(['id','date','lat','long'], axis=1, inplace=True)"
   ]
  },
  {
   "cell_type": "markdown",
   "metadata": {},
   "source": [
    "### Transform Continuous Var"
   ]
  },
  {
   "cell_type": "code",
   "execution_count": null,
   "metadata": {
    "scrolled": false
   },
   "outputs": [],
   "source": [
    "# # Log transform and normalize\n",
    "df_train_cont = df_train[continuous]\n",
    "# log features'Overall.Qual','Lot.Area','Gr.Liv.Area','X1st.Flr.SF'\n",
    "log_names = [f'{column}_log' for column in df_train_cont.columns]\n",
    "\n",
    "df_train_cont_log = np.log(df_train_cont+.1)\n",
    "df_train_cont_log.columns = log_names\n",
    "\n",
    "#normalize (subract mean and divide by std)\n",
    "def normalize(feature):\n",
    "    return (feature - feature.mean()) / feature.std()\n",
    "\n",
    "df_train_cont_norm = df_train[continuous_normal]\n",
    "df_train_cont_comb = pd.concat([df_train_cont_log, df_train_cont_norm], axis=1)\n",
    "                               \n",
    "df_train_cont_log_norm = df_train_cont_comb.apply(normalize)"
   ]
  },
  {
   "cell_type": "markdown",
   "metadata": {},
   "source": [
    "### Train-Test Split"
   ]
  },
  {
   "cell_type": "code",
   "execution_count": null,
   "metadata": {
    "ExecuteTime": {
     "end_time": "2021-03-06T18:48:43.411482Z",
     "start_time": "2021-03-06T18:48:43.351336Z"
    }
   },
   "outputs": [],
   "source": [
    "# Divide dataset into X predictors and y target\n",
    "X = kc_comb.drop('price', axis=1)\n",
    "y = kc_comb['price']"
   ]
  },
  {
   "cell_type": "code",
   "execution_count": null,
   "metadata": {
    "ExecuteTime": {
     "end_time": "2021-03-06T18:48:46.825016Z",
     "start_time": "2021-03-06T18:48:46.742998Z"
    }
   },
   "outputs": [],
   "source": [
    "# Split the data into 80% training and 20% test sets\n",
    "X_train, X_test, y_train, y_test = train_test_split(X, y, test_size=0.2, shuffle=True, random_state=42)"
   ]
  },
  {
   "cell_type": "code",
   "execution_count": null,
   "metadata": {
    "ExecuteTime": {
     "end_time": "2021-03-06T18:48:49.743695Z",
     "start_time": "2021-03-06T18:48:49.730961Z"
    }
   },
   "outputs": [],
   "source": [
    "# Validate rows in splits look as expected\n",
    "print(len(X_train), len(X_test), len(y_train), len(y_test))"
   ]
  },
  {
   "cell_type": "markdown",
   "metadata": {},
   "source": [
    "# Models"
   ]
  },
  {
   "cell_type": "code",
   "execution_count": null,
   "metadata": {
    "ExecuteTime": {
     "end_time": "2021-03-06T19:12:40.122336Z",
     "start_time": "2021-03-06T19:12:40.115761Z"
    }
   },
   "outputs": [],
   "source": [
    "# Use to choose features for this model\n",
    "print(X_train.columns.tolist())"
   ]
  },
  {
   "cell_type": "markdown",
   "metadata": {},
   "source": [
    "### Model 1"
   ]
  },
  {
   "cell_type": "code",
   "execution_count": null,
   "metadata": {
    "ExecuteTime": {
     "end_time": "2021-03-06T21:52:12.734762Z",
     "start_time": "2021-03-06T21:52:12.720488Z"
    }
   },
   "outputs": [],
   "source": [
    "features_m1 = ['sqft_living','sqft_living15','grade_4', 'grade_5', 'grade_6', 'grade_7', 'grade_8', 'grade_9', 'grade_10', 'grade_11', 'grade_12', 'grade_13',\n",
    "              'bathrooms_0.75', 'bathrooms_1.0', 'bathrooms_1.25', 'bathrooms_1.5', 'bathrooms_1.75', 'bathrooms_2.0', 'bathrooms_2.25', 'bathrooms_2.5', \n",
    "               'bathrooms_2.75', 'bathrooms_3.0', 'bathrooms_3.25', 'bathrooms_3.5', 'bathrooms_3.75', 'bathrooms_4.0', 'bathrooms_4.25', 'bathrooms_4.5', \n",
    "               'bathrooms_4.75', 'bathrooms_5.0', 'bathrooms_5.25', 'bathrooms_5.5', 'bathrooms_5.75', 'bathrooms_6.0', 'bathrooms_6.25', 'bathrooms_6.5', \n",
    "               'bathrooms_6.75', 'bathrooms_7.5', 'bathrooms_7.75', 'bathrooms_8.0', 'view_1.0', 'view_2.0', 'view_3.0', 'view_4.0']"
   ]
  },
  {
   "cell_type": "code",
   "execution_count": null,
   "metadata": {
    "ExecuteTime": {
     "end_time": "2021-03-06T21:52:15.086727Z",
     "start_time": "2021-03-06T21:52:15.049303Z"
    }
   },
   "outputs": [],
   "source": [
    "X_train_m1 = X_train[features_m1]\n",
    "X_train_m1.head()"
   ]
  },
  {
   "cell_type": "code",
   "execution_count": null,
   "metadata": {
    "ExecuteTime": {
     "end_time": "2021-03-06T21:52:20.150585Z",
     "start_time": "2021-03-06T21:52:19.932638Z"
    },
    "scrolled": false
   },
   "outputs": [],
   "source": [
    "# Fit OLS model #1 adding constant\n",
    "X_train_m1_int = sm.add_constant(X_train_m1)\n",
    "model_1 = sm.OLS(y_train, X_train_m1_int).fit()"
   ]
  },
  {
   "cell_type": "code",
   "execution_count": null,
   "metadata": {
    "ExecuteTime": {
     "end_time": "2021-03-06T21:52:26.145082Z",
     "start_time": "2021-03-06T21:52:26.091113Z"
    },
    "scrolled": false
   },
   "outputs": [],
   "source": [
    "model_1.summary()"
   ]
  },
  {
   "cell_type": "code",
   "execution_count": null,
   "metadata": {
    "ExecuteTime": {
     "end_time": "2021-03-06T21:54:31.852846Z",
     "start_time": "2021-03-06T21:54:31.825493Z"
    }
   },
   "outputs": [],
   "source": [
    "# Model 1 generate predictions \n",
    "y_pred_m1 = model_1.predict(X_train_m1_int)\n",
    "print(\"Model 1 Root Mean Squared Error (RMSE) : {}\".format(round(ev.rmse(y_train, y_pred_m1))))\n",
    "print(\"Model 1 Mean Absolute Error (MAE) : {}\".format(round(ev.meanabs(y_train, y_pred_m1))))\n"
   ]
  },
  {
   "cell_type": "code",
   "execution_count": null,
   "metadata": {
    "ExecuteTime": {
     "end_time": "2021-03-06T20:22:37.889114Z",
     "start_time": "2021-03-06T20:22:36.336459Z"
    }
   },
   "outputs": [],
   "source": [
    "fig = plt.figure(figsize=(15,8))\n",
    "fig = sm.graphics.plot_regress_exog(model_1, \"sqft_living\", fig=fig)\n",
    "plt.show()"
   ]
  },
  {
   "cell_type": "code",
   "execution_count": null,
   "metadata": {
    "ExecuteTime": {
     "end_time": "2021-03-06T20:22:50.165719Z",
     "start_time": "2021-03-06T20:22:50.030613Z"
    }
   },
   "outputs": [],
   "source": [
    "# Code for QQ-plot here\n",
    "residuals_m1 = model_1.resid\n",
    "fig = sm.graphics.qqplot(residuals_m1, dist=stats.norm, line='45', fit=True)\n",
    "fig.show()"
   ]
  },
  {
   "cell_type": "code",
   "execution_count": null,
   "metadata": {},
   "outputs": [],
   "source": [
    "# The Goldfeld Quandt (GQ) test is used in regression analysis to check for homoscedasticity in the error terms. The GQ test checks if you can define a point that can be used to differentiate the variance of the error term. It is a parametric test and uses the assumption that the data is normally distributed. So it is general practice to check for normality before going over to the GQ test!\n",
    "# image below, you can see how observations are split into two groups. Next, a test statistic is run through taking the ratio of mean square residual errors for the regressions on the two subsets. Evidence of heteroscedasticity is based on performing a hypothesis test (more on this later) as shown in the image.\n",
    "\n",
    "lwr_thresh = data.TV.quantile(q=.45)\n",
    "upr_thresh = data.TV.quantile(q=.55)\n",
    "middle_10percent_indices = data[(data.TV >= lwr_thresh) & (data.TV<=upr_thresh)].index\n",
    "# len(middle_10percent_indices)\n",
    "\n",
    "indices = [x-1 for x in data.index if x not in middle_10percent_indices]\n",
    "plt.scatter(data.TV.iloc[indices], model.resid.iloc[indices])\n",
    "plt.xlabel('TV')\n",
    "plt.ylabel('Model Residuals')\n",
    "plt.title(\"Residuals versus TV Feature\")\n",
    "plt.vlines(lwr_thresh, ymax=8, ymin=-8, linestyles='dashed',linewidth=2)\n",
    "plt.vlines(upr_thresh, ymax=8, ymin=-8, linestyles='dashed',linewidth=2);"
   ]
  },
  {
   "cell_type": "code",
   "execution_count": null,
   "metadata": {},
   "outputs": [],
   "source": [
    "# Here is a brief description of the steps involved:\n",
    "\n",
    "# Order the data in ascending order\n",
    "# Split your data into three parts and drop values in the middle part.\n",
    "# Run separate regression analyses on two parts. After each regression, find the Residual Sum of Squares.\n",
    "# Calculate the ratio of the Residual sum of squares of two parts.\n",
    "# Apply the F-test.\n",
    "\n",
    "# Run Goldfeld Quandt test\n",
    "name = ['F statistic', 'p-value']\n",
    "test = sms.het_goldfeldquandt(model.resid.iloc[indices], model.model.exog[indices])\n",
    "list(zip(name, test))"
   ]
  },
  {
   "cell_type": "markdown",
   "metadata": {},
   "source": [
    "# Model Evaluation"
   ]
  },
  {
   "cell_type": "code",
   "execution_count": null,
   "metadata": {},
   "outputs": [],
   "source": []
  },
  {
   "cell_type": "markdown",
   "metadata": {},
   "source": [
    "# Business Analysis"
   ]
  },
  {
   "cell_type": "markdown",
   "metadata": {},
   "source": [
    "# Deployment"
   ]
  },
  {
   "cell_type": "markdown",
   "metadata": {},
   "source": [
    "# Appendix"
   ]
  },
  {
   "cell_type": "code",
   "execution_count": null,
   "metadata": {
    "scrolled": true
   },
   "outputs": [],
   "source": []
  }
 ],
 "metadata": {
  "kernelspec": {
   "display_name": "learn-env",
   "language": "python",
   "name": "learn-env"
  },
  "language_info": {
   "codemirror_mode": {
    "name": "ipython",
    "version": 3
   },
   "file_extension": ".py",
   "mimetype": "text/x-python",
   "name": "python",
   "nbconvert_exporter": "python",
   "pygments_lexer": "ipython3",
   "version": "3.8.5"
  },
  "toc": {
   "base_numbering": 1,
   "nav_menu": {},
   "number_sections": true,
   "sideBar": true,
   "skip_h1_title": false,
   "title_cell": "Table of Contents",
   "title_sidebar": "Contents",
   "toc_cell": false,
   "toc_position": {
    "height": "calc(100% - 180px)",
    "left": "10px",
    "top": "150px",
    "width": "369.391px"
   },
   "toc_section_display": true,
   "toc_window_display": true
  }
 },
 "nbformat": 4,
 "nbformat_minor": 4
}
