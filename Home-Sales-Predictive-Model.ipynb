{
 "cells": [
  {
   "cell_type": "markdown",
   "metadata": {
    "ExecuteTime": {
     "end_time": "2021-03-01T14:32:57.174874Z",
     "start_time": "2021-03-01T14:32:57.167429Z"
    }
   },
   "source": [
    "# Project Summary"
   ]
  },
  {
   "cell_type": "markdown",
   "metadata": {},
   "source": [
    "## Business Objective"
   ]
  },
  {
   "cell_type": "markdown",
   "metadata": {},
   "source": [
    "## Data Sources"
   ]
  },
  {
   "cell_type": "markdown",
   "metadata": {
    "heading_collapsed": true
   },
   "source": [
    "## Background Info - King County"
   ]
  },
  {
   "cell_type": "markdown",
   "metadata": {
    "hidden": true
   },
   "source": [
    "- King County, Seattle Washington Wiki: https://en.wikipedia.org/wiki/King_County,_Washington\n",
    "- The population was 2,252,782 in the 2019 census estimate, making it the most populous county in Washington, and the 12th-most populous in the United States. \n",
    "- King County is one of three Washington counties that are included in the Seattle–Tacoma–Bellevue metropolitan statistical area.\n",
    "- About two-thirds of King County's population lives in Seattle's suburbs.\n",
    "- King County has a total area of 2,307 square miles (5,980 km2), of which 2,116 square miles (5,480 km2) is land and 191 square miles (490 km2) (8.3%) is water.\n",
    "- The highest point in the county is Mount Daniel at 7,959 feet (2,426 meters) above sea level."
   ]
  },
  {
   "cell_type": "markdown",
   "metadata": {
    "heading_collapsed": true,
    "hidden": true
   },
   "source": [
    "### King County Map"
   ]
  },
  {
   "attachments": {},
   "cell_type": "markdown",
   "metadata": {
    "ExecuteTime": {
     "end_time": "2021-03-01T15:29:27.744006Z",
     "start_time": "2021-03-01T15:29:27.736948Z"
    },
    "hidden": true
   },
   "source": [
    "![King County Seattle Map](images/King_County_Map.png)"
   ]
  },
  {
   "cell_type": "markdown",
   "metadata": {},
   "source": [
    "## Executive Summary"
   ]
  },
  {
   "cell_type": "markdown",
   "metadata": {},
   "source": [
    "# Data Load & Prep"
   ]
  },
  {
   "cell_type": "markdown",
   "metadata": {},
   "source": [
    "## Import Libraries"
   ]
  },
  {
   "cell_type": "code",
   "execution_count": 11,
   "metadata": {
    "ExecuteTime": {
     "end_time": "2021-03-01T16:23:08.316512Z",
     "start_time": "2021-03-01T16:23:08.302512Z"
    }
   },
   "outputs": [],
   "source": [
    "# Import libraries required to load, transform, analyze and plot data\n",
    "import numpy as np\n",
    "import pandas as pd\n",
    "import matplotlib.pyplot as plt\n",
    "import seaborn as sns\n",
    "%matplotlib inline\n",
    "import math\n",
    "\n",
    "# Set display option to remove scientific notation and restrictions on df rows/columns display\n",
    "pd.options.display.float_format = '{:,.2f}'.format\n",
    "pd.set_option('display.max_columns', None)\n",
    "pd.set_option(\"max_rows\", None)"
   ]
  },
  {
   "cell_type": "code",
   "execution_count": 3,
   "metadata": {
    "ExecuteTime": {
     "end_time": "2021-03-01T15:07:07.044907Z",
     "start_time": "2021-03-01T15:07:06.205707Z"
    }
   },
   "outputs": [],
   "source": [
    "# Add jupytertheme to this notebook for better readability\n",
    "!jt -t onedork -fs 95 -altp -tfs 11 -nfs 115 -cellw 88% -T"
   ]
  },
  {
   "cell_type": "markdown",
   "metadata": {},
   "source": [
    "## King County Housing Data"
   ]
  },
  {
   "cell_type": "markdown",
   "metadata": {
    "heading_collapsed": true
   },
   "source": [
    "### KC Data Context"
   ]
  },
  {
   "cell_type": "markdown",
   "metadata": {
    "hidden": true
   },
   "source": [
    "**Data Dictionary Kings County Data Set**\n",
    " - id - unique identified for a house\n",
    " - dateDate - house was sold\n",
    " - pricePrice -  is prediction target\n",
    " - bedroomsNumber -  of Bedrooms/House\n",
    " - bathroomsNumber -  of bathrooms/bedrooms\n",
    " - sqft_livingsquare -  footage of the home\n",
    " - sqft_lotsquare -  footage of the lot\n",
    " - floorsTotal -  floors (levels) in house\n",
    " - waterfront - House which has a view to a waterfront\n",
    " - view - Has been viewed\n",
    " - condition - How good the condition is ( Overall )\n",
    " - grade - overall grade given to the housing unit, based on King County grading system\n",
    " - sqft_above - square footage of house apart from basement\n",
    " - sqft_basement - square footage of the basement\n",
    " - yr_built - Built Year\n",
    " - yr_renovated - Year when house was renovated\n",
    " - zipcode - zip\n",
    " - lat - Latitude coordinate\n",
    " - long - Longitude coordinate\n",
    " - sqft_living15 - The square footage of interior housing living space for the nearest 15 neighbors\n",
    " - sqft_lot15 - The square footage of the land lots of the nearest 15 neighbors"
   ]
  },
  {
   "cell_type": "markdown",
   "metadata": {
    "hidden": true
   },
   "source": [
    "\n",
    "<a href=\"https://www.kingcounty.gov/depts/assessor/Reports/area-reports/2017/residential-westcentral/~/media/depts/assessor/documents/AreaReports/2017/Residential/013.ashx\">King County Condition and Building Grade Scoring</a>\n",
    "\n",
    "**Condition: Relative to Age and Grade**\n",
    "- 1= Poor Many repairs needed. Showing serious deterioration.\n",
    "- 2= Fair Some repairs needed immediately. Much deferred maintenance.\n",
    "- 3= Average Depending upon age of improvement; normal amount of upkeep for the age of the home.\n",
    "- 4= Good Condition above the norm for the age of the home. Indicates extra attention and care has been taken to maintain.\n",
    "- 5= Very Good Excellent maintenance and updating on home. Not a total renovation.\n",
    "\n",
    "**Residential Building Grades**\n",
    "- Grades 1 - 3 Falls short of minimum building standards. Normally cabin or inferior structure.\n",
    "- Grade 4 Generally older low quality construction. Does not meet code.\n",
    "- Grade 5 Lower construction costs and workmanship. Small, simple design.\n",
    "- Grade 6 Lowest grade currently meeting building codes. Low quality materials, simple designs.\n",
    "- Grade 7 Average grade of construction and design. Commonly seen in plats and older subdivisions.\n",
    "- Grade 8 Just above average in construction and design. Usually better materials in both the exterior and interior finishes.\n",
    "- Grade 9 Better architectural design, with extra exterior and interior design and quality.\n",
    "- Grade 10 Homes of this quality generally have high quality features. Finish work is better, and more design quality is seen in the floor plans and larger square footage.\n",
    "- Grade 11 Custom design and higher quality finish work, with added amenities of solid woods, bathroom fixtures and more luxurious options.\n",
    "- Grade 12 Custom design and excellent builders. All materials are of the highest quality and all conveniences are present.\n",
    "- Grade 13 Generally custom designed and built. Approaching the Mansion level. Large amount of highest quality cabinet work, wood trim and marble; large entries. "
   ]
  },
  {
   "cell_type": "markdown",
   "metadata": {},
   "source": [
    "### KC Dataframe Basics"
   ]
  },
  {
   "cell_type": "code",
   "execution_count": 7,
   "metadata": {
    "ExecuteTime": {
     "end_time": "2021-03-01T15:09:43.941750Z",
     "start_time": "2021-03-01T15:09:43.872829Z"
    }
   },
   "outputs": [
    {
     "data": {
      "text/html": [
       "<div>\n",
       "<style scoped>\n",
       "    .dataframe tbody tr th:only-of-type {\n",
       "        vertical-align: middle;\n",
       "    }\n",
       "\n",
       "    .dataframe tbody tr th {\n",
       "        vertical-align: top;\n",
       "    }\n",
       "\n",
       "    .dataframe thead th {\n",
       "        text-align: right;\n",
       "    }\n",
       "</style>\n",
       "<table border=\"1\" class=\"dataframe\">\n",
       "  <thead>\n",
       "    <tr style=\"text-align: right;\">\n",
       "      <th></th>\n",
       "      <th>id</th>\n",
       "      <th>date</th>\n",
       "      <th>price</th>\n",
       "      <th>bedrooms</th>\n",
       "      <th>bathrooms</th>\n",
       "      <th>sqft_living</th>\n",
       "      <th>sqft_lot</th>\n",
       "      <th>floors</th>\n",
       "      <th>waterfront</th>\n",
       "      <th>view</th>\n",
       "      <th>condition</th>\n",
       "      <th>grade</th>\n",
       "      <th>sqft_above</th>\n",
       "      <th>sqft_basement</th>\n",
       "      <th>yr_built</th>\n",
       "      <th>yr_renovated</th>\n",
       "      <th>zipcode</th>\n",
       "      <th>lat</th>\n",
       "      <th>long</th>\n",
       "      <th>sqft_living15</th>\n",
       "      <th>sqft_lot15</th>\n",
       "    </tr>\n",
       "  </thead>\n",
       "  <tbody>\n",
       "    <tr>\n",
       "      <th>0</th>\n",
       "      <td>7129300520</td>\n",
       "      <td>10/13/2014</td>\n",
       "      <td>221,900.00</td>\n",
       "      <td>3</td>\n",
       "      <td>1.00</td>\n",
       "      <td>1180</td>\n",
       "      <td>5650</td>\n",
       "      <td>1.00</td>\n",
       "      <td>nan</td>\n",
       "      <td>0.00</td>\n",
       "      <td>3</td>\n",
       "      <td>7</td>\n",
       "      <td>1180</td>\n",
       "      <td>0.0</td>\n",
       "      <td>1955</td>\n",
       "      <td>0.00</td>\n",
       "      <td>98178</td>\n",
       "      <td>47.51</td>\n",
       "      <td>-122.26</td>\n",
       "      <td>1340</td>\n",
       "      <td>5650</td>\n",
       "    </tr>\n",
       "    <tr>\n",
       "      <th>1</th>\n",
       "      <td>6414100192</td>\n",
       "      <td>12/9/2014</td>\n",
       "      <td>538,000.00</td>\n",
       "      <td>3</td>\n",
       "      <td>2.25</td>\n",
       "      <td>2570</td>\n",
       "      <td>7242</td>\n",
       "      <td>2.00</td>\n",
       "      <td>0.00</td>\n",
       "      <td>0.00</td>\n",
       "      <td>3</td>\n",
       "      <td>7</td>\n",
       "      <td>2170</td>\n",
       "      <td>400.0</td>\n",
       "      <td>1951</td>\n",
       "      <td>1,991.00</td>\n",
       "      <td>98125</td>\n",
       "      <td>47.72</td>\n",
       "      <td>-122.32</td>\n",
       "      <td>1690</td>\n",
       "      <td>7639</td>\n",
       "    </tr>\n",
       "    <tr>\n",
       "      <th>2</th>\n",
       "      <td>5631500400</td>\n",
       "      <td>2/25/2015</td>\n",
       "      <td>180,000.00</td>\n",
       "      <td>2</td>\n",
       "      <td>1.00</td>\n",
       "      <td>770</td>\n",
       "      <td>10000</td>\n",
       "      <td>1.00</td>\n",
       "      <td>0.00</td>\n",
       "      <td>0.00</td>\n",
       "      <td>3</td>\n",
       "      <td>6</td>\n",
       "      <td>770</td>\n",
       "      <td>0.0</td>\n",
       "      <td>1933</td>\n",
       "      <td>nan</td>\n",
       "      <td>98028</td>\n",
       "      <td>47.74</td>\n",
       "      <td>-122.23</td>\n",
       "      <td>2720</td>\n",
       "      <td>8062</td>\n",
       "    </tr>\n",
       "    <tr>\n",
       "      <th>3</th>\n",
       "      <td>2487200875</td>\n",
       "      <td>12/9/2014</td>\n",
       "      <td>604,000.00</td>\n",
       "      <td>4</td>\n",
       "      <td>3.00</td>\n",
       "      <td>1960</td>\n",
       "      <td>5000</td>\n",
       "      <td>1.00</td>\n",
       "      <td>0.00</td>\n",
       "      <td>0.00</td>\n",
       "      <td>5</td>\n",
       "      <td>7</td>\n",
       "      <td>1050</td>\n",
       "      <td>910.0</td>\n",
       "      <td>1965</td>\n",
       "      <td>0.00</td>\n",
       "      <td>98136</td>\n",
       "      <td>47.52</td>\n",
       "      <td>-122.39</td>\n",
       "      <td>1360</td>\n",
       "      <td>5000</td>\n",
       "    </tr>\n",
       "    <tr>\n",
       "      <th>4</th>\n",
       "      <td>1954400510</td>\n",
       "      <td>2/18/2015</td>\n",
       "      <td>510,000.00</td>\n",
       "      <td>3</td>\n",
       "      <td>2.00</td>\n",
       "      <td>1680</td>\n",
       "      <td>8080</td>\n",
       "      <td>1.00</td>\n",
       "      <td>0.00</td>\n",
       "      <td>0.00</td>\n",
       "      <td>3</td>\n",
       "      <td>8</td>\n",
       "      <td>1680</td>\n",
       "      <td>0.0</td>\n",
       "      <td>1987</td>\n",
       "      <td>0.00</td>\n",
       "      <td>98074</td>\n",
       "      <td>47.62</td>\n",
       "      <td>-122.05</td>\n",
       "      <td>1800</td>\n",
       "      <td>7503</td>\n",
       "    </tr>\n",
       "  </tbody>\n",
       "</table>\n",
       "</div>"
      ],
      "text/plain": [
       "           id        date      price  bedrooms  bathrooms  sqft_living  \\\n",
       "0  7129300520  10/13/2014 221,900.00         3       1.00         1180   \n",
       "1  6414100192   12/9/2014 538,000.00         3       2.25         2570   \n",
       "2  5631500400   2/25/2015 180,000.00         2       1.00          770   \n",
       "3  2487200875   12/9/2014 604,000.00         4       3.00         1960   \n",
       "4  1954400510   2/18/2015 510,000.00         3       2.00         1680   \n",
       "\n",
       "   sqft_lot  floors  waterfront  view  condition  grade  sqft_above  \\\n",
       "0      5650    1.00         nan  0.00          3      7        1180   \n",
       "1      7242    2.00        0.00  0.00          3      7        2170   \n",
       "2     10000    1.00        0.00  0.00          3      6         770   \n",
       "3      5000    1.00        0.00  0.00          5      7        1050   \n",
       "4      8080    1.00        0.00  0.00          3      8        1680   \n",
       "\n",
       "  sqft_basement  yr_built  yr_renovated  zipcode   lat    long  sqft_living15  \\\n",
       "0           0.0      1955          0.00    98178 47.51 -122.26           1340   \n",
       "1         400.0      1951      1,991.00    98125 47.72 -122.32           1690   \n",
       "2           0.0      1933           nan    98028 47.74 -122.23           2720   \n",
       "3         910.0      1965          0.00    98136 47.52 -122.39           1360   \n",
       "4           0.0      1987          0.00    98074 47.62 -122.05           1800   \n",
       "\n",
       "   sqft_lot15  \n",
       "0        5650  \n",
       "1        7639  \n",
       "2        8062  \n",
       "3        5000  \n",
       "4        7503  "
      ]
     },
     "execution_count": 7,
     "metadata": {},
     "output_type": "execute_result"
    }
   ],
   "source": [
    "# Load Kings County data set (primary driver dataframe)\n",
    "kc = pd.read_csv('data/kc_house_data.csv')\n",
    "kc.head()"
   ]
  },
  {
   "cell_type": "code",
   "execution_count": 9,
   "metadata": {
    "ExecuteTime": {
     "end_time": "2021-03-01T15:57:32.534397Z",
     "start_time": "2021-03-01T15:57:32.499070Z"
    }
   },
   "outputs": [
    {
     "name": "stdout",
     "output_type": "stream",
     "text": [
      "<class 'pandas.core.frame.DataFrame'>\n",
      "RangeIndex: 21597 entries, 0 to 21596\n",
      "Data columns (total 21 columns):\n",
      " #   Column         Non-Null Count  Dtype  \n",
      "---  ------         --------------  -----  \n",
      " 0   id             21597 non-null  int64  \n",
      " 1   date           21597 non-null  object \n",
      " 2   price          21597 non-null  float64\n",
      " 3   bedrooms       21597 non-null  int64  \n",
      " 4   bathrooms      21597 non-null  float64\n",
      " 5   sqft_living    21597 non-null  int64  \n",
      " 6   sqft_lot       21597 non-null  int64  \n",
      " 7   floors         21597 non-null  float64\n",
      " 8   waterfront     19221 non-null  float64\n",
      " 9   view           21534 non-null  float64\n",
      " 10  condition      21597 non-null  int64  \n",
      " 11  grade          21597 non-null  int64  \n",
      " 12  sqft_above     21597 non-null  int64  \n",
      " 13  sqft_basement  21597 non-null  object \n",
      " 14  yr_built       21597 non-null  int64  \n",
      " 15  yr_renovated   17755 non-null  float64\n",
      " 16  zipcode        21597 non-null  int64  \n",
      " 17  lat            21597 non-null  float64\n",
      " 18  long           21597 non-null  float64\n",
      " 19  sqft_living15  21597 non-null  int64  \n",
      " 20  sqft_lot15     21597 non-null  int64  \n",
      "dtypes: float64(8), int64(11), object(2)\n",
      "memory usage: 3.5+ MB\n"
     ]
    }
   ],
   "source": [
    "kc.info()"
   ]
  },
  {
   "cell_type": "code",
   "execution_count": 10,
   "metadata": {
    "ExecuteTime": {
     "end_time": "2021-03-01T16:00:47.023709Z",
     "start_time": "2021-03-01T16:00:46.947715Z"
    }
   },
   "outputs": [
    {
     "data": {
      "text/html": [
       "<div>\n",
       "<style scoped>\n",
       "    .dataframe tbody tr th:only-of-type {\n",
       "        vertical-align: middle;\n",
       "    }\n",
       "\n",
       "    .dataframe tbody tr th {\n",
       "        vertical-align: top;\n",
       "    }\n",
       "\n",
       "    .dataframe thead th {\n",
       "        text-align: right;\n",
       "    }\n",
       "</style>\n",
       "<table border=\"1\" class=\"dataframe\">\n",
       "  <thead>\n",
       "    <tr style=\"text-align: right;\">\n",
       "      <th></th>\n",
       "      <th>id</th>\n",
       "      <th>price</th>\n",
       "      <th>bedrooms</th>\n",
       "      <th>bathrooms</th>\n",
       "      <th>sqft_living</th>\n",
       "      <th>sqft_lot</th>\n",
       "      <th>floors</th>\n",
       "      <th>waterfront</th>\n",
       "      <th>view</th>\n",
       "      <th>condition</th>\n",
       "      <th>grade</th>\n",
       "      <th>sqft_above</th>\n",
       "      <th>yr_built</th>\n",
       "      <th>yr_renovated</th>\n",
       "      <th>zipcode</th>\n",
       "      <th>lat</th>\n",
       "      <th>long</th>\n",
       "      <th>sqft_living15</th>\n",
       "      <th>sqft_lot15</th>\n",
       "    </tr>\n",
       "  </thead>\n",
       "  <tbody>\n",
       "    <tr>\n",
       "      <th>count</th>\n",
       "      <td>21,597.00</td>\n",
       "      <td>21,597.00</td>\n",
       "      <td>21,597.00</td>\n",
       "      <td>21,597.00</td>\n",
       "      <td>21,597.00</td>\n",
       "      <td>21,597.00</td>\n",
       "      <td>21,597.00</td>\n",
       "      <td>19,221.00</td>\n",
       "      <td>21,534.00</td>\n",
       "      <td>21,597.00</td>\n",
       "      <td>21,597.00</td>\n",
       "      <td>21,597.00</td>\n",
       "      <td>21,597.00</td>\n",
       "      <td>17,755.00</td>\n",
       "      <td>21,597.00</td>\n",
       "      <td>21,597.00</td>\n",
       "      <td>21,597.00</td>\n",
       "      <td>21,597.00</td>\n",
       "      <td>21,597.00</td>\n",
       "    </tr>\n",
       "    <tr>\n",
       "      <th>mean</th>\n",
       "      <td>4,580,474,287.77</td>\n",
       "      <td>540,296.57</td>\n",
       "      <td>3.37</td>\n",
       "      <td>2.12</td>\n",
       "      <td>2,080.32</td>\n",
       "      <td>15,099.41</td>\n",
       "      <td>1.49</td>\n",
       "      <td>0.01</td>\n",
       "      <td>0.23</td>\n",
       "      <td>3.41</td>\n",
       "      <td>7.66</td>\n",
       "      <td>1,788.60</td>\n",
       "      <td>1,971.00</td>\n",
       "      <td>83.64</td>\n",
       "      <td>98,077.95</td>\n",
       "      <td>47.56</td>\n",
       "      <td>-122.21</td>\n",
       "      <td>1,986.62</td>\n",
       "      <td>12,758.28</td>\n",
       "    </tr>\n",
       "    <tr>\n",
       "      <th>std</th>\n",
       "      <td>2,876,735,715.75</td>\n",
       "      <td>367,368.14</td>\n",
       "      <td>0.93</td>\n",
       "      <td>0.77</td>\n",
       "      <td>918.11</td>\n",
       "      <td>41,412.64</td>\n",
       "      <td>0.54</td>\n",
       "      <td>0.09</td>\n",
       "      <td>0.77</td>\n",
       "      <td>0.65</td>\n",
       "      <td>1.17</td>\n",
       "      <td>827.76</td>\n",
       "      <td>29.38</td>\n",
       "      <td>399.95</td>\n",
       "      <td>53.51</td>\n",
       "      <td>0.14</td>\n",
       "      <td>0.14</td>\n",
       "      <td>685.23</td>\n",
       "      <td>27,274.44</td>\n",
       "    </tr>\n",
       "    <tr>\n",
       "      <th>min</th>\n",
       "      <td>1,000,102.00</td>\n",
       "      <td>78,000.00</td>\n",
       "      <td>1.00</td>\n",
       "      <td>0.50</td>\n",
       "      <td>370.00</td>\n",
       "      <td>520.00</td>\n",
       "      <td>1.00</td>\n",
       "      <td>0.00</td>\n",
       "      <td>0.00</td>\n",
       "      <td>1.00</td>\n",
       "      <td>3.00</td>\n",
       "      <td>370.00</td>\n",
       "      <td>1,900.00</td>\n",
       "      <td>0.00</td>\n",
       "      <td>98,001.00</td>\n",
       "      <td>47.16</td>\n",
       "      <td>-122.52</td>\n",
       "      <td>399.00</td>\n",
       "      <td>651.00</td>\n",
       "    </tr>\n",
       "    <tr>\n",
       "      <th>25%</th>\n",
       "      <td>2,123,049,175.00</td>\n",
       "      <td>322,000.00</td>\n",
       "      <td>3.00</td>\n",
       "      <td>1.75</td>\n",
       "      <td>1,430.00</td>\n",
       "      <td>5,040.00</td>\n",
       "      <td>1.00</td>\n",
       "      <td>0.00</td>\n",
       "      <td>0.00</td>\n",
       "      <td>3.00</td>\n",
       "      <td>7.00</td>\n",
       "      <td>1,190.00</td>\n",
       "      <td>1,951.00</td>\n",
       "      <td>0.00</td>\n",
       "      <td>98,033.00</td>\n",
       "      <td>47.47</td>\n",
       "      <td>-122.33</td>\n",
       "      <td>1,490.00</td>\n",
       "      <td>5,100.00</td>\n",
       "    </tr>\n",
       "    <tr>\n",
       "      <th>50%</th>\n",
       "      <td>3,904,930,410.00</td>\n",
       "      <td>450,000.00</td>\n",
       "      <td>3.00</td>\n",
       "      <td>2.25</td>\n",
       "      <td>1,910.00</td>\n",
       "      <td>7,618.00</td>\n",
       "      <td>1.50</td>\n",
       "      <td>0.00</td>\n",
       "      <td>0.00</td>\n",
       "      <td>3.00</td>\n",
       "      <td>7.00</td>\n",
       "      <td>1,560.00</td>\n",
       "      <td>1,975.00</td>\n",
       "      <td>0.00</td>\n",
       "      <td>98,065.00</td>\n",
       "      <td>47.57</td>\n",
       "      <td>-122.23</td>\n",
       "      <td>1,840.00</td>\n",
       "      <td>7,620.00</td>\n",
       "    </tr>\n",
       "    <tr>\n",
       "      <th>75%</th>\n",
       "      <td>7,308,900,490.00</td>\n",
       "      <td>645,000.00</td>\n",
       "      <td>4.00</td>\n",
       "      <td>2.50</td>\n",
       "      <td>2,550.00</td>\n",
       "      <td>10,685.00</td>\n",
       "      <td>2.00</td>\n",
       "      <td>0.00</td>\n",
       "      <td>0.00</td>\n",
       "      <td>4.00</td>\n",
       "      <td>8.00</td>\n",
       "      <td>2,210.00</td>\n",
       "      <td>1,997.00</td>\n",
       "      <td>0.00</td>\n",
       "      <td>98,118.00</td>\n",
       "      <td>47.68</td>\n",
       "      <td>-122.12</td>\n",
       "      <td>2,360.00</td>\n",
       "      <td>10,083.00</td>\n",
       "    </tr>\n",
       "    <tr>\n",
       "      <th>max</th>\n",
       "      <td>9,900,000,190.00</td>\n",
       "      <td>7,700,000.00</td>\n",
       "      <td>33.00</td>\n",
       "      <td>8.00</td>\n",
       "      <td>13,540.00</td>\n",
       "      <td>1,651,359.00</td>\n",
       "      <td>3.50</td>\n",
       "      <td>1.00</td>\n",
       "      <td>4.00</td>\n",
       "      <td>5.00</td>\n",
       "      <td>13.00</td>\n",
       "      <td>9,410.00</td>\n",
       "      <td>2,015.00</td>\n",
       "      <td>2,015.00</td>\n",
       "      <td>98,199.00</td>\n",
       "      <td>47.78</td>\n",
       "      <td>-121.31</td>\n",
       "      <td>6,210.00</td>\n",
       "      <td>871,200.00</td>\n",
       "    </tr>\n",
       "  </tbody>\n",
       "</table>\n",
       "</div>"
      ],
      "text/plain": [
       "                    id        price  bedrooms  bathrooms  sqft_living  \\\n",
       "count        21,597.00    21,597.00 21,597.00  21,597.00    21,597.00   \n",
       "mean  4,580,474,287.77   540,296.57      3.37       2.12     2,080.32   \n",
       "std   2,876,735,715.75   367,368.14      0.93       0.77       918.11   \n",
       "min       1,000,102.00    78,000.00      1.00       0.50       370.00   \n",
       "25%   2,123,049,175.00   322,000.00      3.00       1.75     1,430.00   \n",
       "50%   3,904,930,410.00   450,000.00      3.00       2.25     1,910.00   \n",
       "75%   7,308,900,490.00   645,000.00      4.00       2.50     2,550.00   \n",
       "max   9,900,000,190.00 7,700,000.00     33.00       8.00    13,540.00   \n",
       "\n",
       "          sqft_lot    floors  waterfront      view  condition     grade  \\\n",
       "count    21,597.00 21,597.00   19,221.00 21,534.00  21,597.00 21,597.00   \n",
       "mean     15,099.41      1.49        0.01      0.23       3.41      7.66   \n",
       "std      41,412.64      0.54        0.09      0.77       0.65      1.17   \n",
       "min         520.00      1.00        0.00      0.00       1.00      3.00   \n",
       "25%       5,040.00      1.00        0.00      0.00       3.00      7.00   \n",
       "50%       7,618.00      1.50        0.00      0.00       3.00      7.00   \n",
       "75%      10,685.00      2.00        0.00      0.00       4.00      8.00   \n",
       "max   1,651,359.00      3.50        1.00      4.00       5.00     13.00   \n",
       "\n",
       "       sqft_above  yr_built  yr_renovated   zipcode       lat      long  \\\n",
       "count   21,597.00 21,597.00     17,755.00 21,597.00 21,597.00 21,597.00   \n",
       "mean     1,788.60  1,971.00         83.64 98,077.95     47.56   -122.21   \n",
       "std        827.76     29.38        399.95     53.51      0.14      0.14   \n",
       "min        370.00  1,900.00          0.00 98,001.00     47.16   -122.52   \n",
       "25%      1,190.00  1,951.00          0.00 98,033.00     47.47   -122.33   \n",
       "50%      1,560.00  1,975.00          0.00 98,065.00     47.57   -122.23   \n",
       "75%      2,210.00  1,997.00          0.00 98,118.00     47.68   -122.12   \n",
       "max      9,410.00  2,015.00      2,015.00 98,199.00     47.78   -121.31   \n",
       "\n",
       "       sqft_living15  sqft_lot15  \n",
       "count      21,597.00   21,597.00  \n",
       "mean        1,986.62   12,758.28  \n",
       "std           685.23   27,274.44  \n",
       "min           399.00      651.00  \n",
       "25%         1,490.00    5,100.00  \n",
       "50%         1,840.00    7,620.00  \n",
       "75%         2,360.00   10,083.00  \n",
       "max         6,210.00  871,200.00  "
      ]
     },
     "execution_count": 10,
     "metadata": {},
     "output_type": "execute_result"
    }
   ],
   "source": [
    "kc.describe()"
   ]
  },
  {
   "cell_type": "markdown",
   "metadata": {},
   "source": [
    "### Column Histograms"
   ]
  },
  {
   "cell_type": "code",
   "execution_count": 34,
   "metadata": {
    "ExecuteTime": {
     "end_time": "2021-03-01T16:50:44.286522Z",
     "start_time": "2021-03-01T16:50:44.201113Z"
    }
   },
   "outputs": [
    {
     "data": {
      "text/html": [
       "<div>\n",
       "<style scoped>\n",
       "    .dataframe tbody tr th:only-of-type {\n",
       "        vertical-align: middle;\n",
       "    }\n",
       "\n",
       "    .dataframe tbody tr th {\n",
       "        vertical-align: top;\n",
       "    }\n",
       "\n",
       "    .dataframe thead th {\n",
       "        text-align: right;\n",
       "    }\n",
       "</style>\n",
       "<table border=\"1\" class=\"dataframe\">\n",
       "  <thead>\n",
       "    <tr style=\"text-align: right;\">\n",
       "      <th></th>\n",
       "      <th>Column</th>\n",
       "    </tr>\n",
       "  </thead>\n",
       "  <tbody>\n",
       "    <tr>\n",
       "      <th>0</th>\n",
       "      <td>price</td>\n",
       "    </tr>\n",
       "    <tr>\n",
       "      <th>1</th>\n",
       "      <td>bedrooms</td>\n",
       "    </tr>\n",
       "    <tr>\n",
       "      <th>2</th>\n",
       "      <td>bathrooms</td>\n",
       "    </tr>\n",
       "    <tr>\n",
       "      <th>3</th>\n",
       "      <td>sqft_living</td>\n",
       "    </tr>\n",
       "    <tr>\n",
       "      <th>4</th>\n",
       "      <td>sqft_lot</td>\n",
       "    </tr>\n",
       "  </tbody>\n",
       "</table>\n",
       "</div>"
      ],
      "text/plain": [
       "        Column\n",
       "0        price\n",
       "1     bedrooms\n",
       "2    bathrooms\n",
       "3  sqft_living\n",
       "4     sqft_lot"
      ]
     },
     "execution_count": 34,
     "metadata": {},
     "output_type": "execute_result"
    }
   ],
   "source": [
    "# Columns on which to generate histograms to distribution exploration\n",
    "hist_cols = ['price','bedrooms','bathrooms', 'sqft_living','sqft_lot','floors','waterfront','view','condition','grade','sqft_above','yr_built','yr_renovated',\n",
    "             'sqft_living15','sqft_lot15']\n",
    "cols_df = pd.DataFrame(hist_cols, columns=['Column'])\n",
    "rows = list(range(0,math.ceil(len(hist_cols)/4)))\n",
    "columns = list(range(0,4))\n",
    "cols_df.head()\n",
    "\n",
    "# plot the histograms\n",
    "# f, axes = plt.subplots(len(rows), len(columns), figsize=(12, 12))\n",
    "# i=0\n",
    "# for r in rows:\n",
    "#     for c in columns:\n",
    "#         print (r,c)\n",
    "#         kc[hist_cols][i]\n",
    "#         sns.distplot( kc[0] , color=\"skyblue\", ax=axes[0, 0])\n",
    "#         axes[r, c].set_title(kc[i].name)\n",
    "#         if i <= len(hist_cols)-1:\n",
    "#             i += 1\n",
    "#         else:\n",
    "#             break\n"
   ]
  },
  {
   "cell_type": "markdown",
   "metadata": {},
   "source": [
    "# Feature Engineering"
   ]
  },
  {
   "cell_type": "markdown",
   "metadata": {},
   "source": [
    "# Business Analysis"
   ]
  },
  {
   "cell_type": "markdown",
   "metadata": {},
   "source": [
    "# Appendix"
   ]
  },
  {
   "cell_type": "code",
   "execution_count": null,
   "metadata": {},
   "outputs": [],
   "source": []
  }
 ],
 "metadata": {
  "kernelspec": {
   "display_name": "learn-env",
   "language": "python",
   "name": "learn-env"
  },
  "language_info": {
   "codemirror_mode": {
    "name": "ipython",
    "version": 3
   },
   "file_extension": ".py",
   "mimetype": "text/x-python",
   "name": "python",
   "nbconvert_exporter": "python",
   "pygments_lexer": "ipython3",
   "version": "3.8.5"
  },
  "toc": {
   "base_numbering": 1,
   "nav_menu": {},
   "number_sections": true,
   "sideBar": true,
   "skip_h1_title": false,
   "title_cell": "Table of Contents",
   "title_sidebar": "Contents",
   "toc_cell": false,
   "toc_position": {},
   "toc_section_display": true,
   "toc_window_display": true
  }
 },
 "nbformat": 4,
 "nbformat_minor": 4
}
